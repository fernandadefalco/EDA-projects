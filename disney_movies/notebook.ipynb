{
 "cells": [
  {
   "cell_type": "markdown",
   "metadata": {},
   "source": [
    "https://www.kaggle.com/datasets/prateekmaj21/disney-movies\n",
    "\n",
    "All Disney movies with their release dates, genre, rating, total gross and inflation adjusted gross(2016).\n",
    "Disney has produced many movies, this data has all Disney movies till 2016."
   ]
  },
  {
   "cell_type": "markdown",
   "metadata": {},
   "source": [
    "### Importing libraries"
   ]
  },
  {
   "cell_type": "code",
   "execution_count": 1,
   "metadata": {},
   "outputs": [],
   "source": [
    "import pandas as pd\n",
    "import locale\n",
    "from matplotlib import pyplot as plt\n",
    "import numpy as np\n",
    "import plotly.express as px\n",
    "import seaborn as sns\n",
    "import sqlite3"
   ]
  },
  {
   "cell_type": "markdown",
   "metadata": {},
   "source": [
    "### Loading data"
   ]
  },
  {
   "cell_type": "code",
   "execution_count": 2,
   "metadata": {},
   "outputs": [
    {
     "data": {
      "text/html": [
       "<div>\n",
       "<style scoped>\n",
       "    .dataframe tbody tr th:only-of-type {\n",
       "        vertical-align: middle;\n",
       "    }\n",
       "\n",
       "    .dataframe tbody tr th {\n",
       "        vertical-align: top;\n",
       "    }\n",
       "\n",
       "    .dataframe thead th {\n",
       "        text-align: right;\n",
       "    }\n",
       "</style>\n",
       "<table border=\"1\" class=\"dataframe\">\n",
       "  <thead>\n",
       "    <tr style=\"text-align: right;\">\n",
       "      <th></th>\n",
       "      <th>movie_title</th>\n",
       "      <th>release_date</th>\n",
       "      <th>genre</th>\n",
       "      <th>mpaa_rating</th>\n",
       "      <th>total_gross</th>\n",
       "      <th>inflation_adjusted_gross</th>\n",
       "    </tr>\n",
       "  </thead>\n",
       "  <tbody>\n",
       "    <tr>\n",
       "      <th>0</th>\n",
       "      <td>Snow White and the Seven Dwarfs</td>\n",
       "      <td>1937-12-21</td>\n",
       "      <td>Musical</td>\n",
       "      <td>G</td>\n",
       "      <td>184925485</td>\n",
       "      <td>5228953251</td>\n",
       "    </tr>\n",
       "    <tr>\n",
       "      <th>1</th>\n",
       "      <td>Pinocchio</td>\n",
       "      <td>1940-02-09</td>\n",
       "      <td>Adventure</td>\n",
       "      <td>G</td>\n",
       "      <td>84300000</td>\n",
       "      <td>2188229052</td>\n",
       "    </tr>\n",
       "    <tr>\n",
       "      <th>2</th>\n",
       "      <td>Fantasia</td>\n",
       "      <td>1940-11-13</td>\n",
       "      <td>Musical</td>\n",
       "      <td>G</td>\n",
       "      <td>83320000</td>\n",
       "      <td>2187090808</td>\n",
       "    </tr>\n",
       "    <tr>\n",
       "      <th>3</th>\n",
       "      <td>Song of the South</td>\n",
       "      <td>1946-11-12</td>\n",
       "      <td>Adventure</td>\n",
       "      <td>G</td>\n",
       "      <td>65000000</td>\n",
       "      <td>1078510579</td>\n",
       "    </tr>\n",
       "    <tr>\n",
       "      <th>4</th>\n",
       "      <td>Cinderella</td>\n",
       "      <td>1950-02-15</td>\n",
       "      <td>Drama</td>\n",
       "      <td>G</td>\n",
       "      <td>85000000</td>\n",
       "      <td>920608730</td>\n",
       "    </tr>\n",
       "  </tbody>\n",
       "</table>\n",
       "</div>"
      ],
      "text/plain": [
       "                       movie_title release_date      genre mpaa_rating  \\\n",
       "0  Snow White and the Seven Dwarfs   1937-12-21    Musical           G   \n",
       "1                        Pinocchio   1940-02-09  Adventure           G   \n",
       "2                         Fantasia   1940-11-13    Musical           G   \n",
       "3                Song of the South   1946-11-12  Adventure           G   \n",
       "4                       Cinderella   1950-02-15      Drama           G   \n",
       "\n",
       "   total_gross  inflation_adjusted_gross  \n",
       "0    184925485                5228953251  \n",
       "1     84300000                2188229052  \n",
       "2     83320000                2187090808  \n",
       "3     65000000                1078510579  \n",
       "4     85000000                 920608730  "
      ]
     },
     "execution_count": 2,
     "metadata": {},
     "output_type": "execute_result"
    }
   ],
   "source": [
    "df = pd.read_csv(r\"C:\\Users\\Fernanda\\Documents\\Top Coders\\datascience-projects\\disney_movies\\disney_movies.csv\")\n",
    "df.head()"
   ]
  },
  {
   "cell_type": "code",
   "execution_count": 3,
   "metadata": {},
   "outputs": [
    {
     "name": "stdout",
     "output_type": "stream",
     "text": [
      "<class 'pandas.core.frame.DataFrame'>\n",
      "RangeIndex: 579 entries, 0 to 578\n",
      "Data columns (total 6 columns):\n",
      " #   Column                    Non-Null Count  Dtype \n",
      "---  ------                    --------------  ----- \n",
      " 0   movie_title               579 non-null    object\n",
      " 1   release_date              579 non-null    object\n",
      " 2   genre                     562 non-null    object\n",
      " 3   mpaa_rating               523 non-null    object\n",
      " 4   total_gross               579 non-null    int64 \n",
      " 5   inflation_adjusted_gross  579 non-null    int64 \n",
      "dtypes: int64(2), object(4)\n",
      "memory usage: 27.3+ KB\n"
     ]
    }
   ],
   "source": [
    "df.info()"
   ]
  },
  {
   "cell_type": "code",
   "execution_count": 4,
   "metadata": {},
   "outputs": [],
   "source": [
    "#Converting 'release_date' to datetime\n",
    "df['release_date'] = pd.to_datetime(df['release_date'])"
   ]
  },
  {
   "cell_type": "code",
   "execution_count": 5,
   "metadata": {},
   "outputs": [],
   "source": [
    "# There are some movies without gross \n",
    "df[df.total_gross == 0]\n",
    "lines = [20,27,29,355]\n",
    "df.drop(lines, inplace = True)"
   ]
  },
  {
   "cell_type": "code",
   "execution_count": 6,
   "metadata": {},
   "outputs": [
    {
     "data": {
      "text/plain": [
       "movie_title                  0\n",
       "release_date                 0\n",
       "genre                       15\n",
       "mpaa_rating                 52\n",
       "total_gross                  0\n",
       "inflation_adjusted_gross     0\n",
       "dtype: int64"
      ]
     },
     "execution_count": 6,
     "metadata": {},
     "output_type": "execute_result"
    }
   ],
   "source": [
    "#Some genres and mpaa_ratings are missing\n",
    "df.isnull().sum()"
   ]
  },
  {
   "cell_type": "code",
   "execution_count": 7,
   "metadata": {},
   "outputs": [],
   "source": [
    "#Converting numbers to numbers separated with '.' to be more legible - but converts to string\n",
    "# locale.setlocale(locale.LC_ALL, 'de_DE.utf-8')\n",
    "# df[\"total_gross\"] = [locale.format(\"%d\", v, 1) for v in df.iloc[:,4]]\n",
    "# df[\"inflation_adjusted_gross\"] = [locale.format(\"%d\", v, 1) for v in df.iloc[:,5]]\n"
   ]
  },
  {
   "cell_type": "code",
   "execution_count": 8,
   "metadata": {},
   "outputs": [
    {
     "name": "stderr",
     "output_type": "stream",
     "text": [
      "C:\\Users\\Fernanda\\AppData\\Local\\Temp\\ipykernel_14516\\4214028702.py:5: SettingWithCopyWarning: \n",
      "A value is trying to be set on a copy of a slice from a DataFrame\n",
      "\n",
      "See the caveats in the documentation: https://pandas.pydata.org/pandas-docs/stable/user_guide/indexing.html#returning-a-view-versus-a-copy\n",
      "  for k,v in dict_genres.items(): df[\"genre\"][v] = k\n",
      "C:\\Users\\Fernanda\\AppData\\Local\\Temp\\ipykernel_14516\\4214028702.py:5: SettingWithCopyWarning: \n",
      "A value is trying to be set on a copy of a slice from a DataFrame\n",
      "\n",
      "See the caveats in the documentation: https://pandas.pydata.org/pandas-docs/stable/user_guide/indexing.html#returning-a-view-versus-a-copy\n",
      "  for k,v in dict_genres.items(): df[\"genre\"][v] = k\n",
      "C:\\Users\\Fernanda\\AppData\\Local\\Temp\\ipykernel_14516\\4214028702.py:5: SettingWithCopyWarning: \n",
      "A value is trying to be set on a copy of a slice from a DataFrame\n",
      "\n",
      "See the caveats in the documentation: https://pandas.pydata.org/pandas-docs/stable/user_guide/indexing.html#returning-a-view-versus-a-copy\n",
      "  for k,v in dict_genres.items(): df[\"genre\"][v] = k\n",
      "C:\\Users\\Fernanda\\AppData\\Local\\Temp\\ipykernel_14516\\4214028702.py:5: SettingWithCopyWarning: \n",
      "A value is trying to be set on a copy of a slice from a DataFrame\n",
      "\n",
      "See the caveats in the documentation: https://pandas.pydata.org/pandas-docs/stable/user_guide/indexing.html#returning-a-view-versus-a-copy\n",
      "  for k,v in dict_genres.items(): df[\"genre\"][v] = k\n",
      "C:\\Users\\Fernanda\\AppData\\Local\\Temp\\ipykernel_14516\\4214028702.py:5: SettingWithCopyWarning: \n",
      "A value is trying to be set on a copy of a slice from a DataFrame\n",
      "\n",
      "See the caveats in the documentation: https://pandas.pydata.org/pandas-docs/stable/user_guide/indexing.html#returning-a-view-versus-a-copy\n",
      "  for k,v in dict_genres.items(): df[\"genre\"][v] = k\n",
      "C:\\Users\\Fernanda\\AppData\\Local\\Temp\\ipykernel_14516\\4214028702.py:5: SettingWithCopyWarning: \n",
      "A value is trying to be set on a copy of a slice from a DataFrame\n",
      "\n",
      "See the caveats in the documentation: https://pandas.pydata.org/pandas-docs/stable/user_guide/indexing.html#returning-a-view-versus-a-copy\n",
      "  for k,v in dict_genres.items(): df[\"genre\"][v] = k\n",
      "C:\\Users\\Fernanda\\AppData\\Local\\Temp\\ipykernel_14516\\4214028702.py:5: SettingWithCopyWarning: \n",
      "A value is trying to be set on a copy of a slice from a DataFrame\n",
      "\n",
      "See the caveats in the documentation: https://pandas.pydata.org/pandas-docs/stable/user_guide/indexing.html#returning-a-view-versus-a-copy\n",
      "  for k,v in dict_genres.items(): df[\"genre\"][v] = k\n"
     ]
    },
    {
     "data": {
      "text/html": [
       "<div>\n",
       "<style scoped>\n",
       "    .dataframe tbody tr th:only-of-type {\n",
       "        vertical-align: middle;\n",
       "    }\n",
       "\n",
       "    .dataframe tbody tr th {\n",
       "        vertical-align: top;\n",
       "    }\n",
       "\n",
       "    .dataframe thead th {\n",
       "        text-align: right;\n",
       "    }\n",
       "</style>\n",
       "<table border=\"1\" class=\"dataframe\">\n",
       "  <thead>\n",
       "    <tr style=\"text-align: right;\">\n",
       "      <th></th>\n",
       "      <th>movie_title</th>\n",
       "      <th>release_date</th>\n",
       "      <th>genre</th>\n",
       "      <th>mpaa_rating</th>\n",
       "      <th>total_gross</th>\n",
       "      <th>inflation_adjusted_gross</th>\n",
       "    </tr>\n",
       "  </thead>\n",
       "  <tbody>\n",
       "    <tr>\n",
       "      <th>0</th>\n",
       "      <td>Snow White and the Seven Dwarfs</td>\n",
       "      <td>1937-12-21</td>\n",
       "      <td>Musical</td>\n",
       "      <td>G</td>\n",
       "      <td>184925485</td>\n",
       "      <td>5228953251</td>\n",
       "    </tr>\n",
       "    <tr>\n",
       "      <th>1</th>\n",
       "      <td>Pinocchio</td>\n",
       "      <td>1940-02-09</td>\n",
       "      <td>Adventure</td>\n",
       "      <td>G</td>\n",
       "      <td>84300000</td>\n",
       "      <td>2188229052</td>\n",
       "    </tr>\n",
       "    <tr>\n",
       "      <th>2</th>\n",
       "      <td>Fantasia</td>\n",
       "      <td>1940-11-13</td>\n",
       "      <td>Musical</td>\n",
       "      <td>G</td>\n",
       "      <td>83320000</td>\n",
       "      <td>2187090808</td>\n",
       "    </tr>\n",
       "    <tr>\n",
       "      <th>3</th>\n",
       "      <td>Song of the South</td>\n",
       "      <td>1946-11-12</td>\n",
       "      <td>Adventure</td>\n",
       "      <td>G</td>\n",
       "      <td>65000000</td>\n",
       "      <td>1078510579</td>\n",
       "    </tr>\n",
       "    <tr>\n",
       "      <th>4</th>\n",
       "      <td>Cinderella</td>\n",
       "      <td>1950-02-15</td>\n",
       "      <td>Drama</td>\n",
       "      <td>G</td>\n",
       "      <td>85000000</td>\n",
       "      <td>920608730</td>\n",
       "    </tr>\n",
       "    <tr>\n",
       "      <th>5</th>\n",
       "      <td>20,000 Leagues Under the Sea</td>\n",
       "      <td>1954-12-23</td>\n",
       "      <td>Adventure</td>\n",
       "      <td>NaN</td>\n",
       "      <td>28200000</td>\n",
       "      <td>528279994</td>\n",
       "    </tr>\n",
       "    <tr>\n",
       "      <th>6</th>\n",
       "      <td>Lady and the Tramp</td>\n",
       "      <td>1955-06-22</td>\n",
       "      <td>Drama</td>\n",
       "      <td>G</td>\n",
       "      <td>93600000</td>\n",
       "      <td>1236035515</td>\n",
       "    </tr>\n",
       "    <tr>\n",
       "      <th>7</th>\n",
       "      <td>Sleeping Beauty</td>\n",
       "      <td>1959-01-29</td>\n",
       "      <td>Drama</td>\n",
       "      <td>NaN</td>\n",
       "      <td>9464608</td>\n",
       "      <td>21505832</td>\n",
       "    </tr>\n",
       "    <tr>\n",
       "      <th>8</th>\n",
       "      <td>101 Dalmatians</td>\n",
       "      <td>1961-01-25</td>\n",
       "      <td>Comedy</td>\n",
       "      <td>G</td>\n",
       "      <td>153000000</td>\n",
       "      <td>1362870985</td>\n",
       "    </tr>\n",
       "    <tr>\n",
       "      <th>9</th>\n",
       "      <td>The Absent Minded Professor</td>\n",
       "      <td>1961-03-16</td>\n",
       "      <td>Comedy</td>\n",
       "      <td>NaN</td>\n",
       "      <td>25381407</td>\n",
       "      <td>310094574</td>\n",
       "    </tr>\n",
       "    <tr>\n",
       "      <th>10</th>\n",
       "      <td>Babes in Toyland</td>\n",
       "      <td>1961-12-14</td>\n",
       "      <td>Musical</td>\n",
       "      <td>G</td>\n",
       "      <td>10218316</td>\n",
       "      <td>124841160</td>\n",
       "    </tr>\n",
       "    <tr>\n",
       "      <th>11</th>\n",
       "      <td>Bon Voyage!</td>\n",
       "      <td>1962-05-17</td>\n",
       "      <td>Comedy</td>\n",
       "      <td>Not Rated</td>\n",
       "      <td>9230769</td>\n",
       "      <td>109581646</td>\n",
       "    </tr>\n",
       "    <tr>\n",
       "      <th>12</th>\n",
       "      <td>The Sword in the Stone</td>\n",
       "      <td>1963-12-25</td>\n",
       "      <td>Adventure</td>\n",
       "      <td>NaN</td>\n",
       "      <td>22182353</td>\n",
       "      <td>153870834</td>\n",
       "    </tr>\n",
       "    <tr>\n",
       "      <th>13</th>\n",
       "      <td>The Jungle Book</td>\n",
       "      <td>1967-10-18</td>\n",
       "      <td>Musical</td>\n",
       "      <td>Not Rated</td>\n",
       "      <td>141843000</td>\n",
       "      <td>789612346</td>\n",
       "    </tr>\n",
       "    <tr>\n",
       "      <th>14</th>\n",
       "      <td>Blackbeard's Ghost</td>\n",
       "      <td>1968-02-08</td>\n",
       "      <td>Comedy</td>\n",
       "      <td>NaN</td>\n",
       "      <td>21540050</td>\n",
       "      <td>138612686</td>\n",
       "    </tr>\n",
       "    <tr>\n",
       "      <th>15</th>\n",
       "      <td>The Aristocats</td>\n",
       "      <td>1970-04-24</td>\n",
       "      <td>Musical</td>\n",
       "      <td>G</td>\n",
       "      <td>55675257</td>\n",
       "      <td>255161499</td>\n",
       "    </tr>\n",
       "    <tr>\n",
       "      <th>16</th>\n",
       "      <td>The Boatniks</td>\n",
       "      <td>1970-07-01</td>\n",
       "      <td>Comedy</td>\n",
       "      <td>NaN</td>\n",
       "      <td>18607492</td>\n",
       "      <td>101200742</td>\n",
       "    </tr>\n",
       "    <tr>\n",
       "      <th>17</th>\n",
       "      <td>Bedknobs and Broomsticks</td>\n",
       "      <td>1971-10-07</td>\n",
       "      <td>Musical</td>\n",
       "      <td>NaN</td>\n",
       "      <td>17871174</td>\n",
       "      <td>91305448</td>\n",
       "    </tr>\n",
       "    <tr>\n",
       "      <th>18</th>\n",
       "      <td>The Apple Dumpling Gang</td>\n",
       "      <td>1975-07-01</td>\n",
       "      <td>Comedy</td>\n",
       "      <td>NaN</td>\n",
       "      <td>31916500</td>\n",
       "      <td>131246872</td>\n",
       "    </tr>\n",
       "    <tr>\n",
       "      <th>19</th>\n",
       "      <td>Freaky Friday</td>\n",
       "      <td>1977-01-21</td>\n",
       "      <td>Comedy</td>\n",
       "      <td>NaN</td>\n",
       "      <td>25942000</td>\n",
       "      <td>98067733</td>\n",
       "    </tr>\n",
       "    <tr>\n",
       "      <th>21</th>\n",
       "      <td>The Rescuers</td>\n",
       "      <td>1977-06-22</td>\n",
       "      <td>Adventure</td>\n",
       "      <td>NaN</td>\n",
       "      <td>48775599</td>\n",
       "      <td>159743914</td>\n",
       "    </tr>\n",
       "    <tr>\n",
       "      <th>22</th>\n",
       "      <td>Herbie Goes to Monte Carlo</td>\n",
       "      <td>1977-06-24</td>\n",
       "      <td>Comedy</td>\n",
       "      <td>NaN</td>\n",
       "      <td>28000000</td>\n",
       "      <td>105847527</td>\n",
       "    </tr>\n",
       "    <tr>\n",
       "      <th>23</th>\n",
       "      <td>The Black Hole</td>\n",
       "      <td>1979-12-21</td>\n",
       "      <td>Adventure</td>\n",
       "      <td>NaN</td>\n",
       "      <td>35841901</td>\n",
       "      <td>120377374</td>\n",
       "    </tr>\n",
       "    <tr>\n",
       "      <th>24</th>\n",
       "      <td>Midnight Madness</td>\n",
       "      <td>1980-02-08</td>\n",
       "      <td>Comedy</td>\n",
       "      <td>NaN</td>\n",
       "      <td>2900000</td>\n",
       "      <td>9088096</td>\n",
       "    </tr>\n",
       "  </tbody>\n",
       "</table>\n",
       "</div>"
      ],
      "text/plain": [
       "                        movie_title release_date      genre mpaa_rating  \\\n",
       "0   Snow White and the Seven Dwarfs   1937-12-21    Musical           G   \n",
       "1                         Pinocchio   1940-02-09  Adventure           G   \n",
       "2                          Fantasia   1940-11-13    Musical           G   \n",
       "3                 Song of the South   1946-11-12  Adventure           G   \n",
       "4                        Cinderella   1950-02-15      Drama           G   \n",
       "5      20,000 Leagues Under the Sea   1954-12-23  Adventure         NaN   \n",
       "6                Lady and the Tramp   1955-06-22      Drama           G   \n",
       "7                   Sleeping Beauty   1959-01-29      Drama         NaN   \n",
       "8                    101 Dalmatians   1961-01-25     Comedy           G   \n",
       "9       The Absent Minded Professor   1961-03-16     Comedy         NaN   \n",
       "10                 Babes in Toyland   1961-12-14    Musical           G   \n",
       "11                      Bon Voyage!   1962-05-17     Comedy   Not Rated   \n",
       "12           The Sword in the Stone   1963-12-25  Adventure         NaN   \n",
       "13                  The Jungle Book   1967-10-18    Musical   Not Rated   \n",
       "14               Blackbeard's Ghost   1968-02-08     Comedy         NaN   \n",
       "15                   The Aristocats   1970-04-24    Musical           G   \n",
       "16                     The Boatniks   1970-07-01     Comedy         NaN   \n",
       "17         Bedknobs and Broomsticks   1971-10-07    Musical         NaN   \n",
       "18          The Apple Dumpling Gang   1975-07-01     Comedy         NaN   \n",
       "19                    Freaky Friday   1977-01-21     Comedy         NaN   \n",
       "21                     The Rescuers   1977-06-22  Adventure         NaN   \n",
       "22       Herbie Goes to Monte Carlo   1977-06-24     Comedy         NaN   \n",
       "23                   The Black Hole   1979-12-21  Adventure         NaN   \n",
       "24                 Midnight Madness   1980-02-08     Comedy         NaN   \n",
       "\n",
       "    total_gross  inflation_adjusted_gross  \n",
       "0     184925485                5228953251  \n",
       "1      84300000                2188229052  \n",
       "2      83320000                2187090808  \n",
       "3      65000000                1078510579  \n",
       "4      85000000                 920608730  \n",
       "5      28200000                 528279994  \n",
       "6      93600000                1236035515  \n",
       "7       9464608                  21505832  \n",
       "8     153000000                1362870985  \n",
       "9      25381407                 310094574  \n",
       "10     10218316                 124841160  \n",
       "11      9230769                 109581646  \n",
       "12     22182353                 153870834  \n",
       "13    141843000                 789612346  \n",
       "14     21540050                 138612686  \n",
       "15     55675257                 255161499  \n",
       "16     18607492                 101200742  \n",
       "17     17871174                  91305448  \n",
       "18     31916500                 131246872  \n",
       "19     25942000                  98067733  \n",
       "21     48775599                 159743914  \n",
       "22     28000000                 105847527  \n",
       "23     35841901                 120377374  \n",
       "24      2900000                   9088096  "
      ]
     },
     "execution_count": 8,
     "metadata": {},
     "output_type": "execute_result"
    }
   ],
   "source": [
    "#Replacing null values in 'genre' and 'mpaa_rating'\n",
    "df[df.genre.isnull()]\n",
    "dict_genres = {\"Comedy\":[22,24,26,122,128,156],\"Adventure\":[23,25],\"Musical\":[121],\"Drama\":[146,251,304],\"Romantic Comedy\":[155],\"Thriller/Suspense\":[168],\"Action\":[350]}\n",
    "\n",
    "for k,v in dict_genres.items(): df[\"genre\"][v] = k\n",
    "df.head(24)\n"
   ]
  },
  {
   "cell_type": "code",
   "execution_count": 9,
   "metadata": {},
   "outputs": [
    {
     "data": {
      "text/html": [
       "<div>\n",
       "<style scoped>\n",
       "    .dataframe tbody tr th:only-of-type {\n",
       "        vertical-align: middle;\n",
       "    }\n",
       "\n",
       "    .dataframe tbody tr th {\n",
       "        vertical-align: top;\n",
       "    }\n",
       "\n",
       "    .dataframe thead th {\n",
       "        text-align: right;\n",
       "    }\n",
       "</style>\n",
       "<table border=\"1\" class=\"dataframe\">\n",
       "  <thead>\n",
       "    <tr style=\"text-align: right;\">\n",
       "      <th></th>\n",
       "      <th>movie_title</th>\n",
       "      <th>release_date</th>\n",
       "      <th>genre</th>\n",
       "      <th>mpaa_rating</th>\n",
       "      <th>total_gross</th>\n",
       "      <th>inflation_adjusted_gross</th>\n",
       "    </tr>\n",
       "  </thead>\n",
       "  <tbody>\n",
       "    <tr>\n",
       "      <th>0</th>\n",
       "      <td>Snow White and the Seven Dwarfs</td>\n",
       "      <td>1937-12-21</td>\n",
       "      <td>Musical</td>\n",
       "      <td>G</td>\n",
       "      <td>184925485</td>\n",
       "      <td>5228953251</td>\n",
       "    </tr>\n",
       "    <tr>\n",
       "      <th>1</th>\n",
       "      <td>Pinocchio</td>\n",
       "      <td>1940-02-09</td>\n",
       "      <td>Adventure</td>\n",
       "      <td>G</td>\n",
       "      <td>84300000</td>\n",
       "      <td>2188229052</td>\n",
       "    </tr>\n",
       "    <tr>\n",
       "      <th>2</th>\n",
       "      <td>Fantasia</td>\n",
       "      <td>1940-11-13</td>\n",
       "      <td>Musical</td>\n",
       "      <td>G</td>\n",
       "      <td>83320000</td>\n",
       "      <td>2187090808</td>\n",
       "    </tr>\n",
       "    <tr>\n",
       "      <th>3</th>\n",
       "      <td>Song of the South</td>\n",
       "      <td>1946-11-12</td>\n",
       "      <td>Adventure</td>\n",
       "      <td>G</td>\n",
       "      <td>65000000</td>\n",
       "      <td>1078510579</td>\n",
       "    </tr>\n",
       "    <tr>\n",
       "      <th>4</th>\n",
       "      <td>Cinderella</td>\n",
       "      <td>1950-02-15</td>\n",
       "      <td>Drama</td>\n",
       "      <td>G</td>\n",
       "      <td>85000000</td>\n",
       "      <td>920608730</td>\n",
       "    </tr>\n",
       "    <tr>\n",
       "      <th>5</th>\n",
       "      <td>20,000 Leagues Under the Sea</td>\n",
       "      <td>1954-12-23</td>\n",
       "      <td>Adventure</td>\n",
       "      <td>Not Rated</td>\n",
       "      <td>28200000</td>\n",
       "      <td>528279994</td>\n",
       "    </tr>\n",
       "    <tr>\n",
       "      <th>6</th>\n",
       "      <td>Lady and the Tramp</td>\n",
       "      <td>1955-06-22</td>\n",
       "      <td>Drama</td>\n",
       "      <td>G</td>\n",
       "      <td>93600000</td>\n",
       "      <td>1236035515</td>\n",
       "    </tr>\n",
       "    <tr>\n",
       "      <th>7</th>\n",
       "      <td>Sleeping Beauty</td>\n",
       "      <td>1959-01-29</td>\n",
       "      <td>Drama</td>\n",
       "      <td>Not Rated</td>\n",
       "      <td>9464608</td>\n",
       "      <td>21505832</td>\n",
       "    </tr>\n",
       "    <tr>\n",
       "      <th>8</th>\n",
       "      <td>101 Dalmatians</td>\n",
       "      <td>1961-01-25</td>\n",
       "      <td>Comedy</td>\n",
       "      <td>G</td>\n",
       "      <td>153000000</td>\n",
       "      <td>1362870985</td>\n",
       "    </tr>\n",
       "    <tr>\n",
       "      <th>9</th>\n",
       "      <td>The Absent Minded Professor</td>\n",
       "      <td>1961-03-16</td>\n",
       "      <td>Comedy</td>\n",
       "      <td>Not Rated</td>\n",
       "      <td>25381407</td>\n",
       "      <td>310094574</td>\n",
       "    </tr>\n",
       "    <tr>\n",
       "      <th>10</th>\n",
       "      <td>Babes in Toyland</td>\n",
       "      <td>1961-12-14</td>\n",
       "      <td>Musical</td>\n",
       "      <td>G</td>\n",
       "      <td>10218316</td>\n",
       "      <td>124841160</td>\n",
       "    </tr>\n",
       "    <tr>\n",
       "      <th>11</th>\n",
       "      <td>Bon Voyage!</td>\n",
       "      <td>1962-05-17</td>\n",
       "      <td>Comedy</td>\n",
       "      <td>Not Rated</td>\n",
       "      <td>9230769</td>\n",
       "      <td>109581646</td>\n",
       "    </tr>\n",
       "    <tr>\n",
       "      <th>12</th>\n",
       "      <td>The Sword in the Stone</td>\n",
       "      <td>1963-12-25</td>\n",
       "      <td>Adventure</td>\n",
       "      <td>Not Rated</td>\n",
       "      <td>22182353</td>\n",
       "      <td>153870834</td>\n",
       "    </tr>\n",
       "    <tr>\n",
       "      <th>13</th>\n",
       "      <td>The Jungle Book</td>\n",
       "      <td>1967-10-18</td>\n",
       "      <td>Musical</td>\n",
       "      <td>Not Rated</td>\n",
       "      <td>141843000</td>\n",
       "      <td>789612346</td>\n",
       "    </tr>\n",
       "    <tr>\n",
       "      <th>14</th>\n",
       "      <td>Blackbeard's Ghost</td>\n",
       "      <td>1968-02-08</td>\n",
       "      <td>Comedy</td>\n",
       "      <td>Not Rated</td>\n",
       "      <td>21540050</td>\n",
       "      <td>138612686</td>\n",
       "    </tr>\n",
       "    <tr>\n",
       "      <th>15</th>\n",
       "      <td>The Aristocats</td>\n",
       "      <td>1970-04-24</td>\n",
       "      <td>Musical</td>\n",
       "      <td>G</td>\n",
       "      <td>55675257</td>\n",
       "      <td>255161499</td>\n",
       "    </tr>\n",
       "    <tr>\n",
       "      <th>16</th>\n",
       "      <td>The Boatniks</td>\n",
       "      <td>1970-07-01</td>\n",
       "      <td>Comedy</td>\n",
       "      <td>Not Rated</td>\n",
       "      <td>18607492</td>\n",
       "      <td>101200742</td>\n",
       "    </tr>\n",
       "    <tr>\n",
       "      <th>17</th>\n",
       "      <td>Bedknobs and Broomsticks</td>\n",
       "      <td>1971-10-07</td>\n",
       "      <td>Musical</td>\n",
       "      <td>Not Rated</td>\n",
       "      <td>17871174</td>\n",
       "      <td>91305448</td>\n",
       "    </tr>\n",
       "    <tr>\n",
       "      <th>18</th>\n",
       "      <td>The Apple Dumpling Gang</td>\n",
       "      <td>1975-07-01</td>\n",
       "      <td>Comedy</td>\n",
       "      <td>Not Rated</td>\n",
       "      <td>31916500</td>\n",
       "      <td>131246872</td>\n",
       "    </tr>\n",
       "    <tr>\n",
       "      <th>19</th>\n",
       "      <td>Freaky Friday</td>\n",
       "      <td>1977-01-21</td>\n",
       "      <td>Comedy</td>\n",
       "      <td>Not Rated</td>\n",
       "      <td>25942000</td>\n",
       "      <td>98067733</td>\n",
       "    </tr>\n",
       "    <tr>\n",
       "      <th>21</th>\n",
       "      <td>The Rescuers</td>\n",
       "      <td>1977-06-22</td>\n",
       "      <td>Adventure</td>\n",
       "      <td>Not Rated</td>\n",
       "      <td>48775599</td>\n",
       "      <td>159743914</td>\n",
       "    </tr>\n",
       "    <tr>\n",
       "      <th>22</th>\n",
       "      <td>Herbie Goes to Monte Carlo</td>\n",
       "      <td>1977-06-24</td>\n",
       "      <td>Comedy</td>\n",
       "      <td>Not Rated</td>\n",
       "      <td>28000000</td>\n",
       "      <td>105847527</td>\n",
       "    </tr>\n",
       "    <tr>\n",
       "      <th>23</th>\n",
       "      <td>The Black Hole</td>\n",
       "      <td>1979-12-21</td>\n",
       "      <td>Adventure</td>\n",
       "      <td>Not Rated</td>\n",
       "      <td>35841901</td>\n",
       "      <td>120377374</td>\n",
       "    </tr>\n",
       "    <tr>\n",
       "      <th>24</th>\n",
       "      <td>Midnight Madness</td>\n",
       "      <td>1980-02-08</td>\n",
       "      <td>Comedy</td>\n",
       "      <td>Not Rated</td>\n",
       "      <td>2900000</td>\n",
       "      <td>9088096</td>\n",
       "    </tr>\n",
       "  </tbody>\n",
       "</table>\n",
       "</div>"
      ],
      "text/plain": [
       "                        movie_title release_date      genre mpaa_rating  \\\n",
       "0   Snow White and the Seven Dwarfs   1937-12-21    Musical           G   \n",
       "1                         Pinocchio   1940-02-09  Adventure           G   \n",
       "2                          Fantasia   1940-11-13    Musical           G   \n",
       "3                 Song of the South   1946-11-12  Adventure           G   \n",
       "4                        Cinderella   1950-02-15      Drama           G   \n",
       "5      20,000 Leagues Under the Sea   1954-12-23  Adventure   Not Rated   \n",
       "6                Lady and the Tramp   1955-06-22      Drama           G   \n",
       "7                   Sleeping Beauty   1959-01-29      Drama   Not Rated   \n",
       "8                    101 Dalmatians   1961-01-25     Comedy           G   \n",
       "9       The Absent Minded Professor   1961-03-16     Comedy   Not Rated   \n",
       "10                 Babes in Toyland   1961-12-14    Musical           G   \n",
       "11                      Bon Voyage!   1962-05-17     Comedy   Not Rated   \n",
       "12           The Sword in the Stone   1963-12-25  Adventure   Not Rated   \n",
       "13                  The Jungle Book   1967-10-18    Musical   Not Rated   \n",
       "14               Blackbeard's Ghost   1968-02-08     Comedy   Not Rated   \n",
       "15                   The Aristocats   1970-04-24    Musical           G   \n",
       "16                     The Boatniks   1970-07-01     Comedy   Not Rated   \n",
       "17         Bedknobs and Broomsticks   1971-10-07    Musical   Not Rated   \n",
       "18          The Apple Dumpling Gang   1975-07-01     Comedy   Not Rated   \n",
       "19                    Freaky Friday   1977-01-21     Comedy   Not Rated   \n",
       "21                     The Rescuers   1977-06-22  Adventure   Not Rated   \n",
       "22       Herbie Goes to Monte Carlo   1977-06-24     Comedy   Not Rated   \n",
       "23                   The Black Hole   1979-12-21  Adventure   Not Rated   \n",
       "24                 Midnight Madness   1980-02-08     Comedy   Not Rated   \n",
       "\n",
       "    total_gross  inflation_adjusted_gross  \n",
       "0     184925485                5228953251  \n",
       "1      84300000                2188229052  \n",
       "2      83320000                2187090808  \n",
       "3      65000000                1078510579  \n",
       "4      85000000                 920608730  \n",
       "5      28200000                 528279994  \n",
       "6      93600000                1236035515  \n",
       "7       9464608                  21505832  \n",
       "8     153000000                1362870985  \n",
       "9      25381407                 310094574  \n",
       "10     10218316                 124841160  \n",
       "11      9230769                 109581646  \n",
       "12     22182353                 153870834  \n",
       "13    141843000                 789612346  \n",
       "14     21540050                 138612686  \n",
       "15     55675257                 255161499  \n",
       "16     18607492                 101200742  \n",
       "17     17871174                  91305448  \n",
       "18     31916500                 131246872  \n",
       "19     25942000                  98067733  \n",
       "21     48775599                 159743914  \n",
       "22     28000000                 105847527  \n",
       "23     35841901                 120377374  \n",
       "24      2900000                   9088096  "
      ]
     },
     "execution_count": 9,
     "metadata": {},
     "output_type": "execute_result"
    }
   ],
   "source": [
    "df.loc[df[\"mpaa_rating\"].isna(),\"mpaa_rating\"] = \"Not Rated\"\n",
    "\n",
    "# df.isnull().sum()\n",
    "df.head(24)"
   ]
  },
  {
   "cell_type": "code",
   "execution_count": 10,
   "metadata": {},
   "outputs": [
    {
     "data": {
      "text/plain": [
       "array(['Musical', 'Adventure', 'Drama', 'Comedy', 'Action', 'Horror',\n",
       "       'Romantic Comedy', 'Thriller/Suspense', 'Western', 'Black Comedy',\n",
       "       'Documentary', 'Concert/Performance'], dtype=object)"
      ]
     },
     "execution_count": 10,
     "metadata": {},
     "output_type": "execute_result"
    }
   ],
   "source": [
    "df.genre.unique()"
   ]
  },
  {
   "cell_type": "markdown",
   "metadata": {},
   "source": [
    "### SQL"
   ]
  },
  {
   "cell_type": "code",
   "execution_count": 11,
   "metadata": {},
   "outputs": [
    {
     "data": {
      "text/plain": [
       "575"
      ]
     },
     "execution_count": 11,
     "metadata": {},
     "output_type": "execute_result"
    }
   ],
   "source": [
    "dis = df\n",
    "e = pd.read_sql_query\n",
    "conn = sqlite3.connect('disney_movies.db')\n",
    "dis.to_sql('disney', conn, if_exists='replace', index=False)"
   ]
  },
  {
   "cell_type": "markdown",
   "metadata": {},
   "source": [
    "### Data Analysis"
   ]
  },
  {
   "cell_type": "markdown",
   "metadata": {},
   "source": [
    "______________\n",
    "Distributions\n",
    "______________"
   ]
  },
  {
   "cell_type": "code",
   "execution_count": 12,
   "metadata": {},
   "outputs": [
    {
     "data": {
      "text/plain": [
       "Index(['movie_title', 'release_date', 'genre', 'mpaa_rating', 'total_gross',\n",
       "       'inflation_adjusted_gross'],\n",
       "      dtype='object')"
      ]
     },
     "execution_count": 12,
     "metadata": {},
     "output_type": "execute_result"
    }
   ],
   "source": [
    "df.columns"
   ]
  },
  {
   "cell_type": "code",
   "execution_count": 13,
   "metadata": {},
   "outputs": [
    {
     "data": {
      "application/vnd.plotly.v1+json": {
       "config": {
        "plotlyServerURL": "https://plot.ly"
       },
       "data": [
        {
         "alignmentgroup": "True",
         "bingroup": "x",
         "hovertemplate": "I.A Gross=%{x}<br>count=%{y}<extra></extra>",
         "legendgroup": "",
         "marker": {
          "color": "pink",
          "line": {
           "color": "black",
           "width": 2
          },
          "pattern": {
           "shape": ""
          }
         },
         "name": "",
         "nbinsx": 150,
         "offsetgroup": "",
         "orientation": "v",
         "showlegend": false,
         "type": "histogram",
         "x": [
          5228953251,
          2188229052,
          2187090808,
          1078510579,
          920608730,
          528279994,
          1236035515,
          21505832,
          1362870985,
          310094574,
          124841160,
          109581646,
          153870834,
          789612346,
          138612686,
          255161499,
          101200742,
          91305448,
          131246872,
          98067733,
          159743914,
          105847527,
          120377374,
          9088096,
          34472116,
          48517980,
          133118889,
          12903059,
          77184895,
          20643199,
          11519089,
          15136765,
          70669955,
          3223725,
          157057661,
          21075000,
          33900697,
          25215934,
          50553142,
          9736051,
          22302956,
          31415432,
          141183693,
          11003932,
          162748712,
          53637367,
          42183197,
          48758184,
          117957323,
          113976921,
          54787202,
          50686462,
          32798382,
          72853569,
          141592160,
          68181300,
          44024529,
          353334607,
          254414837,
          60097074,
          26062188,
          28073384,
          82352451,
          316250084,
          160442289,
          12009960,
          11300331,
          9772655,
          57845202,
          102254492,
          120381757,
          85757817,
          22740861,
          15233465,
          202531517,
          276191669,
          150176361,
          16653473,
          40983414,
          23972012,
          223726012,
          39884640,
          40077147,
          2210321,
          356389765,
          49999822,
          29964452,
          29485923,
          207231621,
          39433357,
          106290270,
          36107823,
          39963460,
          30722056,
          55796728,
          143108869,
          59679131,
          69540672,
          19149495,
          30084149,
          24939118,
          47181395,
          22580472,
          127571325,
          14617333,
          93256673,
          75084021,
          37313540,
          57544453,
          28320147,
          31167691,
          363017667,
          179821881,
          178831137,
          91304495,
          5872667,
          4631720,
          43068356,
          5497481,
          8187848,
          81369058,
          283583472,
          119162518,
          24950752,
          58965304,
          7295423,
          45741576,
          14841352,
          9907922,
          103120810,
          14421454,
          43859823,
          441969178,
          94349900,
          55417615,
          73914543,
          15970955,
          85182343,
          11369541,
          11468231,
          26248558,
          36165012,
          49080505,
          9156084,
          29968953,
          42445058,
          46064723,
          25146538,
          79618610,
          52921433,
          80147079,
          40943541,
          6554384,
          6654819,
          66768171,
          2127496,
          46919256,
          140392731,
          100026637,
          109310377,
          116965668,
          115781734,
          42940186,
          7168577,
          42610902,
          5170709,
          63170804,
          19116981,
          23401275,
          94226333,
          1473665,
          18083994,
          18316030,
          103354194,
          24267154,
          49945474,
          761640898,
          63651027,
          103798152,
          59673787,
          40804816,
          21576332,
          125666,
          7035189,
          50840394,
          34048315,
          12042634,
          17727017,
          6858345,
          298369717,
          60321919,
          88930321,
          51016522,
          6829092,
          9857435,
          14641561,
          34245779,
          77573459,
          23404369,
          15983331,
          907414,
          4770461,
          1025425,
          68479579,
          157082900,
          177102077,
          29934306,
          274370957,
          67222776,
          47809421,
          164552293,
          25981285,
          11167895,
          15365850,
          34372339,
          46741467,
          20075033,
          568342,
          59727216,
          370409631,
          147658438,
          26302005,
          45911517,
          157508868,
          19509726,
          65470567,
          24422334,
          16482589,
          97356578,
          62384706,
          2057055,
          1963937,
          55159783,
          17623615,
          11171714,
          41826566,
          51373912,
          59828966,
          255702705,
          190988799,
          199559799,
          36009655,
          111792852,
          50465108,
          16284619,
          43713554,
          24333094,
          259807820,
          65543,
          258728898,
          91076877,
          92077628,
          58804106,
          1085093,
          3957025,
          33613158,
          110058379,
          27117599,
          51579764,
          53693680,
          36265379,
          185712664,
          182029412,
          193326632,
          81692095,
          45266588,
          88467531,
          14561324,
          3257546,
          28371890,
          7652965,
          170406423,
          48546161,
          39145784,
          10236836,
          20136775,
          13608633,
          82277,
          7829877,
          38766948,
          135497531,
          133620516,
          216807832,
          362324957,
          35668055,
          119185667,
          1409943,
          32809442,
          21694605,
          41062682,
          288691833,
          21941840,
          288981698,
          198472008,
          28392518,
          94139530,
          87906042,
          61150849,
          46145331,
          32228598,
          63354375,
          380218,
          56595842,
          283900254,
          32007656,
          161610341,
          485424724,
          54262148,
          295851,
          7566363,
          14755189,
          10111144,
          47794214,
          404450426,
          4609153,
          106921374,
          94838225,
          13180524,
          94852354,
          2562155,
          71228678,
          95208344,
          42661516,
          57925202,
          215438985,
          89042541,
          158970411,
          14238144,
          108993148,
          95070168,
          20362201,
          7404372,
          180742479,
          148208901,
          104055039,
          136789252,
          67922002,
          44418589,
          54656124,
          7114869,
          295705112,
          125188122,
          25214223,
          161218928,
          7450434,
          25749730,
          35705805,
          337782,
          416073179,
          20700691,
          76758193,
          36980311,
          117745317,
          78682079,
          70269715,
          62480631,
          14797862,
          109691666,
          10537188,
          6089874,
          43756218,
          211506702,
          24650121,
          330754439,
          14338992,
          184521151,
          9909094,
          27789959,
          201959095,
          55189145,
          50624654,
          18325463,
          73793522,
          84537962,
          66966883,
          185481530,
          32298812,
          23803108,
          94203395,
          59743191,
          518148559,
          426967926,
          154090360,
          81547672,
          29895090,
          60944053,
          2194759,
          119218333,
          105775678,
          42379650,
          9254344,
          8812764,
          87392478,
          39816568,
          91340921,
          53881593,
          67910166,
          30416359,
          50886144,
          32585356,
          426246,
          70423706,
          155021748,
          129164207,
          29593641,
          629502,
          101161045,
          354488708,
          234069353,
          32198655,
          11740942,
          23801835,
          148619029,
          32064685,
          28716947,
          67096891,
          6194870,
          86812798,
          33500491,
          84088854,
          25616292,
          117960425,
          20162672,
          13519621,
          177954661,
          381557539,
          14574087,
          54888236,
          22044113,
          12948025,
          105037235,
          78667428,
          29712825,
          48114115,
          34634731,
          5512647,
          314140384,
          544817142,
          84078780,
          74398864,
          70801353,
          68289913,
          30737517,
          108694869,
          82267038,
          64959548,
          12985302,
          100760721,
          206110533,
          119860589,
          5637048,
          8779196,
          25202168,
          379129960,
          252955933,
          53619462,
          111010758,
          58350234,
          156074310,
          267003525,
          76646993,
          68118371,
          53550960,
          166277038,
          262771918,
          19125841,
          264247,
          9295171,
          110932022,
          322979,
          106308538,
          133702498,
          128039679,
          49767744,
          38174685,
          75501997,
          89443640,
          35981010,
          329336681,
          184288829,
          134246932,
          16961607,
          1563976,
          23064,
          43361416,
          34509545,
          154927105,
          116316457,
          55503929,
          34917330,
          357063499,
          86264,
          67258772,
          20751600,
          96971361,
          443408255,
          67473105,
          45302137,
          51988,
          27461121,
          63781920,
          214388548,
          183619259,
          106270797,
          58574607,
          22741603,
          16401551,
          2984,
          10768946,
          256263359,
          203522177,
          28375869,
          180404976,
          19452402,
          90848019,
          94189503,
          84762149,
          20325733,
          77372445,
          30675725,
          660081224,
          251292441,
          13165822,
          54914942,
          37363513,
          200354959,
          192122330,
          243434130,
          424084233,
          278395641,
          92597388,
          93614037,
          3374251,
          213962184,
          5367415,
          414997174,
          31787136,
          86249969,
          44955015,
          52807594,
          268013076,
          18346024,
          37607865,
          249089809,
          61040349,
          343771168,
          55961409,
          69055550,
          229249222,
          130894237,
          12429583,
          44480275,
          201151353,
          16432322,
          459005868,
          93436322,
          356461711,
          180202163,
          72313754,
          123087120,
          936662225,
          27569558,
          341268248,
          364001123,
          7895708,
          408084349,
          77042381,
          486295561,
          55483770,
          76233151,
          12545979,
          8874389,
          232532923,
          246082029,
          529483936
         ],
         "xaxis": "x",
         "yaxis": "y"
        }
       ],
       "layout": {
        "barmode": "relative",
        "legend": {
         "tracegroupgap": 0
        },
        "template": {
         "data": {
          "bar": [
           {
            "error_x": {
             "color": "#2a3f5f"
            },
            "error_y": {
             "color": "#2a3f5f"
            },
            "marker": {
             "line": {
              "color": "#E5ECF6",
              "width": 0.5
             },
             "pattern": {
              "fillmode": "overlay",
              "size": 10,
              "solidity": 0.2
             }
            },
            "type": "bar"
           }
          ],
          "barpolar": [
           {
            "marker": {
             "line": {
              "color": "#E5ECF6",
              "width": 0.5
             },
             "pattern": {
              "fillmode": "overlay",
              "size": 10,
              "solidity": 0.2
             }
            },
            "type": "barpolar"
           }
          ],
          "carpet": [
           {
            "aaxis": {
             "endlinecolor": "#2a3f5f",
             "gridcolor": "white",
             "linecolor": "white",
             "minorgridcolor": "white",
             "startlinecolor": "#2a3f5f"
            },
            "baxis": {
             "endlinecolor": "#2a3f5f",
             "gridcolor": "white",
             "linecolor": "white",
             "minorgridcolor": "white",
             "startlinecolor": "#2a3f5f"
            },
            "type": "carpet"
           }
          ],
          "choropleth": [
           {
            "colorbar": {
             "outlinewidth": 0,
             "ticks": ""
            },
            "type": "choropleth"
           }
          ],
          "contour": [
           {
            "colorbar": {
             "outlinewidth": 0,
             "ticks": ""
            },
            "colorscale": [
             [
              0,
              "#0d0887"
             ],
             [
              0.1111111111111111,
              "#46039f"
             ],
             [
              0.2222222222222222,
              "#7201a8"
             ],
             [
              0.3333333333333333,
              "#9c179e"
             ],
             [
              0.4444444444444444,
              "#bd3786"
             ],
             [
              0.5555555555555556,
              "#d8576b"
             ],
             [
              0.6666666666666666,
              "#ed7953"
             ],
             [
              0.7777777777777778,
              "#fb9f3a"
             ],
             [
              0.8888888888888888,
              "#fdca26"
             ],
             [
              1,
              "#f0f921"
             ]
            ],
            "type": "contour"
           }
          ],
          "contourcarpet": [
           {
            "colorbar": {
             "outlinewidth": 0,
             "ticks": ""
            },
            "type": "contourcarpet"
           }
          ],
          "heatmap": [
           {
            "colorbar": {
             "outlinewidth": 0,
             "ticks": ""
            },
            "colorscale": [
             [
              0,
              "#0d0887"
             ],
             [
              0.1111111111111111,
              "#46039f"
             ],
             [
              0.2222222222222222,
              "#7201a8"
             ],
             [
              0.3333333333333333,
              "#9c179e"
             ],
             [
              0.4444444444444444,
              "#bd3786"
             ],
             [
              0.5555555555555556,
              "#d8576b"
             ],
             [
              0.6666666666666666,
              "#ed7953"
             ],
             [
              0.7777777777777778,
              "#fb9f3a"
             ],
             [
              0.8888888888888888,
              "#fdca26"
             ],
             [
              1,
              "#f0f921"
             ]
            ],
            "type": "heatmap"
           }
          ],
          "heatmapgl": [
           {
            "colorbar": {
             "outlinewidth": 0,
             "ticks": ""
            },
            "colorscale": [
             [
              0,
              "#0d0887"
             ],
             [
              0.1111111111111111,
              "#46039f"
             ],
             [
              0.2222222222222222,
              "#7201a8"
             ],
             [
              0.3333333333333333,
              "#9c179e"
             ],
             [
              0.4444444444444444,
              "#bd3786"
             ],
             [
              0.5555555555555556,
              "#d8576b"
             ],
             [
              0.6666666666666666,
              "#ed7953"
             ],
             [
              0.7777777777777778,
              "#fb9f3a"
             ],
             [
              0.8888888888888888,
              "#fdca26"
             ],
             [
              1,
              "#f0f921"
             ]
            ],
            "type": "heatmapgl"
           }
          ],
          "histogram": [
           {
            "marker": {
             "pattern": {
              "fillmode": "overlay",
              "size": 10,
              "solidity": 0.2
             }
            },
            "type": "histogram"
           }
          ],
          "histogram2d": [
           {
            "colorbar": {
             "outlinewidth": 0,
             "ticks": ""
            },
            "colorscale": [
             [
              0,
              "#0d0887"
             ],
             [
              0.1111111111111111,
              "#46039f"
             ],
             [
              0.2222222222222222,
              "#7201a8"
             ],
             [
              0.3333333333333333,
              "#9c179e"
             ],
             [
              0.4444444444444444,
              "#bd3786"
             ],
             [
              0.5555555555555556,
              "#d8576b"
             ],
             [
              0.6666666666666666,
              "#ed7953"
             ],
             [
              0.7777777777777778,
              "#fb9f3a"
             ],
             [
              0.8888888888888888,
              "#fdca26"
             ],
             [
              1,
              "#f0f921"
             ]
            ],
            "type": "histogram2d"
           }
          ],
          "histogram2dcontour": [
           {
            "colorbar": {
             "outlinewidth": 0,
             "ticks": ""
            },
            "colorscale": [
             [
              0,
              "#0d0887"
             ],
             [
              0.1111111111111111,
              "#46039f"
             ],
             [
              0.2222222222222222,
              "#7201a8"
             ],
             [
              0.3333333333333333,
              "#9c179e"
             ],
             [
              0.4444444444444444,
              "#bd3786"
             ],
             [
              0.5555555555555556,
              "#d8576b"
             ],
             [
              0.6666666666666666,
              "#ed7953"
             ],
             [
              0.7777777777777778,
              "#fb9f3a"
             ],
             [
              0.8888888888888888,
              "#fdca26"
             ],
             [
              1,
              "#f0f921"
             ]
            ],
            "type": "histogram2dcontour"
           }
          ],
          "mesh3d": [
           {
            "colorbar": {
             "outlinewidth": 0,
             "ticks": ""
            },
            "type": "mesh3d"
           }
          ],
          "parcoords": [
           {
            "line": {
             "colorbar": {
              "outlinewidth": 0,
              "ticks": ""
             }
            },
            "type": "parcoords"
           }
          ],
          "pie": [
           {
            "automargin": true,
            "type": "pie"
           }
          ],
          "scatter": [
           {
            "fillpattern": {
             "fillmode": "overlay",
             "size": 10,
             "solidity": 0.2
            },
            "type": "scatter"
           }
          ],
          "scatter3d": [
           {
            "line": {
             "colorbar": {
              "outlinewidth": 0,
              "ticks": ""
             }
            },
            "marker": {
             "colorbar": {
              "outlinewidth": 0,
              "ticks": ""
             }
            },
            "type": "scatter3d"
           }
          ],
          "scattercarpet": [
           {
            "marker": {
             "colorbar": {
              "outlinewidth": 0,
              "ticks": ""
             }
            },
            "type": "scattercarpet"
           }
          ],
          "scattergeo": [
           {
            "marker": {
             "colorbar": {
              "outlinewidth": 0,
              "ticks": ""
             }
            },
            "type": "scattergeo"
           }
          ],
          "scattergl": [
           {
            "marker": {
             "colorbar": {
              "outlinewidth": 0,
              "ticks": ""
             }
            },
            "type": "scattergl"
           }
          ],
          "scattermapbox": [
           {
            "marker": {
             "colorbar": {
              "outlinewidth": 0,
              "ticks": ""
             }
            },
            "type": "scattermapbox"
           }
          ],
          "scatterpolar": [
           {
            "marker": {
             "colorbar": {
              "outlinewidth": 0,
              "ticks": ""
             }
            },
            "type": "scatterpolar"
           }
          ],
          "scatterpolargl": [
           {
            "marker": {
             "colorbar": {
              "outlinewidth": 0,
              "ticks": ""
             }
            },
            "type": "scatterpolargl"
           }
          ],
          "scatterternary": [
           {
            "marker": {
             "colorbar": {
              "outlinewidth": 0,
              "ticks": ""
             }
            },
            "type": "scatterternary"
           }
          ],
          "surface": [
           {
            "colorbar": {
             "outlinewidth": 0,
             "ticks": ""
            },
            "colorscale": [
             [
              0,
              "#0d0887"
             ],
             [
              0.1111111111111111,
              "#46039f"
             ],
             [
              0.2222222222222222,
              "#7201a8"
             ],
             [
              0.3333333333333333,
              "#9c179e"
             ],
             [
              0.4444444444444444,
              "#bd3786"
             ],
             [
              0.5555555555555556,
              "#d8576b"
             ],
             [
              0.6666666666666666,
              "#ed7953"
             ],
             [
              0.7777777777777778,
              "#fb9f3a"
             ],
             [
              0.8888888888888888,
              "#fdca26"
             ],
             [
              1,
              "#f0f921"
             ]
            ],
            "type": "surface"
           }
          ],
          "table": [
           {
            "cells": {
             "fill": {
              "color": "#EBF0F8"
             },
             "line": {
              "color": "white"
             }
            },
            "header": {
             "fill": {
              "color": "#C8D4E3"
             },
             "line": {
              "color": "white"
             }
            },
            "type": "table"
           }
          ]
         },
         "layout": {
          "annotationdefaults": {
           "arrowcolor": "#2a3f5f",
           "arrowhead": 0,
           "arrowwidth": 1
          },
          "autotypenumbers": "strict",
          "coloraxis": {
           "colorbar": {
            "outlinewidth": 0,
            "ticks": ""
           }
          },
          "colorscale": {
           "diverging": [
            [
             0,
             "#8e0152"
            ],
            [
             0.1,
             "#c51b7d"
            ],
            [
             0.2,
             "#de77ae"
            ],
            [
             0.3,
             "#f1b6da"
            ],
            [
             0.4,
             "#fde0ef"
            ],
            [
             0.5,
             "#f7f7f7"
            ],
            [
             0.6,
             "#e6f5d0"
            ],
            [
             0.7,
             "#b8e186"
            ],
            [
             0.8,
             "#7fbc41"
            ],
            [
             0.9,
             "#4d9221"
            ],
            [
             1,
             "#276419"
            ]
           ],
           "sequential": [
            [
             0,
             "#0d0887"
            ],
            [
             0.1111111111111111,
             "#46039f"
            ],
            [
             0.2222222222222222,
             "#7201a8"
            ],
            [
             0.3333333333333333,
             "#9c179e"
            ],
            [
             0.4444444444444444,
             "#bd3786"
            ],
            [
             0.5555555555555556,
             "#d8576b"
            ],
            [
             0.6666666666666666,
             "#ed7953"
            ],
            [
             0.7777777777777778,
             "#fb9f3a"
            ],
            [
             0.8888888888888888,
             "#fdca26"
            ],
            [
             1,
             "#f0f921"
            ]
           ],
           "sequentialminus": [
            [
             0,
             "#0d0887"
            ],
            [
             0.1111111111111111,
             "#46039f"
            ],
            [
             0.2222222222222222,
             "#7201a8"
            ],
            [
             0.3333333333333333,
             "#9c179e"
            ],
            [
             0.4444444444444444,
             "#bd3786"
            ],
            [
             0.5555555555555556,
             "#d8576b"
            ],
            [
             0.6666666666666666,
             "#ed7953"
            ],
            [
             0.7777777777777778,
             "#fb9f3a"
            ],
            [
             0.8888888888888888,
             "#fdca26"
            ],
            [
             1,
             "#f0f921"
            ]
           ]
          },
          "colorway": [
           "#636efa",
           "#EF553B",
           "#00cc96",
           "#ab63fa",
           "#FFA15A",
           "#19d3f3",
           "#FF6692",
           "#B6E880",
           "#FF97FF",
           "#FECB52"
          ],
          "font": {
           "color": "#2a3f5f"
          },
          "geo": {
           "bgcolor": "white",
           "lakecolor": "white",
           "landcolor": "#E5ECF6",
           "showlakes": true,
           "showland": true,
           "subunitcolor": "white"
          },
          "hoverlabel": {
           "align": "left"
          },
          "hovermode": "closest",
          "mapbox": {
           "style": "light"
          },
          "paper_bgcolor": "white",
          "plot_bgcolor": "#E5ECF6",
          "polar": {
           "angularaxis": {
            "gridcolor": "white",
            "linecolor": "white",
            "ticks": ""
           },
           "bgcolor": "#E5ECF6",
           "radialaxis": {
            "gridcolor": "white",
            "linecolor": "white",
            "ticks": ""
           }
          },
          "scene": {
           "xaxis": {
            "backgroundcolor": "#E5ECF6",
            "gridcolor": "white",
            "gridwidth": 2,
            "linecolor": "white",
            "showbackground": true,
            "ticks": "",
            "zerolinecolor": "white"
           },
           "yaxis": {
            "backgroundcolor": "#E5ECF6",
            "gridcolor": "white",
            "gridwidth": 2,
            "linecolor": "white",
            "showbackground": true,
            "ticks": "",
            "zerolinecolor": "white"
           },
           "zaxis": {
            "backgroundcolor": "#E5ECF6",
            "gridcolor": "white",
            "gridwidth": 2,
            "linecolor": "white",
            "showbackground": true,
            "ticks": "",
            "zerolinecolor": "white"
           }
          },
          "shapedefaults": {
           "line": {
            "color": "#2a3f5f"
           }
          },
          "ternary": {
           "aaxis": {
            "gridcolor": "white",
            "linecolor": "white",
            "ticks": ""
           },
           "baxis": {
            "gridcolor": "white",
            "linecolor": "white",
            "ticks": ""
           },
           "bgcolor": "#E5ECF6",
           "caxis": {
            "gridcolor": "white",
            "linecolor": "white",
            "ticks": ""
           }
          },
          "title": {
           "x": 0.05
          },
          "xaxis": {
           "automargin": true,
           "gridcolor": "white",
           "linecolor": "white",
           "ticks": "",
           "title": {
            "standoff": 15
           },
           "zerolinecolor": "white",
           "zerolinewidth": 2
          },
          "yaxis": {
           "automargin": true,
           "gridcolor": "white",
           "linecolor": "white",
           "ticks": "",
           "title": {
            "standoff": 15
           },
           "zerolinecolor": "white",
           "zerolinewidth": 2
          }
         }
        },
        "title": {
         "text": "Inflation Adjusted Gross"
        },
        "xaxis": {
         "anchor": "y",
         "domain": [
          0,
          1
         ],
         "title": {
          "text": "I.A Gross"
         }
        },
        "yaxis": {
         "anchor": "x",
         "domain": [
          0,
          1
         ],
         "title": {
          "text": "count"
         }
        }
       }
      }
     },
     "metadata": {},
     "output_type": "display_data"
    }
   ],
   "source": [
    "fig =  px.histogram(\n",
    "    data_frame=df,\n",
    "    x='inflation_adjusted_gross',\n",
    "    nbins=150,\n",
    "    labels = {\"inflation_adjusted_gross\": \"I.A Gross\"},\n",
    "    # marginal=\"box\",\n",
    "    title = \"Inflation Adjusted Gross\",\n",
    ").update_traces(marker=dict(color='pink'))\n",
    "\n",
    "fig.data[0].marker.line.width = 2\n",
    "fig.data[0].marker.line.color = \"black\"\n",
    "\n",
    "\n",
    "fig.show()"
   ]
  },
  {
   "cell_type": "code",
   "execution_count": 14,
   "metadata": {},
   "outputs": [
    {
     "data": {
      "application/vnd.plotly.v1+json": {
       "config": {
        "plotlyServerURL": "https://plot.ly"
       },
       "data": [
        {
         "alignmentgroup": "True",
         "bingroup": "x",
         "hovertemplate": "Release Date=%{x}<br>count=%{y}<extra></extra>",
         "legendgroup": "",
         "marker": {
          "color": "pink",
          "line": {
           "color": "black",
           "width": 2
          },
          "pattern": {
           "shape": ""
          }
         },
         "name": "",
         "nbinsx": 150,
         "offsetgroup": "",
         "orientation": "v",
         "showlegend": false,
         "type": "histogram",
         "x": [
          "1937-12-21T00:00:00",
          "1940-02-09T00:00:00",
          "1940-11-13T00:00:00",
          "1946-11-12T00:00:00",
          "1950-02-15T00:00:00",
          "1954-12-23T00:00:00",
          "1955-06-22T00:00:00",
          "1959-01-29T00:00:00",
          "1961-01-25T00:00:00",
          "1961-03-16T00:00:00",
          "1961-12-14T00:00:00",
          "1962-05-17T00:00:00",
          "1963-12-25T00:00:00",
          "1967-10-18T00:00:00",
          "1968-02-08T00:00:00",
          "1970-04-24T00:00:00",
          "1970-07-01T00:00:00",
          "1971-10-07T00:00:00",
          "1975-07-01T00:00:00",
          "1977-01-21T00:00:00",
          "1977-06-22T00:00:00",
          "1977-06-24T00:00:00",
          "1979-12-21T00:00:00",
          "1980-02-08T00:00:00",
          "1980-06-25T00:00:00",
          "1981-01-01T00:00:00",
          "1981-07-10T00:00:00",
          "1982-02-05T00:00:00",
          "1982-07-09T00:00:00",
          "1982-11-19T00:00:00",
          "1983-03-11T00:00:00",
          "1983-04-29T00:00:00",
          "1983-10-07T00:00:00",
          "1983-11-04T00:00:00",
          "1984-03-09T00:00:00",
          "1984-09-29T00:00:00",
          "1985-03-22T00:00:00",
          "1985-06-21T00:00:00",
          "1985-07-24T00:00:00",
          "1985-08-09T00:00:00",
          "1985-09-27T00:00:00",
          "1985-11-22T00:00:00",
          "1986-01-31T00:00:00",
          "1986-04-11T00:00:00",
          "1986-06-27T00:00:00",
          "1986-07-02T00:00:00",
          "1986-07-30T00:00:00",
          "1986-10-03T00:00:00",
          "1986-10-17T00:00:00",
          "1987-01-30T00:00:00",
          "1987-03-06T00:00:00",
          "1987-05-22T00:00:00",
          "1987-06-05T00:00:00",
          "1987-07-03T00:00:00",
          "1987-08-05T00:00:00",
          "1987-08-14T00:00:00",
          "1987-11-06T00:00:00",
          "1987-11-25T00:00:00",
          "1987-12-23T00:00:00",
          "1988-02-12T00:00:00",
          "1988-03-18T00:00:00",
          "1988-04-15T00:00:00",
          "1988-06-10T00:00:00",
          "1988-06-22T00:00:00",
          "1988-07-29T00:00:00",
          "1988-08-05T00:00:00",
          "1988-09-30T00:00:00",
          "1988-11-04T00:00:00",
          "1988-11-11T00:00:00",
          "1988-11-18T00:00:00",
          "1988-12-21T00:00:00",
          "1989-01-27T00:00:00",
          "1989-03-01T00:00:00",
          "1989-04-14T00:00:00",
          "1989-06-02T00:00:00",
          "1989-06-23T00:00:00",
          "1989-07-28T00:00:00",
          "1989-08-18T00:00:00",
          "1989-10-06T00:00:00",
          "1989-10-20T00:00:00",
          "1989-11-15T00:00:00",
          "1989-12-13T00:00:00",
          "1990-02-02T00:00:00",
          "1990-02-23T00:00:00",
          "1990-03-23T00:00:00",
          "1990-04-06T00:00:00",
          "1990-04-27T00:00:00",
          "1990-05-24T00:00:00",
          "1990-06-15T00:00:00",
          "1990-06-22T00:00:00",
          "1990-07-18T00:00:00",
          "1990-08-03T00:00:00",
          "1990-08-17T00:00:00",
          "1990-10-12T00:00:00",
          "1990-11-16T00:00:00",
          "1990-11-21T00:00:00",
          "1990-12-25T00:00:00",
          "1991-01-18T00:00:00",
          "1991-02-22T00:00:00",
          "1991-03-01T00:00:00",
          "1991-04-05T00:00:00",
          "1991-04-26T00:00:00",
          "1991-05-03T00:00:00",
          "1991-05-17T00:00:00",
          "1991-05-24T00:00:00",
          "1991-06-21T00:00:00",
          "1991-07-24T00:00:00",
          "1991-09-18T00:00:00",
          "1991-09-27T00:00:00",
          "1991-10-11T00:00:00",
          "1991-11-01T00:00:00",
          "1991-11-13T00:00:00",
          "1991-12-20T00:00:00",
          "1992-01-10T00:00:00",
          "1992-02-07T00:00:00",
          "1992-03-06T00:00:00",
          "1992-03-20T00:00:00",
          "1992-04-03T00:00:00",
          "1992-04-08T00:00:00",
          "1992-04-24T00:00:00",
          "1992-05-22T00:00:00",
          "1992-05-29T00:00:00",
          "1992-07-17T00:00:00",
          "1992-07-17T00:00:00",
          "1992-08-07T00:00:00",
          "1992-08-21T00:00:00",
          "1992-09-18T00:00:00",
          "1992-09-18T00:00:00",
          "1992-09-25T00:00:00",
          "1992-10-02T00:00:00",
          "1992-10-09T00:00:00",
          "1992-10-16T00:00:00",
          "1992-11-11T00:00:00",
          "1992-12-04T00:00:00",
          "1992-12-11T00:00:00",
          "1993-01-15T00:00:00",
          "1993-01-22T00:00:00",
          "1993-02-03T00:00:00",
          "1993-02-03T00:00:00",
          "1993-03-05T00:00:00",
          "1993-03-12T00:00:00",
          "1993-03-26T00:00:00",
          "1993-04-02T00:00:00",
          "1993-04-16T00:00:00",
          "1993-04-23T00:00:00",
          "1993-05-28T00:00:00",
          "1993-06-04T00:00:00",
          "1993-06-04T00:00:00",
          "1993-06-09T00:00:00",
          "1993-07-02T00:00:00",
          "1993-07-16T00:00:00",
          "1993-07-23T00:00:00",
          "1993-08-06T00:00:00",
          "1993-08-27T00:00:00",
          "1993-09-08T00:00:00",
          "1993-09-10T00:00:00",
          "1993-09-24T00:00:00",
          "1993-10-01T00:00:00",
          "1993-10-13T00:00:00",
          "1993-11-12T00:00:00",
          "1993-12-10T00:00:00",
          "1993-12-25T00:00:00",
          "1994-01-07T00:00:00",
          "1994-01-07T00:00:00",
          "1994-01-14T00:00:00",
          "1994-01-28T00:00:00",
          "1994-02-11T00:00:00",
          "1994-03-04T00:00:00",
          "1994-03-09T00:00:00",
          "1994-03-25T00:00:00",
          "1994-04-08T00:00:00",
          "1994-04-15T00:00:00",
          "1994-04-22T00:00:00",
          "1994-04-29T00:00:00",
          "1994-05-06T00:00:00",
          "1994-06-03T00:00:00",
          "1994-06-15T00:00:00",
          "1994-06-29T00:00:00",
          "1994-07-15T00:00:00",
          "1994-08-12T00:00:00",
          "1994-08-19T00:00:00",
          "1994-08-26T00:00:00",
          "1994-08-26T00:00:00",
          "1994-09-02T00:00:00",
          "1994-09-14T00:00:00",
          "1994-09-23T00:00:00",
          "1994-09-30T00:00:00",
          "1994-10-21T00:00:00",
          "1994-10-28T00:00:00",
          "1994-11-11T00:00:00",
          "1994-11-23T00:00:00",
          "1994-12-25T00:00:00",
          "1995-01-06T00:00:00",
          "1995-01-20T00:00:00",
          "1995-01-27T00:00:00",
          "1995-02-03T00:00:00",
          "1995-02-17T00:00:00",
          "1995-03-03T00:00:00",
          "1995-03-03T00:00:00",
          "1995-03-24T00:00:00",
          "1995-03-28T00:00:00",
          "1995-03-31T00:00:00",
          "1995-03-31T00:00:00",
          "1995-04-07T00:00:00",
          "1995-04-21T00:00:00",
          "1995-05-12T00:00:00",
          "1995-05-26T00:00:00",
          "1995-06-10T00:00:00",
          "1995-06-30T00:00:00",
          "1995-07-28T00:00:00",
          "1995-08-11T00:00:00",
          "1995-08-11T00:00:00",
          "1995-09-08T00:00:00",
          "1995-09-15T00:00:00",
          "1995-09-29T00:00:00",
          "1995-10-04T00:00:00",
          "1995-10-13T00:00:00",
          "1995-10-13T00:00:00",
          "1995-10-27T00:00:00",
          "1995-11-22T00:00:00",
          "1995-12-08T00:00:00",
          "1995-12-20T00:00:00",
          "1995-12-22T00:00:00",
          "1995-12-29T00:00:00",
          "1996-02-02T00:00:00",
          "1996-02-16T00:00:00",
          "1996-02-16T00:00:00",
          "1996-02-23T00:00:00",
          "1996-03-01T00:00:00",
          "1996-03-08T00:00:00",
          "1996-03-15T00:00:00",
          "1996-03-22T00:00:00",
          "1996-04-12T00:00:00",
          "1996-04-19T00:00:00",
          "1996-05-03T00:00:00",
          "1996-05-10T00:00:00",
          "1996-05-24T00:00:00",
          "1996-05-31T00:00:00",
          "1996-06-07T00:00:00",
          "1996-06-21T00:00:00",
          "1996-07-05T00:00:00",
          "1996-07-17T00:00:00",
          "1996-08-09T00:00:00",
          "1996-08-30T00:00:00",
          "1996-09-13T00:00:00",
          "1996-10-04T00:00:00",
          "1996-10-25T00:00:00",
          "1996-11-08T00:00:00",
          "1996-11-20T00:00:00",
          "1996-11-27T00:00:00",
          "1996-12-13T00:00:00",
          "1996-12-25T00:00:00",
          "1997-01-17T00:00:00",
          "1997-01-24T00:00:00",
          "1997-01-31T00:00:00",
          "1997-02-14T00:00:00",
          "1997-03-07T00:00:00",
          "1997-03-28T00:00:00",
          "1997-04-11T00:00:00",
          "1997-04-25T00:00:00",
          "1997-05-30T00:00:00",
          "1997-06-06T00:00:00",
          "1997-06-13T00:00:00",
          "1997-07-16T00:00:00",
          "1997-07-18T00:00:00",
          "1997-08-01T00:00:00",
          "1997-08-22T00:00:00",
          "1997-09-19T00:00:00",
          "1997-10-05T00:00:00",
          "1997-10-10T00:00:00",
          "1997-10-17T00:00:00",
          "1997-11-26T00:00:00",
          "1997-12-25T00:00:00",
          "1997-12-25T00:00:00",
          "1997-12-25T00:00:00",
          "1998-01-30T00:00:00",
          "1998-02-27T00:00:00",
          "1998-02-27T00:00:00",
          "1998-03-27T00:00:00",
          "1998-05-01T00:00:00",
          "1998-05-15T00:00:00",
          "1998-06-12T00:00:00",
          "1998-06-19T00:00:00",
          "1998-07-01T00:00:00",
          "1998-07-24T00:00:00",
          "1998-07-29T00:00:00",
          "1998-09-04T00:00:00",
          "1998-09-11T00:00:00",
          "1998-10-09T00:00:00",
          "1998-10-16T00:00:00",
          "1998-11-06T00:00:00",
          "1998-11-13T00:00:00",
          "1998-11-20T00:00:00",
          "1998-11-20T00:00:00",
          "1998-12-11T00:00:00",
          "1998-12-25T00:00:00",
          "1998-12-25T00:00:00",
          "1999-02-12T00:00:00",
          "1999-02-26T00:00:00",
          "1999-03-26T00:00:00",
          "1999-03-31T00:00:00",
          "1999-05-14T00:00:00",
          "1999-06-04T00:00:00",
          "1999-06-16T00:00:00",
          "1999-07-02T00:00:00",
          "1999-07-23T00:00:00",
          "1999-08-06T00:00:00",
          "1999-08-27T00:00:00",
          "1999-09-17T00:00:00",
          "1999-09-24T00:00:00",
          "1999-10-01T00:00:00",
          "1999-10-15T00:00:00",
          "1999-11-05T00:00:00",
          "1999-11-19T00:00:00",
          "1999-12-08T00:00:00",
          "1999-12-10T00:00:00",
          "1999-12-17T00:00:00",
          "1999-12-24T00:00:00",
          "2000-01-01T00:00:00",
          "2000-02-04T00:00:00",
          "2000-02-11T00:00:00",
          "2000-03-10T00:00:00",
          "2000-03-31T00:00:00",
          "2000-04-14T00:00:00",
          "2000-05-19T00:00:00",
          "2000-05-26T00:00:00",
          "2000-06-09T00:00:00",
          "2000-06-16T00:00:00",
          "2000-07-07T00:00:00",
          "2000-08-04T00:00:00",
          "2000-08-25T00:00:00",
          "2000-09-15T00:00:00",
          "2000-09-29T00:00:00",
          "2000-11-22T00:00:00",
          "2000-11-22T00:00:00",
          "2000-12-15T00:00:00",
          "2000-12-22T00:00:00",
          "2001-01-12T00:00:00",
          "2001-02-16T00:00:00",
          "2001-04-06T00:00:00",
          "2001-05-25T00:00:00",
          "2001-06-08T00:00:00",
          "2001-06-29T00:00:00",
          "2001-08-03T00:00:00",
          "2001-08-24T00:00:00",
          "2001-10-05T00:00:00",
          "2001-10-12T00:00:00",
          "2001-10-26T00:00:00",
          "2001-11-02T00:00:00",
          "2001-11-21T00:00:00",
          "2001-12-14T00:00:00",
          "2002-01-01T00:00:00",
          "2002-01-18T00:00:00",
          "2002-01-25T00:00:00",
          "2002-02-15T00:00:00",
          "2002-02-19T00:00:00",
          "2002-03-22T00:00:00",
          "2002-03-29T00:00:00",
          "2002-04-05T00:00:00",
          "2002-05-10T00:00:00",
          "2002-06-07T00:00:00",
          "2002-06-21T00:00:00",
          "2002-07-26T00:00:00",
          "2002-08-02T00:00:00",
          "2002-09-20T00:00:00",
          "2002-09-27T00:00:00",
          "2002-09-27T00:00:00",
          "2002-10-11T00:00:00",
          "2002-11-01T00:00:00",
          "2002-11-27T00:00:00",
          "2002-12-13T00:00:00",
          "2002-12-19T00:00:00",
          "2003-01-31T00:00:00",
          "2003-02-07T00:00:00",
          "2003-02-14T00:00:00",
          "2003-03-07T00:00:00",
          "2003-03-21T00:00:00",
          "2003-04-11T00:00:00",
          "2003-04-18T00:00:00",
          "2003-05-02T00:00:00",
          "2003-05-30T00:00:00",
          "2003-07-09T00:00:00",
          "2003-08-06T00:00:00",
          "2003-08-15T00:00:00",
          "2003-09-19T00:00:00",
          "2003-09-26T00:00:00",
          "2003-10-17T00:00:00",
          "2003-10-24T00:00:00",
          "2003-11-26T00:00:00",
          "2003-12-19T00:00:00",
          "2003-12-25T00:00:00",
          "2004-01-16T00:00:00",
          "2004-02-06T00:00:00",
          "2004-02-20T00:00:00",
          "2004-03-05T00:00:00",
          "2004-03-26T00:00:00",
          "2004-04-02T00:00:00",
          "2004-04-09T00:00:00",
          "2004-05-28T00:00:00",
          "2004-06-16T00:00:00",
          "2004-07-02T00:00:00",
          "2004-07-07T00:00:00",
          "2004-07-30T00:00:00",
          "2004-08-11T00:00:00",
          "2004-09-17T00:00:00",
          "2004-09-24T00:00:00",
          "2004-10-01T00:00:00",
          "2004-11-05T00:00:00",
          "2004-11-19T00:00:00",
          "2004-12-10T00:00:00",
          "2005-01-28T00:00:00",
          "2005-02-11T00:00:00",
          "2005-03-04T00:00:00",
          "2005-03-18T00:00:00",
          "2005-04-22T00:00:00",
          "2005-04-29T00:00:00",
          "2005-06-10T00:00:00",
          "2005-06-22T00:00:00",
          "2005-07-08T00:00:00",
          "2005-07-29T00:00:00",
          "2005-08-19T00:00:00",
          "2005-09-23T00:00:00",
          "2005-09-30T00:00:00",
          "2005-10-21T00:00:00",
          "2005-11-04T00:00:00",
          "2005-12-09T00:00:00",
          "2005-12-25T00:00:00",
          "2006-01-13T00:00:00",
          "2006-01-27T00:00:00",
          "2006-01-27T00:00:00",
          "2006-02-17T00:00:00",
          "2006-03-10T00:00:00",
          "2006-03-24T00:00:00",
          "2006-04-14T00:00:00",
          "2006-04-28T00:00:00",
          "2006-05-12T00:00:00",
          "2006-06-09T00:00:00",
          "2006-07-07T00:00:00",
          "2006-08-11T00:00:00",
          "2006-08-25T00:00:00",
          "2006-09-29T00:00:00",
          "2006-10-20T00:00:00",
          "2006-10-20T00:00:00",
          "2006-11-03T00:00:00",
          "2006-11-22T00:00:00",
          "2006-12-08T00:00:00",
          "2007-01-12T00:00:00",
          "2007-02-16T00:00:00",
          "2007-03-02T00:00:00",
          "2007-03-30T00:00:00",
          "2007-03-30T00:00:00",
          "2007-04-06T00:00:00",
          "2007-04-27T00:00:00",
          "2007-05-24T00:00:00",
          "2007-06-29T00:00:00",
          "2007-08-03T00:00:00",
          "2007-09-22T00:00:00",
          "2007-10-20T00:00:00",
          "2007-11-21T00:00:00",
          "2007-12-21T00:00:00",
          "2008-02-01T00:00:00",
          "2008-02-14T00:00:00",
          "2008-03-07T00:00:00",
          "2008-05-16T00:00:00",
          "2008-06-27T00:00:00",
          "2008-08-01T00:00:00",
          "2008-08-29T00:00:00",
          "2008-09-26T00:00:00",
          "2008-10-03T00:00:00",
          "2008-10-17T00:00:00",
          "2008-10-24T00:00:00",
          "2008-11-21T00:00:00",
          "2008-12-25T00:00:00",
          "2009-02-13T00:00:00",
          "2009-02-27T00:00:00",
          "2009-03-13T00:00:00",
          "2009-04-10T00:00:00",
          "2009-04-22T00:00:00",
          "2009-05-29T00:00:00",
          "2009-06-19T00:00:00",
          "2009-07-24T00:00:00",
          "2009-08-14T00:00:00",
          "2009-08-21T00:00:00",
          "2009-09-10T00:00:00",
          "2009-09-25T00:00:00",
          "2009-10-02T00:00:00",
          "2009-11-06T00:00:00",
          "2009-11-25T00:00:00",
          "2009-11-25T00:00:00",
          "2010-01-29T00:00:00",
          "2010-03-05T00:00:00",
          "2010-03-26T00:00:00",
          "2010-03-31T00:00:00",
          "2010-04-22T00:00:00",
          "2010-05-28T00:00:00",
          "2010-06-18T00:00:00",
          "2010-07-14T00:00:00",
          "2010-08-06T00:00:00",
          "2010-08-13T00:00:00",
          "2010-09-24T00:00:00",
          "2010-10-08T00:00:00",
          "2010-11-24T00:00:00",
          "2010-12-17T00:00:00",
          "2011-02-11T00:00:00",
          "2011-02-18T00:00:00",
          "2011-03-11T00:00:00",
          "2011-04-22T00:00:00",
          "2011-04-22T00:00:00",
          "2011-04-29T00:00:00",
          "2011-05-20T00:00:00",
          "2011-06-24T00:00:00",
          "2011-07-15T00:00:00",
          "2011-08-10T00:00:00",
          "2011-08-19T00:00:00",
          "2011-10-07T00:00:00",
          "2011-11-23T00:00:00",
          "2011-12-25T00:00:00",
          "2012-02-17T00:00:00",
          "2012-03-09T00:00:00",
          "2012-04-20T00:00:00",
          "2012-05-04T00:00:00",
          "2012-06-22T00:00:00",
          "2012-06-29T00:00:00",
          "2012-08-15T00:00:00",
          "2012-10-05T00:00:00",
          "2012-11-02T00:00:00",
          "2012-11-09T00:00:00",
          "2013-03-08T00:00:00",
          "2013-05-03T00:00:00",
          "2013-06-21T00:00:00",
          "2013-07-02T00:00:00",
          "2013-08-09T00:00:00",
          "2013-10-18T00:00:00",
          "2013-11-08T00:00:00",
          "2013-11-08T00:00:00",
          "2013-11-22T00:00:00",
          "2013-11-22T00:00:00",
          "2013-12-13T00:00:00",
          "2014-03-14T00:00:00",
          "2014-03-21T00:00:00",
          "2014-04-04T00:00:00",
          "2014-04-18T00:00:00",
          "2014-05-10T00:00:00",
          "2014-05-30T00:00:00",
          "2014-07-18T00:00:00",
          "2014-08-01T00:00:00",
          "2014-08-08T00:00:00",
          "2014-10-10T00:00:00",
          "2014-11-07T00:00:00",
          "2014-12-25T00:00:00",
          "2015-01-23T00:00:00",
          "2015-02-20T00:00:00",
          "2015-03-13T00:00:00",
          "2015-04-17T00:00:00",
          "2015-05-01T00:00:00",
          "2015-05-22T00:00:00",
          "2015-06-19T00:00:00",
          "2015-07-17T00:00:00",
          "2015-10-16T00:00:00",
          "2015-11-25T00:00:00",
          "2015-12-18T00:00:00",
          "2016-01-29T00:00:00",
          "2016-03-04T00:00:00",
          "2016-04-15T00:00:00",
          "2016-04-29T00:00:00",
          "2016-05-06T00:00:00",
          "2016-05-27T00:00:00",
          "2016-06-17T00:00:00",
          "2016-07-01T00:00:00",
          "2016-08-12T00:00:00",
          "2016-09-02T00:00:00",
          "2016-09-23T00:00:00",
          "2016-11-04T00:00:00",
          "2016-11-23T00:00:00",
          "2016-12-16T00:00:00"
         ],
         "xaxis": "x",
         "yaxis": "y"
        }
       ],
       "layout": {
        "barmode": "relative",
        "legend": {
         "tracegroupgap": 0
        },
        "template": {
         "data": {
          "bar": [
           {
            "error_x": {
             "color": "#2a3f5f"
            },
            "error_y": {
             "color": "#2a3f5f"
            },
            "marker": {
             "line": {
              "color": "#E5ECF6",
              "width": 0.5
             },
             "pattern": {
              "fillmode": "overlay",
              "size": 10,
              "solidity": 0.2
             }
            },
            "type": "bar"
           }
          ],
          "barpolar": [
           {
            "marker": {
             "line": {
              "color": "#E5ECF6",
              "width": 0.5
             },
             "pattern": {
              "fillmode": "overlay",
              "size": 10,
              "solidity": 0.2
             }
            },
            "type": "barpolar"
           }
          ],
          "carpet": [
           {
            "aaxis": {
             "endlinecolor": "#2a3f5f",
             "gridcolor": "white",
             "linecolor": "white",
             "minorgridcolor": "white",
             "startlinecolor": "#2a3f5f"
            },
            "baxis": {
             "endlinecolor": "#2a3f5f",
             "gridcolor": "white",
             "linecolor": "white",
             "minorgridcolor": "white",
             "startlinecolor": "#2a3f5f"
            },
            "type": "carpet"
           }
          ],
          "choropleth": [
           {
            "colorbar": {
             "outlinewidth": 0,
             "ticks": ""
            },
            "type": "choropleth"
           }
          ],
          "contour": [
           {
            "colorbar": {
             "outlinewidth": 0,
             "ticks": ""
            },
            "colorscale": [
             [
              0,
              "#0d0887"
             ],
             [
              0.1111111111111111,
              "#46039f"
             ],
             [
              0.2222222222222222,
              "#7201a8"
             ],
             [
              0.3333333333333333,
              "#9c179e"
             ],
             [
              0.4444444444444444,
              "#bd3786"
             ],
             [
              0.5555555555555556,
              "#d8576b"
             ],
             [
              0.6666666666666666,
              "#ed7953"
             ],
             [
              0.7777777777777778,
              "#fb9f3a"
             ],
             [
              0.8888888888888888,
              "#fdca26"
             ],
             [
              1,
              "#f0f921"
             ]
            ],
            "type": "contour"
           }
          ],
          "contourcarpet": [
           {
            "colorbar": {
             "outlinewidth": 0,
             "ticks": ""
            },
            "type": "contourcarpet"
           }
          ],
          "heatmap": [
           {
            "colorbar": {
             "outlinewidth": 0,
             "ticks": ""
            },
            "colorscale": [
             [
              0,
              "#0d0887"
             ],
             [
              0.1111111111111111,
              "#46039f"
             ],
             [
              0.2222222222222222,
              "#7201a8"
             ],
             [
              0.3333333333333333,
              "#9c179e"
             ],
             [
              0.4444444444444444,
              "#bd3786"
             ],
             [
              0.5555555555555556,
              "#d8576b"
             ],
             [
              0.6666666666666666,
              "#ed7953"
             ],
             [
              0.7777777777777778,
              "#fb9f3a"
             ],
             [
              0.8888888888888888,
              "#fdca26"
             ],
             [
              1,
              "#f0f921"
             ]
            ],
            "type": "heatmap"
           }
          ],
          "heatmapgl": [
           {
            "colorbar": {
             "outlinewidth": 0,
             "ticks": ""
            },
            "colorscale": [
             [
              0,
              "#0d0887"
             ],
             [
              0.1111111111111111,
              "#46039f"
             ],
             [
              0.2222222222222222,
              "#7201a8"
             ],
             [
              0.3333333333333333,
              "#9c179e"
             ],
             [
              0.4444444444444444,
              "#bd3786"
             ],
             [
              0.5555555555555556,
              "#d8576b"
             ],
             [
              0.6666666666666666,
              "#ed7953"
             ],
             [
              0.7777777777777778,
              "#fb9f3a"
             ],
             [
              0.8888888888888888,
              "#fdca26"
             ],
             [
              1,
              "#f0f921"
             ]
            ],
            "type": "heatmapgl"
           }
          ],
          "histogram": [
           {
            "marker": {
             "pattern": {
              "fillmode": "overlay",
              "size": 10,
              "solidity": 0.2
             }
            },
            "type": "histogram"
           }
          ],
          "histogram2d": [
           {
            "colorbar": {
             "outlinewidth": 0,
             "ticks": ""
            },
            "colorscale": [
             [
              0,
              "#0d0887"
             ],
             [
              0.1111111111111111,
              "#46039f"
             ],
             [
              0.2222222222222222,
              "#7201a8"
             ],
             [
              0.3333333333333333,
              "#9c179e"
             ],
             [
              0.4444444444444444,
              "#bd3786"
             ],
             [
              0.5555555555555556,
              "#d8576b"
             ],
             [
              0.6666666666666666,
              "#ed7953"
             ],
             [
              0.7777777777777778,
              "#fb9f3a"
             ],
             [
              0.8888888888888888,
              "#fdca26"
             ],
             [
              1,
              "#f0f921"
             ]
            ],
            "type": "histogram2d"
           }
          ],
          "histogram2dcontour": [
           {
            "colorbar": {
             "outlinewidth": 0,
             "ticks": ""
            },
            "colorscale": [
             [
              0,
              "#0d0887"
             ],
             [
              0.1111111111111111,
              "#46039f"
             ],
             [
              0.2222222222222222,
              "#7201a8"
             ],
             [
              0.3333333333333333,
              "#9c179e"
             ],
             [
              0.4444444444444444,
              "#bd3786"
             ],
             [
              0.5555555555555556,
              "#d8576b"
             ],
             [
              0.6666666666666666,
              "#ed7953"
             ],
             [
              0.7777777777777778,
              "#fb9f3a"
             ],
             [
              0.8888888888888888,
              "#fdca26"
             ],
             [
              1,
              "#f0f921"
             ]
            ],
            "type": "histogram2dcontour"
           }
          ],
          "mesh3d": [
           {
            "colorbar": {
             "outlinewidth": 0,
             "ticks": ""
            },
            "type": "mesh3d"
           }
          ],
          "parcoords": [
           {
            "line": {
             "colorbar": {
              "outlinewidth": 0,
              "ticks": ""
             }
            },
            "type": "parcoords"
           }
          ],
          "pie": [
           {
            "automargin": true,
            "type": "pie"
           }
          ],
          "scatter": [
           {
            "fillpattern": {
             "fillmode": "overlay",
             "size": 10,
             "solidity": 0.2
            },
            "type": "scatter"
           }
          ],
          "scatter3d": [
           {
            "line": {
             "colorbar": {
              "outlinewidth": 0,
              "ticks": ""
             }
            },
            "marker": {
             "colorbar": {
              "outlinewidth": 0,
              "ticks": ""
             }
            },
            "type": "scatter3d"
           }
          ],
          "scattercarpet": [
           {
            "marker": {
             "colorbar": {
              "outlinewidth": 0,
              "ticks": ""
             }
            },
            "type": "scattercarpet"
           }
          ],
          "scattergeo": [
           {
            "marker": {
             "colorbar": {
              "outlinewidth": 0,
              "ticks": ""
             }
            },
            "type": "scattergeo"
           }
          ],
          "scattergl": [
           {
            "marker": {
             "colorbar": {
              "outlinewidth": 0,
              "ticks": ""
             }
            },
            "type": "scattergl"
           }
          ],
          "scattermapbox": [
           {
            "marker": {
             "colorbar": {
              "outlinewidth": 0,
              "ticks": ""
             }
            },
            "type": "scattermapbox"
           }
          ],
          "scatterpolar": [
           {
            "marker": {
             "colorbar": {
              "outlinewidth": 0,
              "ticks": ""
             }
            },
            "type": "scatterpolar"
           }
          ],
          "scatterpolargl": [
           {
            "marker": {
             "colorbar": {
              "outlinewidth": 0,
              "ticks": ""
             }
            },
            "type": "scatterpolargl"
           }
          ],
          "scatterternary": [
           {
            "marker": {
             "colorbar": {
              "outlinewidth": 0,
              "ticks": ""
             }
            },
            "type": "scatterternary"
           }
          ],
          "surface": [
           {
            "colorbar": {
             "outlinewidth": 0,
             "ticks": ""
            },
            "colorscale": [
             [
              0,
              "#0d0887"
             ],
             [
              0.1111111111111111,
              "#46039f"
             ],
             [
              0.2222222222222222,
              "#7201a8"
             ],
             [
              0.3333333333333333,
              "#9c179e"
             ],
             [
              0.4444444444444444,
              "#bd3786"
             ],
             [
              0.5555555555555556,
              "#d8576b"
             ],
             [
              0.6666666666666666,
              "#ed7953"
             ],
             [
              0.7777777777777778,
              "#fb9f3a"
             ],
             [
              0.8888888888888888,
              "#fdca26"
             ],
             [
              1,
              "#f0f921"
             ]
            ],
            "type": "surface"
           }
          ],
          "table": [
           {
            "cells": {
             "fill": {
              "color": "#EBF0F8"
             },
             "line": {
              "color": "white"
             }
            },
            "header": {
             "fill": {
              "color": "#C8D4E3"
             },
             "line": {
              "color": "white"
             }
            },
            "type": "table"
           }
          ]
         },
         "layout": {
          "annotationdefaults": {
           "arrowcolor": "#2a3f5f",
           "arrowhead": 0,
           "arrowwidth": 1
          },
          "autotypenumbers": "strict",
          "coloraxis": {
           "colorbar": {
            "outlinewidth": 0,
            "ticks": ""
           }
          },
          "colorscale": {
           "diverging": [
            [
             0,
             "#8e0152"
            ],
            [
             0.1,
             "#c51b7d"
            ],
            [
             0.2,
             "#de77ae"
            ],
            [
             0.3,
             "#f1b6da"
            ],
            [
             0.4,
             "#fde0ef"
            ],
            [
             0.5,
             "#f7f7f7"
            ],
            [
             0.6,
             "#e6f5d0"
            ],
            [
             0.7,
             "#b8e186"
            ],
            [
             0.8,
             "#7fbc41"
            ],
            [
             0.9,
             "#4d9221"
            ],
            [
             1,
             "#276419"
            ]
           ],
           "sequential": [
            [
             0,
             "#0d0887"
            ],
            [
             0.1111111111111111,
             "#46039f"
            ],
            [
             0.2222222222222222,
             "#7201a8"
            ],
            [
             0.3333333333333333,
             "#9c179e"
            ],
            [
             0.4444444444444444,
             "#bd3786"
            ],
            [
             0.5555555555555556,
             "#d8576b"
            ],
            [
             0.6666666666666666,
             "#ed7953"
            ],
            [
             0.7777777777777778,
             "#fb9f3a"
            ],
            [
             0.8888888888888888,
             "#fdca26"
            ],
            [
             1,
             "#f0f921"
            ]
           ],
           "sequentialminus": [
            [
             0,
             "#0d0887"
            ],
            [
             0.1111111111111111,
             "#46039f"
            ],
            [
             0.2222222222222222,
             "#7201a8"
            ],
            [
             0.3333333333333333,
             "#9c179e"
            ],
            [
             0.4444444444444444,
             "#bd3786"
            ],
            [
             0.5555555555555556,
             "#d8576b"
            ],
            [
             0.6666666666666666,
             "#ed7953"
            ],
            [
             0.7777777777777778,
             "#fb9f3a"
            ],
            [
             0.8888888888888888,
             "#fdca26"
            ],
            [
             1,
             "#f0f921"
            ]
           ]
          },
          "colorway": [
           "#636efa",
           "#EF553B",
           "#00cc96",
           "#ab63fa",
           "#FFA15A",
           "#19d3f3",
           "#FF6692",
           "#B6E880",
           "#FF97FF",
           "#FECB52"
          ],
          "font": {
           "color": "#2a3f5f"
          },
          "geo": {
           "bgcolor": "white",
           "lakecolor": "white",
           "landcolor": "#E5ECF6",
           "showlakes": true,
           "showland": true,
           "subunitcolor": "white"
          },
          "hoverlabel": {
           "align": "left"
          },
          "hovermode": "closest",
          "mapbox": {
           "style": "light"
          },
          "paper_bgcolor": "white",
          "plot_bgcolor": "#E5ECF6",
          "polar": {
           "angularaxis": {
            "gridcolor": "white",
            "linecolor": "white",
            "ticks": ""
           },
           "bgcolor": "#E5ECF6",
           "radialaxis": {
            "gridcolor": "white",
            "linecolor": "white",
            "ticks": ""
           }
          },
          "scene": {
           "xaxis": {
            "backgroundcolor": "#E5ECF6",
            "gridcolor": "white",
            "gridwidth": 2,
            "linecolor": "white",
            "showbackground": true,
            "ticks": "",
            "zerolinecolor": "white"
           },
           "yaxis": {
            "backgroundcolor": "#E5ECF6",
            "gridcolor": "white",
            "gridwidth": 2,
            "linecolor": "white",
            "showbackground": true,
            "ticks": "",
            "zerolinecolor": "white"
           },
           "zaxis": {
            "backgroundcolor": "#E5ECF6",
            "gridcolor": "white",
            "gridwidth": 2,
            "linecolor": "white",
            "showbackground": true,
            "ticks": "",
            "zerolinecolor": "white"
           }
          },
          "shapedefaults": {
           "line": {
            "color": "#2a3f5f"
           }
          },
          "ternary": {
           "aaxis": {
            "gridcolor": "white",
            "linecolor": "white",
            "ticks": ""
           },
           "baxis": {
            "gridcolor": "white",
            "linecolor": "white",
            "ticks": ""
           },
           "bgcolor": "#E5ECF6",
           "caxis": {
            "gridcolor": "white",
            "linecolor": "white",
            "ticks": ""
           }
          },
          "title": {
           "x": 0.05
          },
          "xaxis": {
           "automargin": true,
           "gridcolor": "white",
           "linecolor": "white",
           "ticks": "",
           "title": {
            "standoff": 15
           },
           "zerolinecolor": "white",
           "zerolinewidth": 2
          },
          "yaxis": {
           "automargin": true,
           "gridcolor": "white",
           "linecolor": "white",
           "ticks": "",
           "title": {
            "standoff": 15
           },
           "zerolinecolor": "white",
           "zerolinewidth": 2
          }
         }
        },
        "title": {
         "text": "Release Date"
        },
        "xaxis": {
         "anchor": "y",
         "domain": [
          0,
          1
         ],
         "title": {
          "text": "Release Date"
         }
        },
        "yaxis": {
         "anchor": "x",
         "domain": [
          0,
          1
         ],
         "title": {
          "text": "count"
         }
        }
       }
      }
     },
     "metadata": {},
     "output_type": "display_data"
    }
   ],
   "source": [
    "fig =  px.histogram(\n",
    "    data_frame=df,\n",
    "    x='release_date',\n",
    "    nbins=150,\n",
    "    labels = {\"release_date\": \"Release Date\"},\n",
    "    # marginal=\"box\",\n",
    "    title = \"Release Date\",\n",
    ").update_traces(marker=dict(color='pink'))\n",
    "\n",
    "fig.data[0].marker.line.width = 2\n",
    "fig.data[0].marker.line.color = \"black\"\n",
    "\n",
    "\n",
    "fig.show()"
   ]
  },
  {
   "cell_type": "code",
   "execution_count": 15,
   "metadata": {},
   "outputs": [
    {
     "data": {
      "image/png": "[encoded data removed]",
      "text/plain": [
       "<Figure size 1080x504 with 1 Axes>"
      ]
     },
     "metadata": {
      "needs_background": "light"
     },
     "output_type": "display_data"
    }
   ],
   "source": [
    "# df['genre'].value_counts().head(10).plot(kind='barh',color='pink')\n",
    "plt.figure(figsize=(15,7))\n",
    "sns.countplot(y=df['genre'], data=df, order=df.genre.value_counts().index, palette='magma')\n",
    "plt.xticks(rotation=60);"
   ]
  },
  {
   "cell_type": "markdown",
   "metadata": {},
   "source": [
    "_________\n",
    "Most Profitable Movies\n",
    "_______\n"
   ]
  },
  {
   "cell_type": "code",
   "execution_count": 16,
   "metadata": {},
   "outputs": [
    {
     "data": {
      "text/html": [
       "<div>\n",
       "<style scoped>\n",
       "    .dataframe tbody tr th:only-of-type {\n",
       "        vertical-align: middle;\n",
       "    }\n",
       "\n",
       "    .dataframe tbody tr th {\n",
       "        vertical-align: top;\n",
       "    }\n",
       "\n",
       "    .dataframe thead th {\n",
       "        text-align: right;\n",
       "    }\n",
       "</style>\n",
       "<table border=\"1\" class=\"dataframe\">\n",
       "  <thead>\n",
       "    <tr style=\"text-align: right;\">\n",
       "      <th></th>\n",
       "      <th>index</th>\n",
       "      <th>movie_title</th>\n",
       "      <th>release_date</th>\n",
       "      <th>genre</th>\n",
       "      <th>mpaa_rating</th>\n",
       "      <th>total_gross</th>\n",
       "      <th>inflation_adjusted_gross</th>\n",
       "    </tr>\n",
       "  </thead>\n",
       "  <tbody>\n",
       "    <tr>\n",
       "      <th>0</th>\n",
       "      <td>0</td>\n",
       "      <td>Snow White and the Seven Dwarfs</td>\n",
       "      <td>1937-12-21</td>\n",
       "      <td>Musical</td>\n",
       "      <td>G</td>\n",
       "      <td>184925485</td>\n",
       "      <td>5228953251</td>\n",
       "    </tr>\n",
       "    <tr>\n",
       "      <th>1</th>\n",
       "      <td>1</td>\n",
       "      <td>Pinocchio</td>\n",
       "      <td>1940-02-09</td>\n",
       "      <td>Adventure</td>\n",
       "      <td>G</td>\n",
       "      <td>84300000</td>\n",
       "      <td>2188229052</td>\n",
       "    </tr>\n",
       "    <tr>\n",
       "      <th>2</th>\n",
       "      <td>2</td>\n",
       "      <td>Fantasia</td>\n",
       "      <td>1940-11-13</td>\n",
       "      <td>Musical</td>\n",
       "      <td>G</td>\n",
       "      <td>83320000</td>\n",
       "      <td>2187090808</td>\n",
       "    </tr>\n",
       "    <tr>\n",
       "      <th>3</th>\n",
       "      <td>8</td>\n",
       "      <td>101 Dalmatians</td>\n",
       "      <td>1961-01-25</td>\n",
       "      <td>Comedy</td>\n",
       "      <td>G</td>\n",
       "      <td>153000000</td>\n",
       "      <td>1362870985</td>\n",
       "    </tr>\n",
       "    <tr>\n",
       "      <th>4</th>\n",
       "      <td>6</td>\n",
       "      <td>Lady and the Tramp</td>\n",
       "      <td>1955-06-22</td>\n",
       "      <td>Drama</td>\n",
       "      <td>G</td>\n",
       "      <td>93600000</td>\n",
       "      <td>1236035515</td>\n",
       "    </tr>\n",
       "    <tr>\n",
       "      <th>5</th>\n",
       "      <td>3</td>\n",
       "      <td>Song of the South</td>\n",
       "      <td>1946-11-12</td>\n",
       "      <td>Adventure</td>\n",
       "      <td>G</td>\n",
       "      <td>65000000</td>\n",
       "      <td>1078510579</td>\n",
       "    </tr>\n",
       "    <tr>\n",
       "      <th>6</th>\n",
       "      <td>564</td>\n",
       "      <td>Star Wars Ep. VII: The Force Awakens</td>\n",
       "      <td>2015-12-18</td>\n",
       "      <td>Adventure</td>\n",
       "      <td>PG-13</td>\n",
       "      <td>936662225</td>\n",
       "      <td>936662225</td>\n",
       "    </tr>\n",
       "    <tr>\n",
       "      <th>7</th>\n",
       "      <td>4</td>\n",
       "      <td>Cinderella</td>\n",
       "      <td>1950-02-15</td>\n",
       "      <td>Drama</td>\n",
       "      <td>G</td>\n",
       "      <td>85000000</td>\n",
       "      <td>920608730</td>\n",
       "    </tr>\n",
       "    <tr>\n",
       "      <th>8</th>\n",
       "      <td>13</td>\n",
       "      <td>The Jungle Book</td>\n",
       "      <td>1967-10-18</td>\n",
       "      <td>Musical</td>\n",
       "      <td>Not Rated</td>\n",
       "      <td>141843000</td>\n",
       "      <td>789612346</td>\n",
       "    </tr>\n",
       "    <tr>\n",
       "      <th>9</th>\n",
       "      <td>179</td>\n",
       "      <td>The Lion King</td>\n",
       "      <td>1994-06-15</td>\n",
       "      <td>Adventure</td>\n",
       "      <td>G</td>\n",
       "      <td>422780140</td>\n",
       "      <td>761640898</td>\n",
       "    </tr>\n",
       "    <tr>\n",
       "      <th>10</th>\n",
       "      <td>524</td>\n",
       "      <td>The Avengers</td>\n",
       "      <td>2012-05-04</td>\n",
       "      <td>Action</td>\n",
       "      <td>PG-13</td>\n",
       "      <td>623279547</td>\n",
       "      <td>660081224</td>\n",
       "    </tr>\n",
       "  </tbody>\n",
       "</table>\n",
       "</div>"
      ],
      "text/plain": [
       "    index                           movie_title release_date      genre  \\\n",
       "0       0       Snow White and the Seven Dwarfs   1937-12-21    Musical   \n",
       "1       1                             Pinocchio   1940-02-09  Adventure   \n",
       "2       2                              Fantasia   1940-11-13    Musical   \n",
       "3       8                        101 Dalmatians   1961-01-25     Comedy   \n",
       "4       6                    Lady and the Tramp   1955-06-22      Drama   \n",
       "5       3                     Song of the South   1946-11-12  Adventure   \n",
       "6     564  Star Wars Ep. VII: The Force Awakens   2015-12-18  Adventure   \n",
       "7       4                            Cinderella   1950-02-15      Drama   \n",
       "8      13                       The Jungle Book   1967-10-18    Musical   \n",
       "9     179                         The Lion King   1994-06-15  Adventure   \n",
       "10    524                          The Avengers   2012-05-04     Action   \n",
       "\n",
       "   mpaa_rating  total_gross  inflation_adjusted_gross  \n",
       "0            G    184925485                5228953251  \n",
       "1            G     84300000                2188229052  \n",
       "2            G     83320000                2187090808  \n",
       "3            G    153000000                1362870985  \n",
       "4            G     93600000                1236035515  \n",
       "5            G     65000000                1078510579  \n",
       "6        PG-13    936662225                 936662225  \n",
       "7            G     85000000                 920608730  \n",
       "8    Not Rated    141843000                 789612346  \n",
       "9            G    422780140                 761640898  \n",
       "10       PG-13    623279547                 660081224  "
      ]
     },
     "execution_count": 16,
     "metadata": {},
     "output_type": "execute_result"
    }
   ],
   "source": [
    "df_1 = df.loc[df[\"inflation_adjusted_gross\"]>= 650000000]\n",
    "\n",
    "df_1.sort_values([\"inflation_adjusted_gross\"], ascending = False).reset_index()\n"
   ]
  },
  {
   "cell_type": "code",
   "execution_count": 17,
   "metadata": {},
   "outputs": [],
   "source": [
    "largest_gross = e('''\n",
    "                  \n",
    "                         SELECT inflation_adjusted_gross, movie_title\n",
    "                         FROM disney\n",
    "                         ORDER BY inflation_adjusted_gross DESC\n",
    "                         LIMIT 10\n",
    "                         \n",
    "                         ''', conn)"
   ]
  },
  {
   "cell_type": "code",
   "execution_count": 18,
   "metadata": {},
   "outputs": [
    {
     "data": {
      "image/png": "[encoded data removed]",
      "text/plain": [
       "<Figure size 1080x504 with 1 Axes>"
      ]
     },
     "metadata": {
      "needs_background": "light"
     },
     "output_type": "display_data"
    }
   ],
   "source": [
    "plt.figure(figsize=(15,7))\n",
    "chart =sns.barplot(x='movie_title', y='inflation_adjusted_gross', data=largest_gross, palette='magma')\n",
    "plt.xlabel('Movie Title')\n",
    "plt.ylabel('Total Gross [$]')\n",
    "plt.xticks(rotation=60)\n",
    "plt.show()"
   ]
  },
  {
   "cell_type": "markdown",
   "metadata": {},
   "source": [
    "_________\n",
    "Most Profitable Genres\n",
    "__________"
   ]
  },
  {
   "cell_type": "code",
   "execution_count": 19,
   "metadata": {},
   "outputs": [
    {
     "data": {
      "image/png": "[encoded data removed]",
      "text/plain": [
       "<Figure size 1080x504 with 1 Axes>"
      ]
     },
     "metadata": {
      "needs_background": "light"
     },
     "output_type": "display_data"
    }
   ],
   "source": [
    "data = pd.DataFrame(df.groupby('genre')['inflation_adjusted_gross'].sum().sort_values(ascending=False))\n",
    "\n",
    "plt.figure(figsize=(15,7))\n",
    "sns.barplot(x=data.index, y= data['inflation_adjusted_gross'], palette='magma')\n",
    "plt.xticks(rotation=80);\n",
    "\n",
    "\n",
    "# df.groupby('genre')['inflation_adjusted_gross'].sum().sort_values(ascending=False).plot(kind='bar')"
   ]
  },
  {
   "cell_type": "code",
   "execution_count": 20,
   "metadata": {},
   "outputs": [
    {
     "data": {
      "text/html": [
       "<div>\n",
       "<style scoped>\n",
       "    .dataframe tbody tr th:only-of-type {\n",
       "        vertical-align: middle;\n",
       "    }\n",
       "\n",
       "    .dataframe tbody tr th {\n",
       "        vertical-align: top;\n",
       "    }\n",
       "\n",
       "    .dataframe thead th {\n",
       "        text-align: right;\n",
       "    }\n",
       "</style>\n",
       "<table border=\"1\" class=\"dataframe\">\n",
       "  <thead>\n",
       "    <tr style=\"text-align: right;\">\n",
       "      <th>genre</th>\n",
       "      <th>Action</th>\n",
       "      <th>Adventure</th>\n",
       "      <th>Black Comedy</th>\n",
       "      <th>Comedy</th>\n",
       "      <th>Concert/Performance</th>\n",
       "      <th>Documentary</th>\n",
       "      <th>Drama</th>\n",
       "      <th>Horror</th>\n",
       "      <th>Musical</th>\n",
       "      <th>Romantic Comedy</th>\n",
       "      <th>Thriller/Suspense</th>\n",
       "      <th>Western</th>\n",
       "    </tr>\n",
       "    <tr>\n",
       "      <th>position</th>\n",
       "      <th></th>\n",
       "      <th></th>\n",
       "      <th></th>\n",
       "      <th></th>\n",
       "      <th></th>\n",
       "      <th></th>\n",
       "      <th></th>\n",
       "      <th></th>\n",
       "      <th></th>\n",
       "      <th></th>\n",
       "      <th></th>\n",
       "      <th></th>\n",
       "    </tr>\n",
       "  </thead>\n",
       "  <tbody>\n",
       "    <tr>\n",
       "      <th>1</th>\n",
       "      <td>660,081,224.00</td>\n",
       "      <td>2,188,229,052.00</td>\n",
       "      <td>76,758,193.00</td>\n",
       "      <td>1,362,870,985.00</td>\n",
       "      <td>76,646,993.00</td>\n",
       "      <td>35,981,010.00</td>\n",
       "      <td>1,236,035,515.00</td>\n",
       "      <td>48,546,161.00</td>\n",
       "      <td>5,228,953,251.00</td>\n",
       "      <td>356,389,765.00</td>\n",
       "      <td>485,424,724.00</td>\n",
       "      <td>115,781,734.00</td>\n",
       "    </tr>\n",
       "    <tr>\n",
       "      <th>2</th>\n",
       "      <td>459,005,868.00</td>\n",
       "      <td>1,078,510,579.00</td>\n",
       "      <td>51,579,764.00</td>\n",
       "      <td>441,969,178.00</td>\n",
       "      <td>38,174,685.00</td>\n",
       "      <td>30,675,725.00</td>\n",
       "      <td>920,608,730.00</td>\n",
       "      <td>29,712,825.00</td>\n",
       "      <td>2,187,090,808.00</td>\n",
       "      <td>184,288,829.00</td>\n",
       "      <td>330,754,439.00</td>\n",
       "      <td>92,597,388.00</td>\n",
       "    </tr>\n",
       "    <tr>\n",
       "      <th>3</th>\n",
       "      <td>424,084,233.00</td>\n",
       "      <td>936,662,225.00</td>\n",
       "      <td>28,392,518.00</td>\n",
       "      <td>353,334,607.00</td>\n",
       "      <td>-</td>\n",
       "      <td>23,803,108.00</td>\n",
       "      <td>202,531,517.00</td>\n",
       "      <td>19,452,402.00</td>\n",
       "      <td>789,612,346.00</td>\n",
       "      <td>157,082,900.00</td>\n",
       "      <td>178,831,137.00</td>\n",
       "      <td>91,340,921.00</td>\n",
       "    </tr>\n",
       "  </tbody>\n",
       "</table>\n",
       "</div>"
      ],
      "text/plain": [
       "genre            Action        Adventure  Black Comedy           Comedy  \\\n",
       "position                                                                  \n",
       "1        660,081,224.00 2,188,229,052.00 76,758,193.00 1,362,870,985.00   \n",
       "2        459,005,868.00 1,078,510,579.00 51,579,764.00   441,969,178.00   \n",
       "3        424,084,233.00   936,662,225.00 28,392,518.00   353,334,607.00   \n",
       "\n",
       "genre    Concert/Performance   Documentary            Drama        Horror  \\\n",
       "position                                                                    \n",
       "1              76,646,993.00 35,981,010.00 1,236,035,515.00 48,546,161.00   \n",
       "2              38,174,685.00 30,675,725.00   920,608,730.00 29,712,825.00   \n",
       "3                          - 23,803,108.00   202,531,517.00 19,452,402.00   \n",
       "\n",
       "genre             Musical  Romantic Comedy  Thriller/Suspense        Western  \n",
       "position                                                                      \n",
       "1        5,228,953,251.00   356,389,765.00     485,424,724.00 115,781,734.00  \n",
       "2        2,187,090,808.00   184,288,829.00     330,754,439.00  92,597,388.00  \n",
       "3          789,612,346.00   157,082,900.00     178,831,137.00  91,340,921.00  "
      ]
     },
     "execution_count": 20,
     "metadata": {},
     "output_type": "execute_result"
    }
   ],
   "source": [
    "data_rank = e('''\n",
    "                        SELECT * FROM(\n",
    "                            SELECT  genre, \n",
    "                            movie_title, \n",
    "                            inflation_adjusted_gross,\n",
    "                            ROW_NUMBER() OVER (PARTITION BY genre ORDER BY inflation_adjusted_gross DESC) AS position\n",
    "                            FROM disney) ranks\n",
    "                        WHERE position <=3\n",
    "                            ''', conn)\n",
    "\n",
    "data_rank = data_rank.pivot_table(columns = 'genre',index = 'position',values = 'inflation_adjusted_gross', fill_value=\"-\")\n",
    "\n",
    "pd.options.display.float_format = '{:,.2f}'.format\n",
    "data_rank"
   ]
  },
  {
   "cell_type": "markdown",
   "metadata": {},
   "source": [
    "_________\n",
    "Most Profitable by Rating\n",
    "____"
   ]
  },
  {
   "cell_type": "code",
   "execution_count": 43,
   "metadata": {},
   "outputs": [],
   "source": [
    "largest_rating = e('''\n",
    "                  \n",
    "                         SELECT mpaa_rating,\n",
    "                            SUM(inflation_adjusted_gross) as totalgross\n",
    "                         FROM disney\n",
    "                         GROUP BY 1\n",
    "                         ORDER BY totalgross DESC\n",
    "                         \n",
    "                         ''', conn)"
   ]
  },
  {
   "cell_type": "code",
   "execution_count": 44,
   "metadata": {},
   "outputs": [
    {
     "data": {
      "text/html": [
       "<div>\n",
       "<style scoped>\n",
       "    .dataframe tbody tr th:only-of-type {\n",
       "        vertical-align: middle;\n",
       "    }\n",
       "\n",
       "    .dataframe tbody tr th {\n",
       "        vertical-align: top;\n",
       "    }\n",
       "\n",
       "    .dataframe thead th {\n",
       "        text-align: right;\n",
       "    }\n",
       "</style>\n",
       "<table border=\"1\" class=\"dataframe\">\n",
       "  <thead>\n",
       "    <tr style=\"text-align: right;\">\n",
       "      <th></th>\n",
       "      <th>mpaa_rating</th>\n",
       "      <th>totalgross</th>\n",
       "    </tr>\n",
       "  </thead>\n",
       "  <tbody>\n",
       "    <tr>\n",
       "      <th>0</th>\n",
       "      <td>G</td>\n",
       "      <td>25048445571</td>\n",
       "    </tr>\n",
       "    <tr>\n",
       "      <th>1</th>\n",
       "      <td>PG</td>\n",
       "      <td>18988248082</td>\n",
       "    </tr>\n",
       "    <tr>\n",
       "      <th>2</th>\n",
       "      <td>PG-13</td>\n",
       "      <td>14927544680</td>\n",
       "    </tr>\n",
       "    <tr>\n",
       "      <th>3</th>\n",
       "      <td>R</td>\n",
       "      <td>5641192166</td>\n",
       "    </tr>\n",
       "    <tr>\n",
       "      <th>4</th>\n",
       "      <td>Not Rated</td>\n",
       "      <td>4158070498</td>\n",
       "    </tr>\n",
       "  </tbody>\n",
       "</table>\n",
       "</div>"
      ],
      "text/plain": [
       "  mpaa_rating   totalgross\n",
       "0           G  25048445571\n",
       "1          PG  18988248082\n",
       "2       PG-13  14927544680\n",
       "3           R   5641192166\n",
       "4   Not Rated   4158070498"
      ]
     },
     "execution_count": 44,
     "metadata": {},
     "output_type": "execute_result"
    }
   ],
   "source": [
    "largest_rating"
   ]
  },
  {
   "cell_type": "code",
   "execution_count": 48,
   "metadata": {},
   "outputs": [
    {
     "data": {
      "image/png": "[encoded data removed]",
      "text/plain": [
       "<Figure size 1080x504 with 1 Axes>"
      ]
     },
     "metadata": {
      "needs_background": "light"
     },
     "output_type": "display_data"
    }
   ],
   "source": [
    "plt.figure(figsize=(15,7))\n",
    "chart =sns.barplot(x='mpaa_rating', y='totalgross', data=largest_rating, palette='magma')\n",
    "plt.xlabel('Mpaa Rating')\n",
    "plt.ylabel('Total Gross [$]')\n",
    "plt.xticks(rotation=60)\n",
    "plt.show()"
   ]
  }
 ],
 "metadata": {
  "kernelspec": {
   "display_name": "Python 3.8.13 ('python3.8')",
   "language": "python",
   "name": "python3"
  },
  "language_info": {
   "codemirror_mode": {
    "name": "ipython",
    "version": 3
   },
   "file_extension": ".py",
   "mimetype": "text/x-python",
   "name": "python",
   "nbconvert_exporter": "python",
   "pygments_lexer": "ipython3",
   "version": "3.8.13"
  },
  "orig_nbformat": 4,
  "vscode": {
   "interpreter": {
    "hash": "f5df8bf237c44c6c1cce32517e1fc0f6413855a14e63ee11049ba72c8abc8688"
   }
  }
 },
 "nbformat": 4,
 "nbformat_minor": 2
}
