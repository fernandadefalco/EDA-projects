{
 "cells": [
  {
   "cell_type": "markdown",
   "metadata": {},
   "source": [
    "https://www.kaggle.com/datasets/ruchi798/data-science-job-salaries"
   ]
  },
  {
   "cell_type": "markdown",
   "metadata": {},
   "source": [
    "### Importing libraries"
   ]
  },
  {
   "cell_type": "code",
   "execution_count": 4,
   "metadata": {},
   "outputs": [],
   "source": [
    "import pandas as pd\n",
    "from matplotlib import pyplot as plt\n",
    "import numpy as np\n",
    "import plotly.express as px\n",
    "from iso3166 import countries\n",
    "%matplotlib inline \n",
    "%matplotlib notebook\n"
   ]
  },
  {
   "cell_type": "markdown",
   "metadata": {},
   "source": [
    "### Loading data"
   ]
  },
  {
   "cell_type": "code",
   "execution_count": 5,
   "metadata": {},
   "outputs": [],
   "source": [
    "df = pd.read_csv(r\"C:\\Users\\Fernanda\\Documents\\Top Coders\\datascience-projects\\data_science_job_salaries\\ds_salaries.csv\")"
   ]
  },
  {
   "cell_type": "code",
   "execution_count": 6,
   "metadata": {},
   "outputs": [],
   "source": [
    "#Dropping some columns, it will be considered only the salary in USD\n",
    "cols = [0,5,6]\n",
    "df.drop(df.columns[cols],axis = 1,inplace = True)"
   ]
  },
  {
   "cell_type": "code",
   "execution_count": 7,
   "metadata": {},
   "outputs": [
    {
     "data": {
      "text/html": [
       "<div>\n",
       "<style scoped>\n",
       "    .dataframe tbody tr th:only-of-type {\n",
       "        vertical-align: middle;\n",
       "    }\n",
       "\n",
       "    .dataframe tbody tr th {\n",
       "        vertical-align: top;\n",
       "    }\n",
       "\n",
       "    .dataframe thead th {\n",
       "        text-align: right;\n",
       "    }\n",
       "</style>\n",
       "<table border=\"1\" class=\"dataframe\">\n",
       "  <thead>\n",
       "    <tr style=\"text-align: right;\">\n",
       "      <th></th>\n",
       "      <th>work_year</th>\n",
       "      <th>experience_level</th>\n",
       "      <th>employment_type</th>\n",
       "      <th>job_title</th>\n",
       "      <th>salary_in_usd</th>\n",
       "      <th>employee_residence</th>\n",
       "      <th>remote_ratio</th>\n",
       "      <th>company_location</th>\n",
       "      <th>company_size</th>\n",
       "    </tr>\n",
       "  </thead>\n",
       "  <tbody>\n",
       "    <tr>\n",
       "      <th>0</th>\n",
       "      <td>2020</td>\n",
       "      <td>MI</td>\n",
       "      <td>FT</td>\n",
       "      <td>Data Scientist</td>\n",
       "      <td>79833</td>\n",
       "      <td>DE</td>\n",
       "      <td>0</td>\n",
       "      <td>DE</td>\n",
       "      <td>L</td>\n",
       "    </tr>\n",
       "    <tr>\n",
       "      <th>1</th>\n",
       "      <td>2020</td>\n",
       "      <td>SE</td>\n",
       "      <td>FT</td>\n",
       "      <td>Machine Learning Scientist</td>\n",
       "      <td>260000</td>\n",
       "      <td>JP</td>\n",
       "      <td>0</td>\n",
       "      <td>JP</td>\n",
       "      <td>S</td>\n",
       "    </tr>\n",
       "    <tr>\n",
       "      <th>2</th>\n",
       "      <td>2020</td>\n",
       "      <td>SE</td>\n",
       "      <td>FT</td>\n",
       "      <td>Big Data Engineer</td>\n",
       "      <td>109024</td>\n",
       "      <td>GB</td>\n",
       "      <td>50</td>\n",
       "      <td>GB</td>\n",
       "      <td>M</td>\n",
       "    </tr>\n",
       "  </tbody>\n",
       "</table>\n",
       "</div>"
      ],
      "text/plain": [
       "   work_year experience_level employment_type                   job_title  \\\n",
       "0       2020               MI              FT              Data Scientist   \n",
       "1       2020               SE              FT  Machine Learning Scientist   \n",
       "2       2020               SE              FT           Big Data Engineer   \n",
       "\n",
       "   salary_in_usd employee_residence  remote_ratio company_location  \\\n",
       "0          79833                 DE             0               DE   \n",
       "1         260000                 JP             0               JP   \n",
       "2         109024                 GB            50               GB   \n",
       "\n",
       "  company_size  \n",
       "0            L  \n",
       "1            S  \n",
       "2            M  "
      ]
     },
     "execution_count": 7,
     "metadata": {},
     "output_type": "execute_result"
    }
   ],
   "source": [
    "df.head(3)"
   ]
  },
  {
   "cell_type": "code",
   "execution_count": 8,
   "metadata": {},
   "outputs": [],
   "source": [
    "#Replacing some of the values to understand the graphs clearly\n",
    "df.remote_ratio.replace([100,50,0], ['Remote', 'Hybrid' ,'On-site'],inplace = True)\n",
    "df.experience_level.replace(['EN','MI','SE', 'EX'], ['Entry', 'Mid', 'Senior', 'Executive'], inplace = True)\n",
    "df.employment_type.replace(['PT','FT','CT','FL'], ['Part-time','Full-time','Contract','Freelance'], inplace = True)"
   ]
  },
  {
   "cell_type": "code",
   "execution_count": 9,
   "metadata": {},
   "outputs": [
    {
     "data": {
      "text/plain": [
       "(607, 9)"
      ]
     },
     "execution_count": 9,
     "metadata": {},
     "output_type": "execute_result"
    }
   ],
   "source": [
    "df.shape"
   ]
  },
  {
   "cell_type": "code",
   "execution_count": 10,
   "metadata": {},
   "outputs": [
    {
     "data": {
      "text/plain": [
       "work_year              int64\n",
       "experience_level      object\n",
       "employment_type       object\n",
       "job_title             object\n",
       "salary_in_usd          int64\n",
       "employee_residence    object\n",
       "remote_ratio          object\n",
       "company_location      object\n",
       "company_size          object\n",
       "dtype: object"
      ]
     },
     "execution_count": 10,
     "metadata": {},
     "output_type": "execute_result"
    }
   ],
   "source": [
    "df.dtypes"
   ]
  },
  {
   "cell_type": "code",
   "execution_count": 11,
   "metadata": {},
   "outputs": [
    {
     "data": {
      "text/plain": [
       "work_year             0\n",
       "experience_level      0\n",
       "employment_type       0\n",
       "job_title             0\n",
       "salary_in_usd         0\n",
       "employee_residence    0\n",
       "remote_ratio          0\n",
       "company_location      0\n",
       "company_size          0\n",
       "dtype: int64"
      ]
     },
     "execution_count": 11,
     "metadata": {},
     "output_type": "execute_result"
    }
   ],
   "source": [
    "df.isnull().sum()"
   ]
  },
  {
   "cell_type": "code",
   "execution_count": 12,
   "metadata": {},
   "outputs": [
    {
     "data": {
      "text/plain": [
       "work_year               3\n",
       "experience_level        4\n",
       "employment_type         4\n",
       "job_title              50\n",
       "salary_in_usd         369\n",
       "employee_residence     57\n",
       "remote_ratio            3\n",
       "company_location       50\n",
       "company_size            3\n",
       "dtype: int64"
      ]
     },
     "execution_count": 12,
     "metadata": {},
     "output_type": "execute_result"
    }
   ],
   "source": [
    "df.nunique()"
   ]
  },
  {
   "cell_type": "code",
   "execution_count": 13,
   "metadata": {},
   "outputs": [
    {
     "data": {
      "text/plain": [
       "count       607.00\n",
       "mean     112297.87\n",
       "std       70957.26\n",
       "min        2859.00\n",
       "25%       62726.00\n",
       "50%      101570.00\n",
       "75%      150000.00\n",
       "max      600000.00\n",
       "Name: salary_in_usd, dtype: float64"
      ]
     },
     "execution_count": 13,
     "metadata": {},
     "output_type": "execute_result"
    }
   ],
   "source": [
    "df[\"salary_in_usd\"].describe().round(2)"
   ]
  },
  {
   "cell_type": "code",
   "execution_count": 14,
   "metadata": {},
   "outputs": [],
   "source": [
    "# x = (list(df['work_year'].unique()))\n",
    "# y = df.groupby(by =\"company_size\").size()\n",
    "# plt.bar(x,y,color = 'lightblue')\n",
    "# plt.ylabel(\"Company Size\")\n",
    "# plt.xlabel(\"Year\")\n",
    "\n",
    "# plt.xticks(np.arange(min(x), max(x)+1, 1.0))\n",
    "# plt.show()\n",
    "# print(y)"
   ]
  },
  {
   "cell_type": "markdown",
   "metadata": {},
   "source": [
    "### Data Analysis"
   ]
  },
  {
   "cell_type": "markdown",
   "metadata": {},
   "source": [
    "______________\n",
    "Salary Distribution\n",
    "______________"
   ]
  },
  {
   "cell_type": "code",
   "execution_count": 15,
   "metadata": {},
   "outputs": [
    {
     "data": {
      "application/vnd.plotly.v1+json": {
       "config": {
        "plotlyServerURL": "https://plot.ly"
       },
       "data": [
        {
         "alignmentgroup": "True",
         "bingroup": "x",
         "hovertemplate": "Salary in USD=%{x}<br>count=%{y}<extra></extra>",
         "legendgroup": "",
         "marker": {
          "color": "turquoise",
          "line": {
           "color": "black",
           "width": 2
          },
          "pattern": {
           "shape": ""
          }
         },
         "name": "",
         "nbinsx": 60,
         "offsetgroup": "",
         "orientation": "v",
         "showlegend": false,
         "type": "histogram",
         "x": [
          79833,
          260000,
          109024,
          20000,
          150000,
          72000,
          190000,
          35735,
          135000,
          125000,
          51321,
          40481,
          39916,
          87000,
          85000,
          8000,
          41689,
          114047,
          5707,
          56000,
          43331,
          6072,
          47899,
          98000,
          115000,
          325000,
          42000,
          33511,
          100000,
          117104,
          59303,
          70000,
          68428,
          450000,
          46759,
          74130,
          103000,
          250000,
          10000,
          138000,
          45760,
          79833,
          50180,
          106000,
          112872,
          15966,
          76958,
          188000,
          105000,
          70139,
          6072,
          91000,
          45896,
          54742,
          60000,
          148261,
          38776,
          118000,
          120000,
          138350,
          110000,
          130800,
          21669,
          412000,
          45618,
          62726,
          49268,
          190200,
          105000,
          91237,
          62726,
          42197,
          82528,
          150000,
          235000,
          53192,
          100000,
          5409,
          270000,
          80000,
          79197,
          140000,
          54238,
          47282,
          153667,
          28476,
          59102,
          110000,
          170000,
          80000,
          88654,
          76833,
          19609,
          276000,
          29751,
          89294,
          12000,
          450000,
          70000,
          95746,
          75000,
          150000,
          36259,
          62000,
          73000,
          51519,
          187442,
          115000,
          150000,
          30428,
          94564,
          113476,
          103160,
          12000,
          45391,
          225000,
          50000,
          40189,
          90000,
          200000,
          60000,
          200000,
          50000,
          110037,
          10354,
          151000,
          120000,
          9466,
          20000,
          40570,
          100000,
          49646,
          38400,
          24000,
          100000,
          90000,
          63711,
          77364,
          220000,
          80000,
          135000,
          240000,
          150000,
          82500,
          100000,
          82744,
          62649,
          90000,
          153000,
          160000,
          168000,
          150000,
          75774,
          13400,
          144000,
          127221,
          119059,
          423000,
          120000,
          125000,
          230000,
          85000,
          28369,
          63831,
          130026,
          165000,
          80000,
          250000,
          55000,
          150000,
          170000,
          82528,
          60000,
          235000,
          60757,
          174000,
          2859,
          40038,
          81000,
          5679,
          22611,
          90734,
          26005,
          61896,
          12000,
          4000,
          50000,
          69741,
          76833,
          74000,
          152000,
          21844,
          18000,
          174000,
          96113,
          147000,
          9272,
          24342,
          54094,
          90000,
          61467,
          195000,
          37825,
          50000,
          160000,
          12901,
          200000,
          165000,
          20000,
          120000,
          24823,
          56738,
          66022,
          5882,
          24823,
          185000,
          28609,
          90734,
          88654,
          140000,
          46597,
          116914,
          33808,
          56256,
          225000,
          416000,
          87738,
          88654,
          135000,
          71786,
          16228,
          256000,
          200000,
          200000,
          180000,
          110000,
          63810,
          46809,
          4000,
          21637,
          103691,
          80000,
          110000,
          165000,
          18053,
          72212,
          36643,
          12103,
          96282,
          170000,
          115000,
          90000,
          600000,
          28399,
          93000,
          99703,
          200000,
          173762,
          185000,
          141846,
          130000,
          63831,
          16904,
          66265,
          25532,
          160000,
          93150,
          111775,
          28016,
          65013,
          72500,
          18907,
          76833,
          85000,
          77684,
          100000,
          58000,
          55000,
          20171,
          59102,
          112000,
          100000,
          69741,
          105000,
          69999,
          94665,
          102839,
          109000,
          51064,
          135000,
          155000,
          120600,
          130000,
          90000,
          170000,
          150000,
          102100,
          84900,
          136620,
          99360,
          117789,
          104702,
          146000,
          123000,
          52351,
          99000,
          116000,
          106260,
          126500,
          242000,
          200000,
          65438,
          39263,
          78526,
          52351,
          165220,
          45807,
          120160,
          90320,
          181940,
          132320,
          220110,
          160080,
          180000,
          120000,
          124190,
          130000,
          110000,
          170000,
          115500,
          112900,
          90320,
          112900,
          90320,
          165400,
          132320,
          167000,
          243900,
          136600,
          109280,
          128875,
          93700,
          224000,
          167875,
          175000,
          156600,
          108800,
          95550,
          113000,
          135000,
          161342,
          137141,
          167000,
          123000,
          78526,
          65438,
          150000,
          211500,
          192400,
          90700,
          130000,
          61300,
          130000,
          61300,
          160000,
          138600,
          136000,
          58000,
          135000,
          170000,
          123000,
          189650,
          164996,
          54957,
          54957,
          118187,
          132000,
          165400,
          208775,
          147800,
          136994,
          101570,
          128875,
          93700,
          79039,
          132320,
          37300,
          164000,
          155000,
          124333,
          98158,
          120000,
          112900,
          90320,
          145000,
          105400,
          87932,
          117789,
          215300,
          158200,
          209100,
          154600,
          115934,
          81666,
          175000,
          98158,
          58000,
          183600,
          52351,
          180000,
          71982,
          45807,
          65949,
          49461,
          78526,
          58894,
          260000,
          60000,
          63900,
          160000,
          112300,
          241000,
          159000,
          180000,
          80000,
          82900,
          100800,
          49461,
          140400,
          39263,
          43966,
          32974,
          87932,
          76940,
          104702,
          91614,
          65949,
          87932,
          189650,
          164996,
          43966,
          32974,
          98158,
          78526,
          215300,
          76940,
          209100,
          154600,
          180000,
          21983,
          80000,
          78791,
          196979,
          120000,
          125000,
          37236,
          105000,
          87932,
          18442,
          31615,
          58255,
          100000,
          54957,
          18442,
          162674,
          120000,
          144000,
          104890,
          100000,
          140000,
          135000,
          50000,
          220000,
          140000,
          183228,
          91614,
          185100,
          220000,
          200000,
          120000,
          120000,
          65000,
          324000,
          216000,
          210000,
          120000,
          230000,
          100000,
          100000,
          31875,
          200000,
          75000,
          35590,
          78791,
          100000,
          153000,
          58035,
          165000,
          93427,
          52396,
          62651,
          32974,
          40000,
          87425,
          115000,
          86703,
          75000,
          64849,
          120000,
          157000,
          150000,
          70912,
          65000,
          71444,
          20000,
          48000,
          152500,
          68147,
          122346,
          380000,
          69336,
          10000,
          20000,
          405000,
          135000,
          177000,
          78000,
          135000,
          100000,
          90320,
          85000,
          75000,
          214000,
          192600,
          266400,
          213120,
          112900,
          155000,
          141300,
          102100,
          115934,
          81666,
          206699,
          99100,
          130000,
          115000,
          110500,
          130000,
          99050,
          160000,
          205300,
          140400,
          176000,
          144000,
          200100,
          160000,
          145000,
          70500,
          205300,
          140400,
          205300,
          184700,
          175100,
          140250,
          116150,
          54000,
          170000,
          65438,
          80000,
          140000,
          210000,
          140000,
          100000,
          69000,
          210000,
          140000,
          210000,
          150075,
          100000,
          25000,
          126500,
          106260,
          220110,
          160080,
          105000,
          110925,
          45807,
          140000,
          99000,
          60000,
          192564,
          144854,
          230000,
          150000,
          150260,
          109280,
          210000,
          170000,
          160000,
          130000,
          67000,
          52000,
          154000,
          126000,
          129000,
          150000,
          200000
         ],
         "xaxis": "x",
         "yaxis": "y"
        }
       ],
       "layout": {
        "barmode": "relative",
        "legend": {
         "tracegroupgap": 0
        },
        "template": {
         "data": {
          "bar": [
           {
            "error_x": {
             "color": "#2a3f5f"
            },
            "error_y": {
             "color": "#2a3f5f"
            },
            "marker": {
             "line": {
              "color": "#E5ECF6",
              "width": 0.5
             },
             "pattern": {
              "fillmode": "overlay",
              "size": 10,
              "solidity": 0.2
             }
            },
            "type": "bar"
           }
          ],
          "barpolar": [
           {
            "marker": {
             "line": {
              "color": "#E5ECF6",
              "width": 0.5
             },
             "pattern": {
              "fillmode": "overlay",
              "size": 10,
              "solidity": 0.2
             }
            },
            "type": "barpolar"
           }
          ],
          "carpet": [
           {
            "aaxis": {
             "endlinecolor": "#2a3f5f",
             "gridcolor": "white",
             "linecolor": "white",
             "minorgridcolor": "white",
             "startlinecolor": "#2a3f5f"
            },
            "baxis": {
             "endlinecolor": "#2a3f5f",
             "gridcolor": "white",
             "linecolor": "white",
             "minorgridcolor": "white",
             "startlinecolor": "#2a3f5f"
            },
            "type": "carpet"
           }
          ],
          "choropleth": [
           {
            "colorbar": {
             "outlinewidth": 0,
             "ticks": ""
            },
            "type": "choropleth"
           }
          ],
          "contour": [
           {
            "colorbar": {
             "outlinewidth": 0,
             "ticks": ""
            },
            "colorscale": [
             [
              0,
              "#0d0887"
             ],
             [
              0.1111111111111111,
              "#46039f"
             ],
             [
              0.2222222222222222,
              "#7201a8"
             ],
             [
              0.3333333333333333,
              "#9c179e"
             ],
             [
              0.4444444444444444,
              "#bd3786"
             ],
             [
              0.5555555555555556,
              "#d8576b"
             ],
             [
              0.6666666666666666,
              "#ed7953"
             ],
             [
              0.7777777777777778,
              "#fb9f3a"
             ],
             [
              0.8888888888888888,
              "#fdca26"
             ],
             [
              1,
              "#f0f921"
             ]
            ],
            "type": "contour"
           }
          ],
          "contourcarpet": [
           {
            "colorbar": {
             "outlinewidth": 0,
             "ticks": ""
            },
            "type": "contourcarpet"
           }
          ],
          "heatmap": [
           {
            "colorbar": {
             "outlinewidth": 0,
             "ticks": ""
            },
            "colorscale": [
             [
              0,
              "#0d0887"
             ],
             [
              0.1111111111111111,
              "#46039f"
             ],
             [
              0.2222222222222222,
              "#7201a8"
             ],
             [
              0.3333333333333333,
              "#9c179e"
             ],
             [
              0.4444444444444444,
              "#bd3786"
             ],
             [
              0.5555555555555556,
              "#d8576b"
             ],
             [
              0.6666666666666666,
              "#ed7953"
             ],
             [
              0.7777777777777778,
              "#fb9f3a"
             ],
             [
              0.8888888888888888,
              "#fdca26"
             ],
             [
              1,
              "#f0f921"
             ]
            ],
            "type": "heatmap"
           }
          ],
          "heatmapgl": [
           {
            "colorbar": {
             "outlinewidth": 0,
             "ticks": ""
            },
            "colorscale": [
             [
              0,
              "#0d0887"
             ],
             [
              0.1111111111111111,
              "#46039f"
             ],
             [
              0.2222222222222222,
              "#7201a8"
             ],
             [
              0.3333333333333333,
              "#9c179e"
             ],
             [
              0.4444444444444444,
              "#bd3786"
             ],
             [
              0.5555555555555556,
              "#d8576b"
             ],
             [
              0.6666666666666666,
              "#ed7953"
             ],
             [
              0.7777777777777778,
              "#fb9f3a"
             ],
             [
              0.8888888888888888,
              "#fdca26"
             ],
             [
              1,
              "#f0f921"
             ]
            ],
            "type": "heatmapgl"
           }
          ],
          "histogram": [
           {
            "marker": {
             "pattern": {
              "fillmode": "overlay",
              "size": 10,
              "solidity": 0.2
             }
            },
            "type": "histogram"
           }
          ],
          "histogram2d": [
           {
            "colorbar": {
             "outlinewidth": 0,
             "ticks": ""
            },
            "colorscale": [
             [
              0,
              "#0d0887"
             ],
             [
              0.1111111111111111,
              "#46039f"
             ],
             [
              0.2222222222222222,
              "#7201a8"
             ],
             [
              0.3333333333333333,
              "#9c179e"
             ],
             [
              0.4444444444444444,
              "#bd3786"
             ],
             [
              0.5555555555555556,
              "#d8576b"
             ],
             [
              0.6666666666666666,
              "#ed7953"
             ],
             [
              0.7777777777777778,
              "#fb9f3a"
             ],
             [
              0.8888888888888888,
              "#fdca26"
             ],
             [
              1,
              "#f0f921"
             ]
            ],
            "type": "histogram2d"
           }
          ],
          "histogram2dcontour": [
           {
            "colorbar": {
             "outlinewidth": 0,
             "ticks": ""
            },
            "colorscale": [
             [
              0,
              "#0d0887"
             ],
             [
              0.1111111111111111,
              "#46039f"
             ],
             [
              0.2222222222222222,
              "#7201a8"
             ],
             [
              0.3333333333333333,
              "#9c179e"
             ],
             [
              0.4444444444444444,
              "#bd3786"
             ],
             [
              0.5555555555555556,
              "#d8576b"
             ],
             [
              0.6666666666666666,
              "#ed7953"
             ],
             [
              0.7777777777777778,
              "#fb9f3a"
             ],
             [
              0.8888888888888888,
              "#fdca26"
             ],
             [
              1,
              "#f0f921"
             ]
            ],
            "type": "histogram2dcontour"
           }
          ],
          "mesh3d": [
           {
            "colorbar": {
             "outlinewidth": 0,
             "ticks": ""
            },
            "type": "mesh3d"
           }
          ],
          "parcoords": [
           {
            "line": {
             "colorbar": {
              "outlinewidth": 0,
              "ticks": ""
             }
            },
            "type": "parcoords"
           }
          ],
          "pie": [
           {
            "automargin": true,
            "type": "pie"
           }
          ],
          "scatter": [
           {
            "marker": {
             "colorbar": {
              "outlinewidth": 0,
              "ticks": ""
             }
            },
            "type": "scatter"
           }
          ],
          "scatter3d": [
           {
            "line": {
             "colorbar": {
              "outlinewidth": 0,
              "ticks": ""
             }
            },
            "marker": {
             "colorbar": {
              "outlinewidth": 0,
              "ticks": ""
             }
            },
            "type": "scatter3d"
           }
          ],
          "scattercarpet": [
           {
            "marker": {
             "colorbar": {
              "outlinewidth": 0,
              "ticks": ""
             }
            },
            "type": "scattercarpet"
           }
          ],
          "scattergeo": [
           {
            "marker": {
             "colorbar": {
              "outlinewidth": 0,
              "ticks": ""
             }
            },
            "type": "scattergeo"
           }
          ],
          "scattergl": [
           {
            "marker": {
             "colorbar": {
              "outlinewidth": 0,
              "ticks": ""
             }
            },
            "type": "scattergl"
           }
          ],
          "scattermapbox": [
           {
            "marker": {
             "colorbar": {
              "outlinewidth": 0,
              "ticks": ""
             }
            },
            "type": "scattermapbox"
           }
          ],
          "scatterpolar": [
           {
            "marker": {
             "colorbar": {
              "outlinewidth": 0,
              "ticks": ""
             }
            },
            "type": "scatterpolar"
           }
          ],
          "scatterpolargl": [
           {
            "marker": {
             "colorbar": {
              "outlinewidth": 0,
              "ticks": ""
             }
            },
            "type": "scatterpolargl"
           }
          ],
          "scatterternary": [
           {
            "marker": {
             "colorbar": {
              "outlinewidth": 0,
              "ticks": ""
             }
            },
            "type": "scatterternary"
           }
          ],
          "surface": [
           {
            "colorbar": {
             "outlinewidth": 0,
             "ticks": ""
            },
            "colorscale": [
             [
              0,
              "#0d0887"
             ],
             [
              0.1111111111111111,
              "#46039f"
             ],
             [
              0.2222222222222222,
              "#7201a8"
             ],
             [
              0.3333333333333333,
              "#9c179e"
             ],
             [
              0.4444444444444444,
              "#bd3786"
             ],
             [
              0.5555555555555556,
              "#d8576b"
             ],
             [
              0.6666666666666666,
              "#ed7953"
             ],
             [
              0.7777777777777778,
              "#fb9f3a"
             ],
             [
              0.8888888888888888,
              "#fdca26"
             ],
             [
              1,
              "#f0f921"
             ]
            ],
            "type": "surface"
           }
          ],
          "table": [
           {
            "cells": {
             "fill": {
              "color": "#EBF0F8"
             },
             "line": {
              "color": "white"
             }
            },
            "header": {
             "fill": {
              "color": "#C8D4E3"
             },
             "line": {
              "color": "white"
             }
            },
            "type": "table"
           }
          ]
         },
         "layout": {
          "annotationdefaults": {
           "arrowcolor": "#2a3f5f",
           "arrowhead": 0,
           "arrowwidth": 1
          },
          "autotypenumbers": "strict",
          "coloraxis": {
           "colorbar": {
            "outlinewidth": 0,
            "ticks": ""
           }
          },
          "colorscale": {
           "diverging": [
            [
             0,
             "#8e0152"
            ],
            [
             0.1,
             "#c51b7d"
            ],
            [
             0.2,
             "#de77ae"
            ],
            [
             0.3,
             "#f1b6da"
            ],
            [
             0.4,
             "#fde0ef"
            ],
            [
             0.5,
             "#f7f7f7"
            ],
            [
             0.6,
             "#e6f5d0"
            ],
            [
             0.7,
             "#b8e186"
            ],
            [
             0.8,
             "#7fbc41"
            ],
            [
             0.9,
             "#4d9221"
            ],
            [
             1,
             "#276419"
            ]
           ],
           "sequential": [
            [
             0,
             "#0d0887"
            ],
            [
             0.1111111111111111,
             "#46039f"
            ],
            [
             0.2222222222222222,
             "#7201a8"
            ],
            [
             0.3333333333333333,
             "#9c179e"
            ],
            [
             0.4444444444444444,
             "#bd3786"
            ],
            [
             0.5555555555555556,
             "#d8576b"
            ],
            [
             0.6666666666666666,
             "#ed7953"
            ],
            [
             0.7777777777777778,
             "#fb9f3a"
            ],
            [
             0.8888888888888888,
             "#fdca26"
            ],
            [
             1,
             "#f0f921"
            ]
           ],
           "sequentialminus": [
            [
             0,
             "#0d0887"
            ],
            [
             0.1111111111111111,
             "#46039f"
            ],
            [
             0.2222222222222222,
             "#7201a8"
            ],
            [
             0.3333333333333333,
             "#9c179e"
            ],
            [
             0.4444444444444444,
             "#bd3786"
            ],
            [
             0.5555555555555556,
             "#d8576b"
            ],
            [
             0.6666666666666666,
             "#ed7953"
            ],
            [
             0.7777777777777778,
             "#fb9f3a"
            ],
            [
             0.8888888888888888,
             "#fdca26"
            ],
            [
             1,
             "#f0f921"
            ]
           ]
          },
          "colorway": [
           "#636efa",
           "#EF553B",
           "#00cc96",
           "#ab63fa",
           "#FFA15A",
           "#19d3f3",
           "#FF6692",
           "#B6E880",
           "#FF97FF",
           "#FECB52"
          ],
          "font": {
           "color": "#2a3f5f"
          },
          "geo": {
           "bgcolor": "white",
           "lakecolor": "white",
           "landcolor": "#E5ECF6",
           "showlakes": true,
           "showland": true,
           "subunitcolor": "white"
          },
          "hoverlabel": {
           "align": "left"
          },
          "hovermode": "closest",
          "mapbox": {
           "style": "light"
          },
          "paper_bgcolor": "white",
          "plot_bgcolor": "#E5ECF6",
          "polar": {
           "angularaxis": {
            "gridcolor": "white",
            "linecolor": "white",
            "ticks": ""
           },
           "bgcolor": "#E5ECF6",
           "radialaxis": {
            "gridcolor": "white",
            "linecolor": "white",
            "ticks": ""
           }
          },
          "scene": {
           "xaxis": {
            "backgroundcolor": "#E5ECF6",
            "gridcolor": "white",
            "gridwidth": 2,
            "linecolor": "white",
            "showbackground": true,
            "ticks": "",
            "zerolinecolor": "white"
           },
           "yaxis": {
            "backgroundcolor": "#E5ECF6",
            "gridcolor": "white",
            "gridwidth": 2,
            "linecolor": "white",
            "showbackground": true,
            "ticks": "",
            "zerolinecolor": "white"
           },
           "zaxis": {
            "backgroundcolor": "#E5ECF6",
            "gridcolor": "white",
            "gridwidth": 2,
            "linecolor": "white",
            "showbackground": true,
            "ticks": "",
            "zerolinecolor": "white"
           }
          },
          "shapedefaults": {
           "line": {
            "color": "#2a3f5f"
           }
          },
          "ternary": {
           "aaxis": {
            "gridcolor": "white",
            "linecolor": "white",
            "ticks": ""
           },
           "baxis": {
            "gridcolor": "white",
            "linecolor": "white",
            "ticks": ""
           },
           "bgcolor": "#E5ECF6",
           "caxis": {
            "gridcolor": "white",
            "linecolor": "white",
            "ticks": ""
           }
          },
          "title": {
           "x": 0.05
          },
          "xaxis": {
           "automargin": true,
           "gridcolor": "white",
           "linecolor": "white",
           "ticks": "",
           "title": {
            "standoff": 15
           },
           "zerolinecolor": "white",
           "zerolinewidth": 2
          },
          "yaxis": {
           "automargin": true,
           "gridcolor": "white",
           "linecolor": "white",
           "ticks": "",
           "title": {
            "standoff": 15
           },
           "zerolinecolor": "white",
           "zerolinewidth": 2
          }
         }
        },
        "title": {
         "text": "Salary(in USD) distribution"
        },
        "xaxis": {
         "anchor": "y",
         "domain": [
          0,
          1
         ],
         "title": {
          "text": "Salary in USD"
         }
        },
        "yaxis": {
         "anchor": "x",
         "domain": [
          0,
          1
         ],
         "title": {
          "text": "count"
         }
        }
       }
      }
     },
     "metadata": {},
     "output_type": "display_data"
    }
   ],
   "source": [
    "fig =  px.histogram(\n",
    "    data_frame=df,\n",
    "    x=\"salary_in_usd\",\n",
    "    nbins=60,\n",
    "    labels = {\"salary_in_usd\": \"Salary in USD\"},\n",
    "    # marginal=\"box\",\n",
    "    title = \"Salary(in USD) distribution\",\n",
    ").update_traces(marker=dict(color='turquoise'))\n",
    "\n",
    "fig.data[0].marker.line.width = 2\n",
    "fig.data[0].marker.line.color = \"black\"\n",
    "\n",
    "\n",
    "fig.show()"
   ]
  },
  {
   "cell_type": "markdown",
   "metadata": {},
   "source": [
    "Here we can notice that the most part of salaries is around 100k, and there are some outliers above 300k."
   ]
  },
  {
   "cell_type": "code",
   "execution_count": 16,
   "metadata": {},
   "outputs": [
    {
     "data": {
      "text/html": [
       "<div>\n",
       "<style scoped>\n",
       "    .dataframe tbody tr th:only-of-type {\n",
       "        vertical-align: middle;\n",
       "    }\n",
       "\n",
       "    .dataframe tbody tr th {\n",
       "        vertical-align: top;\n",
       "    }\n",
       "\n",
       "    .dataframe thead th {\n",
       "        text-align: right;\n",
       "    }\n",
       "</style>\n",
       "<table border=\"1\" class=\"dataframe\">\n",
       "  <thead>\n",
       "    <tr style=\"text-align: right;\">\n",
       "      <th></th>\n",
       "      <th>work_year</th>\n",
       "      <th>experience_level</th>\n",
       "      <th>employment_type</th>\n",
       "      <th>job_title</th>\n",
       "      <th>salary_in_usd</th>\n",
       "      <th>employee_residence</th>\n",
       "      <th>remote_ratio</th>\n",
       "      <th>company_location</th>\n",
       "      <th>company_size</th>\n",
       "    </tr>\n",
       "  </thead>\n",
       "  <tbody>\n",
       "    <tr>\n",
       "      <th>252</th>\n",
       "      <td>2021</td>\n",
       "      <td>Executive</td>\n",
       "      <td>Full-time</td>\n",
       "      <td>Principal Data Engineer</td>\n",
       "      <td>600000</td>\n",
       "      <td>US</td>\n",
       "      <td>Remote</td>\n",
       "      <td>US</td>\n",
       "      <td>L</td>\n",
       "    </tr>\n",
       "    <tr>\n",
       "      <th>33</th>\n",
       "      <td>2020</td>\n",
       "      <td>Mid</td>\n",
       "      <td>Full-time</td>\n",
       "      <td>Research Scientist</td>\n",
       "      <td>450000</td>\n",
       "      <td>US</td>\n",
       "      <td>On-site</td>\n",
       "      <td>US</td>\n",
       "      <td>M</td>\n",
       "    </tr>\n",
       "    <tr>\n",
       "      <th>97</th>\n",
       "      <td>2021</td>\n",
       "      <td>Mid</td>\n",
       "      <td>Full-time</td>\n",
       "      <td>Financial Data Analyst</td>\n",
       "      <td>450000</td>\n",
       "      <td>US</td>\n",
       "      <td>Remote</td>\n",
       "      <td>US</td>\n",
       "      <td>L</td>\n",
       "    </tr>\n",
       "    <tr>\n",
       "      <th>157</th>\n",
       "      <td>2021</td>\n",
       "      <td>Mid</td>\n",
       "      <td>Full-time</td>\n",
       "      <td>Applied Machine Learning Scientist</td>\n",
       "      <td>423000</td>\n",
       "      <td>US</td>\n",
       "      <td>Hybrid</td>\n",
       "      <td>US</td>\n",
       "      <td>L</td>\n",
       "    </tr>\n",
       "    <tr>\n",
       "      <th>225</th>\n",
       "      <td>2021</td>\n",
       "      <td>Executive</td>\n",
       "      <td>Contract</td>\n",
       "      <td>Principal Data Scientist</td>\n",
       "      <td>416000</td>\n",
       "      <td>US</td>\n",
       "      <td>Remote</td>\n",
       "      <td>US</td>\n",
       "      <td>S</td>\n",
       "    </tr>\n",
       "    <tr>\n",
       "      <th>63</th>\n",
       "      <td>2020</td>\n",
       "      <td>Senior</td>\n",
       "      <td>Full-time</td>\n",
       "      <td>Data Scientist</td>\n",
       "      <td>412000</td>\n",
       "      <td>US</td>\n",
       "      <td>Remote</td>\n",
       "      <td>US</td>\n",
       "      <td>L</td>\n",
       "    </tr>\n",
       "    <tr>\n",
       "      <th>523</th>\n",
       "      <td>2022</td>\n",
       "      <td>Senior</td>\n",
       "      <td>Full-time</td>\n",
       "      <td>Data Analytics Lead</td>\n",
       "      <td>405000</td>\n",
       "      <td>US</td>\n",
       "      <td>Remote</td>\n",
       "      <td>US</td>\n",
       "      <td>L</td>\n",
       "    </tr>\n",
       "    <tr>\n",
       "      <th>519</th>\n",
       "      <td>2022</td>\n",
       "      <td>Senior</td>\n",
       "      <td>Full-time</td>\n",
       "      <td>Applied Data Scientist</td>\n",
       "      <td>380000</td>\n",
       "      <td>US</td>\n",
       "      <td>Remote</td>\n",
       "      <td>US</td>\n",
       "      <td>L</td>\n",
       "    </tr>\n",
       "    <tr>\n",
       "      <th>25</th>\n",
       "      <td>2020</td>\n",
       "      <td>Executive</td>\n",
       "      <td>Full-time</td>\n",
       "      <td>Director of Data Science</td>\n",
       "      <td>325000</td>\n",
       "      <td>US</td>\n",
       "      <td>Remote</td>\n",
       "      <td>US</td>\n",
       "      <td>L</td>\n",
       "    </tr>\n",
       "    <tr>\n",
       "      <th>482</th>\n",
       "      <td>2022</td>\n",
       "      <td>Executive</td>\n",
       "      <td>Full-time</td>\n",
       "      <td>Data Engineer</td>\n",
       "      <td>324000</td>\n",
       "      <td>US</td>\n",
       "      <td>Remote</td>\n",
       "      <td>US</td>\n",
       "      <td>M</td>\n",
       "    </tr>\n",
       "  </tbody>\n",
       "</table>\n",
       "</div>"
      ],
      "text/plain": [
       "     work_year experience_level employment_type  \\\n",
       "252       2021        Executive       Full-time   \n",
       "33        2020              Mid       Full-time   \n",
       "97        2021              Mid       Full-time   \n",
       "157       2021              Mid       Full-time   \n",
       "225       2021        Executive        Contract   \n",
       "63        2020           Senior       Full-time   \n",
       "523       2022           Senior       Full-time   \n",
       "519       2022           Senior       Full-time   \n",
       "25        2020        Executive       Full-time   \n",
       "482       2022        Executive       Full-time   \n",
       "\n",
       "                              job_title  salary_in_usd employee_residence  \\\n",
       "252             Principal Data Engineer         600000                 US   \n",
       "33                   Research Scientist         450000                 US   \n",
       "97               Financial Data Analyst         450000                 US   \n",
       "157  Applied Machine Learning Scientist         423000                 US   \n",
       "225            Principal Data Scientist         416000                 US   \n",
       "63                       Data Scientist         412000                 US   \n",
       "523                 Data Analytics Lead         405000                 US   \n",
       "519              Applied Data Scientist         380000                 US   \n",
       "25             Director of Data Science         325000                 US   \n",
       "482                       Data Engineer         324000                 US   \n",
       "\n",
       "    remote_ratio company_location company_size  \n",
       "252       Remote               US            L  \n",
       "33       On-site               US            M  \n",
       "97        Remote               US            L  \n",
       "157       Hybrid               US            L  \n",
       "225       Remote               US            S  \n",
       "63        Remote               US            L  \n",
       "523       Remote               US            L  \n",
       "519       Remote               US            L  \n",
       "25        Remote               US            L  \n",
       "482       Remote               US            M  "
      ]
     },
     "execution_count": 16,
     "metadata": {},
     "output_type": "execute_result"
    }
   ],
   "source": [
    "#Checking who are these outliers\n",
    "df.loc[df[\"salary_in_usd\"] >= 300000].sort_values(by =\"salary_in_usd\", ascending = False)"
   ]
  },
  {
   "cell_type": "code",
   "execution_count": 17,
   "metadata": {},
   "outputs": [
    {
     "data": {
      "application/vnd.plotly.v1+json": {
       "config": {
        "plotlyServerURL": "https://plot.ly"
       },
       "data": [
        {
         "alignmentgroup": "True",
         "bingroup": "x",
         "hovertemplate": "Year=2020<br>Salary in USD=%{x}<br>count=%{y}<extra></extra>",
         "legendgroup": "2020",
         "marker": {
          "color": "#636efa",
          "line": {
           "color": "black",
           "width": 1
          },
          "pattern": {
           "shape": ""
          }
         },
         "name": "2020",
         "nbinsx": 60,
         "offsetgroup": "2020",
         "orientation": "v",
         "showlegend": true,
         "type": "histogram",
         "x": [
          79833,
          260000,
          109024,
          20000,
          150000,
          72000,
          190000,
          35735,
          135000,
          125000,
          51321,
          40481,
          39916,
          87000,
          85000,
          8000,
          41689,
          114047,
          5707,
          56000,
          43331,
          6072,
          47899,
          98000,
          115000,
          325000,
          42000,
          33511,
          100000,
          117104,
          59303,
          70000,
          68428,
          450000,
          46759,
          74130,
          103000,
          250000,
          10000,
          138000,
          45760,
          79833,
          50180,
          106000,
          112872,
          15966,
          76958,
          188000,
          105000,
          70139,
          6072,
          91000,
          45896,
          54742,
          60000,
          148261,
          38776,
          118000,
          120000,
          138350,
          110000,
          130800,
          21669,
          412000,
          45618,
          62726,
          49268,
          190200,
          105000,
          91237,
          62726,
          42197
         ],
         "xaxis": "x",
         "yaxis": "y"
        },
        {
         "alignmentgroup": "True",
         "bingroup": "x",
         "hovertemplate": "Year=2021<br>Salary in USD=%{x}<br>count=%{y}<extra></extra>",
         "legendgroup": "2021",
         "marker": {
          "color": "#EF553B",
          "line": {
           "color": "black",
           "width": 1
          },
          "pattern": {
           "shape": ""
          }
         },
         "name": "2021",
         "nbinsx": 60,
         "offsetgroup": "2021",
         "orientation": "v",
         "showlegend": true,
         "type": "histogram",
         "x": [
          82528,
          150000,
          235000,
          53192,
          100000,
          5409,
          270000,
          80000,
          79197,
          140000,
          54238,
          47282,
          153667,
          28476,
          59102,
          110000,
          170000,
          80000,
          88654,
          76833,
          19609,
          276000,
          29751,
          89294,
          12000,
          450000,
          70000,
          95746,
          75000,
          150000,
          36259,
          62000,
          73000,
          51519,
          187442,
          115000,
          150000,
          30428,
          94564,
          113476,
          103160,
          12000,
          45391,
          225000,
          50000,
          40189,
          90000,
          200000,
          60000,
          200000,
          50000,
          110037,
          10354,
          151000,
          120000,
          9466,
          20000,
          40570,
          100000,
          49646,
          38400,
          24000,
          100000,
          90000,
          63711,
          77364,
          220000,
          80000,
          135000,
          240000,
          150000,
          82500,
          100000,
          82744,
          62649,
          90000,
          153000,
          160000,
          168000,
          150000,
          75774,
          13400,
          144000,
          127221,
          119059,
          423000,
          120000,
          125000,
          230000,
          85000,
          28369,
          63831,
          130026,
          165000,
          80000,
          250000,
          55000,
          150000,
          170000,
          82528,
          60000,
          235000,
          60757,
          174000,
          2859,
          40038,
          81000,
          5679,
          22611,
          90734,
          26005,
          61896,
          12000,
          4000,
          50000,
          69741,
          76833,
          74000,
          152000,
          21844,
          18000,
          174000,
          96113,
          147000,
          9272,
          24342,
          54094,
          90000,
          61467,
          195000,
          37825,
          50000,
          160000,
          12901,
          200000,
          165000,
          20000,
          120000,
          24823,
          56738,
          66022,
          5882,
          24823,
          185000,
          28609,
          90734,
          88654,
          140000,
          46597,
          116914,
          33808,
          56256,
          225000,
          416000,
          87738,
          88654,
          135000,
          71786,
          16228,
          256000,
          200000,
          200000,
          180000,
          110000,
          63810,
          46809,
          4000,
          21637,
          103691,
          80000,
          110000,
          165000,
          18053,
          72212,
          36643,
          12103,
          96282,
          170000,
          115000,
          90000,
          600000,
          28399,
          93000,
          99703,
          200000,
          173762,
          185000,
          141846,
          130000,
          63831,
          16904,
          66265,
          25532,
          160000,
          93150,
          111775,
          28016,
          65013,
          72500,
          18907,
          76833,
          85000,
          77684,
          100000,
          58000,
          55000,
          20171,
          59102,
          112000,
          100000,
          69741,
          105000,
          69999,
          94665,
          102839,
          109000,
          51064
         ],
         "xaxis": "x",
         "yaxis": "y"
        },
        {
         "alignmentgroup": "True",
         "bingroup": "x",
         "hovertemplate": "Year=2022<br>Salary in USD=%{x}<br>count=%{y}<extra></extra>",
         "legendgroup": "2022",
         "marker": {
          "color": "#00cc96",
          "line": {
           "color": "black",
           "width": 1
          },
          "pattern": {
           "shape": ""
          }
         },
         "name": "2022",
         "nbinsx": 60,
         "offsetgroup": "2022",
         "orientation": "v",
         "showlegend": true,
         "type": "histogram",
         "x": [
          135000,
          155000,
          120600,
          130000,
          90000,
          170000,
          150000,
          102100,
          84900,
          136620,
          99360,
          117789,
          104702,
          146000,
          123000,
          52351,
          99000,
          116000,
          106260,
          126500,
          242000,
          200000,
          65438,
          39263,
          78526,
          52351,
          165220,
          45807,
          120160,
          90320,
          181940,
          132320,
          220110,
          160080,
          180000,
          120000,
          124190,
          130000,
          110000,
          170000,
          115500,
          112900,
          90320,
          112900,
          90320,
          165400,
          132320,
          167000,
          243900,
          136600,
          109280,
          128875,
          93700,
          224000,
          167875,
          175000,
          156600,
          108800,
          95550,
          113000,
          135000,
          161342,
          137141,
          167000,
          123000,
          78526,
          65438,
          150000,
          211500,
          192400,
          90700,
          130000,
          61300,
          130000,
          61300,
          160000,
          138600,
          136000,
          58000,
          135000,
          170000,
          123000,
          189650,
          164996,
          54957,
          54957,
          118187,
          132000,
          165400,
          208775,
          147800,
          136994,
          101570,
          128875,
          93700,
          79039,
          132320,
          37300,
          164000,
          155000,
          124333,
          98158,
          120000,
          112900,
          90320,
          145000,
          105400,
          87932,
          117789,
          215300,
          158200,
          209100,
          154600,
          115934,
          81666,
          175000,
          98158,
          58000,
          183600,
          52351,
          180000,
          71982,
          45807,
          65949,
          49461,
          78526,
          58894,
          260000,
          60000,
          63900,
          160000,
          112300,
          241000,
          159000,
          180000,
          80000,
          82900,
          100800,
          49461,
          140400,
          39263,
          43966,
          32974,
          87932,
          76940,
          104702,
          91614,
          65949,
          87932,
          189650,
          164996,
          43966,
          32974,
          98158,
          78526,
          215300,
          76940,
          209100,
          154600,
          180000,
          21983,
          80000,
          78791,
          196979,
          120000,
          125000,
          37236,
          105000,
          87932,
          18442,
          31615,
          58255,
          100000,
          54957,
          18442,
          162674,
          120000,
          144000,
          104890,
          100000,
          140000,
          135000,
          50000,
          220000,
          140000,
          183228,
          91614,
          185100,
          220000,
          200000,
          120000,
          120000,
          65000,
          324000,
          216000,
          210000,
          120000,
          230000,
          100000,
          100000,
          31875,
          200000,
          75000,
          35590,
          78791,
          100000,
          153000,
          58035,
          165000,
          93427,
          52396,
          62651,
          32974,
          40000,
          87425,
          115000,
          86703,
          75000,
          64849,
          120000,
          157000,
          150000,
          70912,
          65000,
          71444,
          20000,
          48000,
          152500,
          68147,
          122346,
          380000,
          69336,
          10000,
          20000,
          405000,
          135000,
          177000,
          78000,
          135000,
          100000,
          90320,
          85000,
          75000,
          214000,
          192600,
          266400,
          213120,
          112900,
          155000,
          141300,
          102100,
          115934,
          81666,
          206699,
          99100,
          130000,
          115000,
          110500,
          130000,
          99050,
          160000,
          205300,
          140400,
          176000,
          144000,
          200100,
          160000,
          145000,
          70500,
          205300,
          140400,
          205300,
          184700,
          175100,
          140250,
          116150,
          54000,
          170000,
          65438,
          80000,
          140000,
          210000,
          140000,
          100000,
          69000,
          210000,
          140000,
          210000,
          150075,
          100000,
          25000,
          126500,
          106260,
          220110,
          160080,
          105000,
          110925,
          45807,
          140000,
          99000,
          60000,
          192564,
          144854,
          230000,
          150000,
          150260,
          109280,
          210000,
          170000,
          160000,
          130000,
          67000,
          52000,
          154000,
          126000,
          129000,
          150000,
          200000
         ],
         "xaxis": "x",
         "yaxis": "y"
        }
       ],
       "layout": {
        "barmode": "relative",
        "legend": {
         "title": {
          "text": "Year"
         },
         "tracegroupgap": 0
        },
        "template": {
         "data": {
          "bar": [
           {
            "error_x": {
             "color": "#2a3f5f"
            },
            "error_y": {
             "color": "#2a3f5f"
            },
            "marker": {
             "line": {
              "color": "#E5ECF6",
              "width": 0.5
             },
             "pattern": {
              "fillmode": "overlay",
              "size": 10,
              "solidity": 0.2
             }
            },
            "type": "bar"
           }
          ],
          "barpolar": [
           {
            "marker": {
             "line": {
              "color": "#E5ECF6",
              "width": 0.5
             },
             "pattern": {
              "fillmode": "overlay",
              "size": 10,
              "solidity": 0.2
             }
            },
            "type": "barpolar"
           }
          ],
          "carpet": [
           {
            "aaxis": {
             "endlinecolor": "#2a3f5f",
             "gridcolor": "white",
             "linecolor": "white",
             "minorgridcolor": "white",
             "startlinecolor": "#2a3f5f"
            },
            "baxis": {
             "endlinecolor": "#2a3f5f",
             "gridcolor": "white",
             "linecolor": "white",
             "minorgridcolor": "white",
             "startlinecolor": "#2a3f5f"
            },
            "type": "carpet"
           }
          ],
          "choropleth": [
           {
            "colorbar": {
             "outlinewidth": 0,
             "ticks": ""
            },
            "type": "choropleth"
           }
          ],
          "contour": [
           {
            "colorbar": {
             "outlinewidth": 0,
             "ticks": ""
            },
            "colorscale": [
             [
              0,
              "#0d0887"
             ],
             [
              0.1111111111111111,
              "#46039f"
             ],
             [
              0.2222222222222222,
              "#7201a8"
             ],
             [
              0.3333333333333333,
              "#9c179e"
             ],
             [
              0.4444444444444444,
              "#bd3786"
             ],
             [
              0.5555555555555556,
              "#d8576b"
             ],
             [
              0.6666666666666666,
              "#ed7953"
             ],
             [
              0.7777777777777778,
              "#fb9f3a"
             ],
             [
              0.8888888888888888,
              "#fdca26"
             ],
             [
              1,
              "#f0f921"
             ]
            ],
            "type": "contour"
           }
          ],
          "contourcarpet": [
           {
            "colorbar": {
             "outlinewidth": 0,
             "ticks": ""
            },
            "type": "contourcarpet"
           }
          ],
          "heatmap": [
           {
            "colorbar": {
             "outlinewidth": 0,
             "ticks": ""
            },
            "colorscale": [
             [
              0,
              "#0d0887"
             ],
             [
              0.1111111111111111,
              "#46039f"
             ],
             [
              0.2222222222222222,
              "#7201a8"
             ],
             [
              0.3333333333333333,
              "#9c179e"
             ],
             [
              0.4444444444444444,
              "#bd3786"
             ],
             [
              0.5555555555555556,
              "#d8576b"
             ],
             [
              0.6666666666666666,
              "#ed7953"
             ],
             [
              0.7777777777777778,
              "#fb9f3a"
             ],
             [
              0.8888888888888888,
              "#fdca26"
             ],
             [
              1,
              "#f0f921"
             ]
            ],
            "type": "heatmap"
           }
          ],
          "heatmapgl": [
           {
            "colorbar": {
             "outlinewidth": 0,
             "ticks": ""
            },
            "colorscale": [
             [
              0,
              "#0d0887"
             ],
             [
              0.1111111111111111,
              "#46039f"
             ],
             [
              0.2222222222222222,
              "#7201a8"
             ],
             [
              0.3333333333333333,
              "#9c179e"
             ],
             [
              0.4444444444444444,
              "#bd3786"
             ],
             [
              0.5555555555555556,
              "#d8576b"
             ],
             [
              0.6666666666666666,
              "#ed7953"
             ],
             [
              0.7777777777777778,
              "#fb9f3a"
             ],
             [
              0.8888888888888888,
              "#fdca26"
             ],
             [
              1,
              "#f0f921"
             ]
            ],
            "type": "heatmapgl"
           }
          ],
          "histogram": [
           {
            "marker": {
             "pattern": {
              "fillmode": "overlay",
              "size": 10,
              "solidity": 0.2
             }
            },
            "type": "histogram"
           }
          ],
          "histogram2d": [
           {
            "colorbar": {
             "outlinewidth": 0,
             "ticks": ""
            },
            "colorscale": [
             [
              0,
              "#0d0887"
             ],
             [
              0.1111111111111111,
              "#46039f"
             ],
             [
              0.2222222222222222,
              "#7201a8"
             ],
             [
              0.3333333333333333,
              "#9c179e"
             ],
             [
              0.4444444444444444,
              "#bd3786"
             ],
             [
              0.5555555555555556,
              "#d8576b"
             ],
             [
              0.6666666666666666,
              "#ed7953"
             ],
             [
              0.7777777777777778,
              "#fb9f3a"
             ],
             [
              0.8888888888888888,
              "#fdca26"
             ],
             [
              1,
              "#f0f921"
             ]
            ],
            "type": "histogram2d"
           }
          ],
          "histogram2dcontour": [
           {
            "colorbar": {
             "outlinewidth": 0,
             "ticks": ""
            },
            "colorscale": [
             [
              0,
              "#0d0887"
             ],
             [
              0.1111111111111111,
              "#46039f"
             ],
             [
              0.2222222222222222,
              "#7201a8"
             ],
             [
              0.3333333333333333,
              "#9c179e"
             ],
             [
              0.4444444444444444,
              "#bd3786"
             ],
             [
              0.5555555555555556,
              "#d8576b"
             ],
             [
              0.6666666666666666,
              "#ed7953"
             ],
             [
              0.7777777777777778,
              "#fb9f3a"
             ],
             [
              0.8888888888888888,
              "#fdca26"
             ],
             [
              1,
              "#f0f921"
             ]
            ],
            "type": "histogram2dcontour"
           }
          ],
          "mesh3d": [
           {
            "colorbar": {
             "outlinewidth": 0,
             "ticks": ""
            },
            "type": "mesh3d"
           }
          ],
          "parcoords": [
           {
            "line": {
             "colorbar": {
              "outlinewidth": 0,
              "ticks": ""
             }
            },
            "type": "parcoords"
           }
          ],
          "pie": [
           {
            "automargin": true,
            "type": "pie"
           }
          ],
          "scatter": [
           {
            "marker": {
             "colorbar": {
              "outlinewidth": 0,
              "ticks": ""
             }
            },
            "type": "scatter"
           }
          ],
          "scatter3d": [
           {
            "line": {
             "colorbar": {
              "outlinewidth": 0,
              "ticks": ""
             }
            },
            "marker": {
             "colorbar": {
              "outlinewidth": 0,
              "ticks": ""
             }
            },
            "type": "scatter3d"
           }
          ],
          "scattercarpet": [
           {
            "marker": {
             "colorbar": {
              "outlinewidth": 0,
              "ticks": ""
             }
            },
            "type": "scattercarpet"
           }
          ],
          "scattergeo": [
           {
            "marker": {
             "colorbar": {
              "outlinewidth": 0,
              "ticks": ""
             }
            },
            "type": "scattergeo"
           }
          ],
          "scattergl": [
           {
            "marker": {
             "colorbar": {
              "outlinewidth": 0,
              "ticks": ""
             }
            },
            "type": "scattergl"
           }
          ],
          "scattermapbox": [
           {
            "marker": {
             "colorbar": {
              "outlinewidth": 0,
              "ticks": ""
             }
            },
            "type": "scattermapbox"
           }
          ],
          "scatterpolar": [
           {
            "marker": {
             "colorbar": {
              "outlinewidth": 0,
              "ticks": ""
             }
            },
            "type": "scatterpolar"
           }
          ],
          "scatterpolargl": [
           {
            "marker": {
             "colorbar": {
              "outlinewidth": 0,
              "ticks": ""
             }
            },
            "type": "scatterpolargl"
           }
          ],
          "scatterternary": [
           {
            "marker": {
             "colorbar": {
              "outlinewidth": 0,
              "ticks": ""
             }
            },
            "type": "scatterternary"
           }
          ],
          "surface": [
           {
            "colorbar": {
             "outlinewidth": 0,
             "ticks": ""
            },
            "colorscale": [
             [
              0,
              "#0d0887"
             ],
             [
              0.1111111111111111,
              "#46039f"
             ],
             [
              0.2222222222222222,
              "#7201a8"
             ],
             [
              0.3333333333333333,
              "#9c179e"
             ],
             [
              0.4444444444444444,
              "#bd3786"
             ],
             [
              0.5555555555555556,
              "#d8576b"
             ],
             [
              0.6666666666666666,
              "#ed7953"
             ],
             [
              0.7777777777777778,
              "#fb9f3a"
             ],
             [
              0.8888888888888888,
              "#fdca26"
             ],
             [
              1,
              "#f0f921"
             ]
            ],
            "type": "surface"
           }
          ],
          "table": [
           {
            "cells": {
             "fill": {
              "color": "#EBF0F8"
             },
             "line": {
              "color": "white"
             }
            },
            "header": {
             "fill": {
              "color": "#C8D4E3"
             },
             "line": {
              "color": "white"
             }
            },
            "type": "table"
           }
          ]
         },
         "layout": {
          "annotationdefaults": {
           "arrowcolor": "#2a3f5f",
           "arrowhead": 0,
           "arrowwidth": 1
          },
          "autotypenumbers": "strict",
          "coloraxis": {
           "colorbar": {
            "outlinewidth": 0,
            "ticks": ""
           }
          },
          "colorscale": {
           "diverging": [
            [
             0,
             "#8e0152"
            ],
            [
             0.1,
             "#c51b7d"
            ],
            [
             0.2,
             "#de77ae"
            ],
            [
             0.3,
             "#f1b6da"
            ],
            [
             0.4,
             "#fde0ef"
            ],
            [
             0.5,
             "#f7f7f7"
            ],
            [
             0.6,
             "#e6f5d0"
            ],
            [
             0.7,
             "#b8e186"
            ],
            [
             0.8,
             "#7fbc41"
            ],
            [
             0.9,
             "#4d9221"
            ],
            [
             1,
             "#276419"
            ]
           ],
           "sequential": [
            [
             0,
             "#0d0887"
            ],
            [
             0.1111111111111111,
             "#46039f"
            ],
            [
             0.2222222222222222,
             "#7201a8"
            ],
            [
             0.3333333333333333,
             "#9c179e"
            ],
            [
             0.4444444444444444,
             "#bd3786"
            ],
            [
             0.5555555555555556,
             "#d8576b"
            ],
            [
             0.6666666666666666,
             "#ed7953"
            ],
            [
             0.7777777777777778,
             "#fb9f3a"
            ],
            [
             0.8888888888888888,
             "#fdca26"
            ],
            [
             1,
             "#f0f921"
            ]
           ],
           "sequentialminus": [
            [
             0,
             "#0d0887"
            ],
            [
             0.1111111111111111,
             "#46039f"
            ],
            [
             0.2222222222222222,
             "#7201a8"
            ],
            [
             0.3333333333333333,
             "#9c179e"
            ],
            [
             0.4444444444444444,
             "#bd3786"
            ],
            [
             0.5555555555555556,
             "#d8576b"
            ],
            [
             0.6666666666666666,
             "#ed7953"
            ],
            [
             0.7777777777777778,
             "#fb9f3a"
            ],
            [
             0.8888888888888888,
             "#fdca26"
            ],
            [
             1,
             "#f0f921"
            ]
           ]
          },
          "colorway": [
           "#636efa",
           "#EF553B",
           "#00cc96",
           "#ab63fa",
           "#FFA15A",
           "#19d3f3",
           "#FF6692",
           "#B6E880",
           "#FF97FF",
           "#FECB52"
          ],
          "font": {
           "color": "#2a3f5f"
          },
          "geo": {
           "bgcolor": "white",
           "lakecolor": "white",
           "landcolor": "#E5ECF6",
           "showlakes": true,
           "showland": true,
           "subunitcolor": "white"
          },
          "hoverlabel": {
           "align": "left"
          },
          "hovermode": "closest",
          "mapbox": {
           "style": "light"
          },
          "paper_bgcolor": "white",
          "plot_bgcolor": "#E5ECF6",
          "polar": {
           "angularaxis": {
            "gridcolor": "white",
            "linecolor": "white",
            "ticks": ""
           },
           "bgcolor": "#E5ECF6",
           "radialaxis": {
            "gridcolor": "white",
            "linecolor": "white",
            "ticks": ""
           }
          },
          "scene": {
           "xaxis": {
            "backgroundcolor": "#E5ECF6",
            "gridcolor": "white",
            "gridwidth": 2,
            "linecolor": "white",
            "showbackground": true,
            "ticks": "",
            "zerolinecolor": "white"
           },
           "yaxis": {
            "backgroundcolor": "#E5ECF6",
            "gridcolor": "white",
            "gridwidth": 2,
            "linecolor": "white",
            "showbackground": true,
            "ticks": "",
            "zerolinecolor": "white"
           },
           "zaxis": {
            "backgroundcolor": "#E5ECF6",
            "gridcolor": "white",
            "gridwidth": 2,
            "linecolor": "white",
            "showbackground": true,
            "ticks": "",
            "zerolinecolor": "white"
           }
          },
          "shapedefaults": {
           "line": {
            "color": "#2a3f5f"
           }
          },
          "ternary": {
           "aaxis": {
            "gridcolor": "white",
            "linecolor": "white",
            "ticks": ""
           },
           "baxis": {
            "gridcolor": "white",
            "linecolor": "white",
            "ticks": ""
           },
           "bgcolor": "#E5ECF6",
           "caxis": {
            "gridcolor": "white",
            "linecolor": "white",
            "ticks": ""
           }
          },
          "title": {
           "x": 0.05
          },
          "xaxis": {
           "automargin": true,
           "gridcolor": "white",
           "linecolor": "white",
           "ticks": "",
           "title": {
            "standoff": 15
           },
           "zerolinecolor": "white",
           "zerolinewidth": 2
          },
          "yaxis": {
           "automargin": true,
           "gridcolor": "white",
           "linecolor": "white",
           "ticks": "",
           "title": {
            "standoff": 15
           },
           "zerolinecolor": "white",
           "zerolinewidth": 2
          }
         }
        },
        "title": {
         "text": "Salary(in USD) distribution - year"
        },
        "xaxis": {
         "anchor": "y",
         "domain": [
          0,
          1
         ],
         "title": {
          "text": "Salary in USD"
         }
        },
        "yaxis": {
         "anchor": "x",
         "domain": [
          0,
          1
         ],
         "title": {
          "text": "count"
         }
        }
       }
      }
     },
     "metadata": {},
     "output_type": "display_data"
    }
   ],
   "source": [
    "fig = px.histogram(\n",
    "    data_frame=df,\n",
    "    x=\"salary_in_usd\",\n",
    "    color=\"work_year\",\n",
    "    labels = {\"salary_in_usd\": \"Salary in USD\", \"work_year\": \"Year\"},\n",
    "    nbins=60, # 10 width per each bin since range is from 0-600k\n",
    "    title = \"Salary(in USD) distribution - year\",\n",
    ")\n",
    "\n",
    "for i in range(3):\n",
    "    fig.data[i].marker.line.width = 1\n",
    "    fig.data[i].marker.line.color = \"black\"\n",
    "\n",
    "fig.show()"
   ]
  },
  {
   "cell_type": "code",
   "execution_count": 18,
   "metadata": {},
   "outputs": [
    {
     "data": {
      "text/html": [
       "<div>\n",
       "<style scoped>\n",
       "    .dataframe tbody tr th:only-of-type {\n",
       "        vertical-align: middle;\n",
       "    }\n",
       "\n",
       "    .dataframe tbody tr th {\n",
       "        vertical-align: top;\n",
       "    }\n",
       "\n",
       "    .dataframe thead th {\n",
       "        text-align: right;\n",
       "    }\n",
       "</style>\n",
       "<table border=\"1\" class=\"dataframe\">\n",
       "  <thead>\n",
       "    <tr style=\"text-align: right;\">\n",
       "      <th></th>\n",
       "      <th>work_year</th>\n",
       "      <th>mean</th>\n",
       "    </tr>\n",
       "  </thead>\n",
       "  <tbody>\n",
       "    <tr>\n",
       "      <th>0</th>\n",
       "      <td>2020</td>\n",
       "      <td>95813.00</td>\n",
       "    </tr>\n",
       "    <tr>\n",
       "      <th>1</th>\n",
       "      <td>2021</td>\n",
       "      <td>99853.79</td>\n",
       "    </tr>\n",
       "    <tr>\n",
       "      <th>2</th>\n",
       "      <td>2022</td>\n",
       "      <td>124522.01</td>\n",
       "    </tr>\n",
       "  </tbody>\n",
       "</table>\n",
       "</div>"
      ],
      "text/plain": [
       "   work_year       mean\n",
       "0       2020   95813.00\n",
       "1       2021   99853.79\n",
       "2       2022  124522.01"
      ]
     },
     "execution_count": 18,
     "metadata": {},
     "output_type": "execute_result"
    }
   ],
   "source": [
    "df.groupby(\"work_year\")[\"salary_in_usd\"].mean().reset_index(name=\"mean\").round(2)"
   ]
  },
  {
   "cell_type": "markdown",
   "metadata": {},
   "source": [
    "* The distribution of ranges has changed, in 2022 most part of values is concentrated in higher salaries;\n",
    "* The mean shows that 2020 and 2021 were close in general, but 2022 had an increase\n"
   ]
  },
  {
   "cell_type": "markdown",
   "metadata": {},
   "source": [
    "________________\n",
    "Employment Type and Salary\n",
    "___________"
   ]
  },
  {
   "cell_type": "code",
   "execution_count": 19,
   "metadata": {},
   "outputs": [
    {
     "data": {
      "application/vnd.plotly.v1+json": {
       "config": {
        "plotlyServerURL": "https://plot.ly"
       },
       "data": [
        {
         "alignmentgroup": "True",
         "hovertemplate": "Employment Type=%{y}<br>Salary in USD=%{x}<extra></extra>",
         "legendgroup": "Full-time",
         "marker": {
          "color": "#636efa"
         },
         "name": "Full-time",
         "notched": false,
         "offsetgroup": "Full-time",
         "orientation": "h",
         "showlegend": true,
         "type": "box",
         "x": [
          79833,
          260000,
          109024,
          20000,
          150000,
          72000,
          190000,
          35735,
          135000,
          125000,
          51321,
          40481,
          39916,
          87000,
          85000,
          8000,
          41689,
          114047,
          5707,
          56000,
          43331,
          6072,
          47899,
          98000,
          115000,
          325000,
          42000,
          33511,
          117104,
          59303,
          70000,
          68428,
          450000,
          46759,
          74130,
          103000,
          250000,
          10000,
          138000,
          45760,
          79833,
          50180,
          106000,
          112872,
          76958,
          188000,
          105000,
          70139,
          6072,
          91000,
          45896,
          54742,
          148261,
          38776,
          118000,
          120000,
          138350,
          110000,
          130800,
          412000,
          45618,
          62726,
          49268,
          190200,
          105000,
          91237,
          62726,
          42197,
          82528,
          150000,
          235000,
          53192,
          100000,
          80000,
          79197,
          140000,
          54238,
          47282,
          153667,
          28476,
          59102,
          110000,
          170000,
          80000,
          88654,
          76833,
          19609,
          276000,
          29751,
          89294,
          450000,
          70000,
          95746,
          75000,
          150000,
          36259,
          62000,
          73000,
          51519,
          187442,
          115000,
          150000,
          30428,
          94564,
          113476,
          103160,
          45391,
          225000,
          50000,
          40189,
          90000,
          200000,
          60000,
          200000,
          50000,
          110037,
          151000,
          120000,
          9466,
          20000,
          40570,
          100000,
          49646,
          38400,
          24000,
          100000,
          90000,
          63711,
          77364,
          220000,
          80000,
          135000,
          240000,
          150000,
          82500,
          100000,
          82744,
          62649,
          90000,
          153000,
          160000,
          168000,
          150000,
          75774,
          13400,
          144000,
          127221,
          119059,
          423000,
          120000,
          125000,
          230000,
          85000,
          28369,
          63831,
          130026,
          165000,
          80000,
          250000,
          55000,
          150000,
          170000,
          82528,
          60000,
          235000,
          60757,
          174000,
          2859,
          40038,
          81000,
          5679,
          22611,
          90734,
          26005,
          61896,
          4000,
          50000,
          69741,
          76833,
          74000,
          152000,
          21844,
          18000,
          174000,
          96113,
          147000,
          9272,
          24342,
          54094,
          90000,
          61467,
          195000,
          37825,
          50000,
          160000,
          12901,
          200000,
          165000,
          120000,
          24823,
          56738,
          66022,
          5882,
          24823,
          185000,
          90734,
          88654,
          140000,
          46597,
          116914,
          33808,
          56256,
          225000,
          87738,
          88654,
          135000,
          71786,
          16228,
          256000,
          200000,
          200000,
          180000,
          110000,
          63810,
          46809,
          4000,
          21637,
          103691,
          80000,
          110000,
          165000,
          18053,
          72212,
          36643,
          12103,
          96282,
          170000,
          115000,
          90000,
          600000,
          28399,
          93000,
          99703,
          200000,
          173762,
          185000,
          141846,
          130000,
          63831,
          16904,
          66265,
          25532,
          160000,
          93150,
          111775,
          28016,
          65013,
          72500,
          18907,
          76833,
          85000,
          77684,
          100000,
          58000,
          55000,
          20171,
          59102,
          112000,
          100000,
          69999,
          94665,
          102839,
          109000,
          51064,
          135000,
          155000,
          120600,
          130000,
          90000,
          170000,
          150000,
          102100,
          84900,
          136620,
          99360,
          117789,
          104702,
          146000,
          123000,
          52351,
          99000,
          116000,
          106260,
          126500,
          242000,
          200000,
          65438,
          39263,
          78526,
          52351,
          165220,
          45807,
          120160,
          90320,
          181940,
          132320,
          220110,
          160080,
          180000,
          120000,
          124190,
          130000,
          110000,
          170000,
          115500,
          112900,
          90320,
          112900,
          90320,
          165400,
          132320,
          167000,
          243900,
          136600,
          109280,
          128875,
          93700,
          224000,
          167875,
          175000,
          156600,
          108800,
          95550,
          113000,
          135000,
          161342,
          137141,
          167000,
          123000,
          78526,
          65438,
          150000,
          211500,
          192400,
          90700,
          130000,
          61300,
          130000,
          61300,
          160000,
          138600,
          136000,
          58000,
          135000,
          170000,
          123000,
          189650,
          164996,
          54957,
          54957,
          118187,
          132000,
          165400,
          208775,
          147800,
          136994,
          101570,
          128875,
          93700,
          79039,
          132320,
          37300,
          164000,
          155000,
          124333,
          98158,
          120000,
          112900,
          90320,
          145000,
          105400,
          87932,
          117789,
          215300,
          158200,
          209100,
          154600,
          115934,
          81666,
          175000,
          98158,
          58000,
          183600,
          52351,
          180000,
          71982,
          45807,
          65949,
          49461,
          78526,
          58894,
          260000,
          60000,
          63900,
          160000,
          112300,
          241000,
          159000,
          180000,
          80000,
          82900,
          100800,
          49461,
          140400,
          39263,
          43966,
          32974,
          87932,
          76940,
          104702,
          91614,
          65949,
          87932,
          189650,
          164996,
          43966,
          32974,
          98158,
          78526,
          215300,
          76940,
          209100,
          154600,
          180000,
          21983,
          80000,
          78791,
          196979,
          120000,
          125000,
          37236,
          105000,
          87932,
          18442,
          31615,
          58255,
          100000,
          18442,
          162674,
          120000,
          144000,
          104890,
          100000,
          140000,
          135000,
          50000,
          220000,
          140000,
          183228,
          91614,
          185100,
          220000,
          200000,
          120000,
          120000,
          65000,
          324000,
          216000,
          210000,
          120000,
          230000,
          200000,
          75000,
          35590,
          78791,
          100000,
          153000,
          58035,
          165000,
          93427,
          52396,
          62651,
          32974,
          40000,
          87425,
          115000,
          86703,
          75000,
          64849,
          120000,
          157000,
          150000,
          70912,
          65000,
          71444,
          20000,
          48000,
          152500,
          68147,
          122346,
          380000,
          69336,
          10000,
          20000,
          405000,
          135000,
          177000,
          78000,
          135000,
          100000,
          90320,
          85000,
          75000,
          214000,
          192600,
          266400,
          213120,
          112900,
          155000,
          141300,
          102100,
          115934,
          81666,
          206699,
          99100,
          130000,
          115000,
          110500,
          130000,
          99050,
          160000,
          205300,
          140400,
          176000,
          144000,
          200100,
          160000,
          145000,
          70500,
          205300,
          140400,
          205300,
          184700,
          175100,
          140250,
          116150,
          54000,
          170000,
          65438,
          80000,
          140000,
          210000,
          140000,
          100000,
          69000,
          210000,
          140000,
          210000,
          150075,
          100000,
          25000,
          126500,
          106260,
          220110,
          160080,
          105000,
          110925,
          45807,
          140000,
          99000,
          60000,
          192564,
          144854,
          230000,
          150000,
          150260,
          109280,
          210000,
          170000,
          160000,
          130000,
          67000,
          52000,
          154000,
          126000,
          129000,
          150000,
          200000
         ],
         "x0": " ",
         "xaxis": "x",
         "y": [
          "Full-time",
          "Full-time",
          "Full-time",
          "Full-time",
          "Full-time",
          "Full-time",
          "Full-time",
          "Full-time",
          "Full-time",
          "Full-time",
          "Full-time",
          "Full-time",
          "Full-time",
          "Full-time",
          "Full-time",
          "Full-time",
          "Full-time",
          "Full-time",
          "Full-time",
          "Full-time",
          "Full-time",
          "Full-time",
          "Full-time",
          "Full-time",
          "Full-time",
          "Full-time",
          "Full-time",
          "Full-time",
          "Full-time",
          "Full-time",
          "Full-time",
          "Full-time",
          "Full-time",
          "Full-time",
          "Full-time",
          "Full-time",
          "Full-time",
          "Full-time",
          "Full-time",
          "Full-time",
          "Full-time",
          "Full-time",
          "Full-time",
          "Full-time",
          "Full-time",
          "Full-time",
          "Full-time",
          "Full-time",
          "Full-time",
          "Full-time",
          "Full-time",
          "Full-time",
          "Full-time",
          "Full-time",
          "Full-time",
          "Full-time",
          "Full-time",
          "Full-time",
          "Full-time",
          "Full-time",
          "Full-time",
          "Full-time",
          "Full-time",
          "Full-time",
          "Full-time",
          "Full-time",
          "Full-time",
          "Full-time",
          "Full-time",
          "Full-time",
          "Full-time",
          "Full-time",
          "Full-time",
          "Full-time",
          "Full-time",
          "Full-time",
          "Full-time",
          "Full-time",
          "Full-time",
          "Full-time",
          "Full-time",
          "Full-time",
          "Full-time",
          "Full-time",
          "Full-time",
          "Full-time",
          "Full-time",
          "Full-time",
          "Full-time",
          "Full-time",
          "Full-time",
          "Full-time",
          "Full-time",
          "Full-time",
          "Full-time",
          "Full-time",
          "Full-time",
          "Full-time",
          "Full-time",
          "Full-time",
          "Full-time",
          "Full-time",
          "Full-time",
          "Full-time",
          "Full-time",
          "Full-time",
          "Full-time",
          "Full-time",
          "Full-time",
          "Full-time",
          "Full-time",
          "Full-time",
          "Full-time",
          "Full-time",
          "Full-time",
          "Full-time",
          "Full-time",
          "Full-time",
          "Full-time",
          "Full-time",
          "Full-time",
          "Full-time",
          "Full-time",
          "Full-time",
          "Full-time",
          "Full-time",
          "Full-time",
          "Full-time",
          "Full-time",
          "Full-time",
          "Full-time",
          "Full-time",
          "Full-time",
          "Full-time",
          "Full-time",
          "Full-time",
          "Full-time",
          "Full-time",
          "Full-time",
          "Full-time",
          "Full-time",
          "Full-time",
          "Full-time",
          "Full-time",
          "Full-time",
          "Full-time",
          "Full-time",
          "Full-time",
          "Full-time",
          "Full-time",
          "Full-time",
          "Full-time",
          "Full-time",
          "Full-time",
          "Full-time",
          "Full-time",
          "Full-time",
          "Full-time",
          "Full-time",
          "Full-time",
          "Full-time",
          "Full-time",
          "Full-time",
          "Full-time",
          "Full-time",
          "Full-time",
          "Full-time",
          "Full-time",
          "Full-time",
          "Full-time",
          "Full-time",
          "Full-time",
          "Full-time",
          "Full-time",
          "Full-time",
          "Full-time",
          "Full-time",
          "Full-time",
          "Full-time",
          "Full-time",
          "Full-time",
          "Full-time",
          "Full-time",
          "Full-time",
          "Full-time",
          "Full-time",
          "Full-time",
          "Full-time",
          "Full-time",
          "Full-time",
          "Full-time",
          "Full-time",
          "Full-time",
          "Full-time",
          "Full-time",
          "Full-time",
          "Full-time",
          "Full-time",
          "Full-time",
          "Full-time",
          "Full-time",
          "Full-time",
          "Full-time",
          "Full-time",
          "Full-time",
          "Full-time",
          "Full-time",
          "Full-time",
          "Full-time",
          "Full-time",
          "Full-time",
          "Full-time",
          "Full-time",
          "Full-time",
          "Full-time",
          "Full-time",
          "Full-time",
          "Full-time",
          "Full-time",
          "Full-time",
          "Full-time",
          "Full-time",
          "Full-time",
          "Full-time",
          "Full-time",
          "Full-time",
          "Full-time",
          "Full-time",
          "Full-time",
          "Full-time",
          "Full-time",
          "Full-time",
          "Full-time",
          "Full-time",
          "Full-time",
          "Full-time",
          "Full-time",
          "Full-time",
          "Full-time",
          "Full-time",
          "Full-time",
          "Full-time",
          "Full-time",
          "Full-time",
          "Full-time",
          "Full-time",
          "Full-time",
          "Full-time",
          "Full-time",
          "Full-time",
          "Full-time",
          "Full-time",
          "Full-time",
          "Full-time",
          "Full-time",
          "Full-time",
          "Full-time",
          "Full-time",
          "Full-time",
          "Full-time",
          "Full-time",
          "Full-time",
          "Full-time",
          "Full-time",
          "Full-time",
          "Full-time",
          "Full-time",
          "Full-time",
          "Full-time",
          "Full-time",
          "Full-time",
          "Full-time",
          "Full-time",
          "Full-time",
          "Full-time",
          "Full-time",
          "Full-time",
          "Full-time",
          "Full-time",
          "Full-time",
          "Full-time",
          "Full-time",
          "Full-time",
          "Full-time",
          "Full-time",
          "Full-time",
          "Full-time",
          "Full-time",
          "Full-time",
          "Full-time",
          "Full-time",
          "Full-time",
          "Full-time",
          "Full-time",
          "Full-time",
          "Full-time",
          "Full-time",
          "Full-time",
          "Full-time",
          "Full-time",
          "Full-time",
          "Full-time",
          "Full-time",
          "Full-time",
          "Full-time",
          "Full-time",
          "Full-time",
          "Full-time",
          "Full-time",
          "Full-time",
          "Full-time",
          "Full-time",
          "Full-time",
          "Full-time",
          "Full-time",
          "Full-time",
          "Full-time",
          "Full-time",
          "Full-time",
          "Full-time",
          "Full-time",
          "Full-time",
          "Full-time",
          "Full-time",
          "Full-time",
          "Full-time",
          "Full-time",
          "Full-time",
          "Full-time",
          "Full-time",
          "Full-time",
          "Full-time",
          "Full-time",
          "Full-time",
          "Full-time",
          "Full-time",
          "Full-time",
          "Full-time",
          "Full-time",
          "Full-time",
          "Full-time",
          "Full-time",
          "Full-time",
          "Full-time",
          "Full-time",
          "Full-time",
          "Full-time",
          "Full-time",
          "Full-time",
          "Full-time",
          "Full-time",
          "Full-time",
          "Full-time",
          "Full-time",
          "Full-time",
          "Full-time",
          "Full-time",
          "Full-time",
          "Full-time",
          "Full-time",
          "Full-time",
          "Full-time",
          "Full-time",
          "Full-time",
          "Full-time",
          "Full-time",
          "Full-time",
          "Full-time",
          "Full-time",
          "Full-time",
          "Full-time",
          "Full-time",
          "Full-time",
          "Full-time",
          "Full-time",
          "Full-time",
          "Full-time",
          "Full-time",
          "Full-time",
          "Full-time",
          "Full-time",
          "Full-time",
          "Full-time",
          "Full-time",
          "Full-time",
          "Full-time",
          "Full-time",
          "Full-time",
          "Full-time",
          "Full-time",
          "Full-time",
          "Full-time",
          "Full-time",
          "Full-time",
          "Full-time",
          "Full-time",
          "Full-time",
          "Full-time",
          "Full-time",
          "Full-time",
          "Full-time",
          "Full-time",
          "Full-time",
          "Full-time",
          "Full-time",
          "Full-time",
          "Full-time",
          "Full-time",
          "Full-time",
          "Full-time",
          "Full-time",
          "Full-time",
          "Full-time",
          "Full-time",
          "Full-time",
          "Full-time",
          "Full-time",
          "Full-time",
          "Full-time",
          "Full-time",
          "Full-time",
          "Full-time",
          "Full-time",
          "Full-time",
          "Full-time",
          "Full-time",
          "Full-time",
          "Full-time",
          "Full-time",
          "Full-time",
          "Full-time",
          "Full-time",
          "Full-time",
          "Full-time",
          "Full-time",
          "Full-time",
          "Full-time",
          "Full-time",
          "Full-time",
          "Full-time",
          "Full-time",
          "Full-time",
          "Full-time",
          "Full-time",
          "Full-time",
          "Full-time",
          "Full-time",
          "Full-time",
          "Full-time",
          "Full-time",
          "Full-time",
          "Full-time",
          "Full-time",
          "Full-time",
          "Full-time",
          "Full-time",
          "Full-time",
          "Full-time",
          "Full-time",
          "Full-time",
          "Full-time",
          "Full-time",
          "Full-time",
          "Full-time",
          "Full-time",
          "Full-time",
          "Full-time",
          "Full-time",
          "Full-time",
          "Full-time",
          "Full-time",
          "Full-time",
          "Full-time",
          "Full-time",
          "Full-time",
          "Full-time",
          "Full-time",
          "Full-time",
          "Full-time",
          "Full-time",
          "Full-time",
          "Full-time",
          "Full-time",
          "Full-time",
          "Full-time",
          "Full-time",
          "Full-time",
          "Full-time",
          "Full-time",
          "Full-time",
          "Full-time",
          "Full-time",
          "Full-time",
          "Full-time",
          "Full-time",
          "Full-time",
          "Full-time",
          "Full-time",
          "Full-time",
          "Full-time",
          "Full-time",
          "Full-time",
          "Full-time",
          "Full-time",
          "Full-time",
          "Full-time",
          "Full-time",
          "Full-time",
          "Full-time",
          "Full-time",
          "Full-time",
          "Full-time",
          "Full-time",
          "Full-time",
          "Full-time",
          "Full-time",
          "Full-time",
          "Full-time",
          "Full-time",
          "Full-time",
          "Full-time",
          "Full-time",
          "Full-time",
          "Full-time",
          "Full-time",
          "Full-time",
          "Full-time",
          "Full-time",
          "Full-time",
          "Full-time",
          "Full-time",
          "Full-time",
          "Full-time",
          "Full-time",
          "Full-time",
          "Full-time",
          "Full-time",
          "Full-time",
          "Full-time",
          "Full-time",
          "Full-time",
          "Full-time",
          "Full-time",
          "Full-time",
          "Full-time",
          "Full-time",
          "Full-time",
          "Full-time",
          "Full-time",
          "Full-time",
          "Full-time",
          "Full-time",
          "Full-time",
          "Full-time",
          "Full-time",
          "Full-time",
          "Full-time",
          "Full-time",
          "Full-time",
          "Full-time",
          "Full-time",
          "Full-time",
          "Full-time",
          "Full-time",
          "Full-time",
          "Full-time",
          "Full-time",
          "Full-time",
          "Full-time",
          "Full-time",
          "Full-time",
          "Full-time",
          "Full-time",
          "Full-time",
          "Full-time",
          "Full-time",
          "Full-time",
          "Full-time",
          "Full-time",
          "Full-time",
          "Full-time",
          "Full-time",
          "Full-time",
          "Full-time",
          "Full-time",
          "Full-time",
          "Full-time",
          "Full-time"
         ],
         "y0": " ",
         "yaxis": "y"
        },
        {
         "alignmentgroup": "True",
         "hovertemplate": "Employment Type=%{y}<br>Salary in USD=%{x}<extra></extra>",
         "legendgroup": "Contract",
         "marker": {
          "color": "#EF553B"
         },
         "name": "Contract",
         "notched": false,
         "offsetgroup": "Contract",
         "orientation": "h",
         "showlegend": true,
         "type": "box",
         "x": [
          100000,
          270000,
          416000,
          105000,
          31875
         ],
         "x0": " ",
         "xaxis": "x",
         "y": [
          "Contract",
          "Contract",
          "Contract",
          "Contract",
          "Contract"
         ],
         "y0": " ",
         "yaxis": "y"
        },
        {
         "alignmentgroup": "True",
         "hovertemplate": "Employment Type=%{y}<br>Salary in USD=%{x}<extra></extra>",
         "legendgroup": "Part-time",
         "marker": {
          "color": "#00cc96"
         },
         "name": "Part-time",
         "notched": false,
         "offsetgroup": "Part-time",
         "orientation": "h",
         "showlegend": true,
         "type": "box",
         "x": [
          15966,
          21669,
          5409,
          12000,
          12000,
          10354,
          28609,
          69741,
          54957,
          100000
         ],
         "x0": " ",
         "xaxis": "x",
         "y": [
          "Part-time",
          "Part-time",
          "Part-time",
          "Part-time",
          "Part-time",
          "Part-time",
          "Part-time",
          "Part-time",
          "Part-time",
          "Part-time"
         ],
         "y0": " ",
         "yaxis": "y"
        },
        {
         "alignmentgroup": "True",
         "hovertemplate": "Employment Type=%{y}<br>Salary in USD=%{x}<extra></extra>",
         "legendgroup": "Freelance",
         "marker": {
          "color": "#ab63fa"
         },
         "name": "Freelance",
         "notched": false,
         "offsetgroup": "Freelance",
         "orientation": "h",
         "showlegend": true,
         "type": "box",
         "x": [
          60000,
          12000,
          20000,
          100000
         ],
         "x0": " ",
         "xaxis": "x",
         "y": [
          "Freelance",
          "Freelance",
          "Freelance",
          "Freelance"
         ],
         "y0": " ",
         "yaxis": "y"
        }
       ],
       "layout": {
        "boxmode": "overlay",
        "legend": {
         "title": {
          "text": "Employment Type"
         },
         "tracegroupgap": 0
        },
        "template": {
         "data": {
          "bar": [
           {
            "error_x": {
             "color": "#2a3f5f"
            },
            "error_y": {
             "color": "#2a3f5f"
            },
            "marker": {
             "line": {
              "color": "#E5ECF6",
              "width": 0.5
             },
             "pattern": {
              "fillmode": "overlay",
              "size": 10,
              "solidity": 0.2
             }
            },
            "type": "bar"
           }
          ],
          "barpolar": [
           {
            "marker": {
             "line": {
              "color": "#E5ECF6",
              "width": 0.5
             },
             "pattern": {
              "fillmode": "overlay",
              "size": 10,
              "solidity": 0.2
             }
            },
            "type": "barpolar"
           }
          ],
          "carpet": [
           {
            "aaxis": {
             "endlinecolor": "#2a3f5f",
             "gridcolor": "white",
             "linecolor": "white",
             "minorgridcolor": "white",
             "startlinecolor": "#2a3f5f"
            },
            "baxis": {
             "endlinecolor": "#2a3f5f",
             "gridcolor": "white",
             "linecolor": "white",
             "minorgridcolor": "white",
             "startlinecolor": "#2a3f5f"
            },
            "type": "carpet"
           }
          ],
          "choropleth": [
           {
            "colorbar": {
             "outlinewidth": 0,
             "ticks": ""
            },
            "type": "choropleth"
           }
          ],
          "contour": [
           {
            "colorbar": {
             "outlinewidth": 0,
             "ticks": ""
            },
            "colorscale": [
             [
              0,
              "#0d0887"
             ],
             [
              0.1111111111111111,
              "#46039f"
             ],
             [
              0.2222222222222222,
              "#7201a8"
             ],
             [
              0.3333333333333333,
              "#9c179e"
             ],
             [
              0.4444444444444444,
              "#bd3786"
             ],
             [
              0.5555555555555556,
              "#d8576b"
             ],
             [
              0.6666666666666666,
              "#ed7953"
             ],
             [
              0.7777777777777778,
              "#fb9f3a"
             ],
             [
              0.8888888888888888,
              "#fdca26"
             ],
             [
              1,
              "#f0f921"
             ]
            ],
            "type": "contour"
           }
          ],
          "contourcarpet": [
           {
            "colorbar": {
             "outlinewidth": 0,
             "ticks": ""
            },
            "type": "contourcarpet"
           }
          ],
          "heatmap": [
           {
            "colorbar": {
             "outlinewidth": 0,
             "ticks": ""
            },
            "colorscale": [
             [
              0,
              "#0d0887"
             ],
             [
              0.1111111111111111,
              "#46039f"
             ],
             [
              0.2222222222222222,
              "#7201a8"
             ],
             [
              0.3333333333333333,
              "#9c179e"
             ],
             [
              0.4444444444444444,
              "#bd3786"
             ],
             [
              0.5555555555555556,
              "#d8576b"
             ],
             [
              0.6666666666666666,
              "#ed7953"
             ],
             [
              0.7777777777777778,
              "#fb9f3a"
             ],
             [
              0.8888888888888888,
              "#fdca26"
             ],
             [
              1,
              "#f0f921"
             ]
            ],
            "type": "heatmap"
           }
          ],
          "heatmapgl": [
           {
            "colorbar": {
             "outlinewidth": 0,
             "ticks": ""
            },
            "colorscale": [
             [
              0,
              "#0d0887"
             ],
             [
              0.1111111111111111,
              "#46039f"
             ],
             [
              0.2222222222222222,
              "#7201a8"
             ],
             [
              0.3333333333333333,
              "#9c179e"
             ],
             [
              0.4444444444444444,
              "#bd3786"
             ],
             [
              0.5555555555555556,
              "#d8576b"
             ],
             [
              0.6666666666666666,
              "#ed7953"
             ],
             [
              0.7777777777777778,
              "#fb9f3a"
             ],
             [
              0.8888888888888888,
              "#fdca26"
             ],
             [
              1,
              "#f0f921"
             ]
            ],
            "type": "heatmapgl"
           }
          ],
          "histogram": [
           {
            "marker": {
             "pattern": {
              "fillmode": "overlay",
              "size": 10,
              "solidity": 0.2
             }
            },
            "type": "histogram"
           }
          ],
          "histogram2d": [
           {
            "colorbar": {
             "outlinewidth": 0,
             "ticks": ""
            },
            "colorscale": [
             [
              0,
              "#0d0887"
             ],
             [
              0.1111111111111111,
              "#46039f"
             ],
             [
              0.2222222222222222,
              "#7201a8"
             ],
             [
              0.3333333333333333,
              "#9c179e"
             ],
             [
              0.4444444444444444,
              "#bd3786"
             ],
             [
              0.5555555555555556,
              "#d8576b"
             ],
             [
              0.6666666666666666,
              "#ed7953"
             ],
             [
              0.7777777777777778,
              "#fb9f3a"
             ],
             [
              0.8888888888888888,
              "#fdca26"
             ],
             [
              1,
              "#f0f921"
             ]
            ],
            "type": "histogram2d"
           }
          ],
          "histogram2dcontour": [
           {
            "colorbar": {
             "outlinewidth": 0,
             "ticks": ""
            },
            "colorscale": [
             [
              0,
              "#0d0887"
             ],
             [
              0.1111111111111111,
              "#46039f"
             ],
             [
              0.2222222222222222,
              "#7201a8"
             ],
             [
              0.3333333333333333,
              "#9c179e"
             ],
             [
              0.4444444444444444,
              "#bd3786"
             ],
             [
              0.5555555555555556,
              "#d8576b"
             ],
             [
              0.6666666666666666,
              "#ed7953"
             ],
             [
              0.7777777777777778,
              "#fb9f3a"
             ],
             [
              0.8888888888888888,
              "#fdca26"
             ],
             [
              1,
              "#f0f921"
             ]
            ],
            "type": "histogram2dcontour"
           }
          ],
          "mesh3d": [
           {
            "colorbar": {
             "outlinewidth": 0,
             "ticks": ""
            },
            "type": "mesh3d"
           }
          ],
          "parcoords": [
           {
            "line": {
             "colorbar": {
              "outlinewidth": 0,
              "ticks": ""
             }
            },
            "type": "parcoords"
           }
          ],
          "pie": [
           {
            "automargin": true,
            "type": "pie"
           }
          ],
          "scatter": [
           {
            "marker": {
             "colorbar": {
              "outlinewidth": 0,
              "ticks": ""
             }
            },
            "type": "scatter"
           }
          ],
          "scatter3d": [
           {
            "line": {
             "colorbar": {
              "outlinewidth": 0,
              "ticks": ""
             }
            },
            "marker": {
             "colorbar": {
              "outlinewidth": 0,
              "ticks": ""
             }
            },
            "type": "scatter3d"
           }
          ],
          "scattercarpet": [
           {
            "marker": {
             "colorbar": {
              "outlinewidth": 0,
              "ticks": ""
             }
            },
            "type": "scattercarpet"
           }
          ],
          "scattergeo": [
           {
            "marker": {
             "colorbar": {
              "outlinewidth": 0,
              "ticks": ""
             }
            },
            "type": "scattergeo"
           }
          ],
          "scattergl": [
           {
            "marker": {
             "colorbar": {
              "outlinewidth": 0,
              "ticks": ""
             }
            },
            "type": "scattergl"
           }
          ],
          "scattermapbox": [
           {
            "marker": {
             "colorbar": {
              "outlinewidth": 0,
              "ticks": ""
             }
            },
            "type": "scattermapbox"
           }
          ],
          "scatterpolar": [
           {
            "marker": {
             "colorbar": {
              "outlinewidth": 0,
              "ticks": ""
             }
            },
            "type": "scatterpolar"
           }
          ],
          "scatterpolargl": [
           {
            "marker": {
             "colorbar": {
              "outlinewidth": 0,
              "ticks": ""
             }
            },
            "type": "scatterpolargl"
           }
          ],
          "scatterternary": [
           {
            "marker": {
             "colorbar": {
              "outlinewidth": 0,
              "ticks": ""
             }
            },
            "type": "scatterternary"
           }
          ],
          "surface": [
           {
            "colorbar": {
             "outlinewidth": 0,
             "ticks": ""
            },
            "colorscale": [
             [
              0,
              "#0d0887"
             ],
             [
              0.1111111111111111,
              "#46039f"
             ],
             [
              0.2222222222222222,
              "#7201a8"
             ],
             [
              0.3333333333333333,
              "#9c179e"
             ],
             [
              0.4444444444444444,
              "#bd3786"
             ],
             [
              0.5555555555555556,
              "#d8576b"
             ],
             [
              0.6666666666666666,
              "#ed7953"
             ],
             [
              0.7777777777777778,
              "#fb9f3a"
             ],
             [
              0.8888888888888888,
              "#fdca26"
             ],
             [
              1,
              "#f0f921"
             ]
            ],
            "type": "surface"
           }
          ],
          "table": [
           {
            "cells": {
             "fill": {
              "color": "#EBF0F8"
             },
             "line": {
              "color": "white"
             }
            },
            "header": {
             "fill": {
              "color": "#C8D4E3"
             },
             "line": {
              "color": "white"
             }
            },
            "type": "table"
           }
          ]
         },
         "layout": {
          "annotationdefaults": {
           "arrowcolor": "#2a3f5f",
           "arrowhead": 0,
           "arrowwidth": 1
          },
          "autotypenumbers": "strict",
          "coloraxis": {
           "colorbar": {
            "outlinewidth": 0,
            "ticks": ""
           }
          },
          "colorscale": {
           "diverging": [
            [
             0,
             "#8e0152"
            ],
            [
             0.1,
             "#c51b7d"
            ],
            [
             0.2,
             "#de77ae"
            ],
            [
             0.3,
             "#f1b6da"
            ],
            [
             0.4,
             "#fde0ef"
            ],
            [
             0.5,
             "#f7f7f7"
            ],
            [
             0.6,
             "#e6f5d0"
            ],
            [
             0.7,
             "#b8e186"
            ],
            [
             0.8,
             "#7fbc41"
            ],
            [
             0.9,
             "#4d9221"
            ],
            [
             1,
             "#276419"
            ]
           ],
           "sequential": [
            [
             0,
             "#0d0887"
            ],
            [
             0.1111111111111111,
             "#46039f"
            ],
            [
             0.2222222222222222,
             "#7201a8"
            ],
            [
             0.3333333333333333,
             "#9c179e"
            ],
            [
             0.4444444444444444,
             "#bd3786"
            ],
            [
             0.5555555555555556,
             "#d8576b"
            ],
            [
             0.6666666666666666,
             "#ed7953"
            ],
            [
             0.7777777777777778,
             "#fb9f3a"
            ],
            [
             0.8888888888888888,
             "#fdca26"
            ],
            [
             1,
             "#f0f921"
            ]
           ],
           "sequentialminus": [
            [
             0,
             "#0d0887"
            ],
            [
             0.1111111111111111,
             "#46039f"
            ],
            [
             0.2222222222222222,
             "#7201a8"
            ],
            [
             0.3333333333333333,
             "#9c179e"
            ],
            [
             0.4444444444444444,
             "#bd3786"
            ],
            [
             0.5555555555555556,
             "#d8576b"
            ],
            [
             0.6666666666666666,
             "#ed7953"
            ],
            [
             0.7777777777777778,
             "#fb9f3a"
            ],
            [
             0.8888888888888888,
             "#fdca26"
            ],
            [
             1,
             "#f0f921"
            ]
           ]
          },
          "colorway": [
           "#636efa",
           "#EF553B",
           "#00cc96",
           "#ab63fa",
           "#FFA15A",
           "#19d3f3",
           "#FF6692",
           "#B6E880",
           "#FF97FF",
           "#FECB52"
          ],
          "font": {
           "color": "#2a3f5f"
          },
          "geo": {
           "bgcolor": "white",
           "lakecolor": "white",
           "landcolor": "#E5ECF6",
           "showlakes": true,
           "showland": true,
           "subunitcolor": "white"
          },
          "hoverlabel": {
           "align": "left"
          },
          "hovermode": "closest",
          "mapbox": {
           "style": "light"
          },
          "paper_bgcolor": "white",
          "plot_bgcolor": "#E5ECF6",
          "polar": {
           "angularaxis": {
            "gridcolor": "white",
            "linecolor": "white",
            "ticks": ""
           },
           "bgcolor": "#E5ECF6",
           "radialaxis": {
            "gridcolor": "white",
            "linecolor": "white",
            "ticks": ""
           }
          },
          "scene": {
           "xaxis": {
            "backgroundcolor": "#E5ECF6",
            "gridcolor": "white",
            "gridwidth": 2,
            "linecolor": "white",
            "showbackground": true,
            "ticks": "",
            "zerolinecolor": "white"
           },
           "yaxis": {
            "backgroundcolor": "#E5ECF6",
            "gridcolor": "white",
            "gridwidth": 2,
            "linecolor": "white",
            "showbackground": true,
            "ticks": "",
            "zerolinecolor": "white"
           },
           "zaxis": {
            "backgroundcolor": "#E5ECF6",
            "gridcolor": "white",
            "gridwidth": 2,
            "linecolor": "white",
            "showbackground": true,
            "ticks": "",
            "zerolinecolor": "white"
           }
          },
          "shapedefaults": {
           "line": {
            "color": "#2a3f5f"
           }
          },
          "ternary": {
           "aaxis": {
            "gridcolor": "white",
            "linecolor": "white",
            "ticks": ""
           },
           "baxis": {
            "gridcolor": "white",
            "linecolor": "white",
            "ticks": ""
           },
           "bgcolor": "#E5ECF6",
           "caxis": {
            "gridcolor": "white",
            "linecolor": "white",
            "ticks": ""
           }
          },
          "title": {
           "x": 0.05
          },
          "xaxis": {
           "automargin": true,
           "gridcolor": "white",
           "linecolor": "white",
           "ticks": "",
           "title": {
            "standoff": 15
           },
           "zerolinecolor": "white",
           "zerolinewidth": 2
          },
          "yaxis": {
           "automargin": true,
           "gridcolor": "white",
           "linecolor": "white",
           "ticks": "",
           "title": {
            "standoff": 15
           },
           "zerolinecolor": "white",
           "zerolinewidth": 2
          }
         }
        },
        "title": {
         "text": "Employment Type Vs Salary"
        },
        "xaxis": {
         "anchor": "y",
         "domain": [
          0,
          1
         ],
         "title": {
          "text": "Salary in USD"
         }
        },
        "yaxis": {
         "anchor": "x",
         "categoryarray": [
          "Freelance",
          "Part-time",
          "Contract",
          "Full-time"
         ],
         "categoryorder": "array",
         "domain": [
          0,
          1
         ],
         "title": {
          "text": "Employment Type"
         }
        }
       }
      }
     },
     "metadata": {},
     "output_type": "display_data"
    }
   ],
   "source": [
    "px.box(\n",
    "    data_frame=df,\n",
    "    x=\"salary_in_usd\",\n",
    "    y=\"employment_type\",\n",
    "    labels = {\"employment_type\": \"Employment Type\", \"salary_in_usd\": \"Salary in USD\"},\n",
    "    color=\"employment_type\",\n",
    "    title = \"Employment Type Vs Salary\",\n",
    ")"
   ]
  },
  {
   "cell_type": "markdown",
   "metadata": {},
   "source": [
    "____________\n",
    "Experience vs Salary\n",
    "____________"
   ]
  },
  {
   "cell_type": "code",
   "execution_count": 20,
   "metadata": {},
   "outputs": [
    {
     "data": {
      "application/vnd.plotly.v1+json": {
       "config": {
        "plotlyServerURL": "https://plot.ly"
       },
       "data": [
        {
         "alignmentgroup": "True",
         "hovertemplate": "Experience Level=%{y}<br>Salary in USD=%{x}<extra></extra>",
         "legendgroup": "Mid",
         "marker": {
          "color": "#636efa"
         },
         "name": "Mid",
         "notched": false,
         "offsetgroup": "Mid",
         "orientation": "h",
         "showlegend": true,
         "type": "box",
         "x": [
          79833,
          20000,
          35735,
          135000,
          40481,
          87000,
          85000,
          8000,
          56000,
          43331,
          6072,
          98000,
          115000,
          59303,
          450000,
          46759,
          74130,
          103000,
          45760,
          50180,
          106000,
          112872,
          76958,
          105000,
          70139,
          38776,
          118000,
          138350,
          110000,
          130800,
          62726,
          42197,
          100000,
          5409,
          270000,
          140000,
          54238,
          47282,
          28476,
          110000,
          19609,
          89294,
          450000,
          95746,
          75000,
          36259,
          62000,
          73000,
          51519,
          187442,
          45391,
          50000,
          40189,
          200000,
          60000,
          151000,
          9466,
          38400,
          90000,
          63711,
          77364,
          135000,
          82500,
          100000,
          62649,
          90000,
          150000,
          75774,
          119059,
          423000,
          28369,
          150000,
          170000,
          82528,
          2859,
          40038,
          5679,
          22611,
          90734,
          26005,
          12000,
          4000,
          74000,
          18000,
          147000,
          61467,
          37825,
          160000,
          12901,
          20000,
          24823,
          56738,
          66022,
          90734,
          88654,
          46597,
          116914,
          33808,
          56256,
          88654,
          180000,
          110000,
          63810,
          46809,
          80000,
          110000,
          72212,
          12103,
          115000,
          93000,
          200000,
          130000,
          16904,
          25532,
          93150,
          111775,
          28016,
          112000,
          69741,
          69999,
          109000,
          51064,
          130000,
          90000,
          170000,
          150000,
          106260,
          126500,
          65438,
          39263,
          78526,
          52351,
          115500,
          167000,
          58000,
          54957,
          54957,
          124333,
          98158,
          120000,
          87932,
          117789,
          98158,
          58000,
          52351,
          71982,
          45807,
          65949,
          49461,
          78526,
          58894,
          63900,
          160000,
          112300,
          241000,
          159000,
          82900,
          49461,
          39263,
          43966,
          32974,
          87932,
          76940,
          104702,
          91614,
          65949,
          87932,
          43966,
          32974,
          98158,
          78526,
          76940,
          78791,
          120000,
          37236,
          18442,
          31615,
          58255,
          54957,
          135000,
          50000,
          183228,
          91614,
          200000,
          120000,
          100000,
          75000,
          35590,
          153000,
          32974,
          87425,
          75000,
          64849,
          157000,
          70912,
          48000,
          68147,
          122346,
          69336,
          20000,
          135000,
          78000,
          85000,
          75000,
          141300,
          102100,
          206699,
          99100,
          65438,
          45807,
          160000,
          130000,
          200000
         ],
         "x0": " ",
         "xaxis": "x",
         "y": [
          "Mid",
          "Mid",
          "Mid",
          "Mid",
          "Mid",
          "Mid",
          "Mid",
          "Mid",
          "Mid",
          "Mid",
          "Mid",
          "Mid",
          "Mid",
          "Mid",
          "Mid",
          "Mid",
          "Mid",
          "Mid",
          "Mid",
          "Mid",
          "Mid",
          "Mid",
          "Mid",
          "Mid",
          "Mid",
          "Mid",
          "Mid",
          "Mid",
          "Mid",
          "Mid",
          "Mid",
          "Mid",
          "Mid",
          "Mid",
          "Mid",
          "Mid",
          "Mid",
          "Mid",
          "Mid",
          "Mid",
          "Mid",
          "Mid",
          "Mid",
          "Mid",
          "Mid",
          "Mid",
          "Mid",
          "Mid",
          "Mid",
          "Mid",
          "Mid",
          "Mid",
          "Mid",
          "Mid",
          "Mid",
          "Mid",
          "Mid",
          "Mid",
          "Mid",
          "Mid",
          "Mid",
          "Mid",
          "Mid",
          "Mid",
          "Mid",
          "Mid",
          "Mid",
          "Mid",
          "Mid",
          "Mid",
          "Mid",
          "Mid",
          "Mid",
          "Mid",
          "Mid",
          "Mid",
          "Mid",
          "Mid",
          "Mid",
          "Mid",
          "Mid",
          "Mid",
          "Mid",
          "Mid",
          "Mid",
          "Mid",
          "Mid",
          "Mid",
          "Mid",
          "Mid",
          "Mid",
          "Mid",
          "Mid",
          "Mid",
          "Mid",
          "Mid",
          "Mid",
          "Mid",
          "Mid",
          "Mid",
          "Mid",
          "Mid",
          "Mid",
          "Mid",
          "Mid",
          "Mid",
          "Mid",
          "Mid",
          "Mid",
          "Mid",
          "Mid",
          "Mid",
          "Mid",
          "Mid",
          "Mid",
          "Mid",
          "Mid",
          "Mid",
          "Mid",
          "Mid",
          "Mid",
          "Mid",
          "Mid",
          "Mid",
          "Mid",
          "Mid",
          "Mid",
          "Mid",
          "Mid",
          "Mid",
          "Mid",
          "Mid",
          "Mid",
          "Mid",
          "Mid",
          "Mid",
          "Mid",
          "Mid",
          "Mid",
          "Mid",
          "Mid",
          "Mid",
          "Mid",
          "Mid",
          "Mid",
          "Mid",
          "Mid",
          "Mid",
          "Mid",
          "Mid",
          "Mid",
          "Mid",
          "Mid",
          "Mid",
          "Mid",
          "Mid",
          "Mid",
          "Mid",
          "Mid",
          "Mid",
          "Mid",
          "Mid",
          "Mid",
          "Mid",
          "Mid",
          "Mid",
          "Mid",
          "Mid",
          "Mid",
          "Mid",
          "Mid",
          "Mid",
          "Mid",
          "Mid",
          "Mid",
          "Mid",
          "Mid",
          "Mid",
          "Mid",
          "Mid",
          "Mid",
          "Mid",
          "Mid",
          "Mid",
          "Mid",
          "Mid",
          "Mid",
          "Mid",
          "Mid",
          "Mid",
          "Mid",
          "Mid",
          "Mid",
          "Mid",
          "Mid",
          "Mid",
          "Mid",
          "Mid",
          "Mid",
          "Mid",
          "Mid",
          "Mid",
          "Mid",
          "Mid",
          "Mid",
          "Mid",
          "Mid",
          "Mid",
          "Mid",
          "Mid",
          "Mid",
          "Mid",
          "Mid"
         ],
         "y0": " ",
         "yaxis": "y"
        },
        {
         "alignmentgroup": "True",
         "hovertemplate": "Experience Level=%{y}<br>Salary in USD=%{x}<extra></extra>",
         "legendgroup": "Senior",
         "marker": {
          "color": "#EF553B"
         },
         "name": "Senior",
         "notched": false,
         "offsetgroup": "Senior",
         "orientation": "h",
         "showlegend": true,
         "type": "box",
         "x": [
          260000,
          109024,
          150000,
          190000,
          125000,
          114047,
          47899,
          33511,
          117104,
          68428,
          188000,
          60000,
          148261,
          120000,
          412000,
          45618,
          190200,
          91237,
          53192,
          79197,
          170000,
          80000,
          88654,
          276000,
          150000,
          115000,
          150000,
          94564,
          113476,
          103160,
          200000,
          120000,
          40570,
          24000,
          220000,
          240000,
          150000,
          82744,
          153000,
          160000,
          168000,
          144000,
          127221,
          120000,
          165000,
          235000,
          60757,
          174000,
          61896,
          50000,
          76833,
          152000,
          174000,
          96113,
          24342,
          54094,
          195000,
          50000,
          200000,
          165000,
          120000,
          185000,
          140000,
          225000,
          87738,
          135000,
          71786,
          256000,
          200000,
          200000,
          103691,
          165000,
          96282,
          170000,
          99703,
          173762,
          185000,
          63831,
          66265,
          160000,
          18907,
          77684,
          55000,
          20171,
          105000,
          94665,
          102839,
          135000,
          155000,
          120600,
          102100,
          84900,
          136620,
          99360,
          117789,
          104702,
          146000,
          123000,
          99000,
          116000,
          165220,
          120160,
          90320,
          181940,
          132320,
          220110,
          160080,
          180000,
          120000,
          124190,
          170000,
          112900,
          90320,
          112900,
          90320,
          165400,
          132320,
          243900,
          136600,
          109280,
          128875,
          93700,
          156600,
          108800,
          95550,
          113000,
          135000,
          161342,
          137141,
          167000,
          123000,
          78526,
          65438,
          150000,
          211500,
          192400,
          90700,
          130000,
          61300,
          130000,
          61300,
          160000,
          138600,
          136000,
          170000,
          123000,
          189650,
          164996,
          132000,
          165400,
          208775,
          147800,
          136994,
          101570,
          128875,
          93700,
          132320,
          164000,
          155000,
          112900,
          90320,
          145000,
          105400,
          215300,
          158200,
          209100,
          154600,
          115934,
          81666,
          175000,
          183600,
          180000,
          260000,
          60000,
          180000,
          80000,
          100800,
          140400,
          189650,
          164996,
          215300,
          209100,
          154600,
          180000,
          80000,
          105000,
          87932,
          162674,
          144000,
          104890,
          100000,
          140000,
          220000,
          140000,
          185100,
          220000,
          120000,
          65000,
          210000,
          120000,
          230000,
          200000,
          78791,
          100000,
          165000,
          93427,
          62651,
          115000,
          71444,
          152500,
          380000,
          405000,
          177000,
          135000,
          100000,
          90320,
          214000,
          192600,
          266400,
          213120,
          112900,
          155000,
          115934,
          81666,
          130000,
          115000,
          110500,
          130000,
          99050,
          160000,
          205300,
          140400,
          176000,
          144000,
          200100,
          160000,
          145000,
          70500,
          205300,
          140400,
          205300,
          184700,
          175100,
          140250,
          116150,
          54000,
          170000,
          80000,
          140000,
          210000,
          140000,
          100000,
          69000,
          210000,
          140000,
          210000,
          150075,
          100000,
          25000,
          126500,
          106260,
          220110,
          160080,
          105000,
          110925,
          140000,
          99000,
          60000,
          192564,
          144854,
          230000,
          150000,
          150260,
          109280,
          210000,
          170000,
          154000,
          126000,
          129000,
          150000
         ],
         "x0": " ",
         "xaxis": "x",
         "y": [
          "Senior",
          "Senior",
          "Senior",
          "Senior",
          "Senior",
          "Senior",
          "Senior",
          "Senior",
          "Senior",
          "Senior",
          "Senior",
          "Senior",
          "Senior",
          "Senior",
          "Senior",
          "Senior",
          "Senior",
          "Senior",
          "Senior",
          "Senior",
          "Senior",
          "Senior",
          "Senior",
          "Senior",
          "Senior",
          "Senior",
          "Senior",
          "Senior",
          "Senior",
          "Senior",
          "Senior",
          "Senior",
          "Senior",
          "Senior",
          "Senior",
          "Senior",
          "Senior",
          "Senior",
          "Senior",
          "Senior",
          "Senior",
          "Senior",
          "Senior",
          "Senior",
          "Senior",
          "Senior",
          "Senior",
          "Senior",
          "Senior",
          "Senior",
          "Senior",
          "Senior",
          "Senior",
          "Senior",
          "Senior",
          "Senior",
          "Senior",
          "Senior",
          "Senior",
          "Senior",
          "Senior",
          "Senior",
          "Senior",
          "Senior",
          "Senior",
          "Senior",
          "Senior",
          "Senior",
          "Senior",
          "Senior",
          "Senior",
          "Senior",
          "Senior",
          "Senior",
          "Senior",
          "Senior",
          "Senior",
          "Senior",
          "Senior",
          "Senior",
          "Senior",
          "Senior",
          "Senior",
          "Senior",
          "Senior",
          "Senior",
          "Senior",
          "Senior",
          "Senior",
          "Senior",
          "Senior",
          "Senior",
          "Senior",
          "Senior",
          "Senior",
          "Senior",
          "Senior",
          "Senior",
          "Senior",
          "Senior",
          "Senior",
          "Senior",
          "Senior",
          "Senior",
          "Senior",
          "Senior",
          "Senior",
          "Senior",
          "Senior",
          "Senior",
          "Senior",
          "Senior",
          "Senior",
          "Senior",
          "Senior",
          "Senior",
          "Senior",
          "Senior",
          "Senior",
          "Senior",
          "Senior",
          "Senior",
          "Senior",
          "Senior",
          "Senior",
          "Senior",
          "Senior",
          "Senior",
          "Senior",
          "Senior",
          "Senior",
          "Senior",
          "Senior",
          "Senior",
          "Senior",
          "Senior",
          "Senior",
          "Senior",
          "Senior",
          "Senior",
          "Senior",
          "Senior",
          "Senior",
          "Senior",
          "Senior",
          "Senior",
          "Senior",
          "Senior",
          "Senior",
          "Senior",
          "Senior",
          "Senior",
          "Senior",
          "Senior",
          "Senior",
          "Senior",
          "Senior",
          "Senior",
          "Senior",
          "Senior",
          "Senior",
          "Senior",
          "Senior",
          "Senior",
          "Senior",
          "Senior",
          "Senior",
          "Senior",
          "Senior",
          "Senior",
          "Senior",
          "Senior",
          "Senior",
          "Senior",
          "Senior",
          "Senior",
          "Senior",
          "Senior",
          "Senior",
          "Senior",
          "Senior",
          "Senior",
          "Senior",
          "Senior",
          "Senior",
          "Senior",
          "Senior",
          "Senior",
          "Senior",
          "Senior",
          "Senior",
          "Senior",
          "Senior",
          "Senior",
          "Senior",
          "Senior",
          "Senior",
          "Senior",
          "Senior",
          "Senior",
          "Senior",
          "Senior",
          "Senior",
          "Senior",
          "Senior",
          "Senior",
          "Senior",
          "Senior",
          "Senior",
          "Senior",
          "Senior",
          "Senior",
          "Senior",
          "Senior",
          "Senior",
          "Senior",
          "Senior",
          "Senior",
          "Senior",
          "Senior",
          "Senior",
          "Senior",
          "Senior",
          "Senior",
          "Senior",
          "Senior",
          "Senior",
          "Senior",
          "Senior",
          "Senior",
          "Senior",
          "Senior",
          "Senior",
          "Senior",
          "Senior",
          "Senior",
          "Senior",
          "Senior",
          "Senior",
          "Senior",
          "Senior",
          "Senior",
          "Senior",
          "Senior",
          "Senior",
          "Senior",
          "Senior",
          "Senior",
          "Senior",
          "Senior",
          "Senior",
          "Senior",
          "Senior",
          "Senior",
          "Senior",
          "Senior",
          "Senior",
          "Senior",
          "Senior",
          "Senior",
          "Senior",
          "Senior",
          "Senior",
          "Senior",
          "Senior",
          "Senior",
          "Senior",
          "Senior",
          "Senior",
          "Senior",
          "Senior",
          "Senior",
          "Senior",
          "Senior",
          "Senior",
          "Senior",
          "Senior",
          "Senior",
          "Senior",
          "Senior"
         ],
         "y0": " ",
         "yaxis": "y"
        },
        {
         "alignmentgroup": "True",
         "hovertemplate": "Experience Level=%{y}<br>Salary in USD=%{x}<extra></extra>",
         "legendgroup": "Entry",
         "marker": {
          "color": "#00cc96"
         },
         "name": "Entry",
         "notched": false,
         "offsetgroup": "Entry",
         "orientation": "h",
         "showlegend": true,
         "type": "box",
         "x": [
          72000,
          51321,
          39916,
          41689,
          5707,
          42000,
          100000,
          70000,
          250000,
          10000,
          138000,
          15966,
          6072,
          91000,
          45896,
          54742,
          21669,
          62726,
          49268,
          105000,
          82528,
          80000,
          59102,
          76833,
          29751,
          12000,
          70000,
          30428,
          12000,
          225000,
          90000,
          50000,
          110037,
          10354,
          20000,
          100000,
          49646,
          100000,
          80000,
          13400,
          125000,
          63831,
          80000,
          55000,
          60000,
          81000,
          21844,
          9272,
          90000,
          5882,
          24823,
          28609,
          16228,
          4000,
          21637,
          18053,
          36643,
          90000,
          28399,
          65013,
          72500,
          76833,
          85000,
          100000,
          58000,
          59102,
          100000,
          52351,
          45807,
          37300,
          21983,
          125000,
          100000,
          18442,
          120000,
          100000,
          31875,
          58035,
          52396,
          40000,
          86703,
          120000,
          150000,
          65000,
          20000,
          10000,
          67000,
          52000
         ],
         "x0": " ",
         "xaxis": "x",
         "y": [
          "Entry",
          "Entry",
          "Entry",
          "Entry",
          "Entry",
          "Entry",
          "Entry",
          "Entry",
          "Entry",
          "Entry",
          "Entry",
          "Entry",
          "Entry",
          "Entry",
          "Entry",
          "Entry",
          "Entry",
          "Entry",
          "Entry",
          "Entry",
          "Entry",
          "Entry",
          "Entry",
          "Entry",
          "Entry",
          "Entry",
          "Entry",
          "Entry",
          "Entry",
          "Entry",
          "Entry",
          "Entry",
          "Entry",
          "Entry",
          "Entry",
          "Entry",
          "Entry",
          "Entry",
          "Entry",
          "Entry",
          "Entry",
          "Entry",
          "Entry",
          "Entry",
          "Entry",
          "Entry",
          "Entry",
          "Entry",
          "Entry",
          "Entry",
          "Entry",
          "Entry",
          "Entry",
          "Entry",
          "Entry",
          "Entry",
          "Entry",
          "Entry",
          "Entry",
          "Entry",
          "Entry",
          "Entry",
          "Entry",
          "Entry",
          "Entry",
          "Entry",
          "Entry",
          "Entry",
          "Entry",
          "Entry",
          "Entry",
          "Entry",
          "Entry",
          "Entry",
          "Entry",
          "Entry",
          "Entry",
          "Entry",
          "Entry",
          "Entry",
          "Entry",
          "Entry",
          "Entry",
          "Entry",
          "Entry",
          "Entry",
          "Entry",
          "Entry"
         ],
         "y0": " ",
         "yaxis": "y"
        },
        {
         "alignmentgroup": "True",
         "hovertemplate": "Experience Level=%{y}<br>Salary in USD=%{x}<extra></extra>",
         "legendgroup": "Executive",
         "marker": {
          "color": "#ab63fa"
         },
         "name": "Executive",
         "notched": false,
         "offsetgroup": "Executive",
         "orientation": "h",
         "showlegend": true,
         "type": "box",
         "x": [
          325000,
          79833,
          150000,
          235000,
          153667,
          230000,
          85000,
          130026,
          250000,
          69741,
          416000,
          600000,
          141846,
          242000,
          200000,
          130000,
          110000,
          224000,
          167875,
          175000,
          135000,
          118187,
          79039,
          196979,
          324000,
          216000
         ],
         "x0": " ",
         "xaxis": "x",
         "y": [
          "Executive",
          "Executive",
          "Executive",
          "Executive",
          "Executive",
          "Executive",
          "Executive",
          "Executive",
          "Executive",
          "Executive",
          "Executive",
          "Executive",
          "Executive",
          "Executive",
          "Executive",
          "Executive",
          "Executive",
          "Executive",
          "Executive",
          "Executive",
          "Executive",
          "Executive",
          "Executive",
          "Executive",
          "Executive",
          "Executive"
         ],
         "y0": " ",
         "yaxis": "y"
        }
       ],
       "layout": {
        "boxmode": "overlay",
        "legend": {
         "title": {
          "text": "Experience Level"
         },
         "tracegroupgap": 0
        },
        "template": {
         "data": {
          "bar": [
           {
            "error_x": {
             "color": "#2a3f5f"
            },
            "error_y": {
             "color": "#2a3f5f"
            },
            "marker": {
             "line": {
              "color": "#E5ECF6",
              "width": 0.5
             },
             "pattern": {
              "fillmode": "overlay",
              "size": 10,
              "solidity": 0.2
             }
            },
            "type": "bar"
           }
          ],
          "barpolar": [
           {
            "marker": {
             "line": {
              "color": "#E5ECF6",
              "width": 0.5
             },
             "pattern": {
              "fillmode": "overlay",
              "size": 10,
              "solidity": 0.2
             }
            },
            "type": "barpolar"
           }
          ],
          "carpet": [
           {
            "aaxis": {
             "endlinecolor": "#2a3f5f",
             "gridcolor": "white",
             "linecolor": "white",
             "minorgridcolor": "white",
             "startlinecolor": "#2a3f5f"
            },
            "baxis": {
             "endlinecolor": "#2a3f5f",
             "gridcolor": "white",
             "linecolor": "white",
             "minorgridcolor": "white",
             "startlinecolor": "#2a3f5f"
            },
            "type": "carpet"
           }
          ],
          "choropleth": [
           {
            "colorbar": {
             "outlinewidth": 0,
             "ticks": ""
            },
            "type": "choropleth"
           }
          ],
          "contour": [
           {
            "colorbar": {
             "outlinewidth": 0,
             "ticks": ""
            },
            "colorscale": [
             [
              0,
              "#0d0887"
             ],
             [
              0.1111111111111111,
              "#46039f"
             ],
             [
              0.2222222222222222,
              "#7201a8"
             ],
             [
              0.3333333333333333,
              "#9c179e"
             ],
             [
              0.4444444444444444,
              "#bd3786"
             ],
             [
              0.5555555555555556,
              "#d8576b"
             ],
             [
              0.6666666666666666,
              "#ed7953"
             ],
             [
              0.7777777777777778,
              "#fb9f3a"
             ],
             [
              0.8888888888888888,
              "#fdca26"
             ],
             [
              1,
              "#f0f921"
             ]
            ],
            "type": "contour"
           }
          ],
          "contourcarpet": [
           {
            "colorbar": {
             "outlinewidth": 0,
             "ticks": ""
            },
            "type": "contourcarpet"
           }
          ],
          "heatmap": [
           {
            "colorbar": {
             "outlinewidth": 0,
             "ticks": ""
            },
            "colorscale": [
             [
              0,
              "#0d0887"
             ],
             [
              0.1111111111111111,
              "#46039f"
             ],
             [
              0.2222222222222222,
              "#7201a8"
             ],
             [
              0.3333333333333333,
              "#9c179e"
             ],
             [
              0.4444444444444444,
              "#bd3786"
             ],
             [
              0.5555555555555556,
              "#d8576b"
             ],
             [
              0.6666666666666666,
              "#ed7953"
             ],
             [
              0.7777777777777778,
              "#fb9f3a"
             ],
             [
              0.8888888888888888,
              "#fdca26"
             ],
             [
              1,
              "#f0f921"
             ]
            ],
            "type": "heatmap"
           }
          ],
          "heatmapgl": [
           {
            "colorbar": {
             "outlinewidth": 0,
             "ticks": ""
            },
            "colorscale": [
             [
              0,
              "#0d0887"
             ],
             [
              0.1111111111111111,
              "#46039f"
             ],
             [
              0.2222222222222222,
              "#7201a8"
             ],
             [
              0.3333333333333333,
              "#9c179e"
             ],
             [
              0.4444444444444444,
              "#bd3786"
             ],
             [
              0.5555555555555556,
              "#d8576b"
             ],
             [
              0.6666666666666666,
              "#ed7953"
             ],
             [
              0.7777777777777778,
              "#fb9f3a"
             ],
             [
              0.8888888888888888,
              "#fdca26"
             ],
             [
              1,
              "#f0f921"
             ]
            ],
            "type": "heatmapgl"
           }
          ],
          "histogram": [
           {
            "marker": {
             "pattern": {
              "fillmode": "overlay",
              "size": 10,
              "solidity": 0.2
             }
            },
            "type": "histogram"
           }
          ],
          "histogram2d": [
           {
            "colorbar": {
             "outlinewidth": 0,
             "ticks": ""
            },
            "colorscale": [
             [
              0,
              "#0d0887"
             ],
             [
              0.1111111111111111,
              "#46039f"
             ],
             [
              0.2222222222222222,
              "#7201a8"
             ],
             [
              0.3333333333333333,
              "#9c179e"
             ],
             [
              0.4444444444444444,
              "#bd3786"
             ],
             [
              0.5555555555555556,
              "#d8576b"
             ],
             [
              0.6666666666666666,
              "#ed7953"
             ],
             [
              0.7777777777777778,
              "#fb9f3a"
             ],
             [
              0.8888888888888888,
              "#fdca26"
             ],
             [
              1,
              "#f0f921"
             ]
            ],
            "type": "histogram2d"
           }
          ],
          "histogram2dcontour": [
           {
            "colorbar": {
             "outlinewidth": 0,
             "ticks": ""
            },
            "colorscale": [
             [
              0,
              "#0d0887"
             ],
             [
              0.1111111111111111,
              "#46039f"
             ],
             [
              0.2222222222222222,
              "#7201a8"
             ],
             [
              0.3333333333333333,
              "#9c179e"
             ],
             [
              0.4444444444444444,
              "#bd3786"
             ],
             [
              0.5555555555555556,
              "#d8576b"
             ],
             [
              0.6666666666666666,
              "#ed7953"
             ],
             [
              0.7777777777777778,
              "#fb9f3a"
             ],
             [
              0.8888888888888888,
              "#fdca26"
             ],
             [
              1,
              "#f0f921"
             ]
            ],
            "type": "histogram2dcontour"
           }
          ],
          "mesh3d": [
           {
            "colorbar": {
             "outlinewidth": 0,
             "ticks": ""
            },
            "type": "mesh3d"
           }
          ],
          "parcoords": [
           {
            "line": {
             "colorbar": {
              "outlinewidth": 0,
              "ticks": ""
             }
            },
            "type": "parcoords"
           }
          ],
          "pie": [
           {
            "automargin": true,
            "type": "pie"
           }
          ],
          "scatter": [
           {
            "marker": {
             "colorbar": {
              "outlinewidth": 0,
              "ticks": ""
             }
            },
            "type": "scatter"
           }
          ],
          "scatter3d": [
           {
            "line": {
             "colorbar": {
              "outlinewidth": 0,
              "ticks": ""
             }
            },
            "marker": {
             "colorbar": {
              "outlinewidth": 0,
              "ticks": ""
             }
            },
            "type": "scatter3d"
           }
          ],
          "scattercarpet": [
           {
            "marker": {
             "colorbar": {
              "outlinewidth": 0,
              "ticks": ""
             }
            },
            "type": "scattercarpet"
           }
          ],
          "scattergeo": [
           {
            "marker": {
             "colorbar": {
              "outlinewidth": 0,
              "ticks": ""
             }
            },
            "type": "scattergeo"
           }
          ],
          "scattergl": [
           {
            "marker": {
             "colorbar": {
              "outlinewidth": 0,
              "ticks": ""
             }
            },
            "type": "scattergl"
           }
          ],
          "scattermapbox": [
           {
            "marker": {
             "colorbar": {
              "outlinewidth": 0,
              "ticks": ""
             }
            },
            "type": "scattermapbox"
           }
          ],
          "scatterpolar": [
           {
            "marker": {
             "colorbar": {
              "outlinewidth": 0,
              "ticks": ""
             }
            },
            "type": "scatterpolar"
           }
          ],
          "scatterpolargl": [
           {
            "marker": {
             "colorbar": {
              "outlinewidth": 0,
              "ticks": ""
             }
            },
            "type": "scatterpolargl"
           }
          ],
          "scatterternary": [
           {
            "marker": {
             "colorbar": {
              "outlinewidth": 0,
              "ticks": ""
             }
            },
            "type": "scatterternary"
           }
          ],
          "surface": [
           {
            "colorbar": {
             "outlinewidth": 0,
             "ticks": ""
            },
            "colorscale": [
             [
              0,
              "#0d0887"
             ],
             [
              0.1111111111111111,
              "#46039f"
             ],
             [
              0.2222222222222222,
              "#7201a8"
             ],
             [
              0.3333333333333333,
              "#9c179e"
             ],
             [
              0.4444444444444444,
              "#bd3786"
             ],
             [
              0.5555555555555556,
              "#d8576b"
             ],
             [
              0.6666666666666666,
              "#ed7953"
             ],
             [
              0.7777777777777778,
              "#fb9f3a"
             ],
             [
              0.8888888888888888,
              "#fdca26"
             ],
             [
              1,
              "#f0f921"
             ]
            ],
            "type": "surface"
           }
          ],
          "table": [
           {
            "cells": {
             "fill": {
              "color": "#EBF0F8"
             },
             "line": {
              "color": "white"
             }
            },
            "header": {
             "fill": {
              "color": "#C8D4E3"
             },
             "line": {
              "color": "white"
             }
            },
            "type": "table"
           }
          ]
         },
         "layout": {
          "annotationdefaults": {
           "arrowcolor": "#2a3f5f",
           "arrowhead": 0,
           "arrowwidth": 1
          },
          "autotypenumbers": "strict",
          "coloraxis": {
           "colorbar": {
            "outlinewidth": 0,
            "ticks": ""
           }
          },
          "colorscale": {
           "diverging": [
            [
             0,
             "#8e0152"
            ],
            [
             0.1,
             "#c51b7d"
            ],
            [
             0.2,
             "#de77ae"
            ],
            [
             0.3,
             "#f1b6da"
            ],
            [
             0.4,
             "#fde0ef"
            ],
            [
             0.5,
             "#f7f7f7"
            ],
            [
             0.6,
             "#e6f5d0"
            ],
            [
             0.7,
             "#b8e186"
            ],
            [
             0.8,
             "#7fbc41"
            ],
            [
             0.9,
             "#4d9221"
            ],
            [
             1,
             "#276419"
            ]
           ],
           "sequential": [
            [
             0,
             "#0d0887"
            ],
            [
             0.1111111111111111,
             "#46039f"
            ],
            [
             0.2222222222222222,
             "#7201a8"
            ],
            [
             0.3333333333333333,
             "#9c179e"
            ],
            [
             0.4444444444444444,
             "#bd3786"
            ],
            [
             0.5555555555555556,
             "#d8576b"
            ],
            [
             0.6666666666666666,
             "#ed7953"
            ],
            [
             0.7777777777777778,
             "#fb9f3a"
            ],
            [
             0.8888888888888888,
             "#fdca26"
            ],
            [
             1,
             "#f0f921"
            ]
           ],
           "sequentialminus": [
            [
             0,
             "#0d0887"
            ],
            [
             0.1111111111111111,
             "#46039f"
            ],
            [
             0.2222222222222222,
             "#7201a8"
            ],
            [
             0.3333333333333333,
             "#9c179e"
            ],
            [
             0.4444444444444444,
             "#bd3786"
            ],
            [
             0.5555555555555556,
             "#d8576b"
            ],
            [
             0.6666666666666666,
             "#ed7953"
            ],
            [
             0.7777777777777778,
             "#fb9f3a"
            ],
            [
             0.8888888888888888,
             "#fdca26"
            ],
            [
             1,
             "#f0f921"
            ]
           ]
          },
          "colorway": [
           "#636efa",
           "#EF553B",
           "#00cc96",
           "#ab63fa",
           "#FFA15A",
           "#19d3f3",
           "#FF6692",
           "#B6E880",
           "#FF97FF",
           "#FECB52"
          ],
          "font": {
           "color": "#2a3f5f"
          },
          "geo": {
           "bgcolor": "white",
           "lakecolor": "white",
           "landcolor": "#E5ECF6",
           "showlakes": true,
           "showland": true,
           "subunitcolor": "white"
          },
          "hoverlabel": {
           "align": "left"
          },
          "hovermode": "closest",
          "mapbox": {
           "style": "light"
          },
          "paper_bgcolor": "white",
          "plot_bgcolor": "#E5ECF6",
          "polar": {
           "angularaxis": {
            "gridcolor": "white",
            "linecolor": "white",
            "ticks": ""
           },
           "bgcolor": "#E5ECF6",
           "radialaxis": {
            "gridcolor": "white",
            "linecolor": "white",
            "ticks": ""
           }
          },
          "scene": {
           "xaxis": {
            "backgroundcolor": "#E5ECF6",
            "gridcolor": "white",
            "gridwidth": 2,
            "linecolor": "white",
            "showbackground": true,
            "ticks": "",
            "zerolinecolor": "white"
           },
           "yaxis": {
            "backgroundcolor": "#E5ECF6",
            "gridcolor": "white",
            "gridwidth": 2,
            "linecolor": "white",
            "showbackground": true,
            "ticks": "",
            "zerolinecolor": "white"
           },
           "zaxis": {
            "backgroundcolor": "#E5ECF6",
            "gridcolor": "white",
            "gridwidth": 2,
            "linecolor": "white",
            "showbackground": true,
            "ticks": "",
            "zerolinecolor": "white"
           }
          },
          "shapedefaults": {
           "line": {
            "color": "#2a3f5f"
           }
          },
          "ternary": {
           "aaxis": {
            "gridcolor": "white",
            "linecolor": "white",
            "ticks": ""
           },
           "baxis": {
            "gridcolor": "white",
            "linecolor": "white",
            "ticks": ""
           },
           "bgcolor": "#E5ECF6",
           "caxis": {
            "gridcolor": "white",
            "linecolor": "white",
            "ticks": ""
           }
          },
          "title": {
           "x": 0.05
          },
          "xaxis": {
           "automargin": true,
           "gridcolor": "white",
           "linecolor": "white",
           "ticks": "",
           "title": {
            "standoff": 15
           },
           "zerolinecolor": "white",
           "zerolinewidth": 2
          },
          "yaxis": {
           "automargin": true,
           "gridcolor": "white",
           "linecolor": "white",
           "ticks": "",
           "title": {
            "standoff": 15
           },
           "zerolinecolor": "white",
           "zerolinewidth": 2
          }
         }
        },
        "title": {
         "text": "Experience Vs Salary"
        },
        "xaxis": {
         "anchor": "y",
         "domain": [
          0,
          1
         ],
         "title": {
          "text": "Salary in USD"
         }
        },
        "yaxis": {
         "anchor": "x",
         "categoryarray": [
          "Executive",
          "Entry",
          "Senior",
          "Mid"
         ],
         "categoryorder": "array",
         "domain": [
          0,
          1
         ],
         "title": {
          "text": "Experience Level"
         }
        }
       }
      }
     },
     "metadata": {},
     "output_type": "display_data"
    }
   ],
   "source": [
    "px.box(\n",
    "    data_frame=df,\n",
    "    x=\"salary_in_usd\",\n",
    "    y=\"experience_level\",\n",
    "    labels = {\"experience_level\": \"Experience Level\", \"salary_in_usd\": \"Salary in USD\"},\n",
    "    color=\"experience_level\",\n",
    "    title = \"Experience Vs Salary\",\n",
    ")"
   ]
  },
  {
   "cell_type": "code",
   "execution_count": 21,
   "metadata": {},
   "outputs": [
    {
     "data": {
      "application/vnd.plotly.v1+json": {
       "config": {
        "plotlyServerURL": "https://plot.ly"
       },
       "data": [
        {
         "alignmentgroup": "True",
         "hovertemplate": "Work Model=%{y}<br>Salary in USD=%{x}<extra></extra>",
         "legendgroup": "On-site",
         "marker": {
          "color": "#636efa"
         },
         "name": "On-site",
         "notched": false,
         "offsetgroup": "On-site",
         "orientation": "h",
         "showlegend": true,
         "type": "box",
         "x": [
          79833,
          260000,
          20000,
          51321,
          40481,
          39916,
          43331,
          98000,
          115000,
          33511,
          450000,
          50180,
          6072,
          49268,
          91237,
          276000,
          75000,
          62000,
          73000,
          110037,
          9466,
          100000,
          220000,
          240000,
          150000,
          168000,
          85000,
          250000,
          2859,
          22611,
          26005,
          18000,
          12901,
          165000,
          20000,
          120000,
          5882,
          33808,
          135000,
          110000,
          4000,
          12103,
          141846,
          66265,
          93150,
          111775,
          18907,
          76833,
          100000,
          130000,
          90000,
          117789,
          104702,
          99000,
          116000,
          106260,
          126500,
          65438,
          39263,
          78526,
          52351,
          181940,
          132320,
          220110,
          160080,
          180000,
          120000,
          108800,
          95550,
          113000,
          78526,
          65438,
          150000,
          160000,
          136000,
          58000,
          189650,
          164996,
          54957,
          54957,
          132000,
          164000,
          124333,
          98158,
          120000,
          117789,
          115934,
          81666,
          98158,
          58000,
          71982,
          45807,
          63900,
          180000,
          80000,
          82900,
          140400,
          189650,
          164996,
          215300,
          125000,
          87932,
          183228,
          91614,
          64849,
          20000,
          122346,
          85000,
          75000,
          141300,
          102100,
          206699,
          99100,
          205300,
          140400,
          70500,
          205300,
          140400,
          205300,
          184700,
          54000,
          65438,
          45807,
          99000,
          67000,
          52000,
          129000
         ],
         "x0": " ",
         "xaxis": "x",
         "y": [
          "On-site",
          "On-site",
          "On-site",
          "On-site",
          "On-site",
          "On-site",
          "On-site",
          "On-site",
          "On-site",
          "On-site",
          "On-site",
          "On-site",
          "On-site",
          "On-site",
          "On-site",
          "On-site",
          "On-site",
          "On-site",
          "On-site",
          "On-site",
          "On-site",
          "On-site",
          "On-site",
          "On-site",
          "On-site",
          "On-site",
          "On-site",
          "On-site",
          "On-site",
          "On-site",
          "On-site",
          "On-site",
          "On-site",
          "On-site",
          "On-site",
          "On-site",
          "On-site",
          "On-site",
          "On-site",
          "On-site",
          "On-site",
          "On-site",
          "On-site",
          "On-site",
          "On-site",
          "On-site",
          "On-site",
          "On-site",
          "On-site",
          "On-site",
          "On-site",
          "On-site",
          "On-site",
          "On-site",
          "On-site",
          "On-site",
          "On-site",
          "On-site",
          "On-site",
          "On-site",
          "On-site",
          "On-site",
          "On-site",
          "On-site",
          "On-site",
          "On-site",
          "On-site",
          "On-site",
          "On-site",
          "On-site",
          "On-site",
          "On-site",
          "On-site",
          "On-site",
          "On-site",
          "On-site",
          "On-site",
          "On-site",
          "On-site",
          "On-site",
          "On-site",
          "On-site",
          "On-site",
          "On-site",
          "On-site",
          "On-site",
          "On-site",
          "On-site",
          "On-site",
          "On-site",
          "On-site",
          "On-site",
          "On-site",
          "On-site",
          "On-site",
          "On-site",
          "On-site",
          "On-site",
          "On-site",
          "On-site",
          "On-site",
          "On-site",
          "On-site",
          "On-site",
          "On-site",
          "On-site",
          "On-site",
          "On-site",
          "On-site",
          "On-site",
          "On-site",
          "On-site",
          "On-site",
          "On-site",
          "On-site",
          "On-site",
          "On-site",
          "On-site",
          "On-site",
          "On-site",
          "On-site",
          "On-site",
          "On-site",
          "On-site",
          "On-site",
          "On-site",
          "On-site"
         ],
         "y0": " ",
         "yaxis": "y"
        },
        {
         "alignmentgroup": "True",
         "hovertemplate": "Work Model=%{y}<br>Salary in USD=%{x}<extra></extra>",
         "legendgroup": "Hybrid",
         "marker": {
          "color": "#EF553B"
         },
         "name": "Hybrid",
         "notched": false,
         "offsetgroup": "Hybrid",
         "orientation": "h",
         "showlegend": true,
         "type": "box",
         "x": [
          109024,
          150000,
          35735,
          125000,
          8000,
          5707,
          47899,
          42000,
          117104,
          46759,
          74130,
          250000,
          79833,
          112872,
          70139,
          45896,
          120000,
          21669,
          62726,
          62726,
          42197,
          82528,
          53192,
          5409,
          54238,
          59102,
          29751,
          89294,
          36259,
          51519,
          94564,
          60000,
          10354,
          120000,
          40570,
          100000,
          49646,
          63711,
          77364,
          82744,
          62649,
          127221,
          423000,
          230000,
          28369,
          63831,
          130026,
          55000,
          60757,
          81000,
          90734,
          61896,
          12000,
          76833,
          74000,
          21844,
          96113,
          147000,
          54094,
          61467,
          24823,
          56738,
          66022,
          24823,
          28609,
          90734,
          116914,
          56256,
          88654,
          21637,
          72212,
          36643,
          96282,
          115000,
          99703,
          185000,
          130000,
          63831,
          160000,
          65013,
          77684,
          58000,
          20171,
          69999,
          94665,
          109000,
          51064,
          79039,
          196979,
          37236,
          58255,
          100000,
          54957,
          144000,
          100000,
          153000,
          93427,
          86703,
          70912
         ],
         "x0": " ",
         "xaxis": "x",
         "y": [
          "Hybrid",
          "Hybrid",
          "Hybrid",
          "Hybrid",
          "Hybrid",
          "Hybrid",
          "Hybrid",
          "Hybrid",
          "Hybrid",
          "Hybrid",
          "Hybrid",
          "Hybrid",
          "Hybrid",
          "Hybrid",
          "Hybrid",
          "Hybrid",
          "Hybrid",
          "Hybrid",
          "Hybrid",
          "Hybrid",
          "Hybrid",
          "Hybrid",
          "Hybrid",
          "Hybrid",
          "Hybrid",
          "Hybrid",
          "Hybrid",
          "Hybrid",
          "Hybrid",
          "Hybrid",
          "Hybrid",
          "Hybrid",
          "Hybrid",
          "Hybrid",
          "Hybrid",
          "Hybrid",
          "Hybrid",
          "Hybrid",
          "Hybrid",
          "Hybrid",
          "Hybrid",
          "Hybrid",
          "Hybrid",
          "Hybrid",
          "Hybrid",
          "Hybrid",
          "Hybrid",
          "Hybrid",
          "Hybrid",
          "Hybrid",
          "Hybrid",
          "Hybrid",
          "Hybrid",
          "Hybrid",
          "Hybrid",
          "Hybrid",
          "Hybrid",
          "Hybrid",
          "Hybrid",
          "Hybrid",
          "Hybrid",
          "Hybrid",
          "Hybrid",
          "Hybrid",
          "Hybrid",
          "Hybrid",
          "Hybrid",
          "Hybrid",
          "Hybrid",
          "Hybrid",
          "Hybrid",
          "Hybrid",
          "Hybrid",
          "Hybrid",
          "Hybrid",
          "Hybrid",
          "Hybrid",
          "Hybrid",
          "Hybrid",
          "Hybrid",
          "Hybrid",
          "Hybrid",
          "Hybrid",
          "Hybrid",
          "Hybrid",
          "Hybrid",
          "Hybrid",
          "Hybrid",
          "Hybrid",
          "Hybrid",
          "Hybrid",
          "Hybrid",
          "Hybrid",
          "Hybrid",
          "Hybrid",
          "Hybrid",
          "Hybrid",
          "Hybrid",
          "Hybrid"
         ],
         "y0": " ",
         "yaxis": "y"
        },
        {
         "alignmentgroup": "True",
         "hovertemplate": "Work Model=%{y}<br>Salary in USD=%{x}<extra></extra>",
         "legendgroup": "Remote",
         "marker": {
          "color": "#00cc96"
         },
         "name": "Remote",
         "notched": false,
         "offsetgroup": "Remote",
         "orientation": "h",
         "showlegend": true,
         "type": "box",
         "x": [
          72000,
          190000,
          135000,
          87000,
          85000,
          41689,
          114047,
          56000,
          6072,
          325000,
          100000,
          59303,
          70000,
          68428,
          103000,
          10000,
          138000,
          45760,
          106000,
          15966,
          76958,
          188000,
          105000,
          91000,
          54742,
          60000,
          148261,
          38776,
          118000,
          138350,
          110000,
          130800,
          412000,
          45618,
          190200,
          105000,
          150000,
          235000,
          100000,
          270000,
          80000,
          79197,
          140000,
          47282,
          153667,
          28476,
          110000,
          170000,
          80000,
          88654,
          76833,
          19609,
          12000,
          450000,
          70000,
          95746,
          150000,
          187442,
          115000,
          150000,
          30428,
          113476,
          103160,
          12000,
          45391,
          225000,
          50000,
          40189,
          90000,
          200000,
          200000,
          50000,
          151000,
          20000,
          38400,
          24000,
          90000,
          80000,
          135000,
          82500,
          100000,
          90000,
          153000,
          160000,
          150000,
          75774,
          13400,
          144000,
          119059,
          120000,
          125000,
          165000,
          80000,
          150000,
          170000,
          82528,
          60000,
          235000,
          174000,
          40038,
          5679,
          4000,
          50000,
          69741,
          152000,
          174000,
          9272,
          24342,
          90000,
          195000,
          37825,
          50000,
          160000,
          200000,
          185000,
          88654,
          140000,
          46597,
          225000,
          416000,
          87738,
          71786,
          16228,
          256000,
          200000,
          200000,
          180000,
          63810,
          46809,
          103691,
          80000,
          110000,
          165000,
          18053,
          170000,
          90000,
          600000,
          28399,
          93000,
          200000,
          173762,
          16904,
          25532,
          28016,
          72500,
          85000,
          100000,
          55000,
          59102,
          112000,
          69741,
          105000,
          102839,
          135000,
          155000,
          120600,
          170000,
          150000,
          102100,
          84900,
          136620,
          99360,
          146000,
          123000,
          52351,
          242000,
          200000,
          165220,
          45807,
          120160,
          90320,
          124190,
          130000,
          110000,
          170000,
          115500,
          112900,
          90320,
          112900,
          90320,
          165400,
          132320,
          167000,
          243900,
          136600,
          109280,
          128875,
          93700,
          224000,
          167875,
          175000,
          156600,
          135000,
          161342,
          137141,
          167000,
          123000,
          211500,
          192400,
          90700,
          130000,
          61300,
          130000,
          61300,
          138600,
          135000,
          170000,
          123000,
          118187,
          165400,
          208775,
          147800,
          136994,
          101570,
          128875,
          93700,
          132320,
          37300,
          155000,
          112900,
          90320,
          145000,
          105400,
          87932,
          215300,
          158200,
          209100,
          154600,
          175000,
          183600,
          52351,
          180000,
          65949,
          49461,
          78526,
          58894,
          260000,
          60000,
          160000,
          112300,
          241000,
          159000,
          100800,
          49461,
          39263,
          43966,
          32974,
          87932,
          76940,
          104702,
          91614,
          65949,
          87932,
          43966,
          32974,
          98158,
          78526,
          76940,
          209100,
          154600,
          180000,
          21983,
          80000,
          78791,
          120000,
          105000,
          18442,
          31615,
          18442,
          162674,
          120000,
          104890,
          100000,
          140000,
          135000,
          50000,
          220000,
          140000,
          185100,
          220000,
          200000,
          120000,
          120000,
          65000,
          324000,
          216000,
          210000,
          120000,
          230000,
          100000,
          31875,
          200000,
          75000,
          35590,
          78791,
          100000,
          58035,
          165000,
          52396,
          62651,
          32974,
          40000,
          87425,
          115000,
          75000,
          120000,
          157000,
          150000,
          65000,
          71444,
          48000,
          152500,
          68147,
          380000,
          69336,
          10000,
          20000,
          405000,
          135000,
          177000,
          78000,
          135000,
          100000,
          90320,
          214000,
          192600,
          266400,
          213120,
          112900,
          155000,
          115934,
          81666,
          130000,
          115000,
          110500,
          130000,
          99050,
          160000,
          176000,
          144000,
          200100,
          160000,
          145000,
          175100,
          140250,
          116150,
          170000,
          80000,
          140000,
          210000,
          140000,
          100000,
          69000,
          210000,
          140000,
          210000,
          150075,
          100000,
          25000,
          126500,
          106260,
          220110,
          160080,
          105000,
          110925,
          140000,
          60000,
          192564,
          144854,
          230000,
          150000,
          150260,
          109280,
          210000,
          170000,
          160000,
          130000,
          154000,
          126000,
          150000,
          200000
         ],
         "x0": " ",
         "xaxis": "x",
         "y": [
          "Remote",
          "Remote",
          "Remote",
          "Remote",
          "Remote",
          "Remote",
          "Remote",
          "Remote",
          "Remote",
          "Remote",
          "Remote",
          "Remote",
          "Remote",
          "Remote",
          "Remote",
          "Remote",
          "Remote",
          "Remote",
          "Remote",
          "Remote",
          "Remote",
          "Remote",
          "Remote",
          "Remote",
          "Remote",
          "Remote",
          "Remote",
          "Remote",
          "Remote",
          "Remote",
          "Remote",
          "Remote",
          "Remote",
          "Remote",
          "Remote",
          "Remote",
          "Remote",
          "Remote",
          "Remote",
          "Remote",
          "Remote",
          "Remote",
          "Remote",
          "Remote",
          "Remote",
          "Remote",
          "Remote",
          "Remote",
          "Remote",
          "Remote",
          "Remote",
          "Remote",
          "Remote",
          "Remote",
          "Remote",
          "Remote",
          "Remote",
          "Remote",
          "Remote",
          "Remote",
          "Remote",
          "Remote",
          "Remote",
          "Remote",
          "Remote",
          "Remote",
          "Remote",
          "Remote",
          "Remote",
          "Remote",
          "Remote",
          "Remote",
          "Remote",
          "Remote",
          "Remote",
          "Remote",
          "Remote",
          "Remote",
          "Remote",
          "Remote",
          "Remote",
          "Remote",
          "Remote",
          "Remote",
          "Remote",
          "Remote",
          "Remote",
          "Remote",
          "Remote",
          "Remote",
          "Remote",
          "Remote",
          "Remote",
          "Remote",
          "Remote",
          "Remote",
          "Remote",
          "Remote",
          "Remote",
          "Remote",
          "Remote",
          "Remote",
          "Remote",
          "Remote",
          "Remote",
          "Remote",
          "Remote",
          "Remote",
          "Remote",
          "Remote",
          "Remote",
          "Remote",
          "Remote",
          "Remote",
          "Remote",
          "Remote",
          "Remote",
          "Remote",
          "Remote",
          "Remote",
          "Remote",
          "Remote",
          "Remote",
          "Remote",
          "Remote",
          "Remote",
          "Remote",
          "Remote",
          "Remote",
          "Remote",
          "Remote",
          "Remote",
          "Remote",
          "Remote",
          "Remote",
          "Remote",
          "Remote",
          "Remote",
          "Remote",
          "Remote",
          "Remote",
          "Remote",
          "Remote",
          "Remote",
          "Remote",
          "Remote",
          "Remote",
          "Remote",
          "Remote",
          "Remote",
          "Remote",
          "Remote",
          "Remote",
          "Remote",
          "Remote",
          "Remote",
          "Remote",
          "Remote",
          "Remote",
          "Remote",
          "Remote",
          "Remote",
          "Remote",
          "Remote",
          "Remote",
          "Remote",
          "Remote",
          "Remote",
          "Remote",
          "Remote",
          "Remote",
          "Remote",
          "Remote",
          "Remote",
          "Remote",
          "Remote",
          "Remote",
          "Remote",
          "Remote",
          "Remote",
          "Remote",
          "Remote",
          "Remote",
          "Remote",
          "Remote",
          "Remote",
          "Remote",
          "Remote",
          "Remote",
          "Remote",
          "Remote",
          "Remote",
          "Remote",
          "Remote",
          "Remote",
          "Remote",
          "Remote",
          "Remote",
          "Remote",
          "Remote",
          "Remote",
          "Remote",
          "Remote",
          "Remote",
          "Remote",
          "Remote",
          "Remote",
          "Remote",
          "Remote",
          "Remote",
          "Remote",
          "Remote",
          "Remote",
          "Remote",
          "Remote",
          "Remote",
          "Remote",
          "Remote",
          "Remote",
          "Remote",
          "Remote",
          "Remote",
          "Remote",
          "Remote",
          "Remote",
          "Remote",
          "Remote",
          "Remote",
          "Remote",
          "Remote",
          "Remote",
          "Remote",
          "Remote",
          "Remote",
          "Remote",
          "Remote",
          "Remote",
          "Remote",
          "Remote",
          "Remote",
          "Remote",
          "Remote",
          "Remote",
          "Remote",
          "Remote",
          "Remote",
          "Remote",
          "Remote",
          "Remote",
          "Remote",
          "Remote",
          "Remote",
          "Remote",
          "Remote",
          "Remote",
          "Remote",
          "Remote",
          "Remote",
          "Remote",
          "Remote",
          "Remote",
          "Remote",
          "Remote",
          "Remote",
          "Remote",
          "Remote",
          "Remote",
          "Remote",
          "Remote",
          "Remote",
          "Remote",
          "Remote",
          "Remote",
          "Remote",
          "Remote",
          "Remote",
          "Remote",
          "Remote",
          "Remote",
          "Remote",
          "Remote",
          "Remote",
          "Remote",
          "Remote",
          "Remote",
          "Remote",
          "Remote",
          "Remote",
          "Remote",
          "Remote",
          "Remote",
          "Remote",
          "Remote",
          "Remote",
          "Remote",
          "Remote",
          "Remote",
          "Remote",
          "Remote",
          "Remote",
          "Remote",
          "Remote",
          "Remote",
          "Remote",
          "Remote",
          "Remote",
          "Remote",
          "Remote",
          "Remote",
          "Remote",
          "Remote",
          "Remote",
          "Remote",
          "Remote",
          "Remote",
          "Remote",
          "Remote",
          "Remote",
          "Remote",
          "Remote",
          "Remote",
          "Remote",
          "Remote",
          "Remote",
          "Remote",
          "Remote",
          "Remote",
          "Remote",
          "Remote",
          "Remote",
          "Remote",
          "Remote",
          "Remote",
          "Remote",
          "Remote",
          "Remote",
          "Remote",
          "Remote",
          "Remote",
          "Remote",
          "Remote",
          "Remote",
          "Remote",
          "Remote",
          "Remote",
          "Remote",
          "Remote",
          "Remote",
          "Remote",
          "Remote",
          "Remote",
          "Remote",
          "Remote",
          "Remote",
          "Remote",
          "Remote",
          "Remote",
          "Remote",
          "Remote",
          "Remote",
          "Remote",
          "Remote",
          "Remote",
          "Remote",
          "Remote",
          "Remote",
          "Remote",
          "Remote",
          "Remote",
          "Remote",
          "Remote",
          "Remote",
          "Remote",
          "Remote",
          "Remote",
          "Remote",
          "Remote",
          "Remote",
          "Remote",
          "Remote",
          "Remote"
         ],
         "y0": " ",
         "yaxis": "y"
        }
       ],
       "layout": {
        "boxmode": "overlay",
        "legend": {
         "title": {
          "text": "Work Model"
         },
         "tracegroupgap": 0
        },
        "template": {
         "data": {
          "bar": [
           {
            "error_x": {
             "color": "#2a3f5f"
            },
            "error_y": {
             "color": "#2a3f5f"
            },
            "marker": {
             "line": {
              "color": "#E5ECF6",
              "width": 0.5
             },
             "pattern": {
              "fillmode": "overlay",
              "size": 10,
              "solidity": 0.2
             }
            },
            "type": "bar"
           }
          ],
          "barpolar": [
           {
            "marker": {
             "line": {
              "color": "#E5ECF6",
              "width": 0.5
             },
             "pattern": {
              "fillmode": "overlay",
              "size": 10,
              "solidity": 0.2
             }
            },
            "type": "barpolar"
           }
          ],
          "carpet": [
           {
            "aaxis": {
             "endlinecolor": "#2a3f5f",
             "gridcolor": "white",
             "linecolor": "white",
             "minorgridcolor": "white",
             "startlinecolor": "#2a3f5f"
            },
            "baxis": {
             "endlinecolor": "#2a3f5f",
             "gridcolor": "white",
             "linecolor": "white",
             "minorgridcolor": "white",
             "startlinecolor": "#2a3f5f"
            },
            "type": "carpet"
           }
          ],
          "choropleth": [
           {
            "colorbar": {
             "outlinewidth": 0,
             "ticks": ""
            },
            "type": "choropleth"
           }
          ],
          "contour": [
           {
            "colorbar": {
             "outlinewidth": 0,
             "ticks": ""
            },
            "colorscale": [
             [
              0,
              "#0d0887"
             ],
             [
              0.1111111111111111,
              "#46039f"
             ],
             [
              0.2222222222222222,
              "#7201a8"
             ],
             [
              0.3333333333333333,
              "#9c179e"
             ],
             [
              0.4444444444444444,
              "#bd3786"
             ],
             [
              0.5555555555555556,
              "#d8576b"
             ],
             [
              0.6666666666666666,
              "#ed7953"
             ],
             [
              0.7777777777777778,
              "#fb9f3a"
             ],
             [
              0.8888888888888888,
              "#fdca26"
             ],
             [
              1,
              "#f0f921"
             ]
            ],
            "type": "contour"
           }
          ],
          "contourcarpet": [
           {
            "colorbar": {
             "outlinewidth": 0,
             "ticks": ""
            },
            "type": "contourcarpet"
           }
          ],
          "heatmap": [
           {
            "colorbar": {
             "outlinewidth": 0,
             "ticks": ""
            },
            "colorscale": [
             [
              0,
              "#0d0887"
             ],
             [
              0.1111111111111111,
              "#46039f"
             ],
             [
              0.2222222222222222,
              "#7201a8"
             ],
             [
              0.3333333333333333,
              "#9c179e"
             ],
             [
              0.4444444444444444,
              "#bd3786"
             ],
             [
              0.5555555555555556,
              "#d8576b"
             ],
             [
              0.6666666666666666,
              "#ed7953"
             ],
             [
              0.7777777777777778,
              "#fb9f3a"
             ],
             [
              0.8888888888888888,
              "#fdca26"
             ],
             [
              1,
              "#f0f921"
             ]
            ],
            "type": "heatmap"
           }
          ],
          "heatmapgl": [
           {
            "colorbar": {
             "outlinewidth": 0,
             "ticks": ""
            },
            "colorscale": [
             [
              0,
              "#0d0887"
             ],
             [
              0.1111111111111111,
              "#46039f"
             ],
             [
              0.2222222222222222,
              "#7201a8"
             ],
             [
              0.3333333333333333,
              "#9c179e"
             ],
             [
              0.4444444444444444,
              "#bd3786"
             ],
             [
              0.5555555555555556,
              "#d8576b"
             ],
             [
              0.6666666666666666,
              "#ed7953"
             ],
             [
              0.7777777777777778,
              "#fb9f3a"
             ],
             [
              0.8888888888888888,
              "#fdca26"
             ],
             [
              1,
              "#f0f921"
             ]
            ],
            "type": "heatmapgl"
           }
          ],
          "histogram": [
           {
            "marker": {
             "pattern": {
              "fillmode": "overlay",
              "size": 10,
              "solidity": 0.2
             }
            },
            "type": "histogram"
           }
          ],
          "histogram2d": [
           {
            "colorbar": {
             "outlinewidth": 0,
             "ticks": ""
            },
            "colorscale": [
             [
              0,
              "#0d0887"
             ],
             [
              0.1111111111111111,
              "#46039f"
             ],
             [
              0.2222222222222222,
              "#7201a8"
             ],
             [
              0.3333333333333333,
              "#9c179e"
             ],
             [
              0.4444444444444444,
              "#bd3786"
             ],
             [
              0.5555555555555556,
              "#d8576b"
             ],
             [
              0.6666666666666666,
              "#ed7953"
             ],
             [
              0.7777777777777778,
              "#fb9f3a"
             ],
             [
              0.8888888888888888,
              "#fdca26"
             ],
             [
              1,
              "#f0f921"
             ]
            ],
            "type": "histogram2d"
           }
          ],
          "histogram2dcontour": [
           {
            "colorbar": {
             "outlinewidth": 0,
             "ticks": ""
            },
            "colorscale": [
             [
              0,
              "#0d0887"
             ],
             [
              0.1111111111111111,
              "#46039f"
             ],
             [
              0.2222222222222222,
              "#7201a8"
             ],
             [
              0.3333333333333333,
              "#9c179e"
             ],
             [
              0.4444444444444444,
              "#bd3786"
             ],
             [
              0.5555555555555556,
              "#d8576b"
             ],
             [
              0.6666666666666666,
              "#ed7953"
             ],
             [
              0.7777777777777778,
              "#fb9f3a"
             ],
             [
              0.8888888888888888,
              "#fdca26"
             ],
             [
              1,
              "#f0f921"
             ]
            ],
            "type": "histogram2dcontour"
           }
          ],
          "mesh3d": [
           {
            "colorbar": {
             "outlinewidth": 0,
             "ticks": ""
            },
            "type": "mesh3d"
           }
          ],
          "parcoords": [
           {
            "line": {
             "colorbar": {
              "outlinewidth": 0,
              "ticks": ""
             }
            },
            "type": "parcoords"
           }
          ],
          "pie": [
           {
            "automargin": true,
            "type": "pie"
           }
          ],
          "scatter": [
           {
            "marker": {
             "colorbar": {
              "outlinewidth": 0,
              "ticks": ""
             }
            },
            "type": "scatter"
           }
          ],
          "scatter3d": [
           {
            "line": {
             "colorbar": {
              "outlinewidth": 0,
              "ticks": ""
             }
            },
            "marker": {
             "colorbar": {
              "outlinewidth": 0,
              "ticks": ""
             }
            },
            "type": "scatter3d"
           }
          ],
          "scattercarpet": [
           {
            "marker": {
             "colorbar": {
              "outlinewidth": 0,
              "ticks": ""
             }
            },
            "type": "scattercarpet"
           }
          ],
          "scattergeo": [
           {
            "marker": {
             "colorbar": {
              "outlinewidth": 0,
              "ticks": ""
             }
            },
            "type": "scattergeo"
           }
          ],
          "scattergl": [
           {
            "marker": {
             "colorbar": {
              "outlinewidth": 0,
              "ticks": ""
             }
            },
            "type": "scattergl"
           }
          ],
          "scattermapbox": [
           {
            "marker": {
             "colorbar": {
              "outlinewidth": 0,
              "ticks": ""
             }
            },
            "type": "scattermapbox"
           }
          ],
          "scatterpolar": [
           {
            "marker": {
             "colorbar": {
              "outlinewidth": 0,
              "ticks": ""
             }
            },
            "type": "scatterpolar"
           }
          ],
          "scatterpolargl": [
           {
            "marker": {
             "colorbar": {
              "outlinewidth": 0,
              "ticks": ""
             }
            },
            "type": "scatterpolargl"
           }
          ],
          "scatterternary": [
           {
            "marker": {
             "colorbar": {
              "outlinewidth": 0,
              "ticks": ""
             }
            },
            "type": "scatterternary"
           }
          ],
          "surface": [
           {
            "colorbar": {
             "outlinewidth": 0,
             "ticks": ""
            },
            "colorscale": [
             [
              0,
              "#0d0887"
             ],
             [
              0.1111111111111111,
              "#46039f"
             ],
             [
              0.2222222222222222,
              "#7201a8"
             ],
             [
              0.3333333333333333,
              "#9c179e"
             ],
             [
              0.4444444444444444,
              "#bd3786"
             ],
             [
              0.5555555555555556,
              "#d8576b"
             ],
             [
              0.6666666666666666,
              "#ed7953"
             ],
             [
              0.7777777777777778,
              "#fb9f3a"
             ],
             [
              0.8888888888888888,
              "#fdca26"
             ],
             [
              1,
              "#f0f921"
             ]
            ],
            "type": "surface"
           }
          ],
          "table": [
           {
            "cells": {
             "fill": {
              "color": "#EBF0F8"
             },
             "line": {
              "color": "white"
             }
            },
            "header": {
             "fill": {
              "color": "#C8D4E3"
             },
             "line": {
              "color": "white"
             }
            },
            "type": "table"
           }
          ]
         },
         "layout": {
          "annotationdefaults": {
           "arrowcolor": "#2a3f5f",
           "arrowhead": 0,
           "arrowwidth": 1
          },
          "autotypenumbers": "strict",
          "coloraxis": {
           "colorbar": {
            "outlinewidth": 0,
            "ticks": ""
           }
          },
          "colorscale": {
           "diverging": [
            [
             0,
             "#8e0152"
            ],
            [
             0.1,
             "#c51b7d"
            ],
            [
             0.2,
             "#de77ae"
            ],
            [
             0.3,
             "#f1b6da"
            ],
            [
             0.4,
             "#fde0ef"
            ],
            [
             0.5,
             "#f7f7f7"
            ],
            [
             0.6,
             "#e6f5d0"
            ],
            [
             0.7,
             "#b8e186"
            ],
            [
             0.8,
             "#7fbc41"
            ],
            [
             0.9,
             "#4d9221"
            ],
            [
             1,
             "#276419"
            ]
           ],
           "sequential": [
            [
             0,
             "#0d0887"
            ],
            [
             0.1111111111111111,
             "#46039f"
            ],
            [
             0.2222222222222222,
             "#7201a8"
            ],
            [
             0.3333333333333333,
             "#9c179e"
            ],
            [
             0.4444444444444444,
             "#bd3786"
            ],
            [
             0.5555555555555556,
             "#d8576b"
            ],
            [
             0.6666666666666666,
             "#ed7953"
            ],
            [
             0.7777777777777778,
             "#fb9f3a"
            ],
            [
             0.8888888888888888,
             "#fdca26"
            ],
            [
             1,
             "#f0f921"
            ]
           ],
           "sequentialminus": [
            [
             0,
             "#0d0887"
            ],
            [
             0.1111111111111111,
             "#46039f"
            ],
            [
             0.2222222222222222,
             "#7201a8"
            ],
            [
             0.3333333333333333,
             "#9c179e"
            ],
            [
             0.4444444444444444,
             "#bd3786"
            ],
            [
             0.5555555555555556,
             "#d8576b"
            ],
            [
             0.6666666666666666,
             "#ed7953"
            ],
            [
             0.7777777777777778,
             "#fb9f3a"
            ],
            [
             0.8888888888888888,
             "#fdca26"
            ],
            [
             1,
             "#f0f921"
            ]
           ]
          },
          "colorway": [
           "#636efa",
           "#EF553B",
           "#00cc96",
           "#ab63fa",
           "#FFA15A",
           "#19d3f3",
           "#FF6692",
           "#B6E880",
           "#FF97FF",
           "#FECB52"
          ],
          "font": {
           "color": "#2a3f5f"
          },
          "geo": {
           "bgcolor": "white",
           "lakecolor": "white",
           "landcolor": "#E5ECF6",
           "showlakes": true,
           "showland": true,
           "subunitcolor": "white"
          },
          "hoverlabel": {
           "align": "left"
          },
          "hovermode": "closest",
          "mapbox": {
           "style": "light"
          },
          "paper_bgcolor": "white",
          "plot_bgcolor": "#E5ECF6",
          "polar": {
           "angularaxis": {
            "gridcolor": "white",
            "linecolor": "white",
            "ticks": ""
           },
           "bgcolor": "#E5ECF6",
           "radialaxis": {
            "gridcolor": "white",
            "linecolor": "white",
            "ticks": ""
           }
          },
          "scene": {
           "xaxis": {
            "backgroundcolor": "#E5ECF6",
            "gridcolor": "white",
            "gridwidth": 2,
            "linecolor": "white",
            "showbackground": true,
            "ticks": "",
            "zerolinecolor": "white"
           },
           "yaxis": {
            "backgroundcolor": "#E5ECF6",
            "gridcolor": "white",
            "gridwidth": 2,
            "linecolor": "white",
            "showbackground": true,
            "ticks": "",
            "zerolinecolor": "white"
           },
           "zaxis": {
            "backgroundcolor": "#E5ECF6",
            "gridcolor": "white",
            "gridwidth": 2,
            "linecolor": "white",
            "showbackground": true,
            "ticks": "",
            "zerolinecolor": "white"
           }
          },
          "shapedefaults": {
           "line": {
            "color": "#2a3f5f"
           }
          },
          "ternary": {
           "aaxis": {
            "gridcolor": "white",
            "linecolor": "white",
            "ticks": ""
           },
           "baxis": {
            "gridcolor": "white",
            "linecolor": "white",
            "ticks": ""
           },
           "bgcolor": "#E5ECF6",
           "caxis": {
            "gridcolor": "white",
            "linecolor": "white",
            "ticks": ""
           }
          },
          "title": {
           "x": 0.05
          },
          "xaxis": {
           "automargin": true,
           "gridcolor": "white",
           "linecolor": "white",
           "ticks": "",
           "title": {
            "standoff": 15
           },
           "zerolinecolor": "white",
           "zerolinewidth": 2
          },
          "yaxis": {
           "automargin": true,
           "gridcolor": "white",
           "linecolor": "white",
           "ticks": "",
           "title": {
            "standoff": 15
           },
           "zerolinecolor": "white",
           "zerolinewidth": 2
          }
         }
        },
        "title": {
         "text": "Experience Vs Salary"
        },
        "xaxis": {
         "anchor": "y",
         "domain": [
          0,
          1
         ],
         "title": {
          "text": "Salary in USD"
         }
        },
        "yaxis": {
         "anchor": "x",
         "categoryarray": [
          "Remote",
          "Hybrid",
          "On-site"
         ],
         "categoryorder": "array",
         "domain": [
          0,
          1
         ],
         "title": {
          "text": "Work Model"
         }
        }
       }
      }
     },
     "metadata": {},
     "output_type": "display_data"
    }
   ],
   "source": [
    "px.box(\n",
    "    data_frame=df,\n",
    "    x=\"salary_in_usd\",\n",
    "    y=\"remote_ratio\",\n",
    "    labels = {\"remote_ratio\": \"Work Model\", \"salary_in_usd\": \"Salary in USD\"},\n",
    "    color=\"remote_ratio\",\n",
    "    title = \"Experience Vs Salary\",\n",
    ")"
   ]
  },
  {
   "cell_type": "code",
   "execution_count": 22,
   "metadata": {},
   "outputs": [
    {
     "data": {
      "application/vnd.plotly.v1+json": {
       "config": {
        "plotlyServerURL": "https://plot.ly"
       },
       "data": [
        {
         "alignmentgroup": "True",
         "bingroup": "x",
         "hovertemplate": "Work Model=On-site<br>Year=%{x}<br>count=%{y}<extra></extra>",
         "legendgroup": "On-site",
         "marker": {
          "color": "rgb(229, 134, 6)",
          "pattern": {
           "shape": ""
          }
         },
         "name": "On-site",
         "offsetgroup": "On-site",
         "orientation": "v",
         "showlegend": true,
         "type": "histogram",
         "x": [
          2020,
          2020,
          2020,
          2020,
          2020,
          2020,
          2020,
          2020,
          2020,
          2020,
          2020,
          2020,
          2020,
          2020,
          2020,
          2021,
          2021,
          2021,
          2021,
          2021,
          2021,
          2021,
          2021,
          2021,
          2021,
          2021,
          2021,
          2021,
          2021,
          2021,
          2021,
          2021,
          2021,
          2021,
          2021,
          2021,
          2021,
          2021,
          2021,
          2021,
          2021,
          2021,
          2021,
          2021,
          2021,
          2021,
          2021,
          2021,
          2021,
          2022,
          2022,
          2022,
          2022,
          2022,
          2022,
          2022,
          2022,
          2022,
          2022,
          2022,
          2022,
          2022,
          2022,
          2022,
          2022,
          2022,
          2022,
          2022,
          2022,
          2022,
          2022,
          2022,
          2022,
          2022,
          2022,
          2022,
          2022,
          2022,
          2022,
          2022,
          2022,
          2022,
          2022,
          2022,
          2022,
          2022,
          2022,
          2022,
          2022,
          2022,
          2022,
          2022,
          2022,
          2022,
          2022,
          2022,
          2022,
          2022,
          2022,
          2022,
          2022,
          2022,
          2022,
          2022,
          2022,
          2022,
          2022,
          2022,
          2022,
          2022,
          2022,
          2022,
          2022,
          2022,
          2022,
          2022,
          2022,
          2022,
          2022,
          2022,
          2022,
          2022,
          2022,
          2022,
          2022,
          2022,
          2022
         ],
         "xaxis": "x",
         "yaxis": "y"
        },
        {
         "alignmentgroup": "True",
         "bingroup": "x",
         "hovertemplate": "Work Model=Hybrid<br>Year=%{x}<br>count=%{y}<extra></extra>",
         "legendgroup": "Hybrid",
         "marker": {
          "color": "rgb(93, 105, 177)",
          "pattern": {
           "shape": ""
          }
         },
         "name": "Hybrid",
         "offsetgroup": "Hybrid",
         "orientation": "v",
         "showlegend": true,
         "type": "histogram",
         "x": [
          2020,
          2020,
          2020,
          2020,
          2020,
          2020,
          2020,
          2020,
          2020,
          2020,
          2020,
          2020,
          2020,
          2020,
          2020,
          2020,
          2020,
          2020,
          2020,
          2020,
          2020,
          2021,
          2021,
          2021,
          2021,
          2021,
          2021,
          2021,
          2021,
          2021,
          2021,
          2021,
          2021,
          2021,
          2021,
          2021,
          2021,
          2021,
          2021,
          2021,
          2021,
          2021,
          2021,
          2021,
          2021,
          2021,
          2021,
          2021,
          2021,
          2021,
          2021,
          2021,
          2021,
          2021,
          2021,
          2021,
          2021,
          2021,
          2021,
          2021,
          2021,
          2021,
          2021,
          2021,
          2021,
          2021,
          2021,
          2021,
          2021,
          2021,
          2021,
          2021,
          2021,
          2021,
          2021,
          2021,
          2021,
          2021,
          2021,
          2021,
          2021,
          2021,
          2021,
          2021,
          2021,
          2021,
          2021,
          2022,
          2022,
          2022,
          2022,
          2022,
          2022,
          2022,
          2022,
          2022,
          2022,
          2022,
          2022
         ],
         "xaxis": "x",
         "yaxis": "y"
        },
        {
         "alignmentgroup": "True",
         "bingroup": "x",
         "hovertemplate": "Work Model=Remote<br>Year=%{x}<br>count=%{y}<extra></extra>",
         "legendgroup": "Remote",
         "marker": {
          "color": "rgb(82, 188, 163)",
          "pattern": {
           "shape": ""
          }
         },
         "name": "Remote",
         "offsetgroup": "Remote",
         "orientation": "v",
         "showlegend": true,
         "type": "histogram",
         "x": [
          2020,
          2020,
          2020,
          2020,
          2020,
          2020,
          2020,
          2020,
          2020,
          2020,
          2020,
          2020,
          2020,
          2020,
          2020,
          2020,
          2020,
          2020,
          2020,
          2020,
          2020,
          2020,
          2020,
          2020,
          2020,
          2020,
          2020,
          2020,
          2020,
          2020,
          2020,
          2020,
          2020,
          2020,
          2020,
          2020,
          2021,
          2021,
          2021,
          2021,
          2021,
          2021,
          2021,
          2021,
          2021,
          2021,
          2021,
          2021,
          2021,
          2021,
          2021,
          2021,
          2021,
          2021,
          2021,
          2021,
          2021,
          2021,
          2021,
          2021,
          2021,
          2021,
          2021,
          2021,
          2021,
          2021,
          2021,
          2021,
          2021,
          2021,
          2021,
          2021,
          2021,
          2021,
          2021,
          2021,
          2021,
          2021,
          2021,
          2021,
          2021,
          2021,
          2021,
          2021,
          2021,
          2021,
          2021,
          2021,
          2021,
          2021,
          2021,
          2021,
          2021,
          2021,
          2021,
          2021,
          2021,
          2021,
          2021,
          2021,
          2021,
          2021,
          2021,
          2021,
          2021,
          2021,
          2021,
          2021,
          2021,
          2021,
          2021,
          2021,
          2021,
          2021,
          2021,
          2021,
          2021,
          2021,
          2021,
          2021,
          2021,
          2021,
          2021,
          2021,
          2021,
          2021,
          2021,
          2021,
          2021,
          2021,
          2021,
          2021,
          2021,
          2021,
          2021,
          2021,
          2021,
          2021,
          2021,
          2021,
          2021,
          2021,
          2021,
          2021,
          2021,
          2021,
          2021,
          2021,
          2021,
          2021,
          2021,
          2021,
          2021,
          2022,
          2022,
          2022,
          2022,
          2022,
          2022,
          2022,
          2022,
          2022,
          2022,
          2022,
          2022,
          2022,
          2022,
          2022,
          2022,
          2022,
          2022,
          2022,
          2022,
          2022,
          2022,
          2022,
          2022,
          2022,
          2022,
          2022,
          2022,
          2022,
          2022,
          2022,
          2022,
          2022,
          2022,
          2022,
          2022,
          2022,
          2022,
          2022,
          2022,
          2022,
          2022,
          2022,
          2022,
          2022,
          2022,
          2022,
          2022,
          2022,
          2022,
          2022,
          2022,
          2022,
          2022,
          2022,
          2022,
          2022,
          2022,
          2022,
          2022,
          2022,
          2022,
          2022,
          2022,
          2022,
          2022,
          2022,
          2022,
          2022,
          2022,
          2022,
          2022,
          2022,
          2022,
          2022,
          2022,
          2022,
          2022,
          2022,
          2022,
          2022,
          2022,
          2022,
          2022,
          2022,
          2022,
          2022,
          2022,
          2022,
          2022,
          2022,
          2022,
          2022,
          2022,
          2022,
          2022,
          2022,
          2022,
          2022,
          2022,
          2022,
          2022,
          2022,
          2022,
          2022,
          2022,
          2022,
          2022,
          2022,
          2022,
          2022,
          2022,
          2022,
          2022,
          2022,
          2022,
          2022,
          2022,
          2022,
          2022,
          2022,
          2022,
          2022,
          2022,
          2022,
          2022,
          2022,
          2022,
          2022,
          2022,
          2022,
          2022,
          2022,
          2022,
          2022,
          2022,
          2022,
          2022,
          2022,
          2022,
          2022,
          2022,
          2022,
          2022,
          2022,
          2022,
          2022,
          2022,
          2022,
          2022,
          2022,
          2022,
          2022,
          2022,
          2022,
          2022,
          2022,
          2022,
          2022,
          2022,
          2022,
          2022,
          2022,
          2022,
          2022,
          2022,
          2022,
          2022,
          2022,
          2022,
          2022,
          2022,
          2022,
          2022,
          2022,
          2022,
          2022,
          2022,
          2022,
          2022,
          2022,
          2022,
          2022,
          2022,
          2022,
          2022,
          2022,
          2022,
          2022,
          2022,
          2022,
          2022,
          2022,
          2022,
          2022,
          2022,
          2022,
          2022,
          2022,
          2022,
          2022,
          2022,
          2022,
          2022,
          2022,
          2022,
          2022,
          2022,
          2022,
          2022,
          2022,
          2022,
          2022,
          2022,
          2022,
          2022,
          2022,
          2022,
          2022,
          2022,
          2022,
          2022,
          2022,
          2022,
          2022,
          2022,
          2022,
          2022
         ],
         "xaxis": "x",
         "yaxis": "y"
        }
       ],
       "layout": {
        "barmode": "group",
        "legend": {
         "title": {
          "text": "Work Model"
         },
         "tracegroupgap": 0
        },
        "template": {
         "data": {
          "bar": [
           {
            "error_x": {
             "color": "#2a3f5f"
            },
            "error_y": {
             "color": "#2a3f5f"
            },
            "marker": {
             "line": {
              "color": "white",
              "width": 0.5
             },
             "pattern": {
              "fillmode": "overlay",
              "size": 10,
              "solidity": 0.2
             }
            },
            "type": "bar"
           }
          ],
          "barpolar": [
           {
            "marker": {
             "line": {
              "color": "white",
              "width": 0.5
             },
             "pattern": {
              "fillmode": "overlay",
              "size": 10,
              "solidity": 0.2
             }
            },
            "type": "barpolar"
           }
          ],
          "carpet": [
           {
            "aaxis": {
             "endlinecolor": "#2a3f5f",
             "gridcolor": "#C8D4E3",
             "linecolor": "#C8D4E3",
             "minorgridcolor": "#C8D4E3",
             "startlinecolor": "#2a3f5f"
            },
            "baxis": {
             "endlinecolor": "#2a3f5f",
             "gridcolor": "#C8D4E3",
             "linecolor": "#C8D4E3",
             "minorgridcolor": "#C8D4E3",
             "startlinecolor": "#2a3f5f"
            },
            "type": "carpet"
           }
          ],
          "choropleth": [
           {
            "colorbar": {
             "outlinewidth": 0,
             "ticks": ""
            },
            "type": "choropleth"
           }
          ],
          "contour": [
           {
            "colorbar": {
             "outlinewidth": 0,
             "ticks": ""
            },
            "colorscale": [
             [
              0,
              "#0d0887"
             ],
             [
              0.1111111111111111,
              "#46039f"
             ],
             [
              0.2222222222222222,
              "#7201a8"
             ],
             [
              0.3333333333333333,
              "#9c179e"
             ],
             [
              0.4444444444444444,
              "#bd3786"
             ],
             [
              0.5555555555555556,
              "#d8576b"
             ],
             [
              0.6666666666666666,
              "#ed7953"
             ],
             [
              0.7777777777777778,
              "#fb9f3a"
             ],
             [
              0.8888888888888888,
              "#fdca26"
             ],
             [
              1,
              "#f0f921"
             ]
            ],
            "type": "contour"
           }
          ],
          "contourcarpet": [
           {
            "colorbar": {
             "outlinewidth": 0,
             "ticks": ""
            },
            "type": "contourcarpet"
           }
          ],
          "heatmap": [
           {
            "colorbar": {
             "outlinewidth": 0,
             "ticks": ""
            },
            "colorscale": [
             [
              0,
              "#0d0887"
             ],
             [
              0.1111111111111111,
              "#46039f"
             ],
             [
              0.2222222222222222,
              "#7201a8"
             ],
             [
              0.3333333333333333,
              "#9c179e"
             ],
             [
              0.4444444444444444,
              "#bd3786"
             ],
             [
              0.5555555555555556,
              "#d8576b"
             ],
             [
              0.6666666666666666,
              "#ed7953"
             ],
             [
              0.7777777777777778,
              "#fb9f3a"
             ],
             [
              0.8888888888888888,
              "#fdca26"
             ],
             [
              1,
              "#f0f921"
             ]
            ],
            "type": "heatmap"
           }
          ],
          "heatmapgl": [
           {
            "colorbar": {
             "outlinewidth": 0,
             "ticks": ""
            },
            "colorscale": [
             [
              0,
              "#0d0887"
             ],
             [
              0.1111111111111111,
              "#46039f"
             ],
             [
              0.2222222222222222,
              "#7201a8"
             ],
             [
              0.3333333333333333,
              "#9c179e"
             ],
             [
              0.4444444444444444,
              "#bd3786"
             ],
             [
              0.5555555555555556,
              "#d8576b"
             ],
             [
              0.6666666666666666,
              "#ed7953"
             ],
             [
              0.7777777777777778,
              "#fb9f3a"
             ],
             [
              0.8888888888888888,
              "#fdca26"
             ],
             [
              1,
              "#f0f921"
             ]
            ],
            "type": "heatmapgl"
           }
          ],
          "histogram": [
           {
            "marker": {
             "pattern": {
              "fillmode": "overlay",
              "size": 10,
              "solidity": 0.2
             }
            },
            "type": "histogram"
           }
          ],
          "histogram2d": [
           {
            "colorbar": {
             "outlinewidth": 0,
             "ticks": ""
            },
            "colorscale": [
             [
              0,
              "#0d0887"
             ],
             [
              0.1111111111111111,
              "#46039f"
             ],
             [
              0.2222222222222222,
              "#7201a8"
             ],
             [
              0.3333333333333333,
              "#9c179e"
             ],
             [
              0.4444444444444444,
              "#bd3786"
             ],
             [
              0.5555555555555556,
              "#d8576b"
             ],
             [
              0.6666666666666666,
              "#ed7953"
             ],
             [
              0.7777777777777778,
              "#fb9f3a"
             ],
             [
              0.8888888888888888,
              "#fdca26"
             ],
             [
              1,
              "#f0f921"
             ]
            ],
            "type": "histogram2d"
           }
          ],
          "histogram2dcontour": [
           {
            "colorbar": {
             "outlinewidth": 0,
             "ticks": ""
            },
            "colorscale": [
             [
              0,
              "#0d0887"
             ],
             [
              0.1111111111111111,
              "#46039f"
             ],
             [
              0.2222222222222222,
              "#7201a8"
             ],
             [
              0.3333333333333333,
              "#9c179e"
             ],
             [
              0.4444444444444444,
              "#bd3786"
             ],
             [
              0.5555555555555556,
              "#d8576b"
             ],
             [
              0.6666666666666666,
              "#ed7953"
             ],
             [
              0.7777777777777778,
              "#fb9f3a"
             ],
             [
              0.8888888888888888,
              "#fdca26"
             ],
             [
              1,
              "#f0f921"
             ]
            ],
            "type": "histogram2dcontour"
           }
          ],
          "mesh3d": [
           {
            "colorbar": {
             "outlinewidth": 0,
             "ticks": ""
            },
            "type": "mesh3d"
           }
          ],
          "parcoords": [
           {
            "line": {
             "colorbar": {
              "outlinewidth": 0,
              "ticks": ""
             }
            },
            "type": "parcoords"
           }
          ],
          "pie": [
           {
            "automargin": true,
            "type": "pie"
           }
          ],
          "scatter": [
           {
            "marker": {
             "colorbar": {
              "outlinewidth": 0,
              "ticks": ""
             }
            },
            "type": "scatter"
           }
          ],
          "scatter3d": [
           {
            "line": {
             "colorbar": {
              "outlinewidth": 0,
              "ticks": ""
             }
            },
            "marker": {
             "colorbar": {
              "outlinewidth": 0,
              "ticks": ""
             }
            },
            "type": "scatter3d"
           }
          ],
          "scattercarpet": [
           {
            "marker": {
             "colorbar": {
              "outlinewidth": 0,
              "ticks": ""
             }
            },
            "type": "scattercarpet"
           }
          ],
          "scattergeo": [
           {
            "marker": {
             "colorbar": {
              "outlinewidth": 0,
              "ticks": ""
             }
            },
            "type": "scattergeo"
           }
          ],
          "scattergl": [
           {
            "marker": {
             "colorbar": {
              "outlinewidth": 0,
              "ticks": ""
             }
            },
            "type": "scattergl"
           }
          ],
          "scattermapbox": [
           {
            "marker": {
             "colorbar": {
              "outlinewidth": 0,
              "ticks": ""
             }
            },
            "type": "scattermapbox"
           }
          ],
          "scatterpolar": [
           {
            "marker": {
             "colorbar": {
              "outlinewidth": 0,
              "ticks": ""
             }
            },
            "type": "scatterpolar"
           }
          ],
          "scatterpolargl": [
           {
            "marker": {
             "colorbar": {
              "outlinewidth": 0,
              "ticks": ""
             }
            },
            "type": "scatterpolargl"
           }
          ],
          "scatterternary": [
           {
            "marker": {
             "colorbar": {
              "outlinewidth": 0,
              "ticks": ""
             }
            },
            "type": "scatterternary"
           }
          ],
          "surface": [
           {
            "colorbar": {
             "outlinewidth": 0,
             "ticks": ""
            },
            "colorscale": [
             [
              0,
              "#0d0887"
             ],
             [
              0.1111111111111111,
              "#46039f"
             ],
             [
              0.2222222222222222,
              "#7201a8"
             ],
             [
              0.3333333333333333,
              "#9c179e"
             ],
             [
              0.4444444444444444,
              "#bd3786"
             ],
             [
              0.5555555555555556,
              "#d8576b"
             ],
             [
              0.6666666666666666,
              "#ed7953"
             ],
             [
              0.7777777777777778,
              "#fb9f3a"
             ],
             [
              0.8888888888888888,
              "#fdca26"
             ],
             [
              1,
              "#f0f921"
             ]
            ],
            "type": "surface"
           }
          ],
          "table": [
           {
            "cells": {
             "fill": {
              "color": "#EBF0F8"
             },
             "line": {
              "color": "white"
             }
            },
            "header": {
             "fill": {
              "color": "#C8D4E3"
             },
             "line": {
              "color": "white"
             }
            },
            "type": "table"
           }
          ]
         },
         "layout": {
          "annotationdefaults": {
           "arrowcolor": "#2a3f5f",
           "arrowhead": 0,
           "arrowwidth": 1
          },
          "autotypenumbers": "strict",
          "coloraxis": {
           "colorbar": {
            "outlinewidth": 0,
            "ticks": ""
           }
          },
          "colorscale": {
           "diverging": [
            [
             0,
             "#8e0152"
            ],
            [
             0.1,
             "#c51b7d"
            ],
            [
             0.2,
             "#de77ae"
            ],
            [
             0.3,
             "#f1b6da"
            ],
            [
             0.4,
             "#fde0ef"
            ],
            [
             0.5,
             "#f7f7f7"
            ],
            [
             0.6,
             "#e6f5d0"
            ],
            [
             0.7,
             "#b8e186"
            ],
            [
             0.8,
             "#7fbc41"
            ],
            [
             0.9,
             "#4d9221"
            ],
            [
             1,
             "#276419"
            ]
           ],
           "sequential": [
            [
             0,
             "#0d0887"
            ],
            [
             0.1111111111111111,
             "#46039f"
            ],
            [
             0.2222222222222222,
             "#7201a8"
            ],
            [
             0.3333333333333333,
             "#9c179e"
            ],
            [
             0.4444444444444444,
             "#bd3786"
            ],
            [
             0.5555555555555556,
             "#d8576b"
            ],
            [
             0.6666666666666666,
             "#ed7953"
            ],
            [
             0.7777777777777778,
             "#fb9f3a"
            ],
            [
             0.8888888888888888,
             "#fdca26"
            ],
            [
             1,
             "#f0f921"
            ]
           ],
           "sequentialminus": [
            [
             0,
             "#0d0887"
            ],
            [
             0.1111111111111111,
             "#46039f"
            ],
            [
             0.2222222222222222,
             "#7201a8"
            ],
            [
             0.3333333333333333,
             "#9c179e"
            ],
            [
             0.4444444444444444,
             "#bd3786"
            ],
            [
             0.5555555555555556,
             "#d8576b"
            ],
            [
             0.6666666666666666,
             "#ed7953"
            ],
            [
             0.7777777777777778,
             "#fb9f3a"
            ],
            [
             0.8888888888888888,
             "#fdca26"
            ],
            [
             1,
             "#f0f921"
            ]
           ]
          },
          "colorway": [
           "#636efa",
           "#EF553B",
           "#00cc96",
           "#ab63fa",
           "#FFA15A",
           "#19d3f3",
           "#FF6692",
           "#B6E880",
           "#FF97FF",
           "#FECB52"
          ],
          "font": {
           "color": "#2a3f5f"
          },
          "geo": {
           "bgcolor": "white",
           "lakecolor": "white",
           "landcolor": "white",
           "showlakes": true,
           "showland": true,
           "subunitcolor": "#C8D4E3"
          },
          "hoverlabel": {
           "align": "left"
          },
          "hovermode": "closest",
          "mapbox": {
           "style": "light"
          },
          "paper_bgcolor": "white",
          "plot_bgcolor": "white",
          "polar": {
           "angularaxis": {
            "gridcolor": "#EBF0F8",
            "linecolor": "#EBF0F8",
            "ticks": ""
           },
           "bgcolor": "white",
           "radialaxis": {
            "gridcolor": "#EBF0F8",
            "linecolor": "#EBF0F8",
            "ticks": ""
           }
          },
          "scene": {
           "xaxis": {
            "backgroundcolor": "white",
            "gridcolor": "#DFE8F3",
            "gridwidth": 2,
            "linecolor": "#EBF0F8",
            "showbackground": true,
            "ticks": "",
            "zerolinecolor": "#EBF0F8"
           },
           "yaxis": {
            "backgroundcolor": "white",
            "gridcolor": "#DFE8F3",
            "gridwidth": 2,
            "linecolor": "#EBF0F8",
            "showbackground": true,
            "ticks": "",
            "zerolinecolor": "#EBF0F8"
           },
           "zaxis": {
            "backgroundcolor": "white",
            "gridcolor": "#DFE8F3",
            "gridwidth": 2,
            "linecolor": "#EBF0F8",
            "showbackground": true,
            "ticks": "",
            "zerolinecolor": "#EBF0F8"
           }
          },
          "shapedefaults": {
           "line": {
            "color": "#2a3f5f"
           }
          },
          "ternary": {
           "aaxis": {
            "gridcolor": "#DFE8F3",
            "linecolor": "#A2B1C6",
            "ticks": ""
           },
           "baxis": {
            "gridcolor": "#DFE8F3",
            "linecolor": "#A2B1C6",
            "ticks": ""
           },
           "bgcolor": "white",
           "caxis": {
            "gridcolor": "#DFE8F3",
            "linecolor": "#A2B1C6",
            "ticks": ""
           }
          },
          "title": {
           "x": 0.05
          },
          "xaxis": {
           "automargin": true,
           "gridcolor": "#EBF0F8",
           "linecolor": "#EBF0F8",
           "ticks": "",
           "title": {
            "standoff": 15
           },
           "zerolinecolor": "#EBF0F8",
           "zerolinewidth": 2
          },
          "yaxis": {
           "automargin": true,
           "gridcolor": "#EBF0F8",
           "linecolor": "#EBF0F8",
           "ticks": "",
           "title": {
            "standoff": 15
           },
           "zerolinecolor": "#EBF0F8",
           "zerolinewidth": 2
          }
         }
        },
        "title": {
         "text": "Count of Work Model"
        },
        "xaxis": {
         "anchor": "y",
         "domain": [
          0,
          1
         ],
         "title": {
          "text": "Year"
         }
        },
        "yaxis": {
         "anchor": "x",
         "domain": [
          0,
          1
         ],
         "title": {
          "text": "count"
         }
        }
       }
      }
     },
     "metadata": {},
     "output_type": "display_data"
    }
   ],
   "source": [
    "px.histogram(df, \n",
    "            x = 'work_year',color = 'remote_ratio', \n",
    "            barmode = 'group',\n",
    "            color_discrete_sequence=px.colors.qualitative.Vivid,\n",
    "            template ='plotly_white',\n",
    "            title='Count of Work Model', \n",
    "            labels={\"work_year\":\"Year\", \"remote_ratio\":\"Work Model\"})"
   ]
  },
  {
   "cell_type": "markdown",
   "metadata": {},
   "source": [
    "____________\n",
    "Job Titles\n",
    "_______"
   ]
  },
  {
   "cell_type": "code",
   "execution_count": 23,
   "metadata": {},
   "outputs": [
    {
     "data": {
      "application/javascript": "/* Put everything inside the global mpl namespace */\n/* global mpl */\nwindow.mpl = {};\n\nmpl.get_websocket_type = function () {\n    if (typeof WebSocket !== 'undefined') {\n        return WebSocket;\n    } else if (typeof MozWebSocket !== 'undefined') {\n        return MozWebSocket;\n    } else {\n        alert(\n            'Your browser does not have WebSocket support. ' +\n                'Please try Chrome, Safari or Firefox ≥ 6. ' +\n                'Firefox 4 and 5 are also supported but you ' +\n                'have to enable WebSockets in about:config.'\n        );\n    }\n};\n\nmpl.figure = function (figure_id, websocket, ondownload, parent_element) {\n    this.id = figure_id;\n\n    this.ws = websocket;\n\n    this.supports_binary = this.ws.binaryType !== undefined;\n\n    if (!this.supports_binary) {\n        var warnings = document.getElementById('mpl-warnings');\n        if (warnings) {\n            warnings.style.display = 'block';\n            warnings.textContent =\n                'This browser does not support binary websocket messages. ' +\n                'Performance may be slow.';\n        }\n    }\n\n    this.imageObj = new Image();\n\n    this.context = undefined;\n    this.message = undefined;\n    this.canvas = undefined;\n    this.rubberband_canvas = undefined;\n    this.rubberband_context = undefined;\n    this.format_dropdown = undefined;\n\n    this.image_mode = 'full';\n\n    this.root = document.createElement('div');\n    this.root.setAttribute('style', 'display: inline-block');\n    this._root_extra_style(this.root);\n\n    parent_element.appendChild(this.root);\n\n    this._init_header(this);\n    this._init_canvas(this);\n    this._init_toolbar(this);\n\n    var fig = this;\n\n    this.waiting = false;\n\n    this.ws.onopen = function () {\n        fig.send_message('supports_binary', { value: fig.supports_binary });\n        fig.send_message('send_image_mode', {});\n        if (fig.ratio !== 1) {\n            fig.send_message('set_dpi_ratio', { dpi_ratio: fig.ratio });\n        }\n        fig.send_message('refresh', {});\n    };\n\n    this.imageObj.onload = function () {\n        if (fig.image_mode === 'full') {\n            // Full images could contain transparency (where diff images\n            // almost always do), so we need to clear the canvas so that\n            // there is no ghosting.\n            fig.context.clearRect(0, 0, fig.canvas.width, fig.canvas.height);\n        }\n        fig.context.drawImage(fig.imageObj, 0, 0);\n    };\n\n    this.imageObj.onunload = function () {\n        fig.ws.close();\n    };\n\n    this.ws.onmessage = this._make_on_message_function(this);\n\n    this.ondownload = ondownload;\n};\n\nmpl.figure.prototype._init_header = function () {\n    var titlebar = document.createElement('div');\n    titlebar.classList =\n        'ui-dialog-titlebar ui-widget-header ui-corner-all ui-helper-clearfix';\n    var titletext = document.createElement('div');\n    titletext.classList = 'ui-dialog-title';\n    titletext.setAttribute(\n        'style',\n        'width: 100%; text-align: center; padding: 3px;'\n    );\n    titlebar.appendChild(titletext);\n    this.root.appendChild(titlebar);\n    this.header = titletext;\n};\n\nmpl.figure.prototype._canvas_extra_style = function (_canvas_div) {};\n\nmpl.figure.prototype._root_extra_style = function (_canvas_div) {};\n\nmpl.figure.prototype._init_canvas = function () {\n    var fig = this;\n\n    var canvas_div = (this.canvas_div = document.createElement('div'));\n    canvas_div.setAttribute(\n        'style',\n        'border: 1px solid #ddd;' +\n            'box-sizing: content-box;' +\n            'clear: both;' +\n            'min-height: 1px;' +\n            'min-width: 1px;' +\n            'outline: 0;' +\n            'overflow: hidden;' +\n            'position: relative;' +\n            'resize: both;'\n    );\n\n    function on_keyboard_event_closure(name) {\n        return function (event) {\n            return fig.key_event(event, name);\n        };\n    }\n\n    canvas_div.addEventListener(\n        'keydown',\n        on_keyboard_event_closure('key_press')\n    );\n    canvas_div.addEventListener(\n        'keyup',\n        on_keyboard_event_closure('key_release')\n    );\n\n    this._canvas_extra_style(canvas_div);\n    this.root.appendChild(canvas_div);\n\n    var canvas = (this.canvas = document.createElement('canvas'));\n    canvas.classList.add('mpl-canvas');\n    canvas.setAttribute('style', 'box-sizing: content-box;');\n\n    this.context = canvas.getContext('2d');\n\n    var backingStore =\n        this.context.backingStorePixelRatio ||\n        this.context.webkitBackingStorePixelRatio ||\n        this.context.mozBackingStorePixelRatio ||\n        this.context.msBackingStorePixelRatio ||\n        this.context.oBackingStorePixelRatio ||\n        this.context.backingStorePixelRatio ||\n        1;\n\n    this.ratio = (window.devicePixelRatio || 1) / backingStore;\n    if (this.ratio !== 1) {\n        fig.send_message('set_dpi_ratio', { dpi_ratio: this.ratio });\n    }\n\n    var rubberband_canvas = (this.rubberband_canvas = document.createElement(\n        'canvas'\n    ));\n    rubberband_canvas.setAttribute(\n        'style',\n        'box-sizing: content-box; position: absolute; left: 0; top: 0; z-index: 1;'\n    );\n\n    var resizeObserver = new ResizeObserver(function (entries) {\n        var nentries = entries.length;\n        for (var i = 0; i < nentries; i++) {\n            var entry = entries[i];\n            var width, height;\n            if (entry.contentBoxSize) {\n                if (entry.contentBoxSize instanceof Array) {\n                    // Chrome 84 implements new version of spec.\n                    width = entry.contentBoxSize[0].inlineSize;\n                    height = entry.contentBoxSize[0].blockSize;\n                } else {\n                    // Firefox implements old version of spec.\n                    width = entry.contentBoxSize.inlineSize;\n                    height = entry.contentBoxSize.blockSize;\n                }\n            } else {\n                // Chrome <84 implements even older version of spec.\n                width = entry.contentRect.width;\n                height = entry.contentRect.height;\n            }\n\n            // Keep the size of the canvas and rubber band canvas in sync with\n            // the canvas container.\n            if (entry.devicePixelContentBoxSize) {\n                // Chrome 84 implements new version of spec.\n                canvas.setAttribute(\n                    'width',\n                    entry.devicePixelContentBoxSize[0].inlineSize\n                );\n                canvas.setAttribute(\n                    'height',\n                    entry.devicePixelContentBoxSize[0].blockSize\n                );\n            } else {\n                canvas.setAttribute('width', width * fig.ratio);\n                canvas.setAttribute('height', height * fig.ratio);\n            }\n            canvas.setAttribute(\n                'style',\n                'width: ' + width + 'px; height: ' + height + 'px;'\n            );\n\n            rubberband_canvas.setAttribute('width', width);\n            rubberband_canvas.setAttribute('height', height);\n\n            // And update the size in Python. We ignore the initial 0/0 size\n            // that occurs as the element is placed into the DOM, which should\n            // otherwise not happen due to the minimum size styling.\n            if (width != 0 && height != 0) {\n                fig.request_resize(width, height);\n            }\n        }\n    });\n    resizeObserver.observe(canvas_div);\n\n    function on_mouse_event_closure(name) {\n        return function (event) {\n            return fig.mouse_event(event, name);\n        };\n    }\n\n    rubberband_canvas.addEventListener(\n        'mousedown',\n        on_mouse_event_closure('button_press')\n    );\n    rubberband_canvas.addEventListener(\n        'mouseup',\n        on_mouse_event_closure('button_release')\n    );\n    // Throttle sequential mouse events to 1 every 20ms.\n    rubberband_canvas.addEventListener(\n        'mousemove',\n        on_mouse_event_closure('motion_notify')\n    );\n\n    rubberband_canvas.addEventListener(\n        'mouseenter',\n        on_mouse_event_closure('figure_enter')\n    );\n    rubberband_canvas.addEventListener(\n        'mouseleave',\n        on_mouse_event_closure('figure_leave')\n    );\n\n    canvas_div.addEventListener('wheel', function (event) {\n        if (event.deltaY < 0) {\n            event.step = 1;\n        } else {\n            event.step = -1;\n        }\n        on_mouse_event_closure('scroll')(event);\n    });\n\n    canvas_div.appendChild(canvas);\n    canvas_div.appendChild(rubberband_canvas);\n\n    this.rubberband_context = rubberband_canvas.getContext('2d');\n    this.rubberband_context.strokeStyle = '#000000';\n\n    this._resize_canvas = function (width, height, forward) {\n        if (forward) {\n            canvas_div.style.width = width + 'px';\n            canvas_div.style.height = height + 'px';\n        }\n    };\n\n    // Disable right mouse context menu.\n    this.rubberband_canvas.addEventListener('contextmenu', function (_e) {\n        event.preventDefault();\n        return false;\n    });\n\n    function set_focus() {\n        canvas.focus();\n        canvas_div.focus();\n    }\n\n    window.setTimeout(set_focus, 100);\n};\n\nmpl.figure.prototype._init_toolbar = function () {\n    var fig = this;\n\n    var toolbar = document.createElement('div');\n    toolbar.classList = 'mpl-toolbar';\n    this.root.appendChild(toolbar);\n\n    function on_click_closure(name) {\n        return function (_event) {\n            return fig.toolbar_button_onclick(name);\n        };\n    }\n\n    function on_mouseover_closure(tooltip) {\n        return function (event) {\n            if (!event.currentTarget.disabled) {\n                return fig.toolbar_button_onmouseover(tooltip);\n            }\n        };\n    }\n\n    fig.buttons = {};\n    var buttonGroup = document.createElement('div');\n    buttonGroup.classList = 'mpl-button-group';\n    for (var toolbar_ind in mpl.toolbar_items) {\n        var name = mpl.toolbar_items[toolbar_ind][0];\n        var tooltip = mpl.toolbar_items[toolbar_ind][1];\n        var image = mpl.toolbar_items[toolbar_ind][2];\n        var method_name = mpl.toolbar_items[toolbar_ind][3];\n\n        if (!name) {\n            /* Instead of a spacer, we start a new button group. */\n            if (buttonGroup.hasChildNodes()) {\n                toolbar.appendChild(buttonGroup);\n            }\n            buttonGroup = document.createElement('div');\n            buttonGroup.classList = 'mpl-button-group';\n            continue;\n        }\n\n        var button = (fig.buttons[name] = document.createElement('button'));\n        button.classList = 'mpl-widget';\n        button.setAttribute('role', 'button');\n        button.setAttribute('aria-disabled', 'false');\n        button.addEventListener('click', on_click_closure(method_name));\n        button.addEventListener('mouseover', on_mouseover_closure(tooltip));\n\n        var icon_img = document.createElement('img');\n        icon_img.src = '_images/' + image + '.png';\n        icon_img.srcset = '_images/' + image + '_large.png 2x';\n        icon_img.alt = tooltip;\n        button.appendChild(icon_img);\n\n        buttonGroup.appendChild(button);\n    }\n\n    if (buttonGroup.hasChildNodes()) {\n        toolbar.appendChild(buttonGroup);\n    }\n\n    var fmt_picker = document.createElement('select');\n    fmt_picker.classList = 'mpl-widget';\n    toolbar.appendChild(fmt_picker);\n    this.format_dropdown = fmt_picker;\n\n    for (var ind in mpl.extensions) {\n        var fmt = mpl.extensions[ind];\n        var option = document.createElement('option');\n        option.selected = fmt === mpl.default_extension;\n        option.innerHTML = fmt;\n        fmt_picker.appendChild(option);\n    }\n\n    var status_bar = document.createElement('span');\n    status_bar.classList = 'mpl-message';\n    toolbar.appendChild(status_bar);\n    this.message = status_bar;\n};\n\nmpl.figure.prototype.request_resize = function (x_pixels, y_pixels) {\n    // Request matplotlib to resize the figure. Matplotlib will then trigger a resize in the client,\n    // which will in turn request a refresh of the image.\n    this.send_message('resize', { width: x_pixels, height: y_pixels });\n};\n\nmpl.figure.prototype.send_message = function (type, properties) {\n    properties['type'] = type;\n    properties['figure_id'] = this.id;\n    this.ws.send(JSON.stringify(properties));\n};\n\nmpl.figure.prototype.send_draw_message = function () {\n    if (!this.waiting) {\n        this.waiting = true;\n        this.ws.send(JSON.stringify({ type: 'draw', figure_id: this.id }));\n    }\n};\n\nmpl.figure.prototype.handle_save = function (fig, _msg) {\n    var format_dropdown = fig.format_dropdown;\n    var format = format_dropdown.options[format_dropdown.selectedIndex].value;\n    fig.ondownload(fig, format);\n};\n\nmpl.figure.prototype.handle_resize = function (fig, msg) {\n    var size = msg['size'];\n    if (size[0] !== fig.canvas.width || size[1] !== fig.canvas.height) {\n        fig._resize_canvas(size[0], size[1], msg['forward']);\n        fig.send_message('refresh', {});\n    }\n};\n\nmpl.figure.prototype.handle_rubberband = function (fig, msg) {\n    var x0 = msg['x0'] / fig.ratio;\n    var y0 = (fig.canvas.height - msg['y0']) / fig.ratio;\n    var x1 = msg['x1'] / fig.ratio;\n    var y1 = (fig.canvas.height - msg['y1']) / fig.ratio;\n    x0 = Math.floor(x0) + 0.5;\n    y0 = Math.floor(y0) + 0.5;\n    x1 = Math.floor(x1) + 0.5;\n    y1 = Math.floor(y1) + 0.5;\n    var min_x = Math.min(x0, x1);\n    var min_y = Math.min(y0, y1);\n    var width = Math.abs(x1 - x0);\n    var height = Math.abs(y1 - y0);\n\n    fig.rubberband_context.clearRect(\n        0,\n        0,\n        fig.canvas.width / fig.ratio,\n        fig.canvas.height / fig.ratio\n    );\n\n    fig.rubberband_context.strokeRect(min_x, min_y, width, height);\n};\n\nmpl.figure.prototype.handle_figure_label = function (fig, msg) {\n    // Updates the figure title.\n    fig.header.textContent = msg['label'];\n};\n\nmpl.figure.prototype.handle_cursor = function (fig, msg) {\n    var cursor = msg['cursor'];\n    switch (cursor) {\n        case 0:\n            cursor = 'pointer';\n            break;\n        case 1:\n            cursor = 'default';\n            break;\n        case 2:\n            cursor = 'crosshair';\n            break;\n        case 3:\n            cursor = 'move';\n            break;\n    }\n    fig.rubberband_canvas.style.cursor = cursor;\n};\n\nmpl.figure.prototype.handle_message = function (fig, msg) {\n    fig.message.textContent = msg['message'];\n};\n\nmpl.figure.prototype.handle_draw = function (fig, _msg) {\n    // Request the server to send over a new figure.\n    fig.send_draw_message();\n};\n\nmpl.figure.prototype.handle_image_mode = function (fig, msg) {\n    fig.image_mode = msg['mode'];\n};\n\nmpl.figure.prototype.handle_history_buttons = function (fig, msg) {\n    for (var key in msg) {\n        if (!(key in fig.buttons)) {\n            continue;\n        }\n        fig.buttons[key].disabled = !msg[key];\n        fig.buttons[key].setAttribute('aria-disabled', !msg[key]);\n    }\n};\n\nmpl.figure.prototype.handle_navigate_mode = function (fig, msg) {\n    if (msg['mode'] === 'PAN') {\n        fig.buttons['Pan'].classList.add('active');\n        fig.buttons['Zoom'].classList.remove('active');\n    } else if (msg['mode'] === 'ZOOM') {\n        fig.buttons['Pan'].classList.remove('active');\n        fig.buttons['Zoom'].classList.add('active');\n    } else {\n        fig.buttons['Pan'].classList.remove('active');\n        fig.buttons['Zoom'].classList.remove('active');\n    }\n};\n\nmpl.figure.prototype.updated_canvas_event = function () {\n    // Called whenever the canvas gets updated.\n    this.send_message('ack', {});\n};\n\n// A function to construct a web socket function for onmessage handling.\n// Called in the figure constructor.\nmpl.figure.prototype._make_on_message_function = function (fig) {\n    return function socket_on_message(evt) {\n        if (evt.data instanceof Blob) {\n            /* FIXME: We get \"Resource interpreted as Image but\n             * transferred with MIME type text/plain:\" errors on\n             * Chrome.  But how to set the MIME type?  It doesn't seem\n             * to be part of the websocket stream */\n            evt.data.type = 'image/png';\n\n            /* Free the memory for the previous frames */\n            if (fig.imageObj.src) {\n                (window.URL || window.webkitURL).revokeObjectURL(\n                    fig.imageObj.src\n                );\n            }\n\n            fig.imageObj.src = (window.URL || window.webkitURL).createObjectURL(\n                evt.data\n            );\n            fig.updated_canvas_event();\n            fig.waiting = false;\n            return;\n        } else if (\n            typeof evt.data === 'string' &&\n            evt.data.slice(0, 21) === 'data:image/png;base64'\n        ) {\n            fig.imageObj.src = evt.data;\n            fig.updated_canvas_event();\n            fig.waiting = false;\n            return;\n        }\n\n        var msg = JSON.parse(evt.data);\n        var msg_type = msg['type'];\n\n        // Call the  \"handle_{type}\" callback, which takes\n        // the figure and JSON message as its only arguments.\n        try {\n            var callback = fig['handle_' + msg_type];\n        } catch (e) {\n            console.log(\n                \"No handler for the '\" + msg_type + \"' message type: \",\n                msg\n            );\n            return;\n        }\n\n        if (callback) {\n            try {\n                // console.log(\"Handling '\" + msg_type + \"' message: \", msg);\n                callback(fig, msg);\n            } catch (e) {\n                console.log(\n                    \"Exception inside the 'handler_\" + msg_type + \"' callback:\",\n                    e,\n                    e.stack,\n                    msg\n                );\n            }\n        }\n    };\n};\n\n// from http://stackoverflow.com/questions/1114465/getting-mouse-location-in-canvas\nmpl.findpos = function (e) {\n    //this section is from http://www.quirksmode.org/js/events_properties.html\n    var targ;\n    if (!e) {\n        e = window.event;\n    }\n    if (e.target) {\n        targ = e.target;\n    } else if (e.srcElement) {\n        targ = e.srcElement;\n    }\n    if (targ.nodeType === 3) {\n        // defeat Safari bug\n        targ = targ.parentNode;\n    }\n\n    // pageX,Y are the mouse positions relative to the document\n    var boundingRect = targ.getBoundingClientRect();\n    var x = e.pageX - (boundingRect.left + document.body.scrollLeft);\n    var y = e.pageY - (boundingRect.top + document.body.scrollTop);\n\n    return { x: x, y: y };\n};\n\n/*\n * return a copy of an object with only non-object keys\n * we need this to avoid circular references\n * http://stackoverflow.com/a/24161582/3208463\n */\nfunction simpleKeys(original) {\n    return Object.keys(original).reduce(function (obj, key) {\n        if (typeof original[key] !== 'object') {\n            obj[key] = original[key];\n        }\n        return obj;\n    }, {});\n}\n\nmpl.figure.prototype.mouse_event = function (event, name) {\n    var canvas_pos = mpl.findpos(event);\n\n    if (name === 'button_press') {\n        this.canvas.focus();\n        this.canvas_div.focus();\n    }\n\n    var x = canvas_pos.x * this.ratio;\n    var y = canvas_pos.y * this.ratio;\n\n    this.send_message(name, {\n        x: x,\n        y: y,\n        button: event.button,\n        step: event.step,\n        guiEvent: simpleKeys(event),\n    });\n\n    /* This prevents the web browser from automatically changing to\n     * the text insertion cursor when the button is pressed.  We want\n     * to control all of the cursor setting manually through the\n     * 'cursor' event from matplotlib */\n    event.preventDefault();\n    return false;\n};\n\nmpl.figure.prototype._key_event_extra = function (_event, _name) {\n    // Handle any extra behaviour associated with a key event\n};\n\nmpl.figure.prototype.key_event = function (event, name) {\n    // Prevent repeat events\n    if (name === 'key_press') {\n        if (event.which === this._key) {\n            return;\n        } else {\n            this._key = event.which;\n        }\n    }\n    if (name === 'key_release') {\n        this._key = null;\n    }\n\n    var value = '';\n    if (event.ctrlKey && event.which !== 17) {\n        value += 'ctrl+';\n    }\n    if (event.altKey && event.which !== 18) {\n        value += 'alt+';\n    }\n    if (event.shiftKey && event.which !== 16) {\n        value += 'shift+';\n    }\n\n    value += 'k';\n    value += event.which.toString();\n\n    this._key_event_extra(event, name);\n\n    this.send_message(name, { key: value, guiEvent: simpleKeys(event) });\n    return false;\n};\n\nmpl.figure.prototype.toolbar_button_onclick = function (name) {\n    if (name === 'download') {\n        this.handle_save(this, null);\n    } else {\n        this.send_message('toolbar_button', { name: name });\n    }\n};\n\nmpl.figure.prototype.toolbar_button_onmouseover = function (tooltip) {\n    this.message.textContent = tooltip;\n};\nmpl.toolbar_items = [[\"Home\", \"Reset original view\", \"fa fa-home icon-home\", \"home\"], [\"Back\", \"Back to previous view\", \"fa fa-arrow-left icon-arrow-left\", \"back\"], [\"Forward\", \"Forward to next view\", \"fa fa-arrow-right icon-arrow-right\", \"forward\"], [\"\", \"\", \"\", \"\"], [\"Pan\", \"Left button pans, Right button zooms\\nx/y fixes axis, CTRL fixes aspect\", \"fa fa-arrows icon-move\", \"pan\"], [\"Zoom\", \"Zoom to rectangle\\nx/y fixes axis, CTRL fixes aspect\", \"fa fa-square-o icon-check-empty\", \"zoom\"], [\"\", \"\", \"\", \"\"], [\"Download\", \"Download plot\", \"fa fa-floppy-o icon-save\", \"download\"]];\n\nmpl.extensions = [\"eps\", \"jpeg\", \"pdf\", \"png\", \"ps\", \"raw\", \"svg\", \"tif\"];\n\nmpl.default_extension = \"png\";/* global mpl */\n\nvar comm_websocket_adapter = function (comm) {\n    // Create a \"websocket\"-like object which calls the given IPython comm\n    // object with the appropriate methods. Currently this is a non binary\n    // socket, so there is still some room for performance tuning.\n    var ws = {};\n\n    ws.close = function () {\n        comm.close();\n    };\n    ws.send = function (m) {\n        //console.log('sending', m);\n        comm.send(m);\n    };\n    // Register the callback with on_msg.\n    comm.on_msg(function (msg) {\n        //console.log('receiving', msg['content']['data'], msg);\n        // Pass the mpl event to the overridden (by mpl) onmessage function.\n        ws.onmessage(msg['content']['data']);\n    });\n    return ws;\n};\n\nmpl.mpl_figure_comm = function (comm, msg) {\n    // This is the function which gets called when the mpl process\n    // starts-up an IPython Comm through the \"matplotlib\" channel.\n\n    var id = msg.content.data.id;\n    // Get hold of the div created by the display call when the Comm\n    // socket was opened in Python.\n    var element = document.getElementById(id);\n    var ws_proxy = comm_websocket_adapter(comm);\n\n    function ondownload(figure, _format) {\n        window.open(figure.canvas.toDataURL());\n    }\n\n    var fig = new mpl.figure(id, ws_proxy, ondownload, element);\n\n    // Call onopen now - mpl needs it, as it is assuming we've passed it a real\n    // web socket which is closed, not our websocket->open comm proxy.\n    ws_proxy.onopen();\n\n    fig.parent_element = element;\n    fig.cell_info = mpl.find_output_cell(\"<div id='\" + id + \"'></div>\");\n    if (!fig.cell_info) {\n        console.error('Failed to find cell for figure', id, fig);\n        return;\n    }\n    fig.cell_info[0].output_area.element.one(\n        'cleared',\n        { fig: fig },\n        fig._remove_fig_handler\n    );\n};\n\nmpl.figure.prototype.handle_close = function (fig, msg) {\n    var width = fig.canvas.width / fig.ratio;\n    fig.cell_info[0].output_area.element.off(\n        'cleared',\n        fig._remove_fig_handler\n    );\n\n    // Update the output cell to use the data from the current canvas.\n    fig.push_to_output();\n    var dataURL = fig.canvas.toDataURL();\n    // Re-enable the keyboard manager in IPython - without this line, in FF,\n    // the notebook keyboard shortcuts fail.\n    IPython.keyboard_manager.enable();\n    fig.parent_element.innerHTML =\n        '<img src=\"' + dataURL + '\" width=\"' + width + '\">';\n    fig.close_ws(fig, msg);\n};\n\nmpl.figure.prototype.close_ws = function (fig, msg) {\n    fig.send_message('closing', msg);\n    // fig.ws.close()\n};\n\nmpl.figure.prototype.push_to_output = function (_remove_interactive) {\n    // Turn the data on the canvas into data in the output cell.\n    var width = this.canvas.width / this.ratio;\n    var dataURL = this.canvas.toDataURL();\n    this.cell_info[1]['text/html'] =\n        '<img src=\"' + dataURL + '\" width=\"' + width + '\">';\n};\n\nmpl.figure.prototype.updated_canvas_event = function () {\n    // Tell IPython that the notebook contents must change.\n    IPython.notebook.set_dirty(true);\n    this.send_message('ack', {});\n    var fig = this;\n    // Wait a second, then push the new image to the DOM so\n    // that it is saved nicely (might be nice to debounce this).\n    setTimeout(function () {\n        fig.push_to_output();\n    }, 1000);\n};\n\nmpl.figure.prototype._init_toolbar = function () {\n    var fig = this;\n\n    var toolbar = document.createElement('div');\n    toolbar.classList = 'btn-toolbar';\n    this.root.appendChild(toolbar);\n\n    function on_click_closure(name) {\n        return function (_event) {\n            return fig.toolbar_button_onclick(name);\n        };\n    }\n\n    function on_mouseover_closure(tooltip) {\n        return function (event) {\n            if (!event.currentTarget.disabled) {\n                return fig.toolbar_button_onmouseover(tooltip);\n            }\n        };\n    }\n\n    fig.buttons = {};\n    var buttonGroup = document.createElement('div');\n    buttonGroup.classList = 'btn-group';\n    var button;\n    for (var toolbar_ind in mpl.toolbar_items) {\n        var name = mpl.toolbar_items[toolbar_ind][0];\n        var tooltip = mpl.toolbar_items[toolbar_ind][1];\n        var image = mpl.toolbar_items[toolbar_ind][2];\n        var method_name = mpl.toolbar_items[toolbar_ind][3];\n\n        if (!name) {\n            /* Instead of a spacer, we start a new button group. */\n            if (buttonGroup.hasChildNodes()) {\n                toolbar.appendChild(buttonGroup);\n            }\n            buttonGroup = document.createElement('div');\n            buttonGroup.classList = 'btn-group';\n            continue;\n        }\n\n        button = fig.buttons[name] = document.createElement('button');\n        button.classList = 'btn btn-default';\n        button.href = '#';\n        button.title = name;\n        button.innerHTML = '<i class=\"fa ' + image + ' fa-lg\"></i>';\n        button.addEventListener('click', on_click_closure(method_name));\n        button.addEventListener('mouseover', on_mouseover_closure(tooltip));\n        buttonGroup.appendChild(button);\n    }\n\n    if (buttonGroup.hasChildNodes()) {\n        toolbar.appendChild(buttonGroup);\n    }\n\n    // Add the status bar.\n    var status_bar = document.createElement('span');\n    status_bar.classList = 'mpl-message pull-right';\n    toolbar.appendChild(status_bar);\n    this.message = status_bar;\n\n    // Add the close button to the window.\n    var buttongrp = document.createElement('div');\n    buttongrp.classList = 'btn-group inline pull-right';\n    button = document.createElement('button');\n    button.classList = 'btn btn-mini btn-primary';\n    button.href = '#';\n    button.title = 'Stop Interaction';\n    button.innerHTML = '<i class=\"fa fa-power-off icon-remove icon-large\"></i>';\n    button.addEventListener('click', function (_evt) {\n        fig.handle_close(fig, {});\n    });\n    button.addEventListener(\n        'mouseover',\n        on_mouseover_closure('Stop Interaction')\n    );\n    buttongrp.appendChild(button);\n    var titlebar = this.root.querySelector('.ui-dialog-titlebar');\n    titlebar.insertBefore(buttongrp, titlebar.firstChild);\n};\n\nmpl.figure.prototype._remove_fig_handler = function (event) {\n    var fig = event.data.fig;\n    fig.close_ws(fig, {});\n};\n\nmpl.figure.prototype._root_extra_style = function (el) {\n    el.style.boxSizing = 'content-box'; // override notebook setting of border-box.\n};\n\nmpl.figure.prototype._canvas_extra_style = function (el) {\n    // this is important to make the div 'focusable\n    el.setAttribute('tabindex', 0);\n    // reach out to IPython and tell the keyboard manager to turn it's self\n    // off when our div gets focus\n\n    // location in version 3\n    if (IPython.notebook.keyboard_manager) {\n        IPython.notebook.keyboard_manager.register_events(el);\n    } else {\n        // location in version 2\n        IPython.keyboard_manager.register_events(el);\n    }\n};\n\nmpl.figure.prototype._key_event_extra = function (event, _name) {\n    var manager = IPython.notebook.keyboard_manager;\n    if (!manager) {\n        manager = IPython.keyboard_manager;\n    }\n\n    // Check for shift+enter\n    if (event.shiftKey && event.which === 13) {\n        this.canvas_div.blur();\n        // select the cell after this one\n        var index = IPython.notebook.find_cell_index(this.cell_info[0]);\n        IPython.notebook.select(index + 1);\n    }\n};\n\nmpl.figure.prototype.handle_save = function (fig, _msg) {\n    fig.ondownload(fig, null);\n};\n\nmpl.find_output_cell = function (html_output) {\n    // Return the cell and output element which can be found *uniquely* in the notebook.\n    // Note - this is a bit hacky, but it is done because the \"notebook_saving.Notebook\"\n    // IPython event is triggered only after the cells have been serialised, which for\n    // our purposes (turning an active figure into a static one), is too late.\n    var cells = IPython.notebook.get_cells();\n    var ncells = cells.length;\n    for (var i = 0; i < ncells; i++) {\n        var cell = cells[i];\n        if (cell.cell_type === 'code') {\n            for (var j = 0; j < cell.output_area.outputs.length; j++) {\n                var data = cell.output_area.outputs[j];\n                if (data.data) {\n                    // IPython >= 3 moved mimebundle to data attribute of output\n                    data = data.data;\n                }\n                if (data['text/html'] === html_output) {\n                    return [cell, data, j];\n                }\n            }\n        }\n    }\n};\n\n// Register the function which deals with the matplotlib target/channel.\n// The kernel may be null if the page has been refreshed.\nif (IPython.notebook.kernel !== null) {\n    IPython.notebook.kernel.comm_manager.register_target(\n        'matplotlib',\n        mpl.mpl_figure_comm\n    );\n}\n",
      "text/plain": [
       "<IPython.core.display.Javascript object>"
      ]
     },
     "metadata": {},
     "output_type": "display_data"
    },
    {
     "data": {
      "text/html": [
       "<div id='8e0c8239-de80-49dd-9dcd-fb3472dee01c'></div>"
      ],
      "text/plain": [
       "<IPython.core.display.HTML object>"
      ]
     },
     "metadata": {},
     "output_type": "display_data"
    },
    {
     "data": {
      "text/plain": [
       "<AxesSubplot:>"
      ]
     },
     "execution_count": 23,
     "metadata": {},
     "output_type": "execute_result"
    }
   ],
   "source": [
    "df['job_title'].value_counts().head(10).plot(kind='barh',color='orange')"
   ]
  },
  {
   "cell_type": "code",
   "execution_count": 24,
   "metadata": {},
   "outputs": [
    {
     "data": {
      "text/html": [
       "<div>\n",
       "<style scoped>\n",
       "    .dataframe tbody tr th:only-of-type {\n",
       "        vertical-align: middle;\n",
       "    }\n",
       "\n",
       "    .dataframe tbody tr th {\n",
       "        vertical-align: top;\n",
       "    }\n",
       "\n",
       "    .dataframe thead tr th {\n",
       "        text-align: left;\n",
       "    }\n",
       "\n",
       "    .dataframe thead tr:last-of-type th {\n",
       "        text-align: right;\n",
       "    }\n",
       "</style>\n",
       "<table border=\"1\" class=\"dataframe\">\n",
       "  <thead>\n",
       "    <tr>\n",
       "      <th>work_year</th>\n",
       "      <th colspan=\"4\" halign=\"left\">2020</th>\n",
       "      <th colspan=\"4\" halign=\"left\">2021</th>\n",
       "      <th colspan=\"4\" halign=\"left\">2022</th>\n",
       "      <th>All</th>\n",
       "    </tr>\n",
       "    <tr>\n",
       "      <th>experience_level</th>\n",
       "      <th>Entry</th>\n",
       "      <th>Executive</th>\n",
       "      <th>Mid</th>\n",
       "      <th>Senior</th>\n",
       "      <th>Entry</th>\n",
       "      <th>Executive</th>\n",
       "      <th>Mid</th>\n",
       "      <th>Senior</th>\n",
       "      <th>Entry</th>\n",
       "      <th>Executive</th>\n",
       "      <th>Mid</th>\n",
       "      <th>Senior</th>\n",
       "      <th></th>\n",
       "    </tr>\n",
       "    <tr>\n",
       "      <th>job_title</th>\n",
       "      <th></th>\n",
       "      <th></th>\n",
       "      <th></th>\n",
       "      <th></th>\n",
       "      <th></th>\n",
       "      <th></th>\n",
       "      <th></th>\n",
       "      <th></th>\n",
       "      <th></th>\n",
       "      <th></th>\n",
       "      <th></th>\n",
       "      <th></th>\n",
       "      <th></th>\n",
       "    </tr>\n",
       "  </thead>\n",
       "  <tbody>\n",
       "    <tr>\n",
       "      <th>3D Computer Vision Researcher</th>\n",
       "      <td>-</td>\n",
       "      <td>-</td>\n",
       "      <td>-</td>\n",
       "      <td>-</td>\n",
       "      <td>-</td>\n",
       "      <td>-</td>\n",
       "      <td>5409</td>\n",
       "      <td>-</td>\n",
       "      <td>-</td>\n",
       "      <td>-</td>\n",
       "      <td>-</td>\n",
       "      <td>-</td>\n",
       "      <td>5409</td>\n",
       "    </tr>\n",
       "    <tr>\n",
       "      <th>AI Scientist</th>\n",
       "      <td>45896</td>\n",
       "      <td>-</td>\n",
       "      <td>-</td>\n",
       "      <td>-</td>\n",
       "      <td>14017.7</td>\n",
       "      <td>-</td>\n",
       "      <td>-</td>\n",
       "      <td>55000</td>\n",
       "      <td>-</td>\n",
       "      <td>-</td>\n",
       "      <td>160000</td>\n",
       "      <td>-</td>\n",
       "      <td>68728.4</td>\n",
       "    </tr>\n",
       "    <tr>\n",
       "      <th>Analytics Engineer</th>\n",
       "      <td>-</td>\n",
       "      <td>-</td>\n",
       "      <td>-</td>\n",
       "      <td>-</td>\n",
       "      <td>-</td>\n",
       "      <td>-</td>\n",
       "      <td>-</td>\n",
       "      <td>-</td>\n",
       "      <td>-</td>\n",
       "      <td>155000</td>\n",
       "      <td>-</td>\n",
       "      <td>195000</td>\n",
       "      <td>175000</td>\n",
       "    </tr>\n",
       "    <tr>\n",
       "      <th>Applied Data Scientist</th>\n",
       "      <td>-</td>\n",
       "      <td>-</td>\n",
       "      <td>-</td>\n",
       "      <td>-</td>\n",
       "      <td>110037</td>\n",
       "      <td>-</td>\n",
       "      <td>54238</td>\n",
       "      <td>-</td>\n",
       "      <td>-</td>\n",
       "      <td>-</td>\n",
       "      <td>157000</td>\n",
       "      <td>278500</td>\n",
       "      <td>149944</td>\n",
       "    </tr>\n",
       "    <tr>\n",
       "      <th>Applied Machine Learning Scientist</th>\n",
       "      <td>-</td>\n",
       "      <td>-</td>\n",
       "      <td>-</td>\n",
       "      <td>-</td>\n",
       "      <td>-</td>\n",
       "      <td>-</td>\n",
       "      <td>230700</td>\n",
       "      <td>-</td>\n",
       "      <td>31875</td>\n",
       "      <td>-</td>\n",
       "      <td>75000</td>\n",
       "      <td>-</td>\n",
       "      <td>112525</td>\n",
       "    </tr>\n",
       "    <tr>\n",
       "      <th>BI Data Analyst</th>\n",
       "      <td>-</td>\n",
       "      <td>-</td>\n",
       "      <td>98000</td>\n",
       "      <td>-</td>\n",
       "      <td>32136</td>\n",
       "      <td>150000</td>\n",
       "      <td>68129.5</td>\n",
       "      <td>-</td>\n",
       "      <td>-</td>\n",
       "      <td>-</td>\n",
       "      <td>-</td>\n",
       "      <td>-</td>\n",
       "      <td>87066.4</td>\n",
       "    </tr>\n",
       "    <tr>\n",
       "      <th>Big Data Architect</th>\n",
       "      <td>-</td>\n",
       "      <td>-</td>\n",
       "      <td>-</td>\n",
       "      <td>-</td>\n",
       "      <td>-</td>\n",
       "      <td>-</td>\n",
       "      <td>-</td>\n",
       "      <td>99703</td>\n",
       "      <td>-</td>\n",
       "      <td>-</td>\n",
       "      <td>-</td>\n",
       "      <td>-</td>\n",
       "      <td>99703</td>\n",
       "    </tr>\n",
       "    <tr>\n",
       "      <th>Big Data Engineer</th>\n",
       "      <td>70000</td>\n",
       "      <td>-</td>\n",
       "      <td>-</td>\n",
       "      <td>111536</td>\n",
       "      <td>11055</td>\n",
       "      <td>-</td>\n",
       "      <td>33537</td>\n",
       "      <td>-</td>\n",
       "      <td>-</td>\n",
       "      <td>-</td>\n",
       "      <td>-</td>\n",
       "      <td>-</td>\n",
       "      <td>56531.9</td>\n",
       "    </tr>\n",
       "    <tr>\n",
       "      <th>Business Data Analyst</th>\n",
       "      <td>100000</td>\n",
       "      <td>-</td>\n",
       "      <td>135000</td>\n",
       "      <td>-</td>\n",
       "      <td>59102</td>\n",
       "      <td>-</td>\n",
       "      <td>-</td>\n",
       "      <td>-</td>\n",
       "      <td>-</td>\n",
       "      <td>-</td>\n",
       "      <td>44677</td>\n",
       "      <td>-</td>\n",
       "      <td>84694.8</td>\n",
       "    </tr>\n",
       "    <tr>\n",
       "      <th>Cloud Data Engineer</th>\n",
       "      <td>-</td>\n",
       "      <td>-</td>\n",
       "      <td>-</td>\n",
       "      <td>-</td>\n",
       "      <td>-</td>\n",
       "      <td>-</td>\n",
       "      <td>89294</td>\n",
       "      <td>160000</td>\n",
       "      <td>-</td>\n",
       "      <td>-</td>\n",
       "      <td>-</td>\n",
       "      <td>-</td>\n",
       "      <td>124647</td>\n",
       "    </tr>\n",
       "    <tr>\n",
       "      <th>Computer Vision Engineer</th>\n",
       "      <td>-</td>\n",
       "      <td>-</td>\n",
       "      <td>-</td>\n",
       "      <td>60000</td>\n",
       "      <td>28609</td>\n",
       "      <td>-</td>\n",
       "      <td>-</td>\n",
       "      <td>21453.5</td>\n",
       "      <td>67500</td>\n",
       "      <td>-</td>\n",
       "      <td>-</td>\n",
       "      <td>-</td>\n",
       "      <td>44390.6</td>\n",
       "    </tr>\n",
       "    <tr>\n",
       "      <th>Computer Vision Software Engineer</th>\n",
       "      <td>-</td>\n",
       "      <td>-</td>\n",
       "      <td>-</td>\n",
       "      <td>-</td>\n",
       "      <td>70000</td>\n",
       "      <td>-</td>\n",
       "      <td>95746</td>\n",
       "      <td>-</td>\n",
       "      <td>150000</td>\n",
       "      <td>-</td>\n",
       "      <td>-</td>\n",
       "      <td>-</td>\n",
       "      <td>105249</td>\n",
       "    </tr>\n",
       "    <tr>\n",
       "      <th>Data Analyst</th>\n",
       "      <td>44768</td>\n",
       "      <td>-</td>\n",
       "      <td>46586.3</td>\n",
       "      <td>-</td>\n",
       "      <td>58242.7</td>\n",
       "      <td>-</td>\n",
       "      <td>83788.4</td>\n",
       "      <td>103904</td>\n",
       "      <td>59500</td>\n",
       "      <td>120000</td>\n",
       "      <td>71210.5</td>\n",
       "      <td>112564</td>\n",
       "      <td>77840.5</td>\n",
       "    </tr>\n",
       "    <tr>\n",
       "      <th>Data Analytics Engineer</th>\n",
       "      <td>-</td>\n",
       "      <td>-</td>\n",
       "      <td>-</td>\n",
       "      <td>-</td>\n",
       "      <td>-</td>\n",
       "      <td>-</td>\n",
       "      <td>110000</td>\n",
       "      <td>64598.5</td>\n",
       "      <td>20000</td>\n",
       "      <td>-</td>\n",
       "      <td>-</td>\n",
       "      <td>-</td>\n",
       "      <td>64866.2</td>\n",
       "    </tr>\n",
       "    <tr>\n",
       "      <th>Data Analytics Lead</th>\n",
       "      <td>-</td>\n",
       "      <td>-</td>\n",
       "      <td>-</td>\n",
       "      <td>-</td>\n",
       "      <td>-</td>\n",
       "      <td>-</td>\n",
       "      <td>-</td>\n",
       "      <td>-</td>\n",
       "      <td>-</td>\n",
       "      <td>-</td>\n",
       "      <td>-</td>\n",
       "      <td>405000</td>\n",
       "      <td>405000</td>\n",
       "    </tr>\n",
       "    <tr>\n",
       "      <th>Data Analytics Manager</th>\n",
       "      <td>-</td>\n",
       "      <td>-</td>\n",
       "      <td>-</td>\n",
       "      <td>-</td>\n",
       "      <td>-</td>\n",
       "      <td>-</td>\n",
       "      <td>-</td>\n",
       "      <td>126667</td>\n",
       "      <td>-</td>\n",
       "      <td>-</td>\n",
       "      <td>-</td>\n",
       "      <td>127485</td>\n",
       "      <td>127076</td>\n",
       "    </tr>\n",
       "    <tr>\n",
       "      <th>Data Architect</th>\n",
       "      <td>-</td>\n",
       "      <td>-</td>\n",
       "      <td>-</td>\n",
       "      <td>-</td>\n",
       "      <td>-</td>\n",
       "      <td>-</td>\n",
       "      <td>166667</td>\n",
       "      <td>-</td>\n",
       "      <td>-</td>\n",
       "      <td>-</td>\n",
       "      <td>-</td>\n",
       "      <td>182077</td>\n",
       "      <td>174372</td>\n",
       "    </tr>\n",
       "    <tr>\n",
       "      <th>Data Engineer</th>\n",
       "      <td>48215.5</td>\n",
       "      <td>-</td>\n",
       "      <td>100657</td>\n",
       "      <td>89803.3</td>\n",
       "      <td>53915.6</td>\n",
       "      <td>-</td>\n",
       "      <td>78085.1</td>\n",
       "      <td>125519</td>\n",
       "      <td>68238.6</td>\n",
       "      <td>245500</td>\n",
       "      <td>88981.2</td>\n",
       "      <td>140940</td>\n",
       "      <td>103985</td>\n",
       "    </tr>\n",
       "    <tr>\n",
       "      <th>Data Engineering Manager</th>\n",
       "      <td>-</td>\n",
       "      <td>79833</td>\n",
       "      <td>59303</td>\n",
       "      <td>-</td>\n",
       "      <td>-</td>\n",
       "      <td>-</td>\n",
       "      <td>-</td>\n",
       "      <td>159000</td>\n",
       "      <td>-</td>\n",
       "      <td>-</td>\n",
       "      <td>-</td>\n",
       "      <td>-</td>\n",
       "      <td>99378.7</td>\n",
       "    </tr>\n",
       "    <tr>\n",
       "      <th>Data Science Consultant</th>\n",
       "      <td>5707</td>\n",
       "      <td>-</td>\n",
       "      <td>103000</td>\n",
       "      <td>-</td>\n",
       "      <td>76874.2</td>\n",
       "      <td>69741</td>\n",
       "      <td>-</td>\n",
       "      <td>-</td>\n",
       "      <td>-</td>\n",
       "      <td>-</td>\n",
       "      <td>-</td>\n",
       "      <td>-</td>\n",
       "      <td>63830.6</td>\n",
       "    </tr>\n",
       "    <tr>\n",
       "      <th>Data Science Engineer</th>\n",
       "      <td>-</td>\n",
       "      <td>-</td>\n",
       "      <td>-</td>\n",
       "      <td>-</td>\n",
       "      <td>-</td>\n",
       "      <td>-</td>\n",
       "      <td>40189</td>\n",
       "      <td>127221</td>\n",
       "      <td>-</td>\n",
       "      <td>-</td>\n",
       "      <td>-</td>\n",
       "      <td>60000</td>\n",
       "      <td>75803.3</td>\n",
       "    </tr>\n",
       "    <tr>\n",
       "      <th>Data Science Manager</th>\n",
       "      <td>-</td>\n",
       "      <td>-</td>\n",
       "      <td>-</td>\n",
       "      <td>190200</td>\n",
       "      <td>-</td>\n",
       "      <td>-</td>\n",
       "      <td>-</td>\n",
       "      <td>143126</td>\n",
       "      <td>-</td>\n",
       "      <td>-</td>\n",
       "      <td>200000</td>\n",
       "      <td>150328</td>\n",
       "      <td>170914</td>\n",
       "    </tr>\n",
       "    <tr>\n",
       "      <th>Data Scientist</th>\n",
       "      <td>54983.3</td>\n",
       "      <td>-</td>\n",
       "      <td>71256</td>\n",
       "      <td>172916</td>\n",
       "      <td>53621.7</td>\n",
       "      <td>-</td>\n",
       "      <td>72144.9</td>\n",
       "      <td>91782.3</td>\n",
       "      <td>59508.2</td>\n",
       "      <td>-</td>\n",
       "      <td>99573.6</td>\n",
       "      <td>159942</td>\n",
       "      <td>92858.7</td>\n",
       "    </tr>\n",
       "    <tr>\n",
       "      <th>Data Specialist</th>\n",
       "      <td>-</td>\n",
       "      <td>-</td>\n",
       "      <td>-</td>\n",
       "      <td>-</td>\n",
       "      <td>-</td>\n",
       "      <td>-</td>\n",
       "      <td>-</td>\n",
       "      <td>165000</td>\n",
       "      <td>-</td>\n",
       "      <td>-</td>\n",
       "      <td>-</td>\n",
       "      <td>-</td>\n",
       "      <td>165000</td>\n",
       "    </tr>\n",
       "    <tr>\n",
       "      <th>Director of Data Engineering</th>\n",
       "      <td>-</td>\n",
       "      <td>-</td>\n",
       "      <td>-</td>\n",
       "      <td>-</td>\n",
       "      <td>-</td>\n",
       "      <td>-</td>\n",
       "      <td>-</td>\n",
       "      <td>156738</td>\n",
       "      <td>-</td>\n",
       "      <td>-</td>\n",
       "      <td>-</td>\n",
       "      <td>-</td>\n",
       "      <td>156738</td>\n",
       "    </tr>\n",
       "    <tr>\n",
       "      <th>Director of Data Science</th>\n",
       "      <td>-</td>\n",
       "      <td>325000</td>\n",
       "      <td>-</td>\n",
       "      <td>-</td>\n",
       "      <td>-</td>\n",
       "      <td>168885</td>\n",
       "      <td>-</td>\n",
       "      <td>168000</td>\n",
       "      <td>-</td>\n",
       "      <td>196979</td>\n",
       "      <td>-</td>\n",
       "      <td>-</td>\n",
       "      <td>214716</td>\n",
       "    </tr>\n",
       "    <tr>\n",
       "      <th>ETL Developer</th>\n",
       "      <td>-</td>\n",
       "      <td>-</td>\n",
       "      <td>-</td>\n",
       "      <td>-</td>\n",
       "      <td>-</td>\n",
       "      <td>-</td>\n",
       "      <td>-</td>\n",
       "      <td>-</td>\n",
       "      <td>-</td>\n",
       "      <td>-</td>\n",
       "      <td>54957</td>\n",
       "      <td>-</td>\n",
       "      <td>54957</td>\n",
       "    </tr>\n",
       "    <tr>\n",
       "      <th>Finance Data Analyst</th>\n",
       "      <td>-</td>\n",
       "      <td>-</td>\n",
       "      <td>-</td>\n",
       "      <td>-</td>\n",
       "      <td>-</td>\n",
       "      <td>-</td>\n",
       "      <td>-</td>\n",
       "      <td>61896</td>\n",
       "      <td>-</td>\n",
       "      <td>-</td>\n",
       "      <td>-</td>\n",
       "      <td>-</td>\n",
       "      <td>61896</td>\n",
       "    </tr>\n",
       "    <tr>\n",
       "      <th>Financial Data Analyst</th>\n",
       "      <td>-</td>\n",
       "      <td>-</td>\n",
       "      <td>-</td>\n",
       "      <td>-</td>\n",
       "      <td>-</td>\n",
       "      <td>-</td>\n",
       "      <td>450000</td>\n",
       "      <td>-</td>\n",
       "      <td>100000</td>\n",
       "      <td>-</td>\n",
       "      <td>-</td>\n",
       "      <td>-</td>\n",
       "      <td>275000</td>\n",
       "    </tr>\n",
       "    <tr>\n",
       "      <th>Head of Data</th>\n",
       "      <td>-</td>\n",
       "      <td>-</td>\n",
       "      <td>-</td>\n",
       "      <td>-</td>\n",
       "      <td>-</td>\n",
       "      <td>232500</td>\n",
       "      <td>-</td>\n",
       "      <td>102839</td>\n",
       "      <td>-</td>\n",
       "      <td>-</td>\n",
       "      <td>32974</td>\n",
       "      <td>200000</td>\n",
       "      <td>142078</td>\n",
       "    </tr>\n",
       "    <tr>\n",
       "      <th>Head of Data Science</th>\n",
       "      <td>-</td>\n",
       "      <td>-</td>\n",
       "      <td>-</td>\n",
       "      <td>-</td>\n",
       "      <td>-</td>\n",
       "      <td>85000</td>\n",
       "      <td>110000</td>\n",
       "      <td>-</td>\n",
       "      <td>-</td>\n",
       "      <td>195938</td>\n",
       "      <td>-</td>\n",
       "      <td>-</td>\n",
       "      <td>130312</td>\n",
       "    </tr>\n",
       "    <tr>\n",
       "      <th>Head of Machine Learning</th>\n",
       "      <td>-</td>\n",
       "      <td>-</td>\n",
       "      <td>-</td>\n",
       "      <td>-</td>\n",
       "      <td>-</td>\n",
       "      <td>-</td>\n",
       "      <td>-</td>\n",
       "      <td>-</td>\n",
       "      <td>-</td>\n",
       "      <td>79039</td>\n",
       "      <td>-</td>\n",
       "      <td>-</td>\n",
       "      <td>79039</td>\n",
       "    </tr>\n",
       "    <tr>\n",
       "      <th>Lead Data Analyst</th>\n",
       "      <td>-</td>\n",
       "      <td>-</td>\n",
       "      <td>87000</td>\n",
       "      <td>-</td>\n",
       "      <td>-</td>\n",
       "      <td>-</td>\n",
       "      <td>19609</td>\n",
       "      <td>170000</td>\n",
       "      <td>-</td>\n",
       "      <td>-</td>\n",
       "      <td>-</td>\n",
       "      <td>-</td>\n",
       "      <td>92203</td>\n",
       "    </tr>\n",
       "    <tr>\n",
       "      <th>Lead Data Engineer</th>\n",
       "      <td>-</td>\n",
       "      <td>-</td>\n",
       "      <td>56000</td>\n",
       "      <td>125000</td>\n",
       "      <td>-</td>\n",
       "      <td>-</td>\n",
       "      <td>-</td>\n",
       "      <td>179720</td>\n",
       "      <td>-</td>\n",
       "      <td>118187</td>\n",
       "      <td>-</td>\n",
       "      <td>-</td>\n",
       "      <td>119727</td>\n",
       "    </tr>\n",
       "    <tr>\n",
       "      <th>Lead Data Scientist</th>\n",
       "      <td>-</td>\n",
       "      <td>-</td>\n",
       "      <td>115000</td>\n",
       "      <td>190000</td>\n",
       "      <td>-</td>\n",
       "      <td>-</td>\n",
       "      <td>-</td>\n",
       "      <td>40570</td>\n",
       "      <td>-</td>\n",
       "      <td>-</td>\n",
       "      <td>-</td>\n",
       "      <td>-</td>\n",
       "      <td>115190</td>\n",
       "    </tr>\n",
       "    <tr>\n",
       "      <th>Lead Machine Learning Engineer</th>\n",
       "      <td>-</td>\n",
       "      <td>-</td>\n",
       "      <td>-</td>\n",
       "      <td>-</td>\n",
       "      <td>-</td>\n",
       "      <td>-</td>\n",
       "      <td>-</td>\n",
       "      <td>-</td>\n",
       "      <td>-</td>\n",
       "      <td>-</td>\n",
       "      <td>-</td>\n",
       "      <td>87932</td>\n",
       "      <td>87932</td>\n",
       "    </tr>\n",
       "    <tr>\n",
       "      <th>ML Engineer</th>\n",
       "      <td>15966</td>\n",
       "      <td>-</td>\n",
       "      <td>-</td>\n",
       "      <td>-</td>\n",
       "      <td>-</td>\n",
       "      <td>-</td>\n",
       "      <td>137025</td>\n",
       "      <td>256000</td>\n",
       "      <td>21983</td>\n",
       "      <td>-</td>\n",
       "      <td>-</td>\n",
       "      <td>-</td>\n",
       "      <td>107744</td>\n",
       "    </tr>\n",
       "    <tr>\n",
       "      <th>Machine Learning Developer</th>\n",
       "      <td>-</td>\n",
       "      <td>-</td>\n",
       "      <td>-</td>\n",
       "      <td>-</td>\n",
       "      <td>100000</td>\n",
       "      <td>-</td>\n",
       "      <td>-</td>\n",
       "      <td>-</td>\n",
       "      <td>-</td>\n",
       "      <td>-</td>\n",
       "      <td>78791</td>\n",
       "      <td>78791</td>\n",
       "      <td>85860.7</td>\n",
       "    </tr>\n",
       "    <tr>\n",
       "      <th>Machine Learning Engineer</th>\n",
       "      <td>194000</td>\n",
       "      <td>-</td>\n",
       "      <td>43331</td>\n",
       "      <td>97809</td>\n",
       "      <td>59611.2</td>\n",
       "      <td>-</td>\n",
       "      <td>55403.3</td>\n",
       "      <td>108819</td>\n",
       "      <td>37300</td>\n",
       "      <td>-</td>\n",
       "      <td>103570</td>\n",
       "      <td>147916</td>\n",
       "      <td>94195.4</td>\n",
       "    </tr>\n",
       "    <tr>\n",
       "      <th>Machine Learning Infrastructure Engineer</th>\n",
       "      <td>-</td>\n",
       "      <td>-</td>\n",
       "      <td>50180</td>\n",
       "      <td>-</td>\n",
       "      <td>-</td>\n",
       "      <td>-</td>\n",
       "      <td>-</td>\n",
       "      <td>195000</td>\n",
       "      <td>-</td>\n",
       "      <td>-</td>\n",
       "      <td>58255</td>\n",
       "      <td>-</td>\n",
       "      <td>101145</td>\n",
       "    </tr>\n",
       "    <tr>\n",
       "      <th>Machine Learning Manager</th>\n",
       "      <td>-</td>\n",
       "      <td>-</td>\n",
       "      <td>-</td>\n",
       "      <td>117104</td>\n",
       "      <td>-</td>\n",
       "      <td>-</td>\n",
       "      <td>-</td>\n",
       "      <td>-</td>\n",
       "      <td>-</td>\n",
       "      <td>-</td>\n",
       "      <td>-</td>\n",
       "      <td>-</td>\n",
       "      <td>117104</td>\n",
       "    </tr>\n",
       "    <tr>\n",
       "      <th>Machine Learning Scientist</th>\n",
       "      <td>-</td>\n",
       "      <td>-</td>\n",
       "      <td>-</td>\n",
       "      <td>260000</td>\n",
       "      <td>225000</td>\n",
       "      <td>-</td>\n",
       "      <td>12000</td>\n",
       "      <td>172500</td>\n",
       "      <td>-</td>\n",
       "      <td>-</td>\n",
       "      <td>141767</td>\n",
       "      <td>-</td>\n",
       "      <td>162253</td>\n",
       "    </tr>\n",
       "    <tr>\n",
       "      <th>Marketing Data Analyst</th>\n",
       "      <td>-</td>\n",
       "      <td>-</td>\n",
       "      <td>-</td>\n",
       "      <td>-</td>\n",
       "      <td>-</td>\n",
       "      <td>-</td>\n",
       "      <td>-</td>\n",
       "      <td>88654</td>\n",
       "      <td>-</td>\n",
       "      <td>-</td>\n",
       "      <td>-</td>\n",
       "      <td>-</td>\n",
       "      <td>88654</td>\n",
       "    </tr>\n",
       "    <tr>\n",
       "      <th>NLP Engineer</th>\n",
       "      <td>-</td>\n",
       "      <td>-</td>\n",
       "      <td>-</td>\n",
       "      <td>-</td>\n",
       "      <td>-</td>\n",
       "      <td>-</td>\n",
       "      <td>-</td>\n",
       "      <td>-</td>\n",
       "      <td>-</td>\n",
       "      <td>-</td>\n",
       "      <td>37236</td>\n",
       "      <td>-</td>\n",
       "      <td>37236</td>\n",
       "    </tr>\n",
       "    <tr>\n",
       "      <th>Principal Data Analyst</th>\n",
       "      <td>-</td>\n",
       "      <td>-</td>\n",
       "      <td>-</td>\n",
       "      <td>-</td>\n",
       "      <td>-</td>\n",
       "      <td>-</td>\n",
       "      <td>-</td>\n",
       "      <td>170000</td>\n",
       "      <td>-</td>\n",
       "      <td>-</td>\n",
       "      <td>75000</td>\n",
       "      <td>-</td>\n",
       "      <td>122500</td>\n",
       "    </tr>\n",
       "    <tr>\n",
       "      <th>Principal Data Engineer</th>\n",
       "      <td>-</td>\n",
       "      <td>-</td>\n",
       "      <td>-</td>\n",
       "      <td>-</td>\n",
       "      <td>-</td>\n",
       "      <td>600000</td>\n",
       "      <td>-</td>\n",
       "      <td>192500</td>\n",
       "      <td>-</td>\n",
       "      <td>-</td>\n",
       "      <td>-</td>\n",
       "      <td>-</td>\n",
       "      <td>396250</td>\n",
       "    </tr>\n",
       "    <tr>\n",
       "      <th>Principal Data Scientist</th>\n",
       "      <td>-</td>\n",
       "      <td>-</td>\n",
       "      <td>-</td>\n",
       "      <td>148261</td>\n",
       "      <td>-</td>\n",
       "      <td>416000</td>\n",
       "      <td>151000</td>\n",
       "      <td>209587</td>\n",
       "      <td>-</td>\n",
       "      <td>-</td>\n",
       "      <td>-</td>\n",
       "      <td>162674</td>\n",
       "      <td>217504</td>\n",
       "    </tr>\n",
       "    <tr>\n",
       "      <th>Product Data Analyst</th>\n",
       "      <td>-</td>\n",
       "      <td>-</td>\n",
       "      <td>13036</td>\n",
       "      <td>-</td>\n",
       "      <td>-</td>\n",
       "      <td>-</td>\n",
       "      <td>-</td>\n",
       "      <td>-</td>\n",
       "      <td>-</td>\n",
       "      <td>-</td>\n",
       "      <td>-</td>\n",
       "      <td>-</td>\n",
       "      <td>13036</td>\n",
       "    </tr>\n",
       "    <tr>\n",
       "      <th>Research Scientist</th>\n",
       "      <td>42000</td>\n",
       "      <td>-</td>\n",
       "      <td>450000</td>\n",
       "      <td>-</td>\n",
       "      <td>91264</td>\n",
       "      <td>-</td>\n",
       "      <td>88127.6</td>\n",
       "      <td>68956.7</td>\n",
       "      <td>120000</td>\n",
       "      <td>-</td>\n",
       "      <td>64849</td>\n",
       "      <td>118714</td>\n",
       "      <td>130489</td>\n",
       "    </tr>\n",
       "    <tr>\n",
       "      <th>Staff Data Scientist</th>\n",
       "      <td>-</td>\n",
       "      <td>-</td>\n",
       "      <td>-</td>\n",
       "      <td>-</td>\n",
       "      <td>-</td>\n",
       "      <td>-</td>\n",
       "      <td>-</td>\n",
       "      <td>105000</td>\n",
       "      <td>-</td>\n",
       "      <td>-</td>\n",
       "      <td>-</td>\n",
       "      <td>-</td>\n",
       "      <td>105000</td>\n",
       "    </tr>\n",
       "    <tr>\n",
       "      <th>All</th>\n",
       "      <td>62153.6</td>\n",
       "      <td>202416</td>\n",
       "      <td>102025</td>\n",
       "      <td>142057</td>\n",
       "      <td>69565.7</td>\n",
       "      <td>246018</td>\n",
       "      <td>102433</td>\n",
       "      <td>129659</td>\n",
       "      <td>66900.4</td>\n",
       "      <td>158663</td>\n",
       "      <td>90814.1</td>\n",
       "      <td>162991</td>\n",
       "      <td>116907</td>\n",
       "    </tr>\n",
       "  </tbody>\n",
       "</table>\n",
       "</div>"
      ],
      "text/plain": [
       "work_year                                    2020                              \\\n",
       "experience_level                            Entry Executive      Mid   Senior   \n",
       "job_title                                                                       \n",
       "3D Computer Vision Researcher                   -         -        -        -   \n",
       "AI Scientist                                45896         -        -        -   \n",
       "Analytics Engineer                              -         -        -        -   \n",
       "Applied Data Scientist                          -         -        -        -   \n",
       "Applied Machine Learning Scientist              -         -        -        -   \n",
       "BI Data Analyst                                 -         -    98000        -   \n",
       "Big Data Architect                              -         -        -        -   \n",
       "Big Data Engineer                           70000         -        -   111536   \n",
       "Business Data Analyst                      100000         -   135000        -   \n",
       "Cloud Data Engineer                             -         -        -        -   \n",
       "Computer Vision Engineer                        -         -        -    60000   \n",
       "Computer Vision Software Engineer               -         -        -        -   \n",
       "Data Analyst                                44768         -  46586.3        -   \n",
       "Data Analytics Engineer                         -         -        -        -   \n",
       "Data Analytics Lead                             -         -        -        -   \n",
       "Data Analytics Manager                          -         -        -        -   \n",
       "Data Architect                                  -         -        -        -   \n",
       "Data Engineer                             48215.5         -   100657  89803.3   \n",
       "Data Engineering Manager                        -     79833    59303        -   \n",
       "Data Science Consultant                      5707         -   103000        -   \n",
       "Data Science Engineer                           -         -        -        -   \n",
       "Data Science Manager                            -         -        -   190200   \n",
       "Data Scientist                            54983.3         -    71256   172916   \n",
       "Data Specialist                                 -         -        -        -   \n",
       "Director of Data Engineering                    -         -        -        -   \n",
       "Director of Data Science                        -    325000        -        -   \n",
       "ETL Developer                                   -         -        -        -   \n",
       "Finance Data Analyst                            -         -        -        -   \n",
       "Financial Data Analyst                          -         -        -        -   \n",
       "Head of Data                                    -         -        -        -   \n",
       "Head of Data Science                            -         -        -        -   \n",
       "Head of Machine Learning                        -         -        -        -   \n",
       "Lead Data Analyst                               -         -    87000        -   \n",
       "Lead Data Engineer                              -         -    56000   125000   \n",
       "Lead Data Scientist                             -         -   115000   190000   \n",
       "Lead Machine Learning Engineer                  -         -        -        -   \n",
       "ML Engineer                                 15966         -        -        -   \n",
       "Machine Learning Developer                      -         -        -        -   \n",
       "Machine Learning Engineer                  194000         -    43331    97809   \n",
       "Machine Learning Infrastructure Engineer        -         -    50180        -   \n",
       "Machine Learning Manager                        -         -        -   117104   \n",
       "Machine Learning Scientist                      -         -        -   260000   \n",
       "Marketing Data Analyst                          -         -        -        -   \n",
       "NLP Engineer                                    -         -        -        -   \n",
       "Principal Data Analyst                          -         -        -        -   \n",
       "Principal Data Engineer                         -         -        -        -   \n",
       "Principal Data Scientist                        -         -        -   148261   \n",
       "Product Data Analyst                            -         -    13036        -   \n",
       "Research Scientist                          42000         -   450000        -   \n",
       "Staff Data Scientist                            -         -        -        -   \n",
       "All                                       62153.6    202416   102025   142057   \n",
       "\n",
       "work_year                                    2021                              \\\n",
       "experience_level                            Entry Executive      Mid   Senior   \n",
       "job_title                                                                       \n",
       "3D Computer Vision Researcher                   -         -     5409        -   \n",
       "AI Scientist                              14017.7         -        -    55000   \n",
       "Analytics Engineer                              -         -        -        -   \n",
       "Applied Data Scientist                     110037         -    54238        -   \n",
       "Applied Machine Learning Scientist              -         -   230700        -   \n",
       "BI Data Analyst                             32136    150000  68129.5        -   \n",
       "Big Data Architect                              -         -        -    99703   \n",
       "Big Data Engineer                           11055         -    33537        -   \n",
       "Business Data Analyst                       59102         -        -        -   \n",
       "Cloud Data Engineer                             -         -    89294   160000   \n",
       "Computer Vision Engineer                    28609         -        -  21453.5   \n",
       "Computer Vision Software Engineer           70000         -    95746        -   \n",
       "Data Analyst                              58242.7         -  83788.4   103904   \n",
       "Data Analytics Engineer                         -         -   110000  64598.5   \n",
       "Data Analytics Lead                             -         -        -        -   \n",
       "Data Analytics Manager                          -         -        -   126667   \n",
       "Data Architect                                  -         -   166667        -   \n",
       "Data Engineer                             53915.6         -  78085.1   125519   \n",
       "Data Engineering Manager                        -         -        -   159000   \n",
       "Data Science Consultant                   76874.2     69741        -        -   \n",
       "Data Science Engineer                           -         -    40189   127221   \n",
       "Data Science Manager                            -         -        -   143126   \n",
       "Data Scientist                            53621.7         -  72144.9  91782.3   \n",
       "Data Specialist                                 -         -        -   165000   \n",
       "Director of Data Engineering                    -         -        -   156738   \n",
       "Director of Data Science                        -    168885        -   168000   \n",
       "ETL Developer                                   -         -        -        -   \n",
       "Finance Data Analyst                            -         -        -    61896   \n",
       "Financial Data Analyst                          -         -   450000        -   \n",
       "Head of Data                                    -    232500        -   102839   \n",
       "Head of Data Science                            -     85000   110000        -   \n",
       "Head of Machine Learning                        -         -        -        -   \n",
       "Lead Data Analyst                               -         -    19609   170000   \n",
       "Lead Data Engineer                              -         -        -   179720   \n",
       "Lead Data Scientist                             -         -        -    40570   \n",
       "Lead Machine Learning Engineer                  -         -        -        -   \n",
       "ML Engineer                                     -         -   137025   256000   \n",
       "Machine Learning Developer                 100000         -        -        -   \n",
       "Machine Learning Engineer                 59611.2         -  55403.3   108819   \n",
       "Machine Learning Infrastructure Engineer        -         -        -   195000   \n",
       "Machine Learning Manager                        -         -        -        -   \n",
       "Machine Learning Scientist                 225000         -    12000   172500   \n",
       "Marketing Data Analyst                          -         -        -    88654   \n",
       "NLP Engineer                                    -         -        -        -   \n",
       "Principal Data Analyst                          -         -        -   170000   \n",
       "Principal Data Engineer                         -    600000        -   192500   \n",
       "Principal Data Scientist                        -    416000   151000   209587   \n",
       "Product Data Analyst                            -         -        -        -   \n",
       "Research Scientist                          91264         -  88127.6  68956.7   \n",
       "Staff Data Scientist                            -         -        -   105000   \n",
       "All                                       69565.7    246018   102433   129659   \n",
       "\n",
       "work_year                                    2022                             \\\n",
       "experience_level                            Entry Executive      Mid  Senior   \n",
       "job_title                                                                      \n",
       "3D Computer Vision Researcher                   -         -        -       -   \n",
       "AI Scientist                                    -         -   160000       -   \n",
       "Analytics Engineer                              -    155000        -  195000   \n",
       "Applied Data Scientist                          -         -   157000  278500   \n",
       "Applied Machine Learning Scientist          31875         -    75000       -   \n",
       "BI Data Analyst                                 -         -        -       -   \n",
       "Big Data Architect                              -         -        -       -   \n",
       "Big Data Engineer                               -         -        -       -   \n",
       "Business Data Analyst                           -         -    44677       -   \n",
       "Cloud Data Engineer                             -         -        -       -   \n",
       "Computer Vision Engineer                    67500         -        -       -   \n",
       "Computer Vision Software Engineer          150000         -        -       -   \n",
       "Data Analyst                                59500    120000  71210.5  112564   \n",
       "Data Analytics Engineer                     20000         -        -       -   \n",
       "Data Analytics Lead                             -         -        -  405000   \n",
       "Data Analytics Manager                          -         -        -  127485   \n",
       "Data Architect                                  -         -        -  182077   \n",
       "Data Engineer                             68238.6    245500  88981.2  140940   \n",
       "Data Engineering Manager                        -         -        -       -   \n",
       "Data Science Consultant                         -         -        -       -   \n",
       "Data Science Engineer                           -         -        -   60000   \n",
       "Data Science Manager                            -         -   200000  150328   \n",
       "Data Scientist                            59508.2         -  99573.6  159942   \n",
       "Data Specialist                                 -         -        -       -   \n",
       "Director of Data Engineering                    -         -        -       -   \n",
       "Director of Data Science                        -    196979        -       -   \n",
       "ETL Developer                                   -         -    54957       -   \n",
       "Finance Data Analyst                            -         -        -       -   \n",
       "Financial Data Analyst                     100000         -        -       -   \n",
       "Head of Data                                    -         -    32974  200000   \n",
       "Head of Data Science                            -    195938        -       -   \n",
       "Head of Machine Learning                        -     79039        -       -   \n",
       "Lead Data Analyst                               -         -        -       -   \n",
       "Lead Data Engineer                              -    118187        -       -   \n",
       "Lead Data Scientist                             -         -        -       -   \n",
       "Lead Machine Learning Engineer                  -         -        -   87932   \n",
       "ML Engineer                                 21983         -        -       -   \n",
       "Machine Learning Developer                      -         -    78791   78791   \n",
       "Machine Learning Engineer                   37300         -   103570  147916   \n",
       "Machine Learning Infrastructure Engineer        -         -    58255       -   \n",
       "Machine Learning Manager                        -         -        -       -   \n",
       "Machine Learning Scientist                      -         -   141767       -   \n",
       "Marketing Data Analyst                          -         -        -       -   \n",
       "NLP Engineer                                    -         -    37236       -   \n",
       "Principal Data Analyst                          -         -    75000       -   \n",
       "Principal Data Engineer                         -         -        -       -   \n",
       "Principal Data Scientist                        -         -        -  162674   \n",
       "Product Data Analyst                            -         -        -       -   \n",
       "Research Scientist                         120000         -    64849  118714   \n",
       "Staff Data Scientist                            -         -        -       -   \n",
       "All                                       66900.4    158663  90814.1  162991   \n",
       "\n",
       "work_year                                     All  \n",
       "experience_level                                   \n",
       "job_title                                          \n",
       "3D Computer Vision Researcher                5409  \n",
       "AI Scientist                              68728.4  \n",
       "Analytics Engineer                         175000  \n",
       "Applied Data Scientist                     149944  \n",
       "Applied Machine Learning Scientist         112525  \n",
       "BI Data Analyst                           87066.4  \n",
       "Big Data Architect                          99703  \n",
       "Big Data Engineer                         56531.9  \n",
       "Business Data Analyst                     84694.8  \n",
       "Cloud Data Engineer                        124647  \n",
       "Computer Vision Engineer                  44390.6  \n",
       "Computer Vision Software Engineer          105249  \n",
       "Data Analyst                              77840.5  \n",
       "Data Analytics Engineer                   64866.2  \n",
       "Data Analytics Lead                        405000  \n",
       "Data Analytics Manager                     127076  \n",
       "Data Architect                             174372  \n",
       "Data Engineer                              103985  \n",
       "Data Engineering Manager                  99378.7  \n",
       "Data Science Consultant                   63830.6  \n",
       "Data Science Engineer                     75803.3  \n",
       "Data Science Manager                       170914  \n",
       "Data Scientist                            92858.7  \n",
       "Data Specialist                            165000  \n",
       "Director of Data Engineering               156738  \n",
       "Director of Data Science                   214716  \n",
       "ETL Developer                               54957  \n",
       "Finance Data Analyst                        61896  \n",
       "Financial Data Analyst                     275000  \n",
       "Head of Data                               142078  \n",
       "Head of Data Science                       130312  \n",
       "Head of Machine Learning                    79039  \n",
       "Lead Data Analyst                           92203  \n",
       "Lead Data Engineer                         119727  \n",
       "Lead Data Scientist                        115190  \n",
       "Lead Machine Learning Engineer              87932  \n",
       "ML Engineer                                107744  \n",
       "Machine Learning Developer                85860.7  \n",
       "Machine Learning Engineer                 94195.4  \n",
       "Machine Learning Infrastructure Engineer   101145  \n",
       "Machine Learning Manager                   117104  \n",
       "Machine Learning Scientist                 162253  \n",
       "Marketing Data Analyst                      88654  \n",
       "NLP Engineer                                37236  \n",
       "Principal Data Analyst                     122500  \n",
       "Principal Data Engineer                    396250  \n",
       "Principal Data Scientist                   217504  \n",
       "Product Data Analyst                        13036  \n",
       "Research Scientist                         130489  \n",
       "Staff Data Scientist                       105000  \n",
       "All                                        116907  "
      ]
     },
     "execution_count": 24,
     "metadata": {},
     "output_type": "execute_result"
    }
   ],
   "source": [
    "df_2 = df.groupby(['job_title','experience_level','work_year']).agg({'salary_in_usd':'mean'}).round(2).sort_values(by='salary_in_usd',ascending=False).reset_index()\n",
    "df_2.pivot_table(columns = ['work_year','experience_level'], index = 'job_title', values = 'salary_in_usd', fill_value=\"-\", margins=True).round(2)\n"
   ]
  },
  {
   "cell_type": "markdown",
   "metadata": {},
   "source": [
    "__________\n",
    "Country\n",
    "__________"
   ]
  },
  {
   "cell_type": "code",
   "execution_count": 25,
   "metadata": {},
   "outputs": [],
   "source": [
    "country = df.groupby([\"employee_residence\",\"work_year\"]).agg(mean_salary=('salary_in_usd', 'mean'), count_jobs=('employee_residence', 'count')).reset_index()\n",
    "country = country.loc[country[\"work_year\"] == 2022]"
   ]
  },
  {
   "cell_type": "code",
   "execution_count": 26,
   "metadata": {},
   "outputs": [],
   "source": [
    "country[\"iso_alpha\"] = country[\"employee_residence\"].apply(lambda x : countries.get(x).alpha3)\n"
   ]
  },
  {
   "cell_type": "code",
   "execution_count": 27,
   "metadata": {},
   "outputs": [
    {
     "data": {
      "text/html": [
       "<div>\n",
       "<style scoped>\n",
       "    .dataframe tbody tr th:only-of-type {\n",
       "        vertical-align: middle;\n",
       "    }\n",
       "\n",
       "    .dataframe tbody tr th {\n",
       "        vertical-align: top;\n",
       "    }\n",
       "\n",
       "    .dataframe thead th {\n",
       "        text-align: right;\n",
       "    }\n",
       "</style>\n",
       "<table border=\"1\" class=\"dataframe\">\n",
       "  <thead>\n",
       "    <tr style=\"text-align: right;\">\n",
       "      <th></th>\n",
       "      <th>employee_residence</th>\n",
       "      <th>work_year</th>\n",
       "      <th>mean_salary</th>\n",
       "      <th>count_jobs</th>\n",
       "      <th>iso_alpha</th>\n",
       "    </tr>\n",
       "  </thead>\n",
       "  <tbody>\n",
       "    <tr>\n",
       "      <th>1</th>\n",
       "      <td>AE</td>\n",
       "      <td>2022</td>\n",
       "      <td>92500.000000</td>\n",
       "      <td>2</td>\n",
       "      <td>ARE</td>\n",
       "    </tr>\n",
       "    <tr>\n",
       "      <th>2</th>\n",
       "      <td>AR</td>\n",
       "      <td>2022</td>\n",
       "      <td>60000.000000</td>\n",
       "      <td>1</td>\n",
       "      <td>ARG</td>\n",
       "    </tr>\n",
       "    <tr>\n",
       "      <th>4</th>\n",
       "      <td>AT</td>\n",
       "      <td>2022</td>\n",
       "      <td>64849.000000</td>\n",
       "      <td>1</td>\n",
       "      <td>AUT</td>\n",
       "    </tr>\n",
       "    <tr>\n",
       "      <th>5</th>\n",
       "      <td>AU</td>\n",
       "      <td>2022</td>\n",
       "      <td>108042.666667</td>\n",
       "      <td>3</td>\n",
       "      <td>AUS</td>\n",
       "    </tr>\n",
       "    <tr>\n",
       "      <th>8</th>\n",
       "      <td>BO</td>\n",
       "      <td>2022</td>\n",
       "      <td>75000.000000</td>\n",
       "      <td>1</td>\n",
       "      <td>BOL</td>\n",
       "    </tr>\n",
       "  </tbody>\n",
       "</table>\n",
       "</div>"
      ],
      "text/plain": [
       "  employee_residence  work_year    mean_salary  count_jobs iso_alpha\n",
       "1                 AE       2022   92500.000000           2       ARE\n",
       "2                 AR       2022   60000.000000           1       ARG\n",
       "4                 AT       2022   64849.000000           1       AUT\n",
       "5                 AU       2022  108042.666667           3       AUS\n",
       "8                 BO       2022   75000.000000           1       BOL"
      ]
     },
     "execution_count": 27,
     "metadata": {},
     "output_type": "execute_result"
    }
   ],
   "source": [
    "country.head()"
   ]
  },
  {
   "cell_type": "code",
   "execution_count": 28,
   "metadata": {},
   "outputs": [
    {
     "data": {
      "application/vnd.plotly.v1+json": {
       "config": {
        "plotlyServerURL": "https://plot.ly"
       },
       "data": [
        {
         "coloraxis": "coloraxis",
         "customdata": [
          [
           92500,
           2
          ],
          [
           60000,
           1
          ],
          [
           64849,
           1
          ],
          [
           108042.66666666667,
           3
          ],
          [
           75000,
           1
          ],
          [
           100000,
           1
          ],
          [
           93952.21052631579,
           19
          ],
          [
           122346,
           1
          ],
          [
           101854.33333333333,
           3
          ],
          [
           100000,
           1
          ],
          [
           32974,
           1
          ],
          [
           59537,
           6
          ],
          [
           83168.66666666667,
           3
          ],
          [
           78684.10344827586,
           29
          ],
          [
           54126.22222222222,
           9
          ],
          [
           71444,
           1
          ],
          [
           69507.6,
           5
          ],
          [
           40000,
           1
          ],
          [
           200000,
           1
          ],
          [
           62651,
           1
          ],
          [
           39017.5,
           2
          ],
          [
           35590,
           1
          ],
          [
           30079.333333333332,
           3
          ],
          [
           48000,
           1
          ],
          [
           31875,
           1
          ],
          [
           145736.23636363636,
           220
          ]
         ],
         "geo": "geo",
         "hovertemplate": "iso_alpha=%{location}<br>mean_salary=%{z}<br>count_jobs=%{customdata[1]}<extra></extra>",
         "locations": [
          "ARE",
          "ARG",
          "AUT",
          "AUS",
          "BOL",
          "BRA",
          "CAN",
          "CHE",
          "DEU",
          "DZA",
          "EST",
          "ESP",
          "FRA",
          "GBR",
          "GRC",
          "IRL",
          "IND",
          "JPN",
          "MYS",
          "NLD",
          "PAK",
          "POL",
          "PRT",
          "RUS",
          "TUN",
          "USA"
         ],
         "name": "",
         "type": "choropleth",
         "z": [
          92500,
          60000,
          64849,
          108042.66666666667,
          75000,
          100000,
          93952.21052631579,
          122346,
          101854.33333333333,
          100000,
          32974,
          59537,
          83168.66666666667,
          78684.10344827586,
          54126.22222222222,
          71444,
          69507.6,
          40000,
          200000,
          62651,
          39017.5,
          35590,
          30079.333333333332,
          48000,
          31875,
          145736.23636363636
         ]
        }
       ],
       "layout": {
        "coloraxis": {
         "colorbar": {
          "title": {
           "text": "mean_salary"
          }
         },
         "colorscale": [
          [
           0,
           "rgb(253, 224, 197)"
          ],
          [
           0.16666666666666666,
           "rgb(250, 203, 166)"
          ],
          [
           0.3333333333333333,
           "rgb(248, 181, 139)"
          ],
          [
           0.5,
           "rgb(245, 158, 114)"
          ],
          [
           0.6666666666666666,
           "rgb(242, 133, 93)"
          ],
          [
           0.8333333333333334,
           "rgb(239, 106, 76)"
          ],
          [
           1,
           "rgb(235, 74, 64)"
          ]
         ]
        },
        "geo": {
         "center": {},
         "domain": {
          "x": [
           0,
           1
          ],
          "y": [
           0,
           1
          ]
         }
        },
        "legend": {
         "tracegroupgap": 0
        },
        "template": {
         "data": {
          "bar": [
           {
            "error_x": {
             "color": "#2a3f5f"
            },
            "error_y": {
             "color": "#2a3f5f"
            },
            "marker": {
             "line": {
              "color": "#E5ECF6",
              "width": 0.5
             },
             "pattern": {
              "fillmode": "overlay",
              "size": 10,
              "solidity": 0.2
             }
            },
            "type": "bar"
           }
          ],
          "barpolar": [
           {
            "marker": {
             "line": {
              "color": "#E5ECF6",
              "width": 0.5
             },
             "pattern": {
              "fillmode": "overlay",
              "size": 10,
              "solidity": 0.2
             }
            },
            "type": "barpolar"
           }
          ],
          "carpet": [
           {
            "aaxis": {
             "endlinecolor": "#2a3f5f",
             "gridcolor": "white",
             "linecolor": "white",
             "minorgridcolor": "white",
             "startlinecolor": "#2a3f5f"
            },
            "baxis": {
             "endlinecolor": "#2a3f5f",
             "gridcolor": "white",
             "linecolor": "white",
             "minorgridcolor": "white",
             "startlinecolor": "#2a3f5f"
            },
            "type": "carpet"
           }
          ],
          "choropleth": [
           {
            "colorbar": {
             "outlinewidth": 0,
             "ticks": ""
            },
            "type": "choropleth"
           }
          ],
          "contour": [
           {
            "colorbar": {
             "outlinewidth": 0,
             "ticks": ""
            },
            "colorscale": [
             [
              0,
              "#0d0887"
             ],
             [
              0.1111111111111111,
              "#46039f"
             ],
             [
              0.2222222222222222,
              "#7201a8"
             ],
             [
              0.3333333333333333,
              "#9c179e"
             ],
             [
              0.4444444444444444,
              "#bd3786"
             ],
             [
              0.5555555555555556,
              "#d8576b"
             ],
             [
              0.6666666666666666,
              "#ed7953"
             ],
             [
              0.7777777777777778,
              "#fb9f3a"
             ],
             [
              0.8888888888888888,
              "#fdca26"
             ],
             [
              1,
              "#f0f921"
             ]
            ],
            "type": "contour"
           }
          ],
          "contourcarpet": [
           {
            "colorbar": {
             "outlinewidth": 0,
             "ticks": ""
            },
            "type": "contourcarpet"
           }
          ],
          "heatmap": [
           {
            "colorbar": {
             "outlinewidth": 0,
             "ticks": ""
            },
            "colorscale": [
             [
              0,
              "#0d0887"
             ],
             [
              0.1111111111111111,
              "#46039f"
             ],
             [
              0.2222222222222222,
              "#7201a8"
             ],
             [
              0.3333333333333333,
              "#9c179e"
             ],
             [
              0.4444444444444444,
              "#bd3786"
             ],
             [
              0.5555555555555556,
              "#d8576b"
             ],
             [
              0.6666666666666666,
              "#ed7953"
             ],
             [
              0.7777777777777778,
              "#fb9f3a"
             ],
             [
              0.8888888888888888,
              "#fdca26"
             ],
             [
              1,
              "#f0f921"
             ]
            ],
            "type": "heatmap"
           }
          ],
          "heatmapgl": [
           {
            "colorbar": {
             "outlinewidth": 0,
             "ticks": ""
            },
            "colorscale": [
             [
              0,
              "#0d0887"
             ],
             [
              0.1111111111111111,
              "#46039f"
             ],
             [
              0.2222222222222222,
              "#7201a8"
             ],
             [
              0.3333333333333333,
              "#9c179e"
             ],
             [
              0.4444444444444444,
              "#bd3786"
             ],
             [
              0.5555555555555556,
              "#d8576b"
             ],
             [
              0.6666666666666666,
              "#ed7953"
             ],
             [
              0.7777777777777778,
              "#fb9f3a"
             ],
             [
              0.8888888888888888,
              "#fdca26"
             ],
             [
              1,
              "#f0f921"
             ]
            ],
            "type": "heatmapgl"
           }
          ],
          "histogram": [
           {
            "marker": {
             "pattern": {
              "fillmode": "overlay",
              "size": 10,
              "solidity": 0.2
             }
            },
            "type": "histogram"
           }
          ],
          "histogram2d": [
           {
            "colorbar": {
             "outlinewidth": 0,
             "ticks": ""
            },
            "colorscale": [
             [
              0,
              "#0d0887"
             ],
             [
              0.1111111111111111,
              "#46039f"
             ],
             [
              0.2222222222222222,
              "#7201a8"
             ],
             [
              0.3333333333333333,
              "#9c179e"
             ],
             [
              0.4444444444444444,
              "#bd3786"
             ],
             [
              0.5555555555555556,
              "#d8576b"
             ],
             [
              0.6666666666666666,
              "#ed7953"
             ],
             [
              0.7777777777777778,
              "#fb9f3a"
             ],
             [
              0.8888888888888888,
              "#fdca26"
             ],
             [
              1,
              "#f0f921"
             ]
            ],
            "type": "histogram2d"
           }
          ],
          "histogram2dcontour": [
           {
            "colorbar": {
             "outlinewidth": 0,
             "ticks": ""
            },
            "colorscale": [
             [
              0,
              "#0d0887"
             ],
             [
              0.1111111111111111,
              "#46039f"
             ],
             [
              0.2222222222222222,
              "#7201a8"
             ],
             [
              0.3333333333333333,
              "#9c179e"
             ],
             [
              0.4444444444444444,
              "#bd3786"
             ],
             [
              0.5555555555555556,
              "#d8576b"
             ],
             [
              0.6666666666666666,
              "#ed7953"
             ],
             [
              0.7777777777777778,
              "#fb9f3a"
             ],
             [
              0.8888888888888888,
              "#fdca26"
             ],
             [
              1,
              "#f0f921"
             ]
            ],
            "type": "histogram2dcontour"
           }
          ],
          "mesh3d": [
           {
            "colorbar": {
             "outlinewidth": 0,
             "ticks": ""
            },
            "type": "mesh3d"
           }
          ],
          "parcoords": [
           {
            "line": {
             "colorbar": {
              "outlinewidth": 0,
              "ticks": ""
             }
            },
            "type": "parcoords"
           }
          ],
          "pie": [
           {
            "automargin": true,
            "type": "pie"
           }
          ],
          "scatter": [
           {
            "marker": {
             "colorbar": {
              "outlinewidth": 0,
              "ticks": ""
             }
            },
            "type": "scatter"
           }
          ],
          "scatter3d": [
           {
            "line": {
             "colorbar": {
              "outlinewidth": 0,
              "ticks": ""
             }
            },
            "marker": {
             "colorbar": {
              "outlinewidth": 0,
              "ticks": ""
             }
            },
            "type": "scatter3d"
           }
          ],
          "scattercarpet": [
           {
            "marker": {
             "colorbar": {
              "outlinewidth": 0,
              "ticks": ""
             }
            },
            "type": "scattercarpet"
           }
          ],
          "scattergeo": [
           {
            "marker": {
             "colorbar": {
              "outlinewidth": 0,
              "ticks": ""
             }
            },
            "type": "scattergeo"
           }
          ],
          "scattergl": [
           {
            "marker": {
             "colorbar": {
              "outlinewidth": 0,
              "ticks": ""
             }
            },
            "type": "scattergl"
           }
          ],
          "scattermapbox": [
           {
            "marker": {
             "colorbar": {
              "outlinewidth": 0,
              "ticks": ""
             }
            },
            "type": "scattermapbox"
           }
          ],
          "scatterpolar": [
           {
            "marker": {
             "colorbar": {
              "outlinewidth": 0,
              "ticks": ""
             }
            },
            "type": "scatterpolar"
           }
          ],
          "scatterpolargl": [
           {
            "marker": {
             "colorbar": {
              "outlinewidth": 0,
              "ticks": ""
             }
            },
            "type": "scatterpolargl"
           }
          ],
          "scatterternary": [
           {
            "marker": {
             "colorbar": {
              "outlinewidth": 0,
              "ticks": ""
             }
            },
            "type": "scatterternary"
           }
          ],
          "surface": [
           {
            "colorbar": {
             "outlinewidth": 0,
             "ticks": ""
            },
            "colorscale": [
             [
              0,
              "#0d0887"
             ],
             [
              0.1111111111111111,
              "#46039f"
             ],
             [
              0.2222222222222222,
              "#7201a8"
             ],
             [
              0.3333333333333333,
              "#9c179e"
             ],
             [
              0.4444444444444444,
              "#bd3786"
             ],
             [
              0.5555555555555556,
              "#d8576b"
             ],
             [
              0.6666666666666666,
              "#ed7953"
             ],
             [
              0.7777777777777778,
              "#fb9f3a"
             ],
             [
              0.8888888888888888,
              "#fdca26"
             ],
             [
              1,
              "#f0f921"
             ]
            ],
            "type": "surface"
           }
          ],
          "table": [
           {
            "cells": {
             "fill": {
              "color": "#EBF0F8"
             },
             "line": {
              "color": "white"
             }
            },
            "header": {
             "fill": {
              "color": "#C8D4E3"
             },
             "line": {
              "color": "white"
             }
            },
            "type": "table"
           }
          ]
         },
         "layout": {
          "annotationdefaults": {
           "arrowcolor": "#2a3f5f",
           "arrowhead": 0,
           "arrowwidth": 1
          },
          "autotypenumbers": "strict",
          "coloraxis": {
           "colorbar": {
            "outlinewidth": 0,
            "ticks": ""
           }
          },
          "colorscale": {
           "diverging": [
            [
             0,
             "#8e0152"
            ],
            [
             0.1,
             "#c51b7d"
            ],
            [
             0.2,
             "#de77ae"
            ],
            [
             0.3,
             "#f1b6da"
            ],
            [
             0.4,
             "#fde0ef"
            ],
            [
             0.5,
             "#f7f7f7"
            ],
            [
             0.6,
             "#e6f5d0"
            ],
            [
             0.7,
             "#b8e186"
            ],
            [
             0.8,
             "#7fbc41"
            ],
            [
             0.9,
             "#4d9221"
            ],
            [
             1,
             "#276419"
            ]
           ],
           "sequential": [
            [
             0,
             "#0d0887"
            ],
            [
             0.1111111111111111,
             "#46039f"
            ],
            [
             0.2222222222222222,
             "#7201a8"
            ],
            [
             0.3333333333333333,
             "#9c179e"
            ],
            [
             0.4444444444444444,
             "#bd3786"
            ],
            [
             0.5555555555555556,
             "#d8576b"
            ],
            [
             0.6666666666666666,
             "#ed7953"
            ],
            [
             0.7777777777777778,
             "#fb9f3a"
            ],
            [
             0.8888888888888888,
             "#fdca26"
            ],
            [
             1,
             "#f0f921"
            ]
           ],
           "sequentialminus": [
            [
             0,
             "#0d0887"
            ],
            [
             0.1111111111111111,
             "#46039f"
            ],
            [
             0.2222222222222222,
             "#7201a8"
            ],
            [
             0.3333333333333333,
             "#9c179e"
            ],
            [
             0.4444444444444444,
             "#bd3786"
            ],
            [
             0.5555555555555556,
             "#d8576b"
            ],
            [
             0.6666666666666666,
             "#ed7953"
            ],
            [
             0.7777777777777778,
             "#fb9f3a"
            ],
            [
             0.8888888888888888,
             "#fdca26"
            ],
            [
             1,
             "#f0f921"
            ]
           ]
          },
          "colorway": [
           "#636efa",
           "#EF553B",
           "#00cc96",
           "#ab63fa",
           "#FFA15A",
           "#19d3f3",
           "#FF6692",
           "#B6E880",
           "#FF97FF",
           "#FECB52"
          ],
          "font": {
           "color": "#2a3f5f"
          },
          "geo": {
           "bgcolor": "white",
           "lakecolor": "white",
           "landcolor": "#E5ECF6",
           "showlakes": true,
           "showland": true,
           "subunitcolor": "white"
          },
          "hoverlabel": {
           "align": "left"
          },
          "hovermode": "closest",
          "mapbox": {
           "style": "light"
          },
          "paper_bgcolor": "white",
          "plot_bgcolor": "#E5ECF6",
          "polar": {
           "angularaxis": {
            "gridcolor": "white",
            "linecolor": "white",
            "ticks": ""
           },
           "bgcolor": "#E5ECF6",
           "radialaxis": {
            "gridcolor": "white",
            "linecolor": "white",
            "ticks": ""
           }
          },
          "scene": {
           "xaxis": {
            "backgroundcolor": "#E5ECF6",
            "gridcolor": "white",
            "gridwidth": 2,
            "linecolor": "white",
            "showbackground": true,
            "ticks": "",
            "zerolinecolor": "white"
           },
           "yaxis": {
            "backgroundcolor": "#E5ECF6",
            "gridcolor": "white",
            "gridwidth": 2,
            "linecolor": "white",
            "showbackground": true,
            "ticks": "",
            "zerolinecolor": "white"
           },
           "zaxis": {
            "backgroundcolor": "#E5ECF6",
            "gridcolor": "white",
            "gridwidth": 2,
            "linecolor": "white",
            "showbackground": true,
            "ticks": "",
            "zerolinecolor": "white"
           }
          },
          "shapedefaults": {
           "line": {
            "color": "#2a3f5f"
           }
          },
          "ternary": {
           "aaxis": {
            "gridcolor": "white",
            "linecolor": "white",
            "ticks": ""
           },
           "baxis": {
            "gridcolor": "white",
            "linecolor": "white",
            "ticks": ""
           },
           "bgcolor": "#E5ECF6",
           "caxis": {
            "gridcolor": "white",
            "linecolor": "white",
            "ticks": ""
           }
          },
          "title": {
           "x": 0.05
          },
          "xaxis": {
           "automargin": true,
           "gridcolor": "white",
           "linecolor": "white",
           "ticks": "",
           "title": {
            "standoff": 15
           },
           "zerolinecolor": "white",
           "zerolinewidth": 2
          },
          "yaxis": {
           "automargin": true,
           "gridcolor": "white",
           "linecolor": "white",
           "ticks": "",
           "title": {
            "standoff": 15
           },
           "zerolinecolor": "white",
           "zerolinewidth": 2
          }
         }
        },
        "title": {
         "text": "Country Salaries - 2022"
        }
       }
      }
     },
     "metadata": {},
     "output_type": "display_data"
    }
   ],
   "source": [
    "fig = px.choropleth(\n",
    "    data_frame=country,\n",
    "    locations=\"iso_alpha\",\n",
    "    color=\"mean_salary\",\n",
    "    hover_data=[\"mean_salary\", \"count_jobs\"],\n",
    "    title=\"Country Salaries - 2022\",\n",
    "    color_continuous_scale=\"peach\"\n",
    ")\n",
    "\n",
    "fig.show()"
   ]
  }
 ],
 "metadata": {
  "kernelspec": {
   "display_name": "Python 3.8.5 ('base')",
   "language": "python",
   "name": "python3"
  },
  "language_info": {
   "codemirror_mode": {
    "name": "ipython",
    "version": 3
   },
   "file_extension": ".py",
   "mimetype": "text/x-python",
   "name": "python",
   "nbconvert_exporter": "python",
   "pygments_lexer": "ipython3",
   "version": "3.8.5"
  },
  "orig_nbformat": 4,
  "vscode": {
   "interpreter": {
    "hash": "8c8fc2e0ba7427c85b89a036e5ebd06d6d068590f5141f2ce1bbe7a31f46c41e"
   }
  }
 },
 "nbformat": 4,
 "nbformat_minor": 2
}
